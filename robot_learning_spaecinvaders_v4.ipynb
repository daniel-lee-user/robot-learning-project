{
 "cells": [
  {
   "cell_type": "code",
   "execution_count": 1,
   "metadata": {
    "colab": {
     "base_uri": "https://localhost:8080/"
    },
    "id": "Ygx8_uItMrjj",
    "outputId": "a34af19b-2d8a-492f-b814-6369347d6d5d"
   },
   "outputs": [],
   "source": [
    "# Set Up:\n",
    "import sys\n",
    "USING_COLAB = 'google.colab' in sys.modules\n",
    "\n",
    "if USING_COLAB:\n",
    "    !apt-get install -y xvfb python-opengl ffmpeg > /dev/null 2>&1\n",
    "    !pip install -U renderlab\n",
    "    !pip install -U colabgymrender\n",
    "    !pip install -U moviepy==0.2.3.5\n",
    "    !pip install imageio==2.4.1\n",
    "    !pip install --upgrade AutoROM\n",
    "    !AutoROM --accept-license\n",
    "    !pip install stable_baselines3  \n",
    "    !pip install \"gymnasium[atari, accept-rom-licesnse]\"\n",
    "\n",
    "import numpy as np\n",
    "import ale_py\n",
    "import shimmy\n",
    "import gymnasium as gym\n",
    "import renderlab as rl\n",
    "import random\n",
    "import matplotlib.pyplot as plt\n",
    "from colabgymrender.recorder import Recorder\n",
    "from copy import deepcopy\n",
    "\n",
    "from torch.utils.data import DataLoader\n",
    "from torch import nn\n",
    "import torch\n",
    "\n",
    "from tqdm import tqdm, trange\n",
    "\n",
    "seed = 24\n",
    "data_seed = 700\n",
    "\n"
   ]
  },
  {
   "cell_type": "code",
   "execution_count": 2,
   "metadata": {},
   "outputs": [],
   "source": [
    "from stable_baselines3 import PPO\n",
    "from stable_baselines3.common.callbacks import EvalCallback\n",
    "from stable_baselines3.common.vec_env.base_vec_env import VecEnv\n",
    "from stable_baselines3.common.env_checker import check_env # for regular envs\n",
    "from stable_baselines3.common.env_util import make_vec_env\n",
    "from stable_baselines3.common.env_util import make_atari_env\n",
    "from stable_baselines3.common.vec_env import DummyVecEnv, SubprocVecEnv\n",
    "from stable_baselines3.common.vec_env import VecFrameStack\n",
    "# not using make_atari_env bc that wraps it in an atari wrapper only for v4 stuff (needs verification)"
   ]
  },
  {
   "cell_type": "code",
   "execution_count": 3,
   "metadata": {
    "colab": {
     "base_uri": "https://localhost:8080/"
    },
    "id": "7ls5ZHspwE66",
    "outputId": "af1ead2f-95f6-4bcd-a417-9e33980c57b2"
   },
   "outputs": [
    {
     "name": "stdout",
     "output_type": "stream",
     "text": [
      "gym: 0.29.1\n",
      "ale_py: 0.8.1\n",
      "GPU is available: True\n"
     ]
    }
   ],
   "source": [
    "\n",
    "print('gym:', gym.__version__)\n",
    "print('ale_py:', ale_py.__version__)\n",
    "print(\"GPU is available:\", torch.cuda.is_available())"
   ]
  },
  {
   "cell_type": "code",
   "execution_count": 4,
   "metadata": {},
   "outputs": [
    {
     "name": "stdout",
     "output_type": "stream",
     "text": [
      "11.8\n",
      "2.2.2\n"
     ]
    }
   ],
   "source": [
    "print(torch.version.cuda)\n",
    "print(torch.__version__)"
   ]
  },
  {
   "cell_type": "markdown",
   "metadata": {},
   "source": [
    "# Functions from A5 starter code"
   ]
  },
  {
   "cell_type": "code",
   "execution_count": 5,
   "metadata": {
    "id": "fU8oLOuXMw4O"
   },
   "outputs": [],
   "source": [
    "  # Setting the seed to ensure reproducability\n",
    "def reseed(seed, env=None):\n",
    "    '''\n",
    "        Sets the seed for reproducibility\n",
    "\n",
    "        When @param env is provided, also sets the\n",
    "        random number generataor of the gym environment\n",
    "        to this particular seed\n",
    "    '''\n",
    "    torch.manual_seed(seed)\n",
    "    random.seed(seed)\n",
    "    np.random.seed(seed)\n",
    "\n",
    "    if env is not None:\n",
    "        env.unwrapped._np_random = gym.utils.seeding.np_random(seed)[0]\n",
    "\n",
    "reseed(seed)"
   ]
  },
  {
   "cell_type": "code",
   "execution_count": 6,
   "metadata": {
    "id": "cegQssH6M164"
   },
   "outputs": [],
   "source": [
    "def visualize(env_name='ALE/SpaceInvaders-v5', algorithm=None, video_name=\"test\", env_args={}):\n",
    "    \"\"\"Visualize a policy network for a given algorithm on a single episode\n",
    "\n",
    "        Args:\n",
    "            env_name: Name of the gym environment to roll out `algorithm` in, it will be instantiated using gym.make or make_vec_env\n",
    "            algorithm (PPOActor): Actor whose policy network will be rolled out for the episode. If\n",
    "            no algorithm is passed in, a random policy will be visualized.\n",
    "            video_name (str): Name for the mp4 file of the episode that will be saved (omit .mp4). Only used\n",
    "            when running on local machine.\n",
    "    \"\"\"\n",
    "\n",
    "    def get_action(obs):\n",
    "        if not algorithm:\n",
    "            return env.action_space.sample()\n",
    "        else:\n",
    "            return algorithm.predict(obs)[0]\n",
    "\n",
    "    if USING_COLAB:\n",
    "        from renderlab import RenderFrame\n",
    "        # visualization probably wont work on colab with my new changes\n",
    "\n",
    "        directory = './video'\n",
    "        env_args['render_mode'] = 'rgb_array'\n",
    "        env = gym.make(env_name, **env_args)\n",
    "        env = RenderFrame(env, directory)\n",
    "        obs, info = env.reset()\n",
    "\n",
    "        while True:\n",
    "            action = get_action(obs)\n",
    "            obs, reward, done, truncate, info = env.step(action)\n",
    "\n",
    "            if done:\n",
    "                break\n",
    "\n",
    "        env.play()\n",
    "    else:\n",
    "        import cv2\n",
    "        # need to specify dimensions correctly (use the print statement)\n",
    "        video = cv2.VideoWriter(f\"videos/{video_name}.mp4\", cv2.VideoWriter_fourcc(*'mp4v'), 24, (160,210))\n",
    "\n",
    "        env_args['render_mode'] = 'rgb_array'\n",
    "        #env = gym.make(env_name, **env_args)\n",
    "        #env = gym.wrappers.AtariPreprocessing(env)\n",
    "        env = make_atari_env(env_name, n_envs=1, env_kwargs=env_args)\n",
    "        env = VecFrameStack(env, n_stack=4)\n",
    "        #env.metadata['render_fps'] = 60\n",
    "        obs = env.reset()\n",
    "        #img = plt.imshow(env.render()) # only call this once\n",
    "        while True:\n",
    "            #img.set_data(env.render()) # just update the data\n",
    "            #display.display(plt.gcf())\n",
    "            #display.clear_output(wait=True)\n",
    "            action = get_action(obs)\n",
    "            if(not algorithm):    \n",
    "                action = [action]\n",
    "            obs, reward, done, info  = env.step(action)\n",
    "            if done:\n",
    "                break\n",
    "            im = env.render()\n",
    "            im = im[:,:,::-1]\n",
    "            #print(im.shape)\n",
    "\n",
    "            video.write(im)\n",
    "\n",
    "        video.release()\n",
    "        env.close()\n",
    "        print(f\"Video saved as {video_name}.mp4\")"
   ]
  },
  {
   "cell_type": "code",
   "execution_count": 7,
   "metadata": {
    "id": "K-wZhw02M6up"
   },
   "outputs": [],
   "source": [
    "def evaluate_policy(actor, environment, num_episodes=100, progress=True):\n",
    "    '''\n",
    "        Returns the mean trajectory reward of rolling out `actor` on `environment\n",
    "\n",
    "        Parameters\n",
    "        - actor: PPOActor instance, defined in Part 1\n",
    "        - environment: classstable_baselines3.common.vec_env.VecEnv instance\n",
    "        - num_episodes: total number of trajectories to collect and average over\n",
    "    '''\n",
    "    total_rew = 0\n",
    "\n",
    "    iterate = (trange(num_episodes) if progress else range(num_episodes))\n",
    "    for _ in iterate:\n",
    "        obs = environment.reset()\n",
    "        done = False\n",
    "\n",
    "        while not done:\n",
    "            action = actor.predict(obs)[0]\n",
    "\n",
    "            next_obs, reward, done, info = environment.step(action)\n",
    "            total_rew += reward\n",
    "\n",
    "            obs = next_obs\n",
    "\n",
    "    return (total_rew / num_episodes).item()\n"
   ]
  },
  {
   "cell_type": "code",
   "execution_count": 8,
   "metadata": {
    "colab": {
     "base_uri": "https://localhost:8080/",
     "height": 425
    },
    "id": "q1jQdkNYM8E0",
    "outputId": "4b55f34b-86d3-4d3a-ed85-79da2cd70601"
   },
   "outputs": [
    {
     "name": "stderr",
     "output_type": "stream",
     "text": [
      "WARNING:py.warnings:c:\\Users\\danie\\anaconda3\\envs\\rl\\lib\\site-packages\\gymnasium\\utils\\passive_env_checker.py:335: UserWarning: \u001b[33mWARN: No render fps was declared in the environment (env.metadata['render_fps'] is None or not defined), rendering may occur at inconsistent fps.\u001b[0m\n",
      "  logger.warn(\n",
      "\n"
     ]
    },
    {
     "name": "stdout",
     "output_type": "stream",
     "text": [
      "Video saved as test.mp4\n"
     ]
    }
   ],
   "source": [
    "# for testing if visualization works (random actions selected)\n",
    "# env arguments are space invader specific\n",
    "# see https://ale.farama.org/environments/#2 for description of params\n",
    "# we use frameskip for training but for visualization we don't use frameskip so we can see what's happening clearly\n",
    "# for dqn we evaluate on same environment as testing\n",
    "env_id = \"SpaceInvadersNoFrameskip-v4\"\n",
    "env_args = {\n",
    "    'mode':0,\n",
    "    'difficulty':0,\n",
    "    'obs_type':\"rgb\",\n",
    "    'full_action_space':False,\n",
    "    'frameskip':1\n",
    "    }\n",
    "visualize(env_id, env_args=env_args)"
   ]
  },
  {
   "cell_type": "markdown",
   "metadata": {
    "id": "z4bhTk8Tz5G0"
   },
   "source": [
    "# Initialization\n",
    "from A5 starter code"
   ]
  },
  {
   "cell_type": "code",
   "execution_count": 9,
   "metadata": {
    "colab": {
     "base_uri": "https://localhost:8080/"
    },
    "id": "lYoyYveAF0_z",
    "outputId": "ebad88b4-49fb-4fb1-bea4-6bd3cf7ea202"
   },
   "outputs": [],
   "source": [
    "# just one environment for evaluation\n",
    "env1 = make_atari_env(env_id, n_envs=1, env_kwargs=env_args)\n",
    "env1 = VecFrameStack(env1, n_stack=4)"
   ]
  },
  {
   "cell_type": "code",
   "execution_count": 10,
   "metadata": {
    "id": "haRabITKFyOe"
   },
   "outputs": [],
   "source": [
    "# 8 environments\n",
    "num_envs = 8\n",
    "env8 = make_atari_env(env_id, n_envs=num_envs, env_kwargs=env_args)\n",
    "env8 = VecFrameStack(env8, n_stack=4)"
   ]
  },
  {
   "cell_type": "code",
   "execution_count": 11,
   "metadata": {
    "id": "sPyGrbSDc48X"
   },
   "outputs": [],
   "source": [
    "eval_callback = EvalCallback(\n",
    "    eval_env=env1,\n",
    "    callback_on_new_best=None,\n",
    "    callback_after_eval=None,\n",
    "    n_eval_episodes=20,\n",
    "    eval_freq=max(200_000 // num_envs, 1),\n",
    "    log_path='./logs/space_invader_v4/',\n",
    "    best_model_save_path='./models/best_space_invader_model_v4/',\n",
    "    deterministic=True,\n",
    "    render=False,\n",
    "    verbose=1,\n",
    "    warn=True\n",
    ")"
   ]
  },
  {
   "cell_type": "markdown",
   "metadata": {},
   "source": [
    "# PPO Model"
   ]
  },
  {
   "cell_type": "code",
   "execution_count": 12,
   "metadata": {
    "id": "3-oravlLYA7W"
   },
   "outputs": [
    {
     "name": "stderr",
     "output_type": "stream",
     "text": [
      "WARNING:py.warnings:c:\\Users\\danie\\anaconda3\\envs\\rl\\lib\\site-packages\\stable_baselines3\\ppo\\ppo.py:155: UserWarning: You have specified a mini-batch size of 256, but because the `RolloutBuffer` is of size `n_steps * n_envs = 128`, after every 0 untruncated mini-batches, there will be a truncated mini-batch of size 128\n",
      "We recommend using a `batch_size` that is a factor of `n_steps * n_envs`.\n",
      "Info: (n_steps=128 and n_envs=1)\n",
      "  warnings.warn(\n",
      "\n"
     ]
    }
   ],
   "source": [
    "ppomodel = PPO(\n",
    "    \"CnnPolicy\",\n",
    "    env1,\n",
    "    learning_rate=2.5e-4,\n",
    "    n_steps=128,\n",
    "    batch_size=256,\n",
    "    n_epochs=4,\n",
    "    gamma=0.99,\n",
    "    gae_lambda=0.95,\n",
    "    clip_range=0.1,\n",
    "    ent_coef=0.01,\n",
    "    vf_coef=0.5,\n",
    "    max_grad_norm=0.5,\n",
    ")"
   ]
  },
  {
   "cell_type": "markdown",
   "metadata": {},
   "source": [
    "## Training PPO model"
   ]
  },
  {
   "cell_type": "code",
   "execution_count": 13,
   "metadata": {
    "colab": {
     "base_uri": "https://localhost:8080/",
     "height": 33,
     "referenced_widgets": [
      "0e210792682b4fb0826cc136044ac8cb",
      "6c881044d935465ab71a11a999952f5c"
     ]
    },
    "id": "fqVCgW8zz77F",
    "outputId": "2e6fdfde-4aff-43ac-dc09-1a67fcdef603"
   },
   "outputs": [
    {
     "name": "stderr",
     "output_type": "stream",
     "text": [
      "WARNING:py.warnings:c:\\Users\\danie\\anaconda3\\envs\\rl\\lib\\site-packages\\stable_baselines3\\common\\callbacks.py:414: UserWarning: Training and eval env are not of the same type<stable_baselines3.common.vec_env.vec_transpose.VecTransposeImage object at 0x0000026EBC454430> != <stable_baselines3.common.vec_env.vec_frame_stack.VecFrameStack object at 0x0000026EBC456B30>\n",
      "  warnings.warn(\"Training and eval env are not of the same type\" f\"{self.training_env} != {self.eval_env}\")\n",
      "\n"
     ]
    },
    {
     "data": {
      "application/vnd.jupyter.widget-view+json": {
       "model_id": "550198cd5d2944248e16689d840e494d",
       "version_major": 2,
       "version_minor": 0
      },
      "text/plain": [
       "Output()"
      ]
     },
     "metadata": {},
     "output_type": "display_data"
    },
    {
     "data": {
      "text/html": [
       "<pre style=\"white-space:pre;overflow-x:auto;line-height:normal;font-family:Menlo,'DejaVu Sans Mono',consolas,'Courier New',monospace\">Eval num_timesteps=25000, episode_reward=6.75 +/- 29.42\n",
       "</pre>\n"
      ],
      "text/plain": [
       "Eval num_timesteps=25000, episode_reward=6.75 +/- 29.42\n"
      ]
     },
     "metadata": {},
     "output_type": "display_data"
    },
    {
     "data": {
      "text/html": [
       "<pre style=\"white-space:pre;overflow-x:auto;line-height:normal;font-family:Menlo,'DejaVu Sans Mono',consolas,'Courier New',monospace\">Episode length: 2757.80 +/- 48.82\n",
       "</pre>\n"
      ],
      "text/plain": [
       "Episode length: 2757.80 +/- 48.82\n"
      ]
     },
     "metadata": {},
     "output_type": "display_data"
    },
    {
     "data": {
      "text/html": [
       "<pre style=\"white-space:pre;overflow-x:auto;line-height:normal;font-family:Menlo,'DejaVu Sans Mono',consolas,'Courier New',monospace\">New best mean reward!\n",
       "</pre>\n"
      ],
      "text/plain": [
       "New best mean reward!\n"
      ]
     },
     "metadata": {},
     "output_type": "display_data"
    },
    {
     "data": {
      "text/html": [
       "<pre style=\"white-space:pre;overflow-x:auto;line-height:normal;font-family:Menlo,'DejaVu Sans Mono',consolas,'Courier New',monospace\">Eval num_timesteps=50000, episode_reward=285.00 +/- 0.00\n",
       "</pre>\n"
      ],
      "text/plain": [
       "Eval num_timesteps=50000, episode_reward=285.00 +/- 0.00\n"
      ]
     },
     "metadata": {},
     "output_type": "display_data"
    },
    {
     "data": {
      "text/html": [
       "<pre style=\"white-space:pre;overflow-x:auto;line-height:normal;font-family:Menlo,'DejaVu Sans Mono',consolas,'Courier New',monospace\">Episode length: 2903.00 +/- 0.00\n",
       "</pre>\n"
      ],
      "text/plain": [
       "Episode length: 2903.00 +/- 0.00\n"
      ]
     },
     "metadata": {},
     "output_type": "display_data"
    },
    {
     "data": {
      "text/html": [
       "<pre style=\"white-space:pre;overflow-x:auto;line-height:normal;font-family:Menlo,'DejaVu Sans Mono',consolas,'Courier New',monospace\">New best mean reward!\n",
       "</pre>\n"
      ],
      "text/plain": [
       "New best mean reward!\n"
      ]
     },
     "metadata": {},
     "output_type": "display_data"
    },
    {
     "data": {
      "text/html": [
       "<pre style=\"white-space:pre;overflow-x:auto;line-height:normal;font-family:Menlo,'DejaVu Sans Mono',consolas,'Courier New',monospace\">Eval num_timesteps=75000, episode_reward=285.00 +/- 0.00\n",
       "</pre>\n"
      ],
      "text/plain": [
       "Eval num_timesteps=75000, episode_reward=285.00 +/- 0.00\n"
      ]
     },
     "metadata": {},
     "output_type": "display_data"
    },
    {
     "data": {
      "text/html": [
       "<pre style=\"white-space:pre;overflow-x:auto;line-height:normal;font-family:Menlo,'DejaVu Sans Mono',consolas,'Courier New',monospace\">Episode length: 2903.00 +/- 0.00\n",
       "</pre>\n"
      ],
      "text/plain": [
       "Episode length: 2903.00 +/- 0.00\n"
      ]
     },
     "metadata": {},
     "output_type": "display_data"
    },
    {
     "data": {
      "text/html": [
       "<pre style=\"white-space:pre;overflow-x:auto;line-height:normal;font-family:Menlo,'DejaVu Sans Mono',consolas,'Courier New',monospace\">Eval num_timesteps=100000, episode_reward=279.75 +/- 22.88\n",
       "</pre>\n"
      ],
      "text/plain": [
       "Eval num_timesteps=100000, episode_reward=279.75 +/- 22.88\n"
      ]
     },
     "metadata": {},
     "output_type": "display_data"
    },
    {
     "data": {
      "text/html": [
       "<pre style=\"white-space:pre;overflow-x:auto;line-height:normal;font-family:Menlo,'DejaVu Sans Mono',consolas,'Courier New',monospace\">Episode length: 2890.70 +/- 53.61\n",
       "</pre>\n"
      ],
      "text/plain": [
       "Episode length: 2890.70 +/- 53.61\n"
      ]
     },
     "metadata": {},
     "output_type": "display_data"
    },
    {
     "data": {
      "text/html": [
       "<pre style=\"white-space:pre;overflow-x:auto;line-height:normal;font-family:Menlo,'DejaVu Sans Mono',consolas,'Courier New',monospace\">Eval num_timesteps=125000, episode_reward=1.00 +/- 4.36\n",
       "</pre>\n"
      ],
      "text/plain": [
       "Eval num_timesteps=125000, episode_reward=1.00 +/- 4.36\n"
      ]
     },
     "metadata": {},
     "output_type": "display_data"
    },
    {
     "data": {
      "text/html": [
       "<pre style=\"white-space:pre;overflow-x:auto;line-height:normal;font-family:Menlo,'DejaVu Sans Mono',consolas,'Courier New',monospace\">Episode length: 2769.00 +/- 0.00\n",
       "</pre>\n"
      ],
      "text/plain": [
       "Episode length: 2769.00 +/- 0.00\n"
      ]
     },
     "metadata": {},
     "output_type": "display_data"
    },
    {
     "data": {
      "text/html": [
       "<pre style=\"white-space:pre;overflow-x:auto;line-height:normal;font-family:Menlo,'DejaVu Sans Mono',consolas,'Courier New',monospace\">Eval num_timesteps=150000, episode_reward=279.75 +/- 22.88\n",
       "</pre>\n"
      ],
      "text/plain": [
       "Eval num_timesteps=150000, episode_reward=279.75 +/- 22.88\n"
      ]
     },
     "metadata": {},
     "output_type": "display_data"
    },
    {
     "data": {
      "text/html": [
       "<pre style=\"white-space:pre;overflow-x:auto;line-height:normal;font-family:Menlo,'DejaVu Sans Mono',consolas,'Courier New',monospace\">Episode length: 2890.70 +/- 53.61\n",
       "</pre>\n"
      ],
      "text/plain": [
       "Episode length: 2890.70 +/- 53.61\n"
      ]
     },
     "metadata": {},
     "output_type": "display_data"
    },
    {
     "data": {
      "text/html": [
       "<pre style=\"white-space:pre;overflow-x:auto;line-height:normal;font-family:Menlo,'DejaVu Sans Mono',consolas,'Courier New',monospace\">Eval num_timesteps=175000, episode_reward=5.25 +/- 22.88\n",
       "</pre>\n"
      ],
      "text/plain": [
       "Eval num_timesteps=175000, episode_reward=5.25 +/- 22.88\n"
      ]
     },
     "metadata": {},
     "output_type": "display_data"
    },
    {
     "data": {
      "text/html": [
       "<pre style=\"white-space:pre;overflow-x:auto;line-height:normal;font-family:Menlo,'DejaVu Sans Mono',consolas,'Courier New',monospace\">Episode length: 2755.80 +/- 57.54\n",
       "</pre>\n"
      ],
      "text/plain": [
       "Episode length: 2755.80 +/- 57.54\n"
      ]
     },
     "metadata": {},
     "output_type": "display_data"
    },
    {
     "data": {
      "text/html": [
       "<pre style=\"white-space:pre;overflow-x:auto;line-height:normal;font-family:Menlo,'DejaVu Sans Mono',consolas,'Courier New',monospace\">Eval num_timesteps=200000, episode_reward=286.25 +/- 5.45\n",
       "</pre>\n"
      ],
      "text/plain": [
       "Eval num_timesteps=200000, episode_reward=286.25 +/- 5.45\n"
      ]
     },
     "metadata": {},
     "output_type": "display_data"
    },
    {
     "data": {
      "text/html": [
       "<pre style=\"white-space:pre;overflow-x:auto;line-height:normal;font-family:Menlo,'DejaVu Sans Mono',consolas,'Courier New',monospace\">Eval num_timesteps=225000, episode_reward=283.75 +/- 5.45\n",
       "</pre>\n"
      ],
      "text/plain": [
       "Eval num_timesteps=225000, episode_reward=283.75 +/- 5.45\n"
      ]
     },
     "metadata": {},
     "output_type": "display_data"
    },
    {
     "data": {
      "text/html": [
       "<pre style=\"white-space:pre;overflow-x:auto;line-height:normal;font-family:Menlo,'DejaVu Sans Mono',consolas,'Courier New',monospace\">Episode length: 2903.00 +/- 0.00\n",
       "</pre>\n"
      ],
      "text/plain": [
       "Episode length: 2903.00 +/- 0.00\n"
      ]
     },
     "metadata": {},
     "output_type": "display_data"
    },
    {
     "data": {
      "text/html": [
       "<pre style=\"white-space:pre;overflow-x:auto;line-height:normal;font-family:Menlo,'DejaVu Sans Mono',consolas,'Courier New',monospace\">Eval num_timesteps=250000, episode_reward=284.25 +/- 3.27\n",
       "</pre>\n"
      ],
      "text/plain": [
       "Eval num_timesteps=250000, episode_reward=284.25 +/- 3.27\n"
      ]
     },
     "metadata": {},
     "output_type": "display_data"
    },
    {
     "data": {
      "text/html": [
       "<pre style=\"white-space:pre;overflow-x:auto;line-height:normal;font-family:Menlo,'DejaVu Sans Mono',consolas,'Courier New',monospace\">Episode length: 2922.70 +/- 7.41\n",
       "</pre>\n"
      ],
      "text/plain": [
       "Episode length: 2922.70 +/- 7.41\n"
      ]
     },
     "metadata": {},
     "output_type": "display_data"
    },
    {
     "data": {
      "text/html": [
       "<pre style=\"white-space:pre;overflow-x:auto;line-height:normal;font-family:Menlo,'DejaVu Sans Mono',consolas,'Courier New',monospace\">Eval num_timesteps=275000, episode_reward=285.00 +/- 0.00\n",
       "</pre>\n"
      ],
      "text/plain": [
       "Eval num_timesteps=275000, episode_reward=285.00 +/- 0.00\n"
      ]
     },
     "metadata": {},
     "output_type": "display_data"
    },
    {
     "data": {
      "text/html": [
       "<pre style=\"white-space:pre;overflow-x:auto;line-height:normal;font-family:Menlo,'DejaVu Sans Mono',consolas,'Courier New',monospace\">Episode length: 2903.00 +/- 0.00\n",
       "</pre>\n"
      ],
      "text/plain": [
       "Episode length: 2903.00 +/- 0.00\n"
      ]
     },
     "metadata": {},
     "output_type": "display_data"
    },
    {
     "data": {
      "text/html": [
       "<pre style=\"white-space:pre;overflow-x:auto;line-height:normal;font-family:Menlo,'DejaVu Sans Mono',consolas,'Courier New',monospace\">Eval num_timesteps=300000, episode_reward=282.00 +/- 13.08\n",
       "</pre>\n"
      ],
      "text/plain": [
       "Eval num_timesteps=300000, episode_reward=282.00 +/- 13.08\n"
      ]
     },
     "metadata": {},
     "output_type": "display_data"
    },
    {
     "data": {
      "text/html": [
       "<pre style=\"white-space:pre;overflow-x:auto;line-height:normal;font-family:Menlo,'DejaVu Sans Mono',consolas,'Courier New',monospace\">Episode length: 2921.70 +/- 81.51\n",
       "</pre>\n"
      ],
      "text/plain": [
       "Episode length: 2921.70 +/- 81.51\n"
      ]
     },
     "metadata": {},
     "output_type": "display_data"
    },
    {
     "data": {
      "text/html": [
       "<pre style=\"white-space:pre;overflow-x:auto;line-height:normal;font-family:Menlo,'DejaVu Sans Mono',consolas,'Courier New',monospace\">Eval num_timesteps=325000, episode_reward=229.50 +/- 44.77\n",
       "</pre>\n"
      ],
      "text/plain": [
       "Eval num_timesteps=325000, episode_reward=229.50 +/- 44.77\n"
      ]
     },
     "metadata": {},
     "output_type": "display_data"
    },
    {
     "data": {
      "text/html": [
       "<pre style=\"white-space:pre;overflow-x:auto;line-height:normal;font-family:Menlo,'DejaVu Sans Mono',consolas,'Courier New',monospace\">Episode length: 2782.00 +/- 189.05\n",
       "</pre>\n"
      ],
      "text/plain": [
       "Episode length: 2782.00 +/- 189.05\n"
      ]
     },
     "metadata": {},
     "output_type": "display_data"
    },
    {
     "data": {
      "text/html": [
       "<pre style=\"white-space:pre;overflow-x:auto;line-height:normal;font-family:Menlo,'DejaVu Sans Mono',consolas,'Courier New',monospace\">Eval num_timesteps=350000, episode_reward=286.25 +/- 5.45\n",
       "</pre>\n"
      ],
      "text/plain": [
       "Eval num_timesteps=350000, episode_reward=286.25 +/- 5.45\n"
      ]
     },
     "metadata": {},
     "output_type": "display_data"
    },
    {
     "data": {
      "text/html": [
       "<pre style=\"white-space:pre;overflow-x:auto;line-height:normal;font-family:Menlo,'DejaVu Sans Mono',consolas,'Courier New',monospace\">Episode length: 2921.10 +/- 78.90\n",
       "</pre>\n"
      ],
      "text/plain": [
       "Episode length: 2921.10 +/- 78.90\n"
      ]
     },
     "metadata": {},
     "output_type": "display_data"
    },
    {
     "data": {
      "text/html": [
       "<pre style=\"white-space:pre;overflow-x:auto;line-height:normal;font-family:Menlo,'DejaVu Sans Mono',consolas,'Courier New',monospace\">Eval num_timesteps=375000, episode_reward=285.00 +/- 0.00\n",
       "</pre>\n"
      ],
      "text/plain": [
       "Eval num_timesteps=375000, episode_reward=285.00 +/- 0.00\n"
      ]
     },
     "metadata": {},
     "output_type": "display_data"
    },
    {
     "data": {
      "text/html": [
       "<pre style=\"white-space:pre;overflow-x:auto;line-height:normal;font-family:Menlo,'DejaVu Sans Mono',consolas,'Courier New',monospace\">Episode length: 2903.00 +/- 0.00\n",
       "</pre>\n"
      ],
      "text/plain": [
       "Episode length: 2903.00 +/- 0.00\n"
      ]
     },
     "metadata": {},
     "output_type": "display_data"
    },
    {
     "data": {
      "text/html": [
       "<pre style=\"white-space:pre;overflow-x:auto;line-height:normal;font-family:Menlo,'DejaVu Sans Mono',consolas,'Courier New',monospace\">Eval num_timesteps=400000, episode_reward=282.75 +/- 9.81\n",
       "</pre>\n"
      ],
      "text/plain": [
       "Eval num_timesteps=400000, episode_reward=282.75 +/- 9.81\n"
      ]
     },
     "metadata": {},
     "output_type": "display_data"
    },
    {
     "data": {
      "text/html": [
       "<pre style=\"white-space:pre;overflow-x:auto;line-height:normal;font-family:Menlo,'DejaVu Sans Mono',consolas,'Courier New',monospace\">Episode length: 2905.40 +/- 10.46\n",
       "</pre>\n"
      ],
      "text/plain": [
       "Episode length: 2905.40 +/- 10.46\n"
      ]
     },
     "metadata": {},
     "output_type": "display_data"
    },
    {
     "data": {
      "text/html": [
       "<pre style=\"white-space:pre;overflow-x:auto;line-height:normal;font-family:Menlo,'DejaVu Sans Mono',consolas,'Courier New',monospace\">Eval num_timesteps=425000, episode_reward=285.00 +/- 0.00\n",
       "</pre>\n"
      ],
      "text/plain": [
       "Eval num_timesteps=425000, episode_reward=285.00 +/- 0.00\n"
      ]
     },
     "metadata": {},
     "output_type": "display_data"
    },
    {
     "data": {
      "text/html": [
       "<pre style=\"white-space:pre;overflow-x:auto;line-height:normal;font-family:Menlo,'DejaVu Sans Mono',consolas,'Courier New',monospace\">Episode length: 2903.00 +/- 0.00\n",
       "</pre>\n"
      ],
      "text/plain": [
       "Episode length: 2903.00 +/- 0.00\n"
      ]
     },
     "metadata": {},
     "output_type": "display_data"
    },
    {
     "data": {
      "text/html": [
       "<pre style=\"white-space:pre;overflow-x:auto;line-height:normal;font-family:Menlo,'DejaVu Sans Mono',consolas,'Courier New',monospace\">Eval num_timesteps=450000, episode_reward=285.00 +/- 0.00\n",
       "</pre>\n"
      ],
      "text/plain": [
       "Eval num_timesteps=450000, episode_reward=285.00 +/- 0.00\n"
      ]
     },
     "metadata": {},
     "output_type": "display_data"
    },
    {
     "data": {
      "text/html": [
       "<pre style=\"white-space:pre;overflow-x:auto;line-height:normal;font-family:Menlo,'DejaVu Sans Mono',consolas,'Courier New',monospace\">Episode length: 2903.00 +/- 0.00\n",
       "</pre>\n"
      ],
      "text/plain": [
       "Episode length: 2903.00 +/- 0.00\n"
      ]
     },
     "metadata": {},
     "output_type": "display_data"
    },
    {
     "data": {
      "text/html": [
       "<pre style=\"white-space:pre;overflow-x:auto;line-height:normal;font-family:Menlo,'DejaVu Sans Mono',consolas,'Courier New',monospace\">Eval num_timesteps=475000, episode_reward=285.00 +/- 0.00\n",
       "</pre>\n"
      ],
      "text/plain": [
       "Eval num_timesteps=475000, episode_reward=285.00 +/- 0.00\n"
      ]
     },
     "metadata": {},
     "output_type": "display_data"
    },
    {
     "data": {
      "text/html": [
       "<pre style=\"white-space:pre;overflow-x:auto;line-height:normal;font-family:Menlo,'DejaVu Sans Mono',consolas,'Courier New',monospace\">Episode length: 2903.00 +/- 0.00\n",
       "</pre>\n"
      ],
      "text/plain": [
       "Episode length: 2903.00 +/- 0.00\n"
      ]
     },
     "metadata": {},
     "output_type": "display_data"
    },
    {
     "data": {
      "text/html": [
       "<pre style=\"white-space:pre;overflow-x:auto;line-height:normal;font-family:Menlo,'DejaVu Sans Mono',consolas,'Courier New',monospace\">Eval num_timesteps=500000, episode_reward=285.00 +/- 0.00\n",
       "</pre>\n"
      ],
      "text/plain": [
       "Eval num_timesteps=500000, episode_reward=285.00 +/- 0.00\n"
      ]
     },
     "metadata": {},
     "output_type": "display_data"
    },
    {
     "data": {
      "text/html": [
       "<pre style=\"white-space:pre;overflow-x:auto;line-height:normal;font-family:Menlo,'DejaVu Sans Mono',consolas,'Courier New',monospace\">Episode length: 2904.20 +/- 5.23\n",
       "</pre>\n"
      ],
      "text/plain": [
       "Episode length: 2904.20 +/- 5.23\n"
      ]
     },
     "metadata": {},
     "output_type": "display_data"
    },
    {
     "data": {
      "text/html": [
       "<pre style=\"white-space:pre;overflow-x:auto;line-height:normal;font-family:Menlo,'DejaVu Sans Mono',consolas,'Courier New',monospace\">Eval num_timesteps=525000, episode_reward=279.75 +/- 22.88\n",
       "</pre>\n"
      ],
      "text/plain": [
       "Eval num_timesteps=525000, episode_reward=279.75 +/- 22.88\n"
      ]
     },
     "metadata": {},
     "output_type": "display_data"
    },
    {
     "data": {
      "text/html": [
       "<pre style=\"white-space:pre;overflow-x:auto;line-height:normal;font-family:Menlo,'DejaVu Sans Mono',consolas,'Courier New',monospace\">Episode length: 2890.70 +/- 53.61\n",
       "</pre>\n"
      ],
      "text/plain": [
       "Episode length: 2890.70 +/- 53.61\n"
      ]
     },
     "metadata": {},
     "output_type": "display_data"
    },
    {
     "data": {
      "text/html": [
       "<pre style=\"white-space:pre;overflow-x:auto;line-height:normal;font-family:Menlo,'DejaVu Sans Mono',consolas,'Courier New',monospace\">Eval num_timesteps=550000, episode_reward=285.00 +/- 0.00\n",
       "</pre>\n"
      ],
      "text/plain": [
       "Eval num_timesteps=550000, episode_reward=285.00 +/- 0.00\n"
      ]
     },
     "metadata": {},
     "output_type": "display_data"
    },
    {
     "data": {
      "text/html": [
       "<pre style=\"white-space:pre;overflow-x:auto;line-height:normal;font-family:Menlo,'DejaVu Sans Mono',consolas,'Courier New',monospace\">Episode length: 2903.00 +/- 0.00\n",
       "</pre>\n"
      ],
      "text/plain": [
       "Episode length: 2903.00 +/- 0.00\n"
      ]
     },
     "metadata": {},
     "output_type": "display_data"
    },
    {
     "data": {
      "text/html": [
       "<pre style=\"white-space:pre;overflow-x:auto;line-height:normal;font-family:Menlo,'DejaVu Sans Mono',consolas,'Courier New',monospace\">Eval num_timesteps=575000, episode_reward=180.00 +/- 0.00\n",
       "</pre>\n"
      ],
      "text/plain": [
       "Eval num_timesteps=575000, episode_reward=180.00 +/- 0.00\n"
      ]
     },
     "metadata": {},
     "output_type": "display_data"
    },
    {
     "data": {
      "text/html": [
       "<pre style=\"white-space:pre;overflow-x:auto;line-height:normal;font-family:Menlo,'DejaVu Sans Mono',consolas,'Courier New',monospace\">Episode length: 2657.00 +/- 0.00\n",
       "</pre>\n"
      ],
      "text/plain": [
       "Episode length: 2657.00 +/- 0.00\n"
      ]
     },
     "metadata": {},
     "output_type": "display_data"
    },
    {
     "data": {
      "text/html": [
       "<pre style=\"white-space:pre;overflow-x:auto;line-height:normal;font-family:Menlo,'DejaVu Sans Mono',consolas,'Courier New',monospace\">Eval num_timesteps=600000, episode_reward=201.00 +/- 42.00\n",
       "</pre>\n"
      ],
      "text/plain": [
       "Eval num_timesteps=600000, episode_reward=201.00 +/- 42.00\n"
      ]
     },
     "metadata": {},
     "output_type": "display_data"
    },
    {
     "data": {
      "text/html": [
       "<pre style=\"white-space:pre;overflow-x:auto;line-height:normal;font-family:Menlo,'DejaVu Sans Mono',consolas,'Courier New',monospace\">Episode length: 2706.20 +/- 98.40\n",
       "</pre>\n"
      ],
      "text/plain": [
       "Episode length: 2706.20 +/- 98.40\n"
      ]
     },
     "metadata": {},
     "output_type": "display_data"
    },
    {
     "data": {
      "text/html": [
       "<pre style=\"white-space:pre;overflow-x:auto;line-height:normal;font-family:Menlo,'DejaVu Sans Mono',consolas,'Courier New',monospace\">Eval num_timesteps=625000, episode_reward=135.00 +/- 0.00\n",
       "</pre>\n"
      ],
      "text/plain": [
       "Eval num_timesteps=625000, episode_reward=135.00 +/- 0.00\n"
      ]
     },
     "metadata": {},
     "output_type": "display_data"
    },
    {
     "data": {
      "text/html": [
       "<pre style=\"white-space:pre;overflow-x:auto;line-height:normal;font-family:Menlo,'DejaVu Sans Mono',consolas,'Courier New',monospace\">Episode length: 2617.20 +/- 0.87\n",
       "</pre>\n"
      ],
      "text/plain": [
       "Episode length: 2617.20 +/- 0.87\n"
      ]
     },
     "metadata": {},
     "output_type": "display_data"
    },
    {
     "data": {
      "text/html": [
       "<pre style=\"white-space:pre;overflow-x:auto;line-height:normal;font-family:Menlo,'DejaVu Sans Mono',consolas,'Courier New',monospace\">Eval num_timesteps=650000, episode_reward=180.00 +/- 0.00\n",
       "</pre>\n"
      ],
      "text/plain": [
       "Eval num_timesteps=650000, episode_reward=180.00 +/- 0.00\n"
      ]
     },
     "metadata": {},
     "output_type": "display_data"
    },
    {
     "data": {
      "text/html": [
       "<pre style=\"white-space:pre;overflow-x:auto;line-height:normal;font-family:Menlo,'DejaVu Sans Mono',consolas,'Courier New',monospace\">Episode length: 2657.00 +/- 0.00\n",
       "</pre>\n"
      ],
      "text/plain": [
       "Episode length: 2657.00 +/- 0.00\n"
      ]
     },
     "metadata": {},
     "output_type": "display_data"
    },
    {
     "data": {
      "text/html": [
       "<pre style=\"white-space:pre;overflow-x:auto;line-height:normal;font-family:Menlo,'DejaVu Sans Mono',consolas,'Courier New',monospace\">Eval num_timesteps=675000, episode_reward=184.50 +/- 19.62\n",
       "</pre>\n"
      ],
      "text/plain": [
       "Eval num_timesteps=675000, episode_reward=184.50 +/- 19.62\n"
      ]
     },
     "metadata": {},
     "output_type": "display_data"
    },
    {
     "data": {
      "text/html": [
       "<pre style=\"white-space:pre;overflow-x:auto;line-height:normal;font-family:Menlo,'DejaVu Sans Mono',consolas,'Courier New',monospace\">Episode length: 2670.60 +/- 59.28\n",
       "</pre>\n"
      ],
      "text/plain": [
       "Episode length: 2670.60 +/- 59.28\n"
      ]
     },
     "metadata": {},
     "output_type": "display_data"
    },
    {
     "data": {
      "text/html": [
       "<pre style=\"white-space:pre;overflow-x:auto;line-height:normal;font-family:Menlo,'DejaVu Sans Mono',consolas,'Courier New',monospace\">Eval num_timesteps=700000, episode_reward=266.00 +/- 9.70\n",
       "</pre>\n"
      ],
      "text/plain": [
       "Eval num_timesteps=700000, episode_reward=266.00 +/- 9.70\n"
      ]
     },
     "metadata": {},
     "output_type": "display_data"
    },
    {
     "data": {
      "text/html": [
       "<pre style=\"white-space:pre;overflow-x:auto;line-height:normal;font-family:Menlo,'DejaVu Sans Mono',consolas,'Courier New',monospace\">Episode length: 2995.10 +/- 55.06\n",
       "</pre>\n"
      ],
      "text/plain": [
       "Episode length: 2995.10 +/- 55.06\n"
      ]
     },
     "metadata": {},
     "output_type": "display_data"
    },
    {
     "data": {
      "text/html": [
       "<pre style=\"white-space:pre;overflow-x:auto;line-height:normal;font-family:Menlo,'DejaVu Sans Mono',consolas,'Courier New',monospace\">Eval num_timesteps=725000, episode_reward=276.75 +/- 43.68\n",
       "</pre>\n"
      ],
      "text/plain": [
       "Eval num_timesteps=725000, episode_reward=276.75 +/- 43.68\n"
      ]
     },
     "metadata": {},
     "output_type": "display_data"
    },
    {
     "data": {
      "text/html": [
       "<pre style=\"white-space:pre;overflow-x:auto;line-height:normal;font-family:Menlo,'DejaVu Sans Mono',consolas,'Courier New',monospace\">Episode length: 3753.50 +/- 776.21\n",
       "</pre>\n"
      ],
      "text/plain": [
       "Episode length: 3753.50 +/- 776.21\n"
      ]
     },
     "metadata": {},
     "output_type": "display_data"
    },
    {
     "data": {
      "text/html": [
       "<pre style=\"white-space:pre;overflow-x:auto;line-height:normal;font-family:Menlo,'DejaVu Sans Mono',consolas,'Courier New',monospace\">Eval num_timesteps=750000, episode_reward=255.25 +/- 31.68\n",
       "</pre>\n"
      ],
      "text/plain": [
       "Eval num_timesteps=750000, episode_reward=255.25 +/- 31.68\n"
      ]
     },
     "metadata": {},
     "output_type": "display_data"
    },
    {
     "data": {
      "text/html": [
       "<pre style=\"white-space:pre;overflow-x:auto;line-height:normal;font-family:Menlo,'DejaVu Sans Mono',consolas,'Courier New',monospace\">Episode length: 3302.80 +/- 654.48\n",
       "</pre>\n"
      ],
      "text/plain": [
       "Episode length: 3302.80 +/- 654.48\n"
      ]
     },
     "metadata": {},
     "output_type": "display_data"
    },
    {
     "data": {
      "text/html": [
       "<pre style=\"white-space:pre;overflow-x:auto;line-height:normal;font-family:Menlo,'DejaVu Sans Mono',consolas,'Courier New',monospace\">Eval num_timesteps=775000, episode_reward=110.25 +/- 22.88\n",
       "</pre>\n"
      ],
      "text/plain": [
       "Eval num_timesteps=775000, episode_reward=110.25 +/- 22.88\n"
      ]
     },
     "metadata": {},
     "output_type": "display_data"
    },
    {
     "data": {
      "text/html": [
       "<pre style=\"white-space:pre;overflow-x:auto;line-height:normal;font-family:Menlo,'DejaVu Sans Mono',consolas,'Courier New',monospace\">Episode length: 2472.40 +/- 67.13\n",
       "</pre>\n"
      ],
      "text/plain": [
       "Episode length: 2472.40 +/- 67.13\n"
      ]
     },
     "metadata": {},
     "output_type": "display_data"
    },
    {
     "data": {
      "text/html": [
       "<pre style=\"white-space:pre;overflow-x:auto;line-height:normal;font-family:Menlo,'DejaVu Sans Mono',consolas,'Courier New',monospace\">Eval num_timesteps=800000, episode_reward=196.00 +/- 19.60\n",
       "</pre>\n"
      ],
      "text/plain": [
       "Eval num_timesteps=800000, episode_reward=196.00 +/- 19.60\n"
      ]
     },
     "metadata": {},
     "output_type": "display_data"
    },
    {
     "data": {
      "text/html": [
       "<pre style=\"white-space:pre;overflow-x:auto;line-height:normal;font-family:Menlo,'DejaVu Sans Mono',consolas,'Courier New',monospace\">Episode length: 2621.60 +/- 156.28\n",
       "</pre>\n"
      ],
      "text/plain": [
       "Episode length: 2621.60 +/- 156.28\n"
      ]
     },
     "metadata": {},
     "output_type": "display_data"
    },
    {
     "data": {
      "text/html": [
       "<pre style=\"white-space:pre;overflow-x:auto;line-height:normal;font-family:Menlo,'DejaVu Sans Mono',consolas,'Courier New',monospace\">Eval num_timesteps=825000, episode_reward=376.50 +/- 115.62\n",
       "</pre>\n"
      ],
      "text/plain": [
       "Eval num_timesteps=825000, episode_reward=376.50 +/- 115.62\n"
      ]
     },
     "metadata": {},
     "output_type": "display_data"
    },
    {
     "data": {
      "text/html": [
       "<pre style=\"white-space:pre;overflow-x:auto;line-height:normal;font-family:Menlo,'DejaVu Sans Mono',consolas,'Courier New',monospace\">Episode length: 4548.25 +/- 1151.69\n",
       "</pre>\n"
      ],
      "text/plain": [
       "Episode length: 4548.25 +/- 1151.69\n"
      ]
     },
     "metadata": {},
     "output_type": "display_data"
    },
    {
     "data": {
      "text/html": [
       "<pre style=\"white-space:pre;overflow-x:auto;line-height:normal;font-family:Menlo,'DejaVu Sans Mono',consolas,'Courier New',monospace\">New best mean reward!\n",
       "</pre>\n"
      ],
      "text/plain": [
       "New best mean reward!\n"
      ]
     },
     "metadata": {},
     "output_type": "display_data"
    },
    {
     "data": {
      "text/html": [
       "<pre style=\"white-space:pre;overflow-x:auto;line-height:normal;font-family:Menlo,'DejaVu Sans Mono',consolas,'Courier New',monospace\">Eval num_timesteps=850000, episode_reward=405.00 +/- 106.11\n",
       "</pre>\n"
      ],
      "text/plain": [
       "Eval num_timesteps=850000, episode_reward=405.00 +/- 106.11\n"
      ]
     },
     "metadata": {},
     "output_type": "display_data"
    },
    {
     "data": {
      "text/html": [
       "<pre style=\"white-space:pre;overflow-x:auto;line-height:normal;font-family:Menlo,'DejaVu Sans Mono',consolas,'Courier New',monospace\">Episode length: 4175.10 +/- 161.89\n",
       "</pre>\n"
      ],
      "text/plain": [
       "Episode length: 4175.10 +/- 161.89\n"
      ]
     },
     "metadata": {},
     "output_type": "display_data"
    },
    {
     "data": {
      "text/html": [
       "<pre style=\"white-space:pre;overflow-x:auto;line-height:normal;font-family:Menlo,'DejaVu Sans Mono',consolas,'Courier New',monospace\">New best mean reward!\n",
       "</pre>\n"
      ],
      "text/plain": [
       "New best mean reward!\n"
      ]
     },
     "metadata": {},
     "output_type": "display_data"
    },
    {
     "data": {
      "text/html": [
       "<pre style=\"white-space:pre;overflow-x:auto;line-height:normal;font-family:Menlo,'DejaVu Sans Mono',consolas,'Courier New',monospace\">Eval num_timesteps=875000, episode_reward=312.75 +/- 99.16\n",
       "</pre>\n"
      ],
      "text/plain": [
       "Eval num_timesteps=875000, episode_reward=312.75 +/- 99.16\n"
      ]
     },
     "metadata": {},
     "output_type": "display_data"
    },
    {
     "data": {
      "text/html": [
       "<pre style=\"white-space:pre;overflow-x:auto;line-height:normal;font-family:Menlo,'DejaVu Sans Mono',consolas,'Courier New',monospace\">Episode length: 3086.40 +/- 728.30\n",
       "</pre>\n"
      ],
      "text/plain": [
       "Episode length: 3086.40 +/- 728.30\n"
      ]
     },
     "metadata": {},
     "output_type": "display_data"
    },
    {
     "data": {
      "text/html": [
       "<pre style=\"white-space:pre;overflow-x:auto;line-height:normal;font-family:Menlo,'DejaVu Sans Mono',consolas,'Courier New',monospace\">Eval num_timesteps=900000, episode_reward=223.50 +/- 38.34\n",
       "</pre>\n"
      ],
      "text/plain": [
       "Eval num_timesteps=900000, episode_reward=223.50 +/- 38.34\n"
      ]
     },
     "metadata": {},
     "output_type": "display_data"
    },
    {
     "data": {
      "text/html": [
       "<pre style=\"white-space:pre;overflow-x:auto;line-height:normal;font-family:Menlo,'DejaVu Sans Mono',consolas,'Courier New',monospace\">Episode length: 3021.60 +/- 586.57\n",
       "</pre>\n"
      ],
      "text/plain": [
       "Episode length: 3021.60 +/- 586.57\n"
      ]
     },
     "metadata": {},
     "output_type": "display_data"
    },
    {
     "data": {
      "text/html": [
       "<pre style=\"white-space:pre;overflow-x:auto;line-height:normal;font-family:Menlo,'DejaVu Sans Mono',consolas,'Courier New',monospace\">Eval num_timesteps=925000, episode_reward=364.25 +/- 79.25\n",
       "</pre>\n"
      ],
      "text/plain": [
       "Eval num_timesteps=925000, episode_reward=364.25 +/- 79.25\n"
      ]
     },
     "metadata": {},
     "output_type": "display_data"
    },
    {
     "data": {
      "text/html": [
       "<pre style=\"white-space:pre;overflow-x:auto;line-height:normal;font-family:Menlo,'DejaVu Sans Mono',consolas,'Courier New',monospace\">Episode length: 5248.40 +/- 626.57\n",
       "</pre>\n"
      ],
      "text/plain": [
       "Episode length: 5248.40 +/- 626.57\n"
      ]
     },
     "metadata": {},
     "output_type": "display_data"
    },
    {
     "data": {
      "text/html": [
       "<pre style=\"white-space:pre;overflow-x:auto;line-height:normal;font-family:Menlo,'DejaVu Sans Mono',consolas,'Courier New',monospace\">Eval num_timesteps=950000, episode_reward=474.50 +/- 71.59\n",
       "</pre>\n"
      ],
      "text/plain": [
       "Eval num_timesteps=950000, episode_reward=474.50 +/- 71.59\n"
      ]
     },
     "metadata": {},
     "output_type": "display_data"
    },
    {
     "data": {
      "text/html": [
       "<pre style=\"white-space:pre;overflow-x:auto;line-height:normal;font-family:Menlo,'DejaVu Sans Mono',consolas,'Courier New',monospace\">Episode length: 3894.50 +/- 149.19\n",
       "</pre>\n"
      ],
      "text/plain": [
       "Episode length: 3894.50 +/- 149.19\n"
      ]
     },
     "metadata": {},
     "output_type": "display_data"
    },
    {
     "data": {
      "text/html": [
       "<pre style=\"white-space:pre;overflow-x:auto;line-height:normal;font-family:Menlo,'DejaVu Sans Mono',consolas,'Courier New',monospace\">New best mean reward!\n",
       "</pre>\n"
      ],
      "text/plain": [
       "New best mean reward!\n"
      ]
     },
     "metadata": {},
     "output_type": "display_data"
    },
    {
     "data": {
      "text/html": [
       "<pre style=\"white-space:pre;overflow-x:auto;line-height:normal;font-family:Menlo,'DejaVu Sans Mono',consolas,'Courier New',monospace\">Eval num_timesteps=975000, episode_reward=171.75 +/- 19.83\n",
       "</pre>\n"
      ],
      "text/plain": [
       "Eval num_timesteps=975000, episode_reward=171.75 +/- 19.83\n"
      ]
     },
     "metadata": {},
     "output_type": "display_data"
    },
    {
     "data": {
      "text/html": [
       "<pre style=\"white-space:pre;overflow-x:auto;line-height:normal;font-family:Menlo,'DejaVu Sans Mono',consolas,'Courier New',monospace\">Episode length: 2453.50 +/- 114.70\n",
       "</pre>\n"
      ],
      "text/plain": [
       "Episode length: 2453.50 +/- 114.70\n"
      ]
     },
     "metadata": {},
     "output_type": "display_data"
    },
    {
     "data": {
      "text/html": [
       "<pre style=\"white-space:pre;overflow-x:auto;line-height:normal;font-family:Menlo,'DejaVu Sans Mono',consolas,'Courier New',monospace\">Eval num_timesteps=1000000, episode_reward=429.25 +/- 54.66\n",
       "</pre>\n"
      ],
      "text/plain": [
       "Eval num_timesteps=1000000, episode_reward=429.25 +/- 54.66\n"
      ]
     },
     "metadata": {},
     "output_type": "display_data"
    },
    {
     "data": {
      "text/html": [
       "<pre style=\"white-space:pre;overflow-x:auto;line-height:normal;font-family:Menlo,'DejaVu Sans Mono',consolas,'Courier New',monospace\">Episode length: 4227.55 +/- 337.76\n",
       "</pre>\n"
      ],
      "text/plain": [
       "Episode length: 4227.55 +/- 337.76\n"
      ]
     },
     "metadata": {},
     "output_type": "display_data"
    },
    {
     "data": {
      "text/html": [
       "<pre style=\"white-space:pre;overflow-x:auto;line-height:normal;font-family:Menlo,'DejaVu Sans Mono',consolas,'Courier New',monospace\">Eval num_timesteps=1025000, episode_reward=267.25 +/- 50.46\n",
       "</pre>\n"
      ],
      "text/plain": [
       "Eval num_timesteps=1025000, episode_reward=267.25 +/- 50.46\n"
      ]
     },
     "metadata": {},
     "output_type": "display_data"
    },
    {
     "data": {
      "text/html": [
       "<pre style=\"white-space:pre;overflow-x:auto;line-height:normal;font-family:Menlo,'DejaVu Sans Mono',consolas,'Courier New',monospace\">Episode length: 4141.50 +/- 800.98\n",
       "</pre>\n"
      ],
      "text/plain": [
       "Episode length: 4141.50 +/- 800.98\n"
      ]
     },
     "metadata": {},
     "output_type": "display_data"
    },
    {
     "data": {
      "text/html": [
       "<pre style=\"white-space:pre;overflow-x:auto;line-height:normal;font-family:Menlo,'DejaVu Sans Mono',consolas,'Courier New',monospace\">Eval num_timesteps=1050000, episode_reward=171.50 +/- 71.92\n",
       "</pre>\n"
      ],
      "text/plain": [
       "Eval num_timesteps=1050000, episode_reward=171.50 +/- 71.92\n"
      ]
     },
     "metadata": {},
     "output_type": "display_data"
    },
    {
     "data": {
      "text/html": [
       "<pre style=\"white-space:pre;overflow-x:auto;line-height:normal;font-family:Menlo,'DejaVu Sans Mono',consolas,'Courier New',monospace\">Episode length: 2588.90 +/- 714.42\n",
       "</pre>\n"
      ],
      "text/plain": [
       "Episode length: 2588.90 +/- 714.42\n"
      ]
     },
     "metadata": {},
     "output_type": "display_data"
    },
    {
     "data": {
      "text/html": [
       "<pre style=\"white-space:pre;overflow-x:auto;line-height:normal;font-family:Menlo,'DejaVu Sans Mono',consolas,'Courier New',monospace\">Eval num_timesteps=1075000, episode_reward=291.25 +/- 10.83\n",
       "</pre>\n"
      ],
      "text/plain": [
       "Eval num_timesteps=1075000, episode_reward=291.25 +/- 10.83\n"
      ]
     },
     "metadata": {},
     "output_type": "display_data"
    },
    {
     "data": {
      "text/html": [
       "<pre style=\"white-space:pre;overflow-x:auto;line-height:normal;font-family:Menlo,'DejaVu Sans Mono',consolas,'Courier New',monospace\">Episode length: 3147.00 +/- 422.62\n",
       "</pre>\n"
      ],
      "text/plain": [
       "Episode length: 3147.00 +/- 422.62\n"
      ]
     },
     "metadata": {},
     "output_type": "display_data"
    },
    {
     "data": {
      "text/html": [
       "<pre style=\"white-space:pre;overflow-x:auto;line-height:normal;font-family:Menlo,'DejaVu Sans Mono',consolas,'Courier New',monospace\">Eval num_timesteps=1100000, episode_reward=383.25 +/- 77.61\n",
       "</pre>\n"
      ],
      "text/plain": [
       "Eval num_timesteps=1100000, episode_reward=383.25 +/- 77.61\n"
      ]
     },
     "metadata": {},
     "output_type": "display_data"
    },
    {
     "data": {
      "text/html": [
       "<pre style=\"white-space:pre;overflow-x:auto;line-height:normal;font-family:Menlo,'DejaVu Sans Mono',consolas,'Courier New',monospace\">Episode length: 4915.80 +/- 833.34\n",
       "</pre>\n"
      ],
      "text/plain": [
       "Episode length: 4915.80 +/- 833.34\n"
      ]
     },
     "metadata": {},
     "output_type": "display_data"
    },
    {
     "data": {
      "text/html": [
       "<pre style=\"white-space:pre;overflow-x:auto;line-height:normal;font-family:Menlo,'DejaVu Sans Mono',consolas,'Courier New',monospace\">Eval num_timesteps=1125000, episode_reward=466.00 +/- 318.31\n",
       "</pre>\n"
      ],
      "text/plain": [
       "Eval num_timesteps=1125000, episode_reward=466.00 +/- 318.31\n"
      ]
     },
     "metadata": {},
     "output_type": "display_data"
    },
    {
     "data": {
      "text/html": [
       "<pre style=\"white-space:pre;overflow-x:auto;line-height:normal;font-family:Menlo,'DejaVu Sans Mono',consolas,'Courier New',monospace\">Episode length: 5594.00 +/- 1231.19\n",
       "</pre>\n"
      ],
      "text/plain": [
       "Episode length: 5594.00 +/- 1231.19\n"
      ]
     },
     "metadata": {},
     "output_type": "display_data"
    },
    {
     "data": {
      "text/html": [
       "<pre style=\"white-space:pre;overflow-x:auto;line-height:normal;font-family:Menlo,'DejaVu Sans Mono',consolas,'Courier New',monospace\">Eval num_timesteps=1150000, episode_reward=507.75 +/- 110.13\n",
       "</pre>\n"
      ],
      "text/plain": [
       "Eval num_timesteps=1150000, episode_reward=507.75 +/- 110.13\n"
      ]
     },
     "metadata": {},
     "output_type": "display_data"
    },
    {
     "data": {
      "text/html": [
       "<pre style=\"white-space:pre;overflow-x:auto;line-height:normal;font-family:Menlo,'DejaVu Sans Mono',consolas,'Courier New',monospace\">Episode length: 4388.70 +/- 250.89\n",
       "</pre>\n"
      ],
      "text/plain": [
       "Episode length: 4388.70 +/- 250.89\n"
      ]
     },
     "metadata": {},
     "output_type": "display_data"
    },
    {
     "data": {
      "text/html": [
       "<pre style=\"white-space:pre;overflow-x:auto;line-height:normal;font-family:Menlo,'DejaVu Sans Mono',consolas,'Courier New',monospace\">New best mean reward!\n",
       "</pre>\n"
      ],
      "text/plain": [
       "New best mean reward!\n"
      ]
     },
     "metadata": {},
     "output_type": "display_data"
    },
    {
     "data": {
      "text/html": [
       "<pre style=\"white-space:pre;overflow-x:auto;line-height:normal;font-family:Menlo,'DejaVu Sans Mono',consolas,'Courier New',monospace\">Eval num_timesteps=1175000, episode_reward=432.25 +/- 183.18\n",
       "</pre>\n"
      ],
      "text/plain": [
       "Eval num_timesteps=1175000, episode_reward=432.25 +/- 183.18\n"
      ]
     },
     "metadata": {},
     "output_type": "display_data"
    },
    {
     "data": {
      "text/html": [
       "<pre style=\"white-space:pre;overflow-x:auto;line-height:normal;font-family:Menlo,'DejaVu Sans Mono',consolas,'Courier New',monospace\">Episode length: 3180.20 +/- 554.40\n",
       "</pre>\n"
      ],
      "text/plain": [
       "Episode length: 3180.20 +/- 554.40\n"
      ]
     },
     "metadata": {},
     "output_type": "display_data"
    },
    {
     "data": {
      "text/html": [
       "<pre style=\"white-space:pre;overflow-x:auto;line-height:normal;font-family:Menlo,'DejaVu Sans Mono',consolas,'Courier New',monospace\">Eval num_timesteps=1200000, episode_reward=369.75 +/- 101.00\n",
       "</pre>\n"
      ],
      "text/plain": [
       "Eval num_timesteps=1200000, episode_reward=369.75 +/- 101.00\n"
      ]
     },
     "metadata": {},
     "output_type": "display_data"
    },
    {
     "data": {
      "text/html": [
       "<pre style=\"white-space:pre;overflow-x:auto;line-height:normal;font-family:Menlo,'DejaVu Sans Mono',consolas,'Courier New',monospace\">Episode length: 3757.35 +/- 409.40\n",
       "</pre>\n"
      ],
      "text/plain": [
       "Episode length: 3757.35 +/- 409.40\n"
      ]
     },
     "metadata": {},
     "output_type": "display_data"
    },
    {
     "data": {
      "text/html": [
       "<pre style=\"white-space:pre;overflow-x:auto;line-height:normal;font-family:Menlo,'DejaVu Sans Mono',consolas,'Courier New',monospace\">Eval num_timesteps=1225000, episode_reward=368.00 +/- 165.62\n",
       "</pre>\n"
      ],
      "text/plain": [
       "Eval num_timesteps=1225000, episode_reward=368.00 +/- 165.62\n"
      ]
     },
     "metadata": {},
     "output_type": "display_data"
    },
    {
     "data": {
      "text/html": [
       "<pre style=\"white-space:pre;overflow-x:auto;line-height:normal;font-family:Menlo,'DejaVu Sans Mono',consolas,'Courier New',monospace\">Episode length: 4253.15 +/- 1120.66\n",
       "</pre>\n"
      ],
      "text/plain": [
       "Episode length: 4253.15 +/- 1120.66\n"
      ]
     },
     "metadata": {},
     "output_type": "display_data"
    },
    {
     "data": {
      "text/html": [
       "<pre style=\"white-space:pre;overflow-x:auto;line-height:normal;font-family:Menlo,'DejaVu Sans Mono',consolas,'Courier New',monospace\">Eval num_timesteps=1250000, episode_reward=113.75 +/- 73.69\n",
       "</pre>\n"
      ],
      "text/plain": [
       "Eval num_timesteps=1250000, episode_reward=113.75 +/- 73.69\n"
      ]
     },
     "metadata": {},
     "output_type": "display_data"
    },
    {
     "data": {
      "text/html": [
       "<pre style=\"white-space:pre;overflow-x:auto;line-height:normal;font-family:Menlo,'DejaVu Sans Mono',consolas,'Courier New',monospace\">Episode length: 2387.50 +/- 589.23\n",
       "</pre>\n"
      ],
      "text/plain": [
       "Episode length: 2387.50 +/- 589.23\n"
      ]
     },
     "metadata": {},
     "output_type": "display_data"
    },
    {
     "data": {
      "text/html": [
       "<pre style=\"white-space:pre;overflow-x:auto;line-height:normal;font-family:Menlo,'DejaVu Sans Mono',consolas,'Courier New',monospace\">Eval num_timesteps=1275000, episode_reward=275.50 +/- 82.73\n",
       "</pre>\n"
      ],
      "text/plain": [
       "Eval num_timesteps=1275000, episode_reward=275.50 +/- 82.73\n"
      ]
     },
     "metadata": {},
     "output_type": "display_data"
    },
    {
     "data": {
      "text/html": [
       "<pre style=\"white-space:pre;overflow-x:auto;line-height:normal;font-family:Menlo,'DejaVu Sans Mono',consolas,'Courier New',monospace\">Episode length: 2862.70 +/- 123.77\n",
       "</pre>\n"
      ],
      "text/plain": [
       "Episode length: 2862.70 +/- 123.77\n"
      ]
     },
     "metadata": {},
     "output_type": "display_data"
    },
    {
     "data": {
      "text/html": [
       "<pre style=\"white-space:pre;overflow-x:auto;line-height:normal;font-family:Menlo,'DejaVu Sans Mono',consolas,'Courier New',monospace\">Eval num_timesteps=1300000, episode_reward=351.75 +/- 150.46\n",
       "</pre>\n"
      ],
      "text/plain": [
       "Eval num_timesteps=1300000, episode_reward=351.75 +/- 150.46\n"
      ]
     },
     "metadata": {},
     "output_type": "display_data"
    },
    {
     "data": {
      "text/html": [
       "<pre style=\"white-space:pre;overflow-x:auto;line-height:normal;font-family:Menlo,'DejaVu Sans Mono',consolas,'Courier New',monospace\">Episode length: 4962.10 +/- 1161.33\n",
       "</pre>\n"
      ],
      "text/plain": [
       "Episode length: 4962.10 +/- 1161.33\n"
      ]
     },
     "metadata": {},
     "output_type": "display_data"
    },
    {
     "data": {
      "text/html": [
       "<pre style=\"white-space:pre;overflow-x:auto;line-height:normal;font-family:Menlo,'DejaVu Sans Mono',consolas,'Courier New',monospace\">Eval num_timesteps=1325000, episode_reward=512.00 +/- 124.22\n",
       "</pre>\n"
      ],
      "text/plain": [
       "Eval num_timesteps=1325000, episode_reward=512.00 +/- 124.22\n"
      ]
     },
     "metadata": {},
     "output_type": "display_data"
    },
    {
     "data": {
      "text/html": [
       "<pre style=\"white-space:pre;overflow-x:auto;line-height:normal;font-family:Menlo,'DejaVu Sans Mono',consolas,'Courier New',monospace\">Episode length: 4391.30 +/- 568.82\n",
       "</pre>\n"
      ],
      "text/plain": [
       "Episode length: 4391.30 +/- 568.82\n"
      ]
     },
     "metadata": {},
     "output_type": "display_data"
    },
    {
     "data": {
      "text/html": [
       "<pre style=\"white-space:pre;overflow-x:auto;line-height:normal;font-family:Menlo,'DejaVu Sans Mono',consolas,'Courier New',monospace\">New best mean reward!\n",
       "</pre>\n"
      ],
      "text/plain": [
       "New best mean reward!\n"
      ]
     },
     "metadata": {},
     "output_type": "display_data"
    },
    {
     "data": {
      "text/html": [
       "<pre style=\"white-space:pre;overflow-x:auto;line-height:normal;font-family:Menlo,'DejaVu Sans Mono',consolas,'Courier New',monospace\">Eval num_timesteps=1350000, episode_reward=436.25 +/- 96.81\n",
       "</pre>\n"
      ],
      "text/plain": [
       "Eval num_timesteps=1350000, episode_reward=436.25 +/- 96.81\n"
      ]
     },
     "metadata": {},
     "output_type": "display_data"
    },
    {
     "data": {
      "text/html": [
       "<pre style=\"white-space:pre;overflow-x:auto;line-height:normal;font-family:Menlo,'DejaVu Sans Mono',consolas,'Courier New',monospace\">Episode length: 4150.00 +/- 612.17\n",
       "</pre>\n"
      ],
      "text/plain": [
       "Episode length: 4150.00 +/- 612.17\n"
      ]
     },
     "metadata": {},
     "output_type": "display_data"
    },
    {
     "data": {
      "text/html": [
       "<pre style=\"white-space:pre;overflow-x:auto;line-height:normal;font-family:Menlo,'DejaVu Sans Mono',consolas,'Courier New',monospace\">Eval num_timesteps=1375000, episode_reward=273.25 +/- 14.17\n",
       "</pre>\n"
      ],
      "text/plain": [
       "Eval num_timesteps=1375000, episode_reward=273.25 +/- 14.17\n"
      ]
     },
     "metadata": {},
     "output_type": "display_data"
    },
    {
     "data": {
      "text/html": [
       "<pre style=\"white-space:pre;overflow-x:auto;line-height:normal;font-family:Menlo,'DejaVu Sans Mono',consolas,'Courier New',monospace\">Episode length: 3076.75 +/- 321.47\n",
       "</pre>\n"
      ],
      "text/plain": [
       "Episode length: 3076.75 +/- 321.47\n"
      ]
     },
     "metadata": {},
     "output_type": "display_data"
    },
    {
     "data": {
      "text/html": [
       "<pre style=\"white-space:pre;overflow-x:auto;line-height:normal;font-family:Menlo,'DejaVu Sans Mono',consolas,'Courier New',monospace\">Eval num_timesteps=1400000, episode_reward=259.00 +/- 36.01\n",
       "</pre>\n"
      ],
      "text/plain": [
       "Eval num_timesteps=1400000, episode_reward=259.00 +/- 36.01\n"
      ]
     },
     "metadata": {},
     "output_type": "display_data"
    },
    {
     "data": {
      "text/html": [
       "<pre style=\"white-space:pre;overflow-x:auto;line-height:normal;font-family:Menlo,'DejaVu Sans Mono',consolas,'Courier New',monospace\">Episode length: 3456.70 +/- 505.31\n",
       "</pre>\n"
      ],
      "text/plain": [
       "Episode length: 3456.70 +/- 505.31\n"
      ]
     },
     "metadata": {},
     "output_type": "display_data"
    },
    {
     "data": {
      "text/html": [
       "<pre style=\"white-space:pre;overflow-x:auto;line-height:normal;font-family:Menlo,'DejaVu Sans Mono',consolas,'Courier New',monospace\">Eval num_timesteps=1425000, episode_reward=395.00 +/- 118.88\n",
       "</pre>\n"
      ],
      "text/plain": [
       "Eval num_timesteps=1425000, episode_reward=395.00 +/- 118.88\n"
      ]
     },
     "metadata": {},
     "output_type": "display_data"
    },
    {
     "data": {
      "text/html": [
       "<pre style=\"white-space:pre;overflow-x:auto;line-height:normal;font-family:Menlo,'DejaVu Sans Mono',consolas,'Courier New',monospace\">Episode length: 3530.50 +/- 718.40\n",
       "</pre>\n"
      ],
      "text/plain": [
       "Episode length: 3530.50 +/- 718.40\n"
      ]
     },
     "metadata": {},
     "output_type": "display_data"
    },
    {
     "data": {
      "text/html": [
       "<pre style=\"white-space:pre;overflow-x:auto;line-height:normal;font-family:Menlo,'DejaVu Sans Mono',consolas,'Courier New',monospace\">Eval num_timesteps=1450000, episode_reward=310.75 +/- 172.93\n",
       "</pre>\n"
      ],
      "text/plain": [
       "Eval num_timesteps=1450000, episode_reward=310.75 +/- 172.93\n"
      ]
     },
     "metadata": {},
     "output_type": "display_data"
    },
    {
     "data": {
      "text/html": [
       "<pre style=\"white-space:pre;overflow-x:auto;line-height:normal;font-family:Menlo,'DejaVu Sans Mono',consolas,'Courier New',monospace\">Episode length: 2713.15 +/- 715.08\n",
       "</pre>\n"
      ],
      "text/plain": [
       "Episode length: 2713.15 +/- 715.08\n"
      ]
     },
     "metadata": {},
     "output_type": "display_data"
    },
    {
     "data": {
      "text/html": [
       "<pre style=\"white-space:pre;overflow-x:auto;line-height:normal;font-family:Menlo,'DejaVu Sans Mono',consolas,'Courier New',monospace\">Eval num_timesteps=1475000, episode_reward=384.75 +/- 73.22\n",
       "</pre>\n"
      ],
      "text/plain": [
       "Eval num_timesteps=1475000, episode_reward=384.75 +/- 73.22\n"
      ]
     },
     "metadata": {},
     "output_type": "display_data"
    },
    {
     "data": {
      "text/html": [
       "<pre style=\"white-space:pre;overflow-x:auto;line-height:normal;font-family:Menlo,'DejaVu Sans Mono',consolas,'Courier New',monospace\">Episode length: 3314.90 +/- 333.22\n",
       "</pre>\n"
      ],
      "text/plain": [
       "Episode length: 3314.90 +/- 333.22\n"
      ]
     },
     "metadata": {},
     "output_type": "display_data"
    },
    {
     "data": {
      "text/html": [
       "<pre style=\"white-space:pre;overflow-x:auto;line-height:normal;font-family:Menlo,'DejaVu Sans Mono',consolas,'Courier New',monospace\">Eval num_timesteps=1500000, episode_reward=246.00 +/- 68.97\n",
       "</pre>\n"
      ],
      "text/plain": [
       "Eval num_timesteps=1500000, episode_reward=246.00 +/- 68.97\n"
      ]
     },
     "metadata": {},
     "output_type": "display_data"
    },
    {
     "data": {
      "text/html": [
       "<pre style=\"white-space:pre;overflow-x:auto;line-height:normal;font-family:Menlo,'DejaVu Sans Mono',consolas,'Courier New',monospace\">Episode length: 2942.60 +/- 704.62\n",
       "</pre>\n"
      ],
      "text/plain": [
       "Episode length: 2942.60 +/- 704.62\n"
      ]
     },
     "metadata": {},
     "output_type": "display_data"
    },
    {
     "data": {
      "text/html": [
       "<pre style=\"white-space:pre;overflow-x:auto;line-height:normal;font-family:Menlo,'DejaVu Sans Mono',consolas,'Courier New',monospace\">Eval num_timesteps=1525000, episode_reward=245.50 +/- 27.47\n",
       "</pre>\n"
      ],
      "text/plain": [
       "Eval num_timesteps=1525000, episode_reward=245.50 +/- 27.47\n"
      ]
     },
     "metadata": {},
     "output_type": "display_data"
    },
    {
     "data": {
      "text/html": [
       "<pre style=\"white-space:pre;overflow-x:auto;line-height:normal;font-family:Menlo,'DejaVu Sans Mono',consolas,'Courier New',monospace\">Episode length: 3238.90 +/- 725.96\n",
       "</pre>\n"
      ],
      "text/plain": [
       "Episode length: 3238.90 +/- 725.96\n"
      ]
     },
     "metadata": {},
     "output_type": "display_data"
    },
    {
     "data": {
      "text/html": [
       "<pre style=\"white-space:pre;overflow-x:auto;line-height:normal;font-family:Menlo,'DejaVu Sans Mono',consolas,'Courier New',monospace\">Eval num_timesteps=1550000, episode_reward=202.50 +/- 90.03\n",
       "</pre>\n"
      ],
      "text/plain": [
       "Eval num_timesteps=1550000, episode_reward=202.50 +/- 90.03\n"
      ]
     },
     "metadata": {},
     "output_type": "display_data"
    },
    {
     "data": {
      "text/html": [
       "<pre style=\"white-space:pre;overflow-x:auto;line-height:normal;font-family:Menlo,'DejaVu Sans Mono',consolas,'Courier New',monospace\">Episode length: 1912.60 +/- 644.78\n",
       "</pre>\n"
      ],
      "text/plain": [
       "Episode length: 1912.60 +/- 644.78\n"
      ]
     },
     "metadata": {},
     "output_type": "display_data"
    },
    {
     "data": {
      "text/html": [
       "<pre style=\"white-space:pre;overflow-x:auto;line-height:normal;font-family:Menlo,'DejaVu Sans Mono',consolas,'Courier New',monospace\">Eval num_timesteps=1575000, episode_reward=544.00 +/- 177.96\n",
       "</pre>\n"
      ],
      "text/plain": [
       "Eval num_timesteps=1575000, episode_reward=544.00 +/- 177.96\n"
      ]
     },
     "metadata": {},
     "output_type": "display_data"
    },
    {
     "data": {
      "text/html": [
       "<pre style=\"white-space:pre;overflow-x:auto;line-height:normal;font-family:Menlo,'DejaVu Sans Mono',consolas,'Courier New',monospace\">Episode length: 3549.40 +/- 713.13\n",
       "</pre>\n"
      ],
      "text/plain": [
       "Episode length: 3549.40 +/- 713.13\n"
      ]
     },
     "metadata": {},
     "output_type": "display_data"
    },
    {
     "data": {
      "text/html": [
       "<pre style=\"white-space:pre;overflow-x:auto;line-height:normal;font-family:Menlo,'DejaVu Sans Mono',consolas,'Courier New',monospace\">New best mean reward!\n",
       "</pre>\n"
      ],
      "text/plain": [
       "New best mean reward!\n"
      ]
     },
     "metadata": {},
     "output_type": "display_data"
    },
    {
     "data": {
      "text/html": [
       "<pre style=\"white-space:pre;overflow-x:auto;line-height:normal;font-family:Menlo,'DejaVu Sans Mono',consolas,'Courier New',monospace\">Eval num_timesteps=1600000, episode_reward=211.00 +/- 41.28\n",
       "</pre>\n"
      ],
      "text/plain": [
       "Eval num_timesteps=1600000, episode_reward=211.00 +/- 41.28\n"
      ]
     },
     "metadata": {},
     "output_type": "display_data"
    },
    {
     "data": {
      "text/html": [
       "<pre style=\"white-space:pre;overflow-x:auto;line-height:normal;font-family:Menlo,'DejaVu Sans Mono',consolas,'Courier New',monospace\">Episode length: 2097.40 +/- 277.66\n",
       "</pre>\n"
      ],
      "text/plain": [
       "Episode length: 2097.40 +/- 277.66\n"
      ]
     },
     "metadata": {},
     "output_type": "display_data"
    },
    {
     "data": {
      "text/html": [
       "<pre style=\"white-space:pre;overflow-x:auto;line-height:normal;font-family:Menlo,'DejaVu Sans Mono',consolas,'Courier New',monospace\">Eval num_timesteps=1625000, episode_reward=401.25 +/- 118.19\n",
       "</pre>\n"
      ],
      "text/plain": [
       "Eval num_timesteps=1625000, episode_reward=401.25 +/- 118.19\n"
      ]
     },
     "metadata": {},
     "output_type": "display_data"
    },
    {
     "data": {
      "text/html": [
       "<pre style=\"white-space:pre;overflow-x:auto;line-height:normal;font-family:Menlo,'DejaVu Sans Mono',consolas,'Courier New',monospace\">Episode length: 3699.10 +/- 1283.68\n",
       "</pre>\n"
      ],
      "text/plain": [
       "Episode length: 3699.10 +/- 1283.68\n"
      ]
     },
     "metadata": {},
     "output_type": "display_data"
    },
    {
     "data": {
      "text/html": [
       "<pre style=\"white-space:pre;overflow-x:auto;line-height:normal;font-family:Menlo,'DejaVu Sans Mono',consolas,'Courier New',monospace\">Eval num_timesteps=1650000, episode_reward=246.50 +/- 112.32\n",
       "</pre>\n"
      ],
      "text/plain": [
       "Eval num_timesteps=1650000, episode_reward=246.50 +/- 112.32\n"
      ]
     },
     "metadata": {},
     "output_type": "display_data"
    },
    {
     "data": {
      "text/html": [
       "<pre style=\"white-space:pre;overflow-x:auto;line-height:normal;font-family:Menlo,'DejaVu Sans Mono',consolas,'Courier New',monospace\">Episode length: 2695.60 +/- 1010.96\n",
       "</pre>\n"
      ],
      "text/plain": [
       "Episode length: 2695.60 +/- 1010.96\n"
      ]
     },
     "metadata": {},
     "output_type": "display_data"
    },
    {
     "data": {
      "text/html": [
       "<pre style=\"white-space:pre;overflow-x:auto;line-height:normal;font-family:Menlo,'DejaVu Sans Mono',consolas,'Courier New',monospace\">Eval num_timesteps=1675000, episode_reward=221.50 +/- 148.14\n",
       "</pre>\n"
      ],
      "text/plain": [
       "Eval num_timesteps=1675000, episode_reward=221.50 +/- 148.14\n"
      ]
     },
     "metadata": {},
     "output_type": "display_data"
    },
    {
     "data": {
      "text/html": [
       "<pre style=\"white-space:pre;overflow-x:auto;line-height:normal;font-family:Menlo,'DejaVu Sans Mono',consolas,'Courier New',monospace\">Episode length: 2235.80 +/- 439.41\n",
       "</pre>\n"
      ],
      "text/plain": [
       "Episode length: 2235.80 +/- 439.41\n"
      ]
     },
     "metadata": {},
     "output_type": "display_data"
    },
    {
     "data": {
      "text/html": [
       "<pre style=\"white-space:pre;overflow-x:auto;line-height:normal;font-family:Menlo,'DejaVu Sans Mono',consolas,'Courier New',monospace\">Eval num_timesteps=1700000, episode_reward=403.75 +/- 98.97\n",
       "</pre>\n"
      ],
      "text/plain": [
       "Eval num_timesteps=1700000, episode_reward=403.75 +/- 98.97\n"
      ]
     },
     "metadata": {},
     "output_type": "display_data"
    },
    {
     "data": {
      "text/html": [
       "<pre style=\"white-space:pre;overflow-x:auto;line-height:normal;font-family:Menlo,'DejaVu Sans Mono',consolas,'Courier New',monospace\">Episode length: 3743.20 +/- 741.42\n",
       "</pre>\n"
      ],
      "text/plain": [
       "Episode length: 3743.20 +/- 741.42\n"
      ]
     },
     "metadata": {},
     "output_type": "display_data"
    },
    {
     "data": {
      "text/html": [
       "<pre style=\"white-space:pre;overflow-x:auto;line-height:normal;font-family:Menlo,'DejaVu Sans Mono',consolas,'Courier New',monospace\">Eval num_timesteps=1725000, episode_reward=178.50 +/- 36.75\n",
       "</pre>\n"
      ],
      "text/plain": [
       "Eval num_timesteps=1725000, episode_reward=178.50 +/- 36.75\n"
      ]
     },
     "metadata": {},
     "output_type": "display_data"
    },
    {
     "data": {
      "text/html": [
       "<pre style=\"white-space:pre;overflow-x:auto;line-height:normal;font-family:Menlo,'DejaVu Sans Mono',consolas,'Courier New',monospace\">Episode length: 1991.70 +/- 329.64\n",
       "</pre>\n"
      ],
      "text/plain": [
       "Episode length: 1991.70 +/- 329.64\n"
      ]
     },
     "metadata": {},
     "output_type": "display_data"
    },
    {
     "data": {
      "text/html": [
       "<pre style=\"white-space:pre;overflow-x:auto;line-height:normal;font-family:Menlo,'DejaVu Sans Mono',consolas,'Courier New',monospace\">Eval num_timesteps=1750000, episode_reward=330.50 +/- 81.27\n",
       "</pre>\n"
      ],
      "text/plain": [
       "Eval num_timesteps=1750000, episode_reward=330.50 +/- 81.27\n"
      ]
     },
     "metadata": {},
     "output_type": "display_data"
    },
    {
     "data": {
      "text/html": [
       "<pre style=\"white-space:pre;overflow-x:auto;line-height:normal;font-family:Menlo,'DejaVu Sans Mono',consolas,'Courier New',monospace\">Episode length: 2818.30 +/- 583.24\n",
       "</pre>\n"
      ],
      "text/plain": [
       "Episode length: 2818.30 +/- 583.24\n"
      ]
     },
     "metadata": {},
     "output_type": "display_data"
    },
    {
     "data": {
      "text/html": [
       "<pre style=\"white-space:pre;overflow-x:auto;line-height:normal;font-family:Menlo,'DejaVu Sans Mono',consolas,'Courier New',monospace\">Eval num_timesteps=1775000, episode_reward=278.75 +/- 61.88\n",
       "</pre>\n"
      ],
      "text/plain": [
       "Eval num_timesteps=1775000, episode_reward=278.75 +/- 61.88\n"
      ]
     },
     "metadata": {},
     "output_type": "display_data"
    },
    {
     "data": {
      "text/html": [
       "<pre style=\"white-space:pre;overflow-x:auto;line-height:normal;font-family:Menlo,'DejaVu Sans Mono',consolas,'Courier New',monospace\">Episode length: 2491.70 +/- 410.67\n",
       "</pre>\n"
      ],
      "text/plain": [
       "Episode length: 2491.70 +/- 410.67\n"
      ]
     },
     "metadata": {},
     "output_type": "display_data"
    },
    {
     "data": {
      "text/html": [
       "<pre style=\"white-space:pre;overflow-x:auto;line-height:normal;font-family:Menlo,'DejaVu Sans Mono',consolas,'Courier New',monospace\">Eval num_timesteps=1800000, episode_reward=435.75 +/- 193.21\n",
       "</pre>\n"
      ],
      "text/plain": [
       "Eval num_timesteps=1800000, episode_reward=435.75 +/- 193.21\n"
      ]
     },
     "metadata": {},
     "output_type": "display_data"
    },
    {
     "data": {
      "text/html": [
       "<pre style=\"white-space:pre;overflow-x:auto;line-height:normal;font-family:Menlo,'DejaVu Sans Mono',consolas,'Courier New',monospace\">Episode length: 4122.60 +/- 1674.38\n",
       "</pre>\n"
      ],
      "text/plain": [
       "Episode length: 4122.60 +/- 1674.38\n"
      ]
     },
     "metadata": {},
     "output_type": "display_data"
    },
    {
     "data": {
      "text/html": [
       "<pre style=\"white-space:pre;overflow-x:auto;line-height:normal;font-family:Menlo,'DejaVu Sans Mono',consolas,'Courier New',monospace\">Eval num_timesteps=1825000, episode_reward=308.75 +/- 41.01\n",
       "</pre>\n"
      ],
      "text/plain": [
       "Eval num_timesteps=1825000, episode_reward=308.75 +/- 41.01\n"
      ]
     },
     "metadata": {},
     "output_type": "display_data"
    },
    {
     "data": {
      "text/html": [
       "<pre style=\"white-space:pre;overflow-x:auto;line-height:normal;font-family:Menlo,'DejaVu Sans Mono',consolas,'Courier New',monospace\">Episode length: 2511.60 +/- 186.33\n",
       "</pre>\n"
      ],
      "text/plain": [
       "Episode length: 2511.60 +/- 186.33\n"
      ]
     },
     "metadata": {},
     "output_type": "display_data"
    },
    {
     "data": {
      "text/html": [
       "<pre style=\"white-space:pre;overflow-x:auto;line-height:normal;font-family:Menlo,'DejaVu Sans Mono',consolas,'Courier New',monospace\">Eval num_timesteps=1850000, episode_reward=309.75 +/- 123.02\n",
       "</pre>\n"
      ],
      "text/plain": [
       "Eval num_timesteps=1850000, episode_reward=309.75 +/- 123.02\n"
      ]
     },
     "metadata": {},
     "output_type": "display_data"
    },
    {
     "data": {
      "text/html": [
       "<pre style=\"white-space:pre;overflow-x:auto;line-height:normal;font-family:Menlo,'DejaVu Sans Mono',consolas,'Courier New',monospace\">Episode length: 2857.10 +/- 784.47\n",
       "</pre>\n"
      ],
      "text/plain": [
       "Episode length: 2857.10 +/- 784.47\n"
      ]
     },
     "metadata": {},
     "output_type": "display_data"
    },
    {
     "data": {
      "text/html": [
       "<pre style=\"white-space:pre;overflow-x:auto;line-height:normal;font-family:Menlo,'DejaVu Sans Mono',consolas,'Courier New',monospace\">Eval num_timesteps=1875000, episode_reward=260.75 +/- 205.91\n",
       "</pre>\n"
      ],
      "text/plain": [
       "Eval num_timesteps=1875000, episode_reward=260.75 +/- 205.91\n"
      ]
     },
     "metadata": {},
     "output_type": "display_data"
    },
    {
     "data": {
      "text/html": [
       "<pre style=\"white-space:pre;overflow-x:auto;line-height:normal;font-family:Menlo,'DejaVu Sans Mono',consolas,'Courier New',monospace\">Episode length: 2181.80 +/- 763.45\n",
       "</pre>\n"
      ],
      "text/plain": [
       "Episode length: 2181.80 +/- 763.45\n"
      ]
     },
     "metadata": {},
     "output_type": "display_data"
    },
    {
     "data": {
      "text/html": [
       "<pre style=\"white-space:pre;overflow-x:auto;line-height:normal;font-family:Menlo,'DejaVu Sans Mono',consolas,'Courier New',monospace\">Eval num_timesteps=1900000, episode_reward=401.50 +/- 126.69\n",
       "</pre>\n"
      ],
      "text/plain": [
       "Eval num_timesteps=1900000, episode_reward=401.50 +/- 126.69\n"
      ]
     },
     "metadata": {},
     "output_type": "display_data"
    },
    {
     "data": {
      "text/html": [
       "<pre style=\"white-space:pre;overflow-x:auto;line-height:normal;font-family:Menlo,'DejaVu Sans Mono',consolas,'Courier New',monospace\">Episode length: 2719.30 +/- 431.48\n",
       "</pre>\n"
      ],
      "text/plain": [
       "Episode length: 2719.30 +/- 431.48\n"
      ]
     },
     "metadata": {},
     "output_type": "display_data"
    },
    {
     "data": {
      "text/html": [
       "<pre style=\"white-space:pre;overflow-x:auto;line-height:normal;font-family:Menlo,'DejaVu Sans Mono',consolas,'Courier New',monospace\">Eval num_timesteps=1925000, episode_reward=372.75 +/- 64.29\n",
       "</pre>\n"
      ],
      "text/plain": [
       "Eval num_timesteps=1925000, episode_reward=372.75 +/- 64.29\n"
      ]
     },
     "metadata": {},
     "output_type": "display_data"
    },
    {
     "data": {
      "text/html": [
       "<pre style=\"white-space:pre;overflow-x:auto;line-height:normal;font-family:Menlo,'DejaVu Sans Mono',consolas,'Courier New',monospace\">Episode length: 3040.10 +/- 419.10\n",
       "</pre>\n"
      ],
      "text/plain": [
       "Episode length: 3040.10 +/- 419.10\n"
      ]
     },
     "metadata": {},
     "output_type": "display_data"
    },
    {
     "data": {
      "text/html": [
       "<pre style=\"white-space:pre;overflow-x:auto;line-height:normal;font-family:Menlo,'DejaVu Sans Mono',consolas,'Courier New',monospace\">Eval num_timesteps=1950000, episode_reward=436.25 +/- 116.82\n",
       "</pre>\n"
      ],
      "text/plain": [
       "Eval num_timesteps=1950000, episode_reward=436.25 +/- 116.82\n"
      ]
     },
     "metadata": {},
     "output_type": "display_data"
    },
    {
     "data": {
      "text/html": [
       "<pre style=\"white-space:pre;overflow-x:auto;line-height:normal;font-family:Menlo,'DejaVu Sans Mono',consolas,'Courier New',monospace\">Episode length: 2883.40 +/- 333.02\n",
       "</pre>\n"
      ],
      "text/plain": [
       "Episode length: 2883.40 +/- 333.02\n"
      ]
     },
     "metadata": {},
     "output_type": "display_data"
    },
    {
     "data": {
      "text/html": [
       "<pre style=\"white-space:pre;overflow-x:auto;line-height:normal;font-family:Menlo,'DejaVu Sans Mono',consolas,'Courier New',monospace\">Eval num_timesteps=1975000, episode_reward=405.25 +/- 140.41\n",
       "</pre>\n"
      ],
      "text/plain": [
       "Eval num_timesteps=1975000, episode_reward=405.25 +/- 140.41\n"
      ]
     },
     "metadata": {},
     "output_type": "display_data"
    },
    {
     "data": {
      "text/html": [
       "<pre style=\"white-space:pre;overflow-x:auto;line-height:normal;font-family:Menlo,'DejaVu Sans Mono',consolas,'Courier New',monospace\">Episode length: 2737.40 +/- 167.18\n",
       "</pre>\n"
      ],
      "text/plain": [
       "Episode length: 2737.40 +/- 167.18\n"
      ]
     },
     "metadata": {},
     "output_type": "display_data"
    },
    {
     "data": {
      "text/html": [
       "<pre style=\"white-space:pre;overflow-x:auto;line-height:normal;font-family:Menlo,'DejaVu Sans Mono',consolas,'Courier New',monospace\">Eval num_timesteps=2000000, episode_reward=394.00 +/- 48.26\n",
       "</pre>\n"
      ],
      "text/plain": [
       "Eval num_timesteps=2000000, episode_reward=394.00 +/- 48.26\n"
      ]
     },
     "metadata": {},
     "output_type": "display_data"
    },
    {
     "data": {
      "text/html": [
       "<pre style=\"white-space:pre;overflow-x:auto;line-height:normal;font-family:Menlo,'DejaVu Sans Mono',consolas,'Courier New',monospace\">Episode length: 2921.55 +/- 332.74\n",
       "</pre>\n"
      ],
      "text/plain": [
       "Episode length: 2921.55 +/- 332.74\n"
      ]
     },
     "metadata": {},
     "output_type": "display_data"
    },
    {
     "data": {
      "text/html": [
       "<pre style=\"white-space:pre;overflow-x:auto;line-height:normal;font-family:Menlo,'DejaVu Sans Mono',consolas,'Courier New',monospace\">Eval num_timesteps=2025000, episode_reward=387.25 +/- 122.69\n",
       "</pre>\n"
      ],
      "text/plain": [
       "Eval num_timesteps=2025000, episode_reward=387.25 +/- 122.69\n"
      ]
     },
     "metadata": {},
     "output_type": "display_data"
    },
    {
     "data": {
      "text/html": [
       "<pre style=\"white-space:pre;overflow-x:auto;line-height:normal;font-family:Menlo,'DejaVu Sans Mono',consolas,'Courier New',monospace\">Episode length: 3104.80 +/- 898.88\n",
       "</pre>\n"
      ],
      "text/plain": [
       "Episode length: 3104.80 +/- 898.88\n"
      ]
     },
     "metadata": {},
     "output_type": "display_data"
    },
    {
     "data": {
      "text/html": [
       "<pre style=\"white-space:pre;overflow-x:auto;line-height:normal;font-family:Menlo,'DejaVu Sans Mono',consolas,'Courier New',monospace\">Eval num_timesteps=2050000, episode_reward=388.50 +/- 54.09\n",
       "</pre>\n"
      ],
      "text/plain": [
       "Eval num_timesteps=2050000, episode_reward=388.50 +/- 54.09\n"
      ]
     },
     "metadata": {},
     "output_type": "display_data"
    },
    {
     "data": {
      "text/html": [
       "<pre style=\"white-space:pre;overflow-x:auto;line-height:normal;font-family:Menlo,'DejaVu Sans Mono',consolas,'Courier New',monospace\">Episode length: 3108.90 +/- 217.33\n",
       "</pre>\n"
      ],
      "text/plain": [
       "Episode length: 3108.90 +/- 217.33\n"
      ]
     },
     "metadata": {},
     "output_type": "display_data"
    },
    {
     "data": {
      "text/html": [
       "<pre style=\"white-space:pre;overflow-x:auto;line-height:normal;font-family:Menlo,'DejaVu Sans Mono',consolas,'Courier New',monospace\">Eval num_timesteps=2075000, episode_reward=337.50 +/- 80.16\n",
       "</pre>\n"
      ],
      "text/plain": [
       "Eval num_timesteps=2075000, episode_reward=337.50 +/- 80.16\n"
      ]
     },
     "metadata": {},
     "output_type": "display_data"
    },
    {
     "data": {
      "text/html": [
       "<pre style=\"white-space:pre;overflow-x:auto;line-height:normal;font-family:Menlo,'DejaVu Sans Mono',consolas,'Courier New',monospace\">Episode length: 2668.10 +/- 539.46\n",
       "</pre>\n"
      ],
      "text/plain": [
       "Episode length: 2668.10 +/- 539.46\n"
      ]
     },
     "metadata": {},
     "output_type": "display_data"
    },
    {
     "data": {
      "text/html": [
       "<pre style=\"white-space:pre;overflow-x:auto;line-height:normal;font-family:Menlo,'DejaVu Sans Mono',consolas,'Courier New',monospace\">Eval num_timesteps=2100000, episode_reward=438.50 +/- 121.36\n",
       "</pre>\n"
      ],
      "text/plain": [
       "Eval num_timesteps=2100000, episode_reward=438.50 +/- 121.36\n"
      ]
     },
     "metadata": {},
     "output_type": "display_data"
    },
    {
     "data": {
      "text/html": [
       "<pre style=\"white-space:pre;overflow-x:auto;line-height:normal;font-family:Menlo,'DejaVu Sans Mono',consolas,'Courier New',monospace\">Episode length: 2774.40 +/- 538.05\n",
       "</pre>\n"
      ],
      "text/plain": [
       "Episode length: 2774.40 +/- 538.05\n"
      ]
     },
     "metadata": {},
     "output_type": "display_data"
    },
    {
     "data": {
      "text/html": [
       "<pre style=\"white-space:pre;overflow-x:auto;line-height:normal;font-family:Menlo,'DejaVu Sans Mono',consolas,'Courier New',monospace\">Eval num_timesteps=2125000, episode_reward=438.75 +/- 72.75\n",
       "</pre>\n"
      ],
      "text/plain": [
       "Eval num_timesteps=2125000, episode_reward=438.75 +/- 72.75\n"
      ]
     },
     "metadata": {},
     "output_type": "display_data"
    },
    {
     "data": {
      "text/html": [
       "<pre style=\"white-space:pre;overflow-x:auto;line-height:normal;font-family:Menlo,'DejaVu Sans Mono',consolas,'Courier New',monospace\">Episode length: 3398.90 +/- 525.44\n",
       "</pre>\n"
      ],
      "text/plain": [
       "Episode length: 3398.90 +/- 525.44\n"
      ]
     },
     "metadata": {},
     "output_type": "display_data"
    },
    {
     "data": {
      "text/html": [
       "<pre style=\"white-space:pre;overflow-x:auto;line-height:normal;font-family:Menlo,'DejaVu Sans Mono',consolas,'Courier New',monospace\">Eval num_timesteps=2150000, episode_reward=592.00 +/- 217.37\n",
       "</pre>\n"
      ],
      "text/plain": [
       "Eval num_timesteps=2150000, episode_reward=592.00 +/- 217.37\n"
      ]
     },
     "metadata": {},
     "output_type": "display_data"
    },
    {
     "data": {
      "text/html": [
       "<pre style=\"white-space:pre;overflow-x:auto;line-height:normal;font-family:Menlo,'DejaVu Sans Mono',consolas,'Courier New',monospace\">Episode length: 3500.40 +/- 783.94\n",
       "</pre>\n"
      ],
      "text/plain": [
       "Episode length: 3500.40 +/- 783.94\n"
      ]
     },
     "metadata": {},
     "output_type": "display_data"
    },
    {
     "data": {
      "text/html": [
       "<pre style=\"white-space:pre;overflow-x:auto;line-height:normal;font-family:Menlo,'DejaVu Sans Mono',consolas,'Courier New',monospace\">New best mean reward!\n",
       "</pre>\n"
      ],
      "text/plain": [
       "New best mean reward!\n"
      ]
     },
     "metadata": {},
     "output_type": "display_data"
    },
    {
     "data": {
      "text/html": [
       "<pre style=\"white-space:pre;overflow-x:auto;line-height:normal;font-family:Menlo,'DejaVu Sans Mono',consolas,'Courier New',monospace\">Eval num_timesteps=2175000, episode_reward=415.00 +/- 167.36\n",
       "</pre>\n"
      ],
      "text/plain": [
       "Eval num_timesteps=2175000, episode_reward=415.00 +/- 167.36\n"
      ]
     },
     "metadata": {},
     "output_type": "display_data"
    },
    {
     "data": {
      "text/html": [
       "<pre style=\"white-space:pre;overflow-x:auto;line-height:normal;font-family:Menlo,'DejaVu Sans Mono',consolas,'Courier New',monospace\">Episode length: 2973.90 +/- 413.79\n",
       "</pre>\n"
      ],
      "text/plain": [
       "Episode length: 2973.90 +/- 413.79\n"
      ]
     },
     "metadata": {},
     "output_type": "display_data"
    },
    {
     "data": {
      "text/html": [
       "<pre style=\"white-space:pre;overflow-x:auto;line-height:normal;font-family:Menlo,'DejaVu Sans Mono',consolas,'Courier New',monospace\">Eval num_timesteps=2200000, episode_reward=503.25 +/- 47.47\n",
       "</pre>\n"
      ],
      "text/plain": [
       "Eval num_timesteps=2200000, episode_reward=503.25 +/- 47.47\n"
      ]
     },
     "metadata": {},
     "output_type": "display_data"
    },
    {
     "data": {
      "text/html": [
       "<pre style=\"white-space:pre;overflow-x:auto;line-height:normal;font-family:Menlo,'DejaVu Sans Mono',consolas,'Courier New',monospace\">Episode length: 3553.60 +/- 304.46\n",
       "</pre>\n"
      ],
      "text/plain": [
       "Episode length: 3553.60 +/- 304.46\n"
      ]
     },
     "metadata": {},
     "output_type": "display_data"
    },
    {
     "data": {
      "text/html": [
       "<pre style=\"white-space:pre;overflow-x:auto;line-height:normal;font-family:Menlo,'DejaVu Sans Mono',consolas,'Courier New',monospace\">Eval num_timesteps=2225000, episode_reward=390.50 +/- 189.61\n",
       "</pre>\n"
      ],
      "text/plain": [
       "Eval num_timesteps=2225000, episode_reward=390.50 +/- 189.61\n"
      ]
     },
     "metadata": {},
     "output_type": "display_data"
    },
    {
     "data": {
      "text/html": [
       "<pre style=\"white-space:pre;overflow-x:auto;line-height:normal;font-family:Menlo,'DejaVu Sans Mono',consolas,'Courier New',monospace\">Episode length: 2683.20 +/- 507.07\n",
       "</pre>\n"
      ],
      "text/plain": [
       "Episode length: 2683.20 +/- 507.07\n"
      ]
     },
     "metadata": {},
     "output_type": "display_data"
    },
    {
     "data": {
      "text/html": [
       "<pre style=\"white-space:pre;overflow-x:auto;line-height:normal;font-family:Menlo,'DejaVu Sans Mono',consolas,'Courier New',monospace\">Eval num_timesteps=2250000, episode_reward=364.50 +/- 48.22\n",
       "</pre>\n"
      ],
      "text/plain": [
       "Eval num_timesteps=2250000, episode_reward=364.50 +/- 48.22\n"
      ]
     },
     "metadata": {},
     "output_type": "display_data"
    },
    {
     "data": {
      "text/html": [
       "<pre style=\"white-space:pre;overflow-x:auto;line-height:normal;font-family:Menlo,'DejaVu Sans Mono',consolas,'Courier New',monospace\">Episode length: 3521.50 +/- 752.31\n",
       "</pre>\n"
      ],
      "text/plain": [
       "Episode length: 3521.50 +/- 752.31\n"
      ]
     },
     "metadata": {},
     "output_type": "display_data"
    },
    {
     "data": {
      "text/html": [
       "<pre style=\"white-space:pre;overflow-x:auto;line-height:normal;font-family:Menlo,'DejaVu Sans Mono',consolas,'Courier New',monospace\">Eval num_timesteps=2275000, episode_reward=463.00 +/- 175.00\n",
       "</pre>\n"
      ],
      "text/plain": [
       "Eval num_timesteps=2275000, episode_reward=463.00 +/- 175.00\n"
      ]
     },
     "metadata": {},
     "output_type": "display_data"
    },
    {
     "data": {
      "text/html": [
       "<pre style=\"white-space:pre;overflow-x:auto;line-height:normal;font-family:Menlo,'DejaVu Sans Mono',consolas,'Courier New',monospace\">Episode length: 3227.20 +/- 924.77\n",
       "</pre>\n"
      ],
      "text/plain": [
       "Episode length: 3227.20 +/- 924.77\n"
      ]
     },
     "metadata": {},
     "output_type": "display_data"
    },
    {
     "data": {
      "text/html": [
       "<pre style=\"white-space:pre;overflow-x:auto;line-height:normal;font-family:Menlo,'DejaVu Sans Mono',consolas,'Courier New',monospace\">Eval num_timesteps=2300000, episode_reward=440.75 +/- 79.20\n",
       "</pre>\n"
      ],
      "text/plain": [
       "Eval num_timesteps=2300000, episode_reward=440.75 +/- 79.20\n"
      ]
     },
     "metadata": {},
     "output_type": "display_data"
    },
    {
     "data": {
      "text/html": [
       "<pre style=\"white-space:pre;overflow-x:auto;line-height:normal;font-family:Menlo,'DejaVu Sans Mono',consolas,'Courier New',monospace\">Episode length: 3310.30 +/- 633.31\n",
       "</pre>\n"
      ],
      "text/plain": [
       "Episode length: 3310.30 +/- 633.31\n"
      ]
     },
     "metadata": {},
     "output_type": "display_data"
    },
    {
     "data": {
      "text/html": [
       "<pre style=\"white-space:pre;overflow-x:auto;line-height:normal;font-family:Menlo,'DejaVu Sans Mono',consolas,'Courier New',monospace\">Eval num_timesteps=2325000, episode_reward=405.25 +/- 101.96\n",
       "</pre>\n"
      ],
      "text/plain": [
       "Eval num_timesteps=2325000, episode_reward=405.25 +/- 101.96\n"
      ]
     },
     "metadata": {},
     "output_type": "display_data"
    },
    {
     "data": {
      "text/html": [
       "<pre style=\"white-space:pre;overflow-x:auto;line-height:normal;font-family:Menlo,'DejaVu Sans Mono',consolas,'Courier New',monospace\">Episode length: 2988.80 +/- 320.42\n",
       "</pre>\n"
      ],
      "text/plain": [
       "Episode length: 2988.80 +/- 320.42\n"
      ]
     },
     "metadata": {},
     "output_type": "display_data"
    },
    {
     "data": {
      "text/html": [
       "<pre style=\"white-space:pre;overflow-x:auto;line-height:normal;font-family:Menlo,'DejaVu Sans Mono',consolas,'Courier New',monospace\">Eval num_timesteps=2350000, episode_reward=377.75 +/- 119.64\n",
       "</pre>\n"
      ],
      "text/plain": [
       "Eval num_timesteps=2350000, episode_reward=377.75 +/- 119.64\n"
      ]
     },
     "metadata": {},
     "output_type": "display_data"
    },
    {
     "data": {
      "text/html": [
       "<pre style=\"white-space:pre;overflow-x:auto;line-height:normal;font-family:Menlo,'DejaVu Sans Mono',consolas,'Courier New',monospace\">Episode length: 2996.40 +/- 503.68\n",
       "</pre>\n"
      ],
      "text/plain": [
       "Episode length: 2996.40 +/- 503.68\n"
      ]
     },
     "metadata": {},
     "output_type": "display_data"
    },
    {
     "data": {
      "text/html": [
       "<pre style=\"white-space:pre;overflow-x:auto;line-height:normal;font-family:Menlo,'DejaVu Sans Mono',consolas,'Courier New',monospace\">Eval num_timesteps=2375000, episode_reward=486.00 +/- 190.89\n",
       "</pre>\n"
      ],
      "text/plain": [
       "Eval num_timesteps=2375000, episode_reward=486.00 +/- 190.89\n"
      ]
     },
     "metadata": {},
     "output_type": "display_data"
    },
    {
     "data": {
      "text/html": [
       "<pre style=\"white-space:pre;overflow-x:auto;line-height:normal;font-family:Menlo,'DejaVu Sans Mono',consolas,'Courier New',monospace\">Episode length: 2824.65 +/- 580.33\n",
       "</pre>\n"
      ],
      "text/plain": [
       "Episode length: 2824.65 +/- 580.33\n"
      ]
     },
     "metadata": {},
     "output_type": "display_data"
    },
    {
     "data": {
      "text/html": [
       "<pre style=\"white-space:pre;overflow-x:auto;line-height:normal;font-family:Menlo,'DejaVu Sans Mono',consolas,'Courier New',monospace\">Eval num_timesteps=2400000, episode_reward=490.50 +/- 66.31\n",
       "</pre>\n"
      ],
      "text/plain": [
       "Eval num_timesteps=2400000, episode_reward=490.50 +/- 66.31\n"
      ]
     },
     "metadata": {},
     "output_type": "display_data"
    },
    {
     "data": {
      "text/html": [
       "<pre style=\"white-space:pre;overflow-x:auto;line-height:normal;font-family:Menlo,'DejaVu Sans Mono',consolas,'Courier New',monospace\">Episode length: 3321.30 +/- 298.37\n",
       "</pre>\n"
      ],
      "text/plain": [
       "Episode length: 3321.30 +/- 298.37\n"
      ]
     },
     "metadata": {},
     "output_type": "display_data"
    },
    {
     "data": {
      "text/html": [
       "<pre style=\"white-space:pre;overflow-x:auto;line-height:normal;font-family:Menlo,'DejaVu Sans Mono',consolas,'Courier New',monospace\">Eval num_timesteps=2425000, episode_reward=421.75 +/- 87.24\n",
       "</pre>\n"
      ],
      "text/plain": [
       "Eval num_timesteps=2425000, episode_reward=421.75 +/- 87.24\n"
      ]
     },
     "metadata": {},
     "output_type": "display_data"
    },
    {
     "data": {
      "text/html": [
       "<pre style=\"white-space:pre;overflow-x:auto;line-height:normal;font-family:Menlo,'DejaVu Sans Mono',consolas,'Courier New',monospace\">Episode length: 3252.10 +/- 526.19\n",
       "</pre>\n"
      ],
      "text/plain": [
       "Episode length: 3252.10 +/- 526.19\n"
      ]
     },
     "metadata": {},
     "output_type": "display_data"
    },
    {
     "data": {
      "text/html": [
       "<pre style=\"white-space:pre;overflow-x:auto;line-height:normal;font-family:Menlo,'DejaVu Sans Mono',consolas,'Courier New',monospace\">Eval num_timesteps=2450000, episode_reward=497.75 +/- 115.45\n",
       "</pre>\n"
      ],
      "text/plain": [
       "Eval num_timesteps=2450000, episode_reward=497.75 +/- 115.45\n"
      ]
     },
     "metadata": {},
     "output_type": "display_data"
    },
    {
     "data": {
      "text/html": [
       "<pre style=\"white-space:pre;overflow-x:auto;line-height:normal;font-family:Menlo,'DejaVu Sans Mono',consolas,'Courier New',monospace\">Episode length: 3437.90 +/- 571.76\n",
       "</pre>\n"
      ],
      "text/plain": [
       "Episode length: 3437.90 +/- 571.76\n"
      ]
     },
     "metadata": {},
     "output_type": "display_data"
    },
    {
     "data": {
      "text/html": [
       "<pre style=\"white-space:pre;overflow-x:auto;line-height:normal;font-family:Menlo,'DejaVu Sans Mono',consolas,'Courier New',monospace\">Eval num_timesteps=2475000, episode_reward=479.75 +/- 96.57\n",
       "</pre>\n"
      ],
      "text/plain": [
       "Eval num_timesteps=2475000, episode_reward=479.75 +/- 96.57\n"
      ]
     },
     "metadata": {},
     "output_type": "display_data"
    },
    {
     "data": {
      "text/html": [
       "<pre style=\"white-space:pre;overflow-x:auto;line-height:normal;font-family:Menlo,'DejaVu Sans Mono',consolas,'Courier New',monospace\">Episode length: 3502.15 +/- 455.80\n",
       "</pre>\n"
      ],
      "text/plain": [
       "Episode length: 3502.15 +/- 455.80\n"
      ]
     },
     "metadata": {},
     "output_type": "display_data"
    },
    {
     "data": {
      "text/html": [
       "<pre style=\"white-space:pre;overflow-x:auto;line-height:normal;font-family:Menlo,'DejaVu Sans Mono',consolas,'Courier New',monospace\">Eval num_timesteps=2500000, episode_reward=494.75 +/- 116.33\n",
       "</pre>\n"
      ],
      "text/plain": [
       "Eval num_timesteps=2500000, episode_reward=494.75 +/- 116.33\n"
      ]
     },
     "metadata": {},
     "output_type": "display_data"
    },
    {
     "data": {
      "text/html": [
       "<pre style=\"white-space:pre;overflow-x:auto;line-height:normal;font-family:Menlo,'DejaVu Sans Mono',consolas,'Courier New',monospace\">Episode length: 3306.00 +/- 216.45\n",
       "</pre>\n"
      ],
      "text/plain": [
       "Episode length: 3306.00 +/- 216.45\n"
      ]
     },
     "metadata": {},
     "output_type": "display_data"
    },
    {
     "data": {
      "text/html": [
       "<pre style=\"white-space:pre;overflow-x:auto;line-height:normal;font-family:Menlo,'DejaVu Sans Mono',consolas,'Courier New',monospace\">Eval num_timesteps=2525000, episode_reward=552.00 +/- 118.85\n",
       "</pre>\n"
      ],
      "text/plain": [
       "Eval num_timesteps=2525000, episode_reward=552.00 +/- 118.85\n"
      ]
     },
     "metadata": {},
     "output_type": "display_data"
    },
    {
     "data": {
      "text/html": [
       "<pre style=\"white-space:pre;overflow-x:auto;line-height:normal;font-family:Menlo,'DejaVu Sans Mono',consolas,'Courier New',monospace\">Episode length: 3652.50 +/- 628.18\n",
       "</pre>\n"
      ],
      "text/plain": [
       "Episode length: 3652.50 +/- 628.18\n"
      ]
     },
     "metadata": {},
     "output_type": "display_data"
    },
    {
     "data": {
      "text/html": [
       "<pre style=\"white-space:pre;overflow-x:auto;line-height:normal;font-family:Menlo,'DejaVu Sans Mono',consolas,'Courier New',monospace\">Eval num_timesteps=2550000, episode_reward=432.50 +/- 132.69\n",
       "</pre>\n"
      ],
      "text/plain": [
       "Eval num_timesteps=2550000, episode_reward=432.50 +/- 132.69\n"
      ]
     },
     "metadata": {},
     "output_type": "display_data"
    },
    {
     "data": {
      "text/html": [
       "<pre style=\"white-space:pre;overflow-x:auto;line-height:normal;font-family:Menlo,'DejaVu Sans Mono',consolas,'Courier New',monospace\">Episode length: 3253.90 +/- 725.25\n",
       "</pre>\n"
      ],
      "text/plain": [
       "Episode length: 3253.90 +/- 725.25\n"
      ]
     },
     "metadata": {},
     "output_type": "display_data"
    },
    {
     "data": {
      "text/html": [
       "<pre style=\"white-space:pre;overflow-x:auto;line-height:normal;font-family:Menlo,'DejaVu Sans Mono',consolas,'Courier New',monospace\">Eval num_timesteps=2575000, episode_reward=521.25 +/- 175.08\n",
       "</pre>\n"
      ],
      "text/plain": [
       "Eval num_timesteps=2575000, episode_reward=521.25 +/- 175.08\n"
      ]
     },
     "metadata": {},
     "output_type": "display_data"
    },
    {
     "data": {
      "text/html": [
       "<pre style=\"white-space:pre;overflow-x:auto;line-height:normal;font-family:Menlo,'DejaVu Sans Mono',consolas,'Courier New',monospace\">Episode length: 3210.40 +/- 950.23\n",
       "</pre>\n"
      ],
      "text/plain": [
       "Episode length: 3210.40 +/- 950.23\n"
      ]
     },
     "metadata": {},
     "output_type": "display_data"
    },
    {
     "data": {
      "text/html": [
       "<pre style=\"white-space:pre;overflow-x:auto;line-height:normal;font-family:Menlo,'DejaVu Sans Mono',consolas,'Courier New',monospace\">Eval num_timesteps=2600000, episode_reward=500.50 +/- 133.20\n",
       "</pre>\n"
      ],
      "text/plain": [
       "Eval num_timesteps=2600000, episode_reward=500.50 +/- 133.20\n"
      ]
     },
     "metadata": {},
     "output_type": "display_data"
    },
    {
     "data": {
      "text/html": [
       "<pre style=\"white-space:pre;overflow-x:auto;line-height:normal;font-family:Menlo,'DejaVu Sans Mono',consolas,'Courier New',monospace\">Episode length: 2953.50 +/- 439.90\n",
       "</pre>\n"
      ],
      "text/plain": [
       "Episode length: 2953.50 +/- 439.90\n"
      ]
     },
     "metadata": {},
     "output_type": "display_data"
    },
    {
     "data": {
      "text/html": [
       "<pre style=\"white-space:pre;overflow-x:auto;line-height:normal;font-family:Menlo,'DejaVu Sans Mono',consolas,'Courier New',monospace\">Eval num_timesteps=2625000, episode_reward=587.75 +/- 119.24\n",
       "</pre>\n"
      ],
      "text/plain": [
       "Eval num_timesteps=2625000, episode_reward=587.75 +/- 119.24\n"
      ]
     },
     "metadata": {},
     "output_type": "display_data"
    },
    {
     "data": {
      "text/html": [
       "<pre style=\"white-space:pre;overflow-x:auto;line-height:normal;font-family:Menlo,'DejaVu Sans Mono',consolas,'Courier New',monospace\">Episode length: 4104.40 +/- 798.71\n",
       "</pre>\n"
      ],
      "text/plain": [
       "Episode length: 4104.40 +/- 798.71\n"
      ]
     },
     "metadata": {},
     "output_type": "display_data"
    },
    {
     "data": {
      "text/html": [
       "<pre style=\"white-space:pre;overflow-x:auto;line-height:normal;font-family:Menlo,'DejaVu Sans Mono',consolas,'Courier New',monospace\">Eval num_timesteps=2650000, episode_reward=400.00 +/- 131.89\n",
       "</pre>\n"
      ],
      "text/plain": [
       "Eval num_timesteps=2650000, episode_reward=400.00 +/- 131.89\n"
      ]
     },
     "metadata": {},
     "output_type": "display_data"
    },
    {
     "data": {
      "text/html": [
       "<pre style=\"white-space:pre;overflow-x:auto;line-height:normal;font-family:Menlo,'DejaVu Sans Mono',consolas,'Courier New',monospace\">Episode length: 3381.50 +/- 514.23\n",
       "</pre>\n"
      ],
      "text/plain": [
       "Episode length: 3381.50 +/- 514.23\n"
      ]
     },
     "metadata": {},
     "output_type": "display_data"
    },
    {
     "data": {
      "text/html": [
       "<pre style=\"white-space:pre;overflow-x:auto;line-height:normal;font-family:Menlo,'DejaVu Sans Mono',consolas,'Courier New',monospace\">Eval num_timesteps=2675000, episode_reward=442.75 +/- 127.83\n",
       "</pre>\n"
      ],
      "text/plain": [
       "Eval num_timesteps=2675000, episode_reward=442.75 +/- 127.83\n"
      ]
     },
     "metadata": {},
     "output_type": "display_data"
    },
    {
     "data": {
      "text/html": [
       "<pre style=\"white-space:pre;overflow-x:auto;line-height:normal;font-family:Menlo,'DejaVu Sans Mono',consolas,'Courier New',monospace\">Episode length: 3083.80 +/- 368.21\n",
       "</pre>\n"
      ],
      "text/plain": [
       "Episode length: 3083.80 +/- 368.21\n"
      ]
     },
     "metadata": {},
     "output_type": "display_data"
    },
    {
     "data": {
      "text/html": [
       "<pre style=\"white-space:pre;overflow-x:auto;line-height:normal;font-family:Menlo,'DejaVu Sans Mono',consolas,'Courier New',monospace\">Eval num_timesteps=2700000, episode_reward=398.00 +/- 170.60\n",
       "</pre>\n"
      ],
      "text/plain": [
       "Eval num_timesteps=2700000, episode_reward=398.00 +/- 170.60\n"
      ]
     },
     "metadata": {},
     "output_type": "display_data"
    },
    {
     "data": {
      "text/html": [
       "<pre style=\"white-space:pre;overflow-x:auto;line-height:normal;font-family:Menlo,'DejaVu Sans Mono',consolas,'Courier New',monospace\">Episode length: 3306.40 +/- 1049.19\n",
       "</pre>\n"
      ],
      "text/plain": [
       "Episode length: 3306.40 +/- 1049.19\n"
      ]
     },
     "metadata": {},
     "output_type": "display_data"
    },
    {
     "data": {
      "text/html": [
       "<pre style=\"white-space:pre;overflow-x:auto;line-height:normal;font-family:Menlo,'DejaVu Sans Mono',consolas,'Courier New',monospace\">Eval num_timesteps=2725000, episode_reward=648.75 +/- 216.03\n",
       "</pre>\n"
      ],
      "text/plain": [
       "Eval num_timesteps=2725000, episode_reward=648.75 +/- 216.03\n"
      ]
     },
     "metadata": {},
     "output_type": "display_data"
    },
    {
     "data": {
      "text/html": [
       "<pre style=\"white-space:pre;overflow-x:auto;line-height:normal;font-family:Menlo,'DejaVu Sans Mono',consolas,'Courier New',monospace\">Episode length: 3936.10 +/- 932.91\n",
       "</pre>\n"
      ],
      "text/plain": [
       "Episode length: 3936.10 +/- 932.91\n"
      ]
     },
     "metadata": {},
     "output_type": "display_data"
    },
    {
     "data": {
      "text/html": [
       "<pre style=\"white-space:pre;overflow-x:auto;line-height:normal;font-family:Menlo,'DejaVu Sans Mono',consolas,'Courier New',monospace\">New best mean reward!\n",
       "</pre>\n"
      ],
      "text/plain": [
       "New best mean reward!\n"
      ]
     },
     "metadata": {},
     "output_type": "display_data"
    },
    {
     "data": {
      "text/html": [
       "<pre style=\"white-space:pre;overflow-x:auto;line-height:normal;font-family:Menlo,'DejaVu Sans Mono',consolas,'Courier New',monospace\">Eval num_timesteps=2750000, episode_reward=413.00 +/- 107.79\n",
       "</pre>\n"
      ],
      "text/plain": [
       "Eval num_timesteps=2750000, episode_reward=413.00 +/- 107.79\n"
      ]
     },
     "metadata": {},
     "output_type": "display_data"
    },
    {
     "data": {
      "text/html": [
       "<pre style=\"white-space:pre;overflow-x:auto;line-height:normal;font-family:Menlo,'DejaVu Sans Mono',consolas,'Courier New',monospace\">Episode length: 2966.30 +/- 556.22\n",
       "</pre>\n"
      ],
      "text/plain": [
       "Episode length: 2966.30 +/- 556.22\n"
      ]
     },
     "metadata": {},
     "output_type": "display_data"
    },
    {
     "data": {
      "text/html": [
       "<pre style=\"white-space:pre;overflow-x:auto;line-height:normal;font-family:Menlo,'DejaVu Sans Mono',consolas,'Courier New',monospace\">Eval num_timesteps=2775000, episode_reward=356.75 +/- 76.98\n",
       "</pre>\n"
      ],
      "text/plain": [
       "Eval num_timesteps=2775000, episode_reward=356.75 +/- 76.98\n"
      ]
     },
     "metadata": {},
     "output_type": "display_data"
    },
    {
     "data": {
      "text/html": [
       "<pre style=\"white-space:pre;overflow-x:auto;line-height:normal;font-family:Menlo,'DejaVu Sans Mono',consolas,'Courier New',monospace\">Episode length: 3028.70 +/- 494.96\n",
       "</pre>\n"
      ],
      "text/plain": [
       "Episode length: 3028.70 +/- 494.96\n"
      ]
     },
     "metadata": {},
     "output_type": "display_data"
    },
    {
     "data": {
      "text/html": [
       "<pre style=\"white-space:pre;overflow-x:auto;line-height:normal;font-family:Menlo,'DejaVu Sans Mono',consolas,'Courier New',monospace\">Eval num_timesteps=2800000, episode_reward=430.25 +/- 165.16\n",
       "</pre>\n"
      ],
      "text/plain": [
       "Eval num_timesteps=2800000, episode_reward=430.25 +/- 165.16\n"
      ]
     },
     "metadata": {},
     "output_type": "display_data"
    },
    {
     "data": {
      "text/html": [
       "<pre style=\"white-space:pre;overflow-x:auto;line-height:normal;font-family:Menlo,'DejaVu Sans Mono',consolas,'Courier New',monospace\">Episode length: 3013.10 +/- 597.79\n",
       "</pre>\n"
      ],
      "text/plain": [
       "Episode length: 3013.10 +/- 597.79\n"
      ]
     },
     "metadata": {},
     "output_type": "display_data"
    },
    {
     "data": {
      "text/html": [
       "<pre style=\"white-space:pre;overflow-x:auto;line-height:normal;font-family:Menlo,'DejaVu Sans Mono',consolas,'Courier New',monospace\">Eval num_timesteps=2825000, episode_reward=650.25 +/- 140.23\n",
       "</pre>\n"
      ],
      "text/plain": [
       "Eval num_timesteps=2825000, episode_reward=650.25 +/- 140.23\n"
      ]
     },
     "metadata": {},
     "output_type": "display_data"
    },
    {
     "data": {
      "text/html": [
       "<pre style=\"white-space:pre;overflow-x:auto;line-height:normal;font-family:Menlo,'DejaVu Sans Mono',consolas,'Courier New',monospace\">Episode length: 4432.85 +/- 1178.20\n",
       "</pre>\n"
      ],
      "text/plain": [
       "Episode length: 4432.85 +/- 1178.20\n"
      ]
     },
     "metadata": {},
     "output_type": "display_data"
    },
    {
     "data": {
      "text/html": [
       "<pre style=\"white-space:pre;overflow-x:auto;line-height:normal;font-family:Menlo,'DejaVu Sans Mono',consolas,'Courier New',monospace\">New best mean reward!\n",
       "</pre>\n"
      ],
      "text/plain": [
       "New best mean reward!\n"
      ]
     },
     "metadata": {},
     "output_type": "display_data"
    },
    {
     "data": {
      "text/html": [
       "<pre style=\"white-space:pre;overflow-x:auto;line-height:normal;font-family:Menlo,'DejaVu Sans Mono',consolas,'Courier New',monospace\">Eval num_timesteps=2850000, episode_reward=424.00 +/- 170.25\n",
       "</pre>\n"
      ],
      "text/plain": [
       "Eval num_timesteps=2850000, episode_reward=424.00 +/- 170.25\n"
      ]
     },
     "metadata": {},
     "output_type": "display_data"
    },
    {
     "data": {
      "text/html": [
       "<pre style=\"white-space:pre;overflow-x:auto;line-height:normal;font-family:Menlo,'DejaVu Sans Mono',consolas,'Courier New',monospace\">Eval num_timesteps=2875000, episode_reward=352.00 +/- 79.22\n",
       "</pre>\n"
      ],
      "text/plain": [
       "Eval num_timesteps=2875000, episode_reward=352.00 +/- 79.22\n"
      ]
     },
     "metadata": {},
     "output_type": "display_data"
    },
    {
     "data": {
      "text/html": [
       "<pre style=\"white-space:pre;overflow-x:auto;line-height:normal;font-family:Menlo,'DejaVu Sans Mono',consolas,'Courier New',monospace\">Episode length: 3329.40 +/- 318.70\n",
       "</pre>\n"
      ],
      "text/plain": [
       "Episode length: 3329.40 +/- 318.70\n"
      ]
     },
     "metadata": {},
     "output_type": "display_data"
    },
    {
     "data": {
      "text/html": [
       "<pre style=\"white-space:pre;overflow-x:auto;line-height:normal;font-family:Menlo,'DejaVu Sans Mono',consolas,'Courier New',monospace\">Eval num_timesteps=2900000, episode_reward=343.00 +/- 153.98\n",
       "</pre>\n"
      ],
      "text/plain": [
       "Eval num_timesteps=2900000, episode_reward=343.00 +/- 153.98\n"
      ]
     },
     "metadata": {},
     "output_type": "display_data"
    },
    {
     "data": {
      "text/html": [
       "<pre style=\"white-space:pre;overflow-x:auto;line-height:normal;font-family:Menlo,'DejaVu Sans Mono',consolas,'Courier New',monospace\">Episode length: 2857.90 +/- 737.13\n",
       "</pre>\n"
      ],
      "text/plain": [
       "Episode length: 2857.90 +/- 737.13\n"
      ]
     },
     "metadata": {},
     "output_type": "display_data"
    },
    {
     "data": {
      "text/html": [
       "<pre style=\"white-space:pre;overflow-x:auto;line-height:normal;font-family:Menlo,'DejaVu Sans Mono',consolas,'Courier New',monospace\">Eval num_timesteps=2925000, episode_reward=476.75 +/- 74.62\n",
       "</pre>\n"
      ],
      "text/plain": [
       "Eval num_timesteps=2925000, episode_reward=476.75 +/- 74.62\n"
      ]
     },
     "metadata": {},
     "output_type": "display_data"
    },
    {
     "data": {
      "text/html": [
       "<pre style=\"white-space:pre;overflow-x:auto;line-height:normal;font-family:Menlo,'DejaVu Sans Mono',consolas,'Courier New',monospace\">Episode length: 3520.50 +/- 454.28\n",
       "</pre>\n"
      ],
      "text/plain": [
       "Episode length: 3520.50 +/- 454.28\n"
      ]
     },
     "metadata": {},
     "output_type": "display_data"
    },
    {
     "data": {
      "text/html": [
       "<pre style=\"white-space:pre;overflow-x:auto;line-height:normal;font-family:Menlo,'DejaVu Sans Mono',consolas,'Courier New',monospace\">Eval num_timesteps=2950000, episode_reward=435.75 +/- 111.78\n",
       "</pre>\n"
      ],
      "text/plain": [
       "Eval num_timesteps=2950000, episode_reward=435.75 +/- 111.78\n"
      ]
     },
     "metadata": {},
     "output_type": "display_data"
    },
    {
     "data": {
      "text/html": [
       "<pre style=\"white-space:pre;overflow-x:auto;line-height:normal;font-family:Menlo,'DejaVu Sans Mono',consolas,'Courier New',monospace\">Episode length: 3120.60 +/- 870.12\n",
       "</pre>\n"
      ],
      "text/plain": [
       "Episode length: 3120.60 +/- 870.12\n"
      ]
     },
     "metadata": {},
     "output_type": "display_data"
    },
    {
     "data": {
      "text/html": [
       "<pre style=\"white-space:pre;overflow-x:auto;line-height:normal;font-family:Menlo,'DejaVu Sans Mono',consolas,'Courier New',monospace\">Eval num_timesteps=2975000, episode_reward=370.50 +/- 175.28\n",
       "</pre>\n"
      ],
      "text/plain": [
       "Eval num_timesteps=2975000, episode_reward=370.50 +/- 175.28\n"
      ]
     },
     "metadata": {},
     "output_type": "display_data"
    },
    {
     "data": {
      "text/html": [
       "<pre style=\"white-space:pre;overflow-x:auto;line-height:normal;font-family:Menlo,'DejaVu Sans Mono',consolas,'Courier New',monospace\">Episode length: 2577.70 +/- 681.42\n",
       "</pre>\n"
      ],
      "text/plain": [
       "Episode length: 2577.70 +/- 681.42\n"
      ]
     },
     "metadata": {},
     "output_type": "display_data"
    },
    {
     "data": {
      "text/html": [
       "<pre style=\"white-space:pre;overflow-x:auto;line-height:normal;font-family:Menlo,'DejaVu Sans Mono',consolas,'Courier New',monospace\">Eval num_timesteps=3000000, episode_reward=356.00 +/- 182.39\n",
       "</pre>\n"
      ],
      "text/plain": [
       "Eval num_timesteps=3000000, episode_reward=356.00 +/- 182.39\n"
      ]
     },
     "metadata": {},
     "output_type": "display_data"
    },
    {
     "data": {
      "text/html": [
       "<pre style=\"white-space:pre;overflow-x:auto;line-height:normal;font-family:Menlo,'DejaVu Sans Mono',consolas,'Courier New',monospace\">Episode length: 2980.90 +/- 971.95\n",
       "</pre>\n"
      ],
      "text/plain": [
       "Episode length: 2980.90 +/- 971.95\n"
      ]
     },
     "metadata": {},
     "output_type": "display_data"
    },
    {
     "data": {
      "text/html": [
       "<pre style=\"white-space:pre;overflow-x:auto;line-height:normal;font-family:Menlo,'DejaVu Sans Mono',consolas,'Courier New',monospace\">Eval num_timesteps=3025000, episode_reward=471.00 +/- 97.06\n",
       "</pre>\n"
      ],
      "text/plain": [
       "Eval num_timesteps=3025000, episode_reward=471.00 +/- 97.06\n"
      ]
     },
     "metadata": {},
     "output_type": "display_data"
    },
    {
     "data": {
      "text/html": [
       "<pre style=\"white-space:pre;overflow-x:auto;line-height:normal;font-family:Menlo,'DejaVu Sans Mono',consolas,'Courier New',monospace\">Episode length: 3402.80 +/- 530.74\n",
       "</pre>\n"
      ],
      "text/plain": [
       "Episode length: 3402.80 +/- 530.74\n"
      ]
     },
     "metadata": {},
     "output_type": "display_data"
    },
    {
     "data": {
      "text/html": [
       "<pre style=\"white-space:pre;overflow-x:auto;line-height:normal;font-family:Menlo,'DejaVu Sans Mono',consolas,'Courier New',monospace\">Eval num_timesteps=3050000, episode_reward=345.00 +/- 82.98\n",
       "</pre>\n"
      ],
      "text/plain": [
       "Eval num_timesteps=3050000, episode_reward=345.00 +/- 82.98\n"
      ]
     },
     "metadata": {},
     "output_type": "display_data"
    },
    {
     "data": {
      "text/html": [
       "<pre style=\"white-space:pre;overflow-x:auto;line-height:normal;font-family:Menlo,'DejaVu Sans Mono',consolas,'Courier New',monospace\">Episode length: 2744.60 +/- 458.57\n",
       "</pre>\n"
      ],
      "text/plain": [
       "Episode length: 2744.60 +/- 458.57\n"
      ]
     },
     "metadata": {},
     "output_type": "display_data"
    },
    {
     "data": {
      "text/html": [
       "<pre style=\"white-space:pre;overflow-x:auto;line-height:normal;font-family:Menlo,'DejaVu Sans Mono',consolas,'Courier New',monospace\">Eval num_timesteps=3075000, episode_reward=400.50 +/- 98.61\n",
       "</pre>\n"
      ],
      "text/plain": [
       "Eval num_timesteps=3075000, episode_reward=400.50 +/- 98.61\n"
      ]
     },
     "metadata": {},
     "output_type": "display_data"
    },
    {
     "data": {
      "text/html": [
       "<pre style=\"white-space:pre;overflow-x:auto;line-height:normal;font-family:Menlo,'DejaVu Sans Mono',consolas,'Courier New',monospace\">Episode length: 3058.40 +/- 570.09\n",
       "</pre>\n"
      ],
      "text/plain": [
       "Episode length: 3058.40 +/- 570.09\n"
      ]
     },
     "metadata": {},
     "output_type": "display_data"
    },
    {
     "data": {
      "text/html": [
       "<pre style=\"white-space:pre;overflow-x:auto;line-height:normal;font-family:Menlo,'DejaVu Sans Mono',consolas,'Courier New',monospace\">Eval num_timesteps=3100000, episode_reward=387.75 +/- 58.62\n",
       "</pre>\n"
      ],
      "text/plain": [
       "Eval num_timesteps=3100000, episode_reward=387.75 +/- 58.62\n"
      ]
     },
     "metadata": {},
     "output_type": "display_data"
    },
    {
     "data": {
      "text/html": [
       "<pre style=\"white-space:pre;overflow-x:auto;line-height:normal;font-family:Menlo,'DejaVu Sans Mono',consolas,'Courier New',monospace\">Episode length: 3306.70 +/- 434.61\n",
       "</pre>\n"
      ],
      "text/plain": [
       "Episode length: 3306.70 +/- 434.61\n"
      ]
     },
     "metadata": {},
     "output_type": "display_data"
    },
    {
     "data": {
      "text/html": [
       "<pre style=\"white-space:pre;overflow-x:auto;line-height:normal;font-family:Menlo,'DejaVu Sans Mono',consolas,'Courier New',monospace\">Eval num_timesteps=3125000, episode_reward=462.25 +/- 142.52\n",
       "</pre>\n"
      ],
      "text/plain": [
       "Eval num_timesteps=3125000, episode_reward=462.25 +/- 142.52\n"
      ]
     },
     "metadata": {},
     "output_type": "display_data"
    },
    {
     "data": {
      "text/html": [
       "<pre style=\"white-space:pre;overflow-x:auto;line-height:normal;font-family:Menlo,'DejaVu Sans Mono',consolas,'Courier New',monospace\">Episode length: 3321.90 +/- 480.48\n",
       "</pre>\n"
      ],
      "text/plain": [
       "Episode length: 3321.90 +/- 480.48\n"
      ]
     },
     "metadata": {},
     "output_type": "display_data"
    },
    {
     "data": {
      "text/html": [
       "<pre style=\"white-space:pre;overflow-x:auto;line-height:normal;font-family:Menlo,'DejaVu Sans Mono',consolas,'Courier New',monospace\">Eval num_timesteps=3150000, episode_reward=386.25 +/- 114.48\n",
       "</pre>\n"
      ],
      "text/plain": [
       "Eval num_timesteps=3150000, episode_reward=386.25 +/- 114.48\n"
      ]
     },
     "metadata": {},
     "output_type": "display_data"
    },
    {
     "data": {
      "text/html": [
       "<pre style=\"white-space:pre;overflow-x:auto;line-height:normal;font-family:Menlo,'DejaVu Sans Mono',consolas,'Courier New',monospace\">Episode length: 2665.20 +/- 597.27\n",
       "</pre>\n"
      ],
      "text/plain": [
       "Episode length: 2665.20 +/- 597.27\n"
      ]
     },
     "metadata": {},
     "output_type": "display_data"
    },
    {
     "data": {
      "text/html": [
       "<pre style=\"white-space:pre;overflow-x:auto;line-height:normal;font-family:Menlo,'DejaVu Sans Mono',consolas,'Courier New',monospace\">Eval num_timesteps=3175000, episode_reward=356.00 +/- 103.58\n",
       "</pre>\n"
      ],
      "text/plain": [
       "Eval num_timesteps=3175000, episode_reward=356.00 +/- 103.58\n"
      ]
     },
     "metadata": {},
     "output_type": "display_data"
    },
    {
     "data": {
      "text/html": [
       "<pre style=\"white-space:pre;overflow-x:auto;line-height:normal;font-family:Menlo,'DejaVu Sans Mono',consolas,'Courier New',monospace\">Episode length: 2796.90 +/- 651.84\n",
       "</pre>\n"
      ],
      "text/plain": [
       "Episode length: 2796.90 +/- 651.84\n"
      ]
     },
     "metadata": {},
     "output_type": "display_data"
    },
    {
     "data": {
      "text/html": [
       "<pre style=\"white-space:pre;overflow-x:auto;line-height:normal;font-family:Menlo,'DejaVu Sans Mono',consolas,'Courier New',monospace\">Eval num_timesteps=3200000, episode_reward=512.00 +/- 142.32\n",
       "</pre>\n"
      ],
      "text/plain": [
       "Eval num_timesteps=3200000, episode_reward=512.00 +/- 142.32\n"
      ]
     },
     "metadata": {},
     "output_type": "display_data"
    },
    {
     "data": {
      "text/html": [
       "<pre style=\"white-space:pre;overflow-x:auto;line-height:normal;font-family:Menlo,'DejaVu Sans Mono',consolas,'Courier New',monospace\">Episode length: 3535.80 +/- 898.16\n",
       "</pre>\n"
      ],
      "text/plain": [
       "Episode length: 3535.80 +/- 898.16\n"
      ]
     },
     "metadata": {},
     "output_type": "display_data"
    },
    {
     "data": {
      "text/html": [
       "<pre style=\"white-space:pre;overflow-x:auto;line-height:normal;font-family:Menlo,'DejaVu Sans Mono',consolas,'Courier New',monospace\">Eval num_timesteps=3225000, episode_reward=532.75 +/- 29.39\n",
       "</pre>\n"
      ],
      "text/plain": [
       "Eval num_timesteps=3225000, episode_reward=532.75 +/- 29.39\n"
      ]
     },
     "metadata": {},
     "output_type": "display_data"
    },
    {
     "data": {
      "text/html": [
       "<pre style=\"white-space:pre;overflow-x:auto;line-height:normal;font-family:Menlo,'DejaVu Sans Mono',consolas,'Courier New',monospace\">Episode length: 3423.70 +/- 134.43\n",
       "</pre>\n"
      ],
      "text/plain": [
       "Episode length: 3423.70 +/- 134.43\n"
      ]
     },
     "metadata": {},
     "output_type": "display_data"
    },
    {
     "data": {
      "text/html": [
       "<pre style=\"white-space:pre;overflow-x:auto;line-height:normal;font-family:Menlo,'DejaVu Sans Mono',consolas,'Courier New',monospace\">Eval num_timesteps=3250000, episode_reward=366.25 +/- 155.57\n",
       "</pre>\n"
      ],
      "text/plain": [
       "Eval num_timesteps=3250000, episode_reward=366.25 +/- 155.57\n"
      ]
     },
     "metadata": {},
     "output_type": "display_data"
    },
    {
     "data": {
      "text/html": [
       "<pre style=\"white-space:pre;overflow-x:auto;line-height:normal;font-family:Menlo,'DejaVu Sans Mono',consolas,'Courier New',monospace\">Episode length: 2842.80 +/- 807.78\n",
       "</pre>\n"
      ],
      "text/plain": [
       "Episode length: 2842.80 +/- 807.78\n"
      ]
     },
     "metadata": {},
     "output_type": "display_data"
    },
    {
     "data": {
      "text/html": [
       "<pre style=\"white-space:pre;overflow-x:auto;line-height:normal;font-family:Menlo,'DejaVu Sans Mono',consolas,'Courier New',monospace\">Eval num_timesteps=3275000, episode_reward=360.75 +/- 103.69\n",
       "</pre>\n"
      ],
      "text/plain": [
       "Eval num_timesteps=3275000, episode_reward=360.75 +/- 103.69\n"
      ]
     },
     "metadata": {},
     "output_type": "display_data"
    },
    {
     "data": {
      "text/html": [
       "<pre style=\"white-space:pre;overflow-x:auto;line-height:normal;font-family:Menlo,'DejaVu Sans Mono',consolas,'Courier New',monospace\">Episode length: 2736.70 +/- 295.68\n",
       "</pre>\n"
      ],
      "text/plain": [
       "Episode length: 2736.70 +/- 295.68\n"
      ]
     },
     "metadata": {},
     "output_type": "display_data"
    },
    {
     "data": {
      "text/html": [
       "<pre style=\"white-space:pre;overflow-x:auto;line-height:normal;font-family:Menlo,'DejaVu Sans Mono',consolas,'Courier New',monospace\">Eval num_timesteps=3300000, episode_reward=452.50 +/- 143.96\n",
       "</pre>\n"
      ],
      "text/plain": [
       "Eval num_timesteps=3300000, episode_reward=452.50 +/- 143.96\n"
      ]
     },
     "metadata": {},
     "output_type": "display_data"
    },
    {
     "data": {
      "text/html": [
       "<pre style=\"white-space:pre;overflow-x:auto;line-height:normal;font-family:Menlo,'DejaVu Sans Mono',consolas,'Courier New',monospace\">Episode length: 3722.10 +/- 1044.52\n",
       "</pre>\n"
      ],
      "text/plain": [
       "Episode length: 3722.10 +/- 1044.52\n"
      ]
     },
     "metadata": {},
     "output_type": "display_data"
    },
    {
     "data": {
      "text/html": [
       "<pre style=\"white-space:pre;overflow-x:auto;line-height:normal;font-family:Menlo,'DejaVu Sans Mono',consolas,'Courier New',monospace\">Eval num_timesteps=3325000, episode_reward=526.75 +/- 172.87\n",
       "</pre>\n"
      ],
      "text/plain": [
       "Eval num_timesteps=3325000, episode_reward=526.75 +/- 172.87\n"
      ]
     },
     "metadata": {},
     "output_type": "display_data"
    },
    {
     "data": {
      "text/html": [
       "<pre style=\"white-space:pre;overflow-x:auto;line-height:normal;font-family:Menlo,'DejaVu Sans Mono',consolas,'Courier New',monospace\">Episode length: 3373.80 +/- 684.19\n",
       "</pre>\n"
      ],
      "text/plain": [
       "Episode length: 3373.80 +/- 684.19\n"
      ]
     },
     "metadata": {},
     "output_type": "display_data"
    },
    {
     "data": {
      "text/html": [
       "<pre style=\"white-space:pre;overflow-x:auto;line-height:normal;font-family:Menlo,'DejaVu Sans Mono',consolas,'Courier New',monospace\">Eval num_timesteps=3350000, episode_reward=483.25 +/- 74.79\n",
       "</pre>\n"
      ],
      "text/plain": [
       "Eval num_timesteps=3350000, episode_reward=483.25 +/- 74.79\n"
      ]
     },
     "metadata": {},
     "output_type": "display_data"
    },
    {
     "data": {
      "text/html": [
       "<pre style=\"white-space:pre;overflow-x:auto;line-height:normal;font-family:Menlo,'DejaVu Sans Mono',consolas,'Courier New',monospace\">Episode length: 2779.40 +/- 623.65\n",
       "</pre>\n"
      ],
      "text/plain": [
       "Episode length: 2779.40 +/- 623.65\n"
      ]
     },
     "metadata": {},
     "output_type": "display_data"
    },
    {
     "data": {
      "text/html": [
       "<pre style=\"white-space:pre;overflow-x:auto;line-height:normal;font-family:Menlo,'DejaVu Sans Mono',consolas,'Courier New',monospace\">Eval num_timesteps=3375000, episode_reward=671.25 +/- 220.41\n",
       "</pre>\n"
      ],
      "text/plain": [
       "Eval num_timesteps=3375000, episode_reward=671.25 +/- 220.41\n"
      ]
     },
     "metadata": {},
     "output_type": "display_data"
    },
    {
     "data": {
      "text/html": [
       "<pre style=\"white-space:pre;overflow-x:auto;line-height:normal;font-family:Menlo,'DejaVu Sans Mono',consolas,'Courier New',monospace\">Episode length: 3841.45 +/- 561.16\n",
       "</pre>\n"
      ],
      "text/plain": [
       "Episode length: 3841.45 +/- 561.16\n"
      ]
     },
     "metadata": {},
     "output_type": "display_data"
    },
    {
     "data": {
      "text/html": [
       "<pre style=\"white-space:pre;overflow-x:auto;line-height:normal;font-family:Menlo,'DejaVu Sans Mono',consolas,'Courier New',monospace\">New best mean reward!\n",
       "</pre>\n"
      ],
      "text/plain": [
       "New best mean reward!\n"
      ]
     },
     "metadata": {},
     "output_type": "display_data"
    },
    {
     "data": {
      "text/html": [
       "<pre style=\"white-space:pre;overflow-x:auto;line-height:normal;font-family:Menlo,'DejaVu Sans Mono',consolas,'Courier New',monospace\">Eval num_timesteps=3400000, episode_reward=461.00 +/- 211.47\n",
       "</pre>\n"
      ],
      "text/plain": [
       "Eval num_timesteps=3400000, episode_reward=461.00 +/- 211.47\n"
      ]
     },
     "metadata": {},
     "output_type": "display_data"
    },
    {
     "data": {
      "text/html": [
       "<pre style=\"white-space:pre;overflow-x:auto;line-height:normal;font-family:Menlo,'DejaVu Sans Mono',consolas,'Courier New',monospace\">Episode length: 2821.60 +/- 483.52\n",
       "</pre>\n"
      ],
      "text/plain": [
       "Episode length: 2821.60 +/- 483.52\n"
      ]
     },
     "metadata": {},
     "output_type": "display_data"
    },
    {
     "data": {
      "text/html": [
       "<pre style=\"white-space:pre;overflow-x:auto;line-height:normal;font-family:Menlo,'DejaVu Sans Mono',consolas,'Courier New',monospace\">Eval num_timesteps=3425000, episode_reward=560.25 +/- 143.71\n",
       "</pre>\n"
      ],
      "text/plain": [
       "Eval num_timesteps=3425000, episode_reward=560.25 +/- 143.71\n"
      ]
     },
     "metadata": {},
     "output_type": "display_data"
    },
    {
     "data": {
      "text/html": [
       "<pre style=\"white-space:pre;overflow-x:auto;line-height:normal;font-family:Menlo,'DejaVu Sans Mono',consolas,'Courier New',monospace\">Episode length: 3381.30 +/- 473.75\n",
       "</pre>\n"
      ],
      "text/plain": [
       "Episode length: 3381.30 +/- 473.75\n"
      ]
     },
     "metadata": {},
     "output_type": "display_data"
    },
    {
     "data": {
      "text/html": [
       "<pre style=\"white-space:pre;overflow-x:auto;line-height:normal;font-family:Menlo,'DejaVu Sans Mono',consolas,'Courier New',monospace\">Eval num_timesteps=3450000, episode_reward=509.75 +/- 95.30\n",
       "</pre>\n"
      ],
      "text/plain": [
       "Eval num_timesteps=3450000, episode_reward=509.75 +/- 95.30\n"
      ]
     },
     "metadata": {},
     "output_type": "display_data"
    },
    {
     "data": {
      "text/html": [
       "<pre style=\"white-space:pre;overflow-x:auto;line-height:normal;font-family:Menlo,'DejaVu Sans Mono',consolas,'Courier New',monospace\">Episode length: 3508.95 +/- 544.99\n",
       "</pre>\n"
      ],
      "text/plain": [
       "Episode length: 3508.95 +/- 544.99\n"
      ]
     },
     "metadata": {},
     "output_type": "display_data"
    },
    {
     "data": {
      "text/html": [
       "<pre style=\"white-space:pre;overflow-x:auto;line-height:normal;font-family:Menlo,'DejaVu Sans Mono',consolas,'Courier New',monospace\">Eval num_timesteps=3475000, episode_reward=452.50 +/- 113.53\n",
       "</pre>\n"
      ],
      "text/plain": [
       "Eval num_timesteps=3475000, episode_reward=452.50 +/- 113.53\n"
      ]
     },
     "metadata": {},
     "output_type": "display_data"
    },
    {
     "data": {
      "text/html": [
       "<pre style=\"white-space:pre;overflow-x:auto;line-height:normal;font-family:Menlo,'DejaVu Sans Mono',consolas,'Courier New',monospace\">Episode length: 3099.40 +/- 582.17\n",
       "</pre>\n"
      ],
      "text/plain": [
       "Episode length: 3099.40 +/- 582.17\n"
      ]
     },
     "metadata": {},
     "output_type": "display_data"
    },
    {
     "data": {
      "text/html": [
       "<pre style=\"white-space:pre;overflow-x:auto;line-height:normal;font-family:Menlo,'DejaVu Sans Mono',consolas,'Courier New',monospace\">Eval num_timesteps=3500000, episode_reward=481.00 +/- 149.06\n",
       "</pre>\n"
      ],
      "text/plain": [
       "Eval num_timesteps=3500000, episode_reward=481.00 +/- 149.06\n"
      ]
     },
     "metadata": {},
     "output_type": "display_data"
    },
    {
     "data": {
      "text/html": [
       "<pre style=\"white-space:pre;overflow-x:auto;line-height:normal;font-family:Menlo,'DejaVu Sans Mono',consolas,'Courier New',monospace\">Episode length: 3093.30 +/- 1154.18\n",
       "</pre>\n"
      ],
      "text/plain": [
       "Episode length: 3093.30 +/- 1154.18\n"
      ]
     },
     "metadata": {},
     "output_type": "display_data"
    },
    {
     "data": {
      "text/html": [
       "<pre style=\"white-space:pre;overflow-x:auto;line-height:normal;font-family:Menlo,'DejaVu Sans Mono',consolas,'Courier New',monospace\">Eval num_timesteps=3525000, episode_reward=504.50 +/- 185.01\n",
       "</pre>\n"
      ],
      "text/plain": [
       "Eval num_timesteps=3525000, episode_reward=504.50 +/- 185.01\n"
      ]
     },
     "metadata": {},
     "output_type": "display_data"
    },
    {
     "data": {
      "text/html": [
       "<pre style=\"white-space:pre;overflow-x:auto;line-height:normal;font-family:Menlo,'DejaVu Sans Mono',consolas,'Courier New',monospace\">Episode length: 3473.70 +/- 884.84\n",
       "</pre>\n"
      ],
      "text/plain": [
       "Episode length: 3473.70 +/- 884.84\n"
      ]
     },
     "metadata": {},
     "output_type": "display_data"
    },
    {
     "data": {
      "text/html": [
       "<pre style=\"white-space:pre;overflow-x:auto;line-height:normal;font-family:Menlo,'DejaVu Sans Mono',consolas,'Courier New',monospace\">Eval num_timesteps=3550000, episode_reward=697.25 +/- 433.57\n",
       "</pre>\n"
      ],
      "text/plain": [
       "Eval num_timesteps=3550000, episode_reward=697.25 +/- 433.57\n"
      ]
     },
     "metadata": {},
     "output_type": "display_data"
    },
    {
     "data": {
      "text/html": [
       "<pre style=\"white-space:pre;overflow-x:auto;line-height:normal;font-family:Menlo,'DejaVu Sans Mono',consolas,'Courier New',monospace\">Episode length: 4873.50 +/- 2617.25\n",
       "</pre>\n"
      ],
      "text/plain": [
       "Episode length: 4873.50 +/- 2617.25\n"
      ]
     },
     "metadata": {},
     "output_type": "display_data"
    },
    {
     "data": {
      "text/html": [
       "<pre style=\"white-space:pre;overflow-x:auto;line-height:normal;font-family:Menlo,'DejaVu Sans Mono',consolas,'Courier New',monospace\">New best mean reward!\n",
       "</pre>\n"
      ],
      "text/plain": [
       "New best mean reward!\n"
      ]
     },
     "metadata": {},
     "output_type": "display_data"
    },
    {
     "data": {
      "text/html": [
       "<pre style=\"white-space:pre;overflow-x:auto;line-height:normal;font-family:Menlo,'DejaVu Sans Mono',consolas,'Courier New',monospace\">Eval num_timesteps=3575000, episode_reward=500.50 +/- 120.69\n",
       "</pre>\n"
      ],
      "text/plain": [
       "Eval num_timesteps=3575000, episode_reward=500.50 +/- 120.69\n"
      ]
     },
     "metadata": {},
     "output_type": "display_data"
    },
    {
     "data": {
      "text/html": [
       "<pre style=\"white-space:pre;overflow-x:auto;line-height:normal;font-family:Menlo,'DejaVu Sans Mono',consolas,'Courier New',monospace\">Episode length: 3615.50 +/- 697.00\n",
       "</pre>\n"
      ],
      "text/plain": [
       "Episode length: 3615.50 +/- 697.00\n"
      ]
     },
     "metadata": {},
     "output_type": "display_data"
    },
    {
     "data": {
      "text/html": [
       "<pre style=\"white-space:pre;overflow-x:auto;line-height:normal;font-family:Menlo,'DejaVu Sans Mono',consolas,'Courier New',monospace\">Eval num_timesteps=3625000, episode_reward=472.50 +/- 66.10\n",
       "</pre>\n"
      ],
      "text/plain": [
       "Eval num_timesteps=3625000, episode_reward=472.50 +/- 66.10\n"
      ]
     },
     "metadata": {},
     "output_type": "display_data"
    },
    {
     "data": {
      "text/html": [
       "<pre style=\"white-space:pre;overflow-x:auto;line-height:normal;font-family:Menlo,'DejaVu Sans Mono',consolas,'Courier New',monospace\">Episode length: 3183.70 +/- 414.35\n",
       "</pre>\n"
      ],
      "text/plain": [
       "Episode length: 3183.70 +/- 414.35\n"
      ]
     },
     "metadata": {},
     "output_type": "display_data"
    },
    {
     "data": {
      "text/html": [
       "<pre style=\"white-space:pre;overflow-x:auto;line-height:normal;font-family:Menlo,'DejaVu Sans Mono',consolas,'Courier New',monospace\">Eval num_timesteps=3650000, episode_reward=612.25 +/- 162.04\n",
       "</pre>\n"
      ],
      "text/plain": [
       "Eval num_timesteps=3650000, episode_reward=612.25 +/- 162.04\n"
      ]
     },
     "metadata": {},
     "output_type": "display_data"
    },
    {
     "data": {
      "text/html": [
       "<pre style=\"white-space:pre;overflow-x:auto;line-height:normal;font-family:Menlo,'DejaVu Sans Mono',consolas,'Courier New',monospace\">Episode length: 3689.50 +/- 354.78\n",
       "</pre>\n"
      ],
      "text/plain": [
       "Episode length: 3689.50 +/- 354.78\n"
      ]
     },
     "metadata": {},
     "output_type": "display_data"
    },
    {
     "data": {
      "text/html": [
       "<pre style=\"white-space:pre;overflow-x:auto;line-height:normal;font-family:Menlo,'DejaVu Sans Mono',consolas,'Courier New',monospace\">Eval num_timesteps=3675000, episode_reward=561.50 +/- 113.81\n",
       "</pre>\n"
      ],
      "text/plain": [
       "Eval num_timesteps=3675000, episode_reward=561.50 +/- 113.81\n"
      ]
     },
     "metadata": {},
     "output_type": "display_data"
    },
    {
     "data": {
      "text/html": [
       "<pre style=\"white-space:pre;overflow-x:auto;line-height:normal;font-family:Menlo,'DejaVu Sans Mono',consolas,'Courier New',monospace\">Episode length: 3708.50 +/- 722.22\n",
       "</pre>\n"
      ],
      "text/plain": [
       "Episode length: 3708.50 +/- 722.22\n"
      ]
     },
     "metadata": {},
     "output_type": "display_data"
    },
    {
     "data": {
      "text/html": [
       "<pre style=\"white-space:pre;overflow-x:auto;line-height:normal;font-family:Menlo,'DejaVu Sans Mono',consolas,'Courier New',monospace\">Eval num_timesteps=3700000, episode_reward=573.75 +/- 99.11\n",
       "</pre>\n"
      ],
      "text/plain": [
       "Eval num_timesteps=3700000, episode_reward=573.75 +/- 99.11\n"
      ]
     },
     "metadata": {},
     "output_type": "display_data"
    },
    {
     "data": {
      "text/html": [
       "<pre style=\"white-space:pre;overflow-x:auto;line-height:normal;font-family:Menlo,'DejaVu Sans Mono',consolas,'Courier New',monospace\">Episode length: 3507.20 +/- 809.51\n",
       "</pre>\n"
      ],
      "text/plain": [
       "Episode length: 3507.20 +/- 809.51\n"
      ]
     },
     "metadata": {},
     "output_type": "display_data"
    },
    {
     "data": {
      "text/html": [
       "<pre style=\"white-space:pre;overflow-x:auto;line-height:normal;font-family:Menlo,'DejaVu Sans Mono',consolas,'Courier New',monospace\">Eval num_timesteps=3725000, episode_reward=534.75 +/- 36.28\n",
       "</pre>\n"
      ],
      "text/plain": [
       "Eval num_timesteps=3725000, episode_reward=534.75 +/- 36.28\n"
      ]
     },
     "metadata": {},
     "output_type": "display_data"
    },
    {
     "data": {
      "text/html": [
       "<pre style=\"white-space:pre;overflow-x:auto;line-height:normal;font-family:Menlo,'DejaVu Sans Mono',consolas,'Courier New',monospace\">Episode length: 4000.90 +/- 419.20\n",
       "</pre>\n"
      ],
      "text/plain": [
       "Episode length: 4000.90 +/- 419.20\n"
      ]
     },
     "metadata": {},
     "output_type": "display_data"
    },
    {
     "data": {
      "text/html": [
       "<pre style=\"white-space:pre;overflow-x:auto;line-height:normal;font-family:Menlo,'DejaVu Sans Mono',consolas,'Courier New',monospace\">Eval num_timesteps=3750000, episode_reward=588.75 +/- 130.35\n",
       "</pre>\n"
      ],
      "text/plain": [
       "Eval num_timesteps=3750000, episode_reward=588.75 +/- 130.35\n"
      ]
     },
     "metadata": {},
     "output_type": "display_data"
    },
    {
     "data": {
      "text/html": [
       "<pre style=\"white-space:pre;overflow-x:auto;line-height:normal;font-family:Menlo,'DejaVu Sans Mono',consolas,'Courier New',monospace\">Episode length: 3238.30 +/- 524.36\n",
       "</pre>\n"
      ],
      "text/plain": [
       "Episode length: 3238.30 +/- 524.36\n"
      ]
     },
     "metadata": {},
     "output_type": "display_data"
    },
    {
     "data": {
      "text/html": [
       "<pre style=\"white-space:pre;overflow-x:auto;line-height:normal;font-family:Menlo,'DejaVu Sans Mono',consolas,'Courier New',monospace\">Eval num_timesteps=3775000, episode_reward=521.50 +/- 69.34\n",
       "</pre>\n"
      ],
      "text/plain": [
       "Eval num_timesteps=3775000, episode_reward=521.50 +/- 69.34\n"
      ]
     },
     "metadata": {},
     "output_type": "display_data"
    },
    {
     "data": {
      "text/html": [
       "<pre style=\"white-space:pre;overflow-x:auto;line-height:normal;font-family:Menlo,'DejaVu Sans Mono',consolas,'Courier New',monospace\">Episode length: 3594.50 +/- 217.95\n",
       "</pre>\n"
      ],
      "text/plain": [
       "Episode length: 3594.50 +/- 217.95\n"
      ]
     },
     "metadata": {},
     "output_type": "display_data"
    },
    {
     "data": {
      "text/html": [
       "<pre style=\"white-space:pre;overflow-x:auto;line-height:normal;font-family:Menlo,'DejaVu Sans Mono',consolas,'Courier New',monospace\">Eval num_timesteps=3800000, episode_reward=778.50 +/- 237.67\n",
       "</pre>\n"
      ],
      "text/plain": [
       "Eval num_timesteps=3800000, episode_reward=778.50 +/- 237.67\n"
      ]
     },
     "metadata": {},
     "output_type": "display_data"
    },
    {
     "data": {
      "text/html": [
       "<pre style=\"white-space:pre;overflow-x:auto;line-height:normal;font-family:Menlo,'DejaVu Sans Mono',consolas,'Courier New',monospace\">Episode length: 4347.15 +/- 1092.28\n",
       "</pre>\n"
      ],
      "text/plain": [
       "Episode length: 4347.15 +/- 1092.28\n"
      ]
     },
     "metadata": {},
     "output_type": "display_data"
    },
    {
     "data": {
      "text/html": [
       "<pre style=\"white-space:pre;overflow-x:auto;line-height:normal;font-family:Menlo,'DejaVu Sans Mono',consolas,'Courier New',monospace\">New best mean reward!\n",
       "</pre>\n"
      ],
      "text/plain": [
       "New best mean reward!\n"
      ]
     },
     "metadata": {},
     "output_type": "display_data"
    },
    {
     "data": {
      "text/html": [
       "<pre style=\"white-space:pre;overflow-x:auto;line-height:normal;font-family:Menlo,'DejaVu Sans Mono',consolas,'Courier New',monospace\">Eval num_timesteps=3825000, episode_reward=567.50 +/- 41.85\n",
       "</pre>\n"
      ],
      "text/plain": [
       "Eval num_timesteps=3825000, episode_reward=567.50 +/- 41.85\n"
      ]
     },
     "metadata": {},
     "output_type": "display_data"
    },
    {
     "data": {
      "text/html": [
       "<pre style=\"white-space:pre;overflow-x:auto;line-height:normal;font-family:Menlo,'DejaVu Sans Mono',consolas,'Courier New',monospace\">Episode length: 3748.20 +/- 226.47\n",
       "</pre>\n"
      ],
      "text/plain": [
       "Episode length: 3748.20 +/- 226.47\n"
      ]
     },
     "metadata": {},
     "output_type": "display_data"
    },
    {
     "data": {
      "text/html": [
       "<pre style=\"white-space:pre;overflow-x:auto;line-height:normal;font-family:Menlo,'DejaVu Sans Mono',consolas,'Courier New',monospace\">Eval num_timesteps=3850000, episode_reward=463.50 +/- 73.66\n",
       "</pre>\n"
      ],
      "text/plain": [
       "Eval num_timesteps=3850000, episode_reward=463.50 +/- 73.66\n"
      ]
     },
     "metadata": {},
     "output_type": "display_data"
    },
    {
     "data": {
      "text/html": [
       "<pre style=\"white-space:pre;overflow-x:auto;line-height:normal;font-family:Menlo,'DejaVu Sans Mono',consolas,'Courier New',monospace\">Episode length: 2999.65 +/- 323.84\n",
       "</pre>\n"
      ],
      "text/plain": [
       "Episode length: 2999.65 +/- 323.84\n"
      ]
     },
     "metadata": {},
     "output_type": "display_data"
    },
    {
     "data": {
      "text/html": [
       "<pre style=\"white-space:pre;overflow-x:auto;line-height:normal;font-family:Menlo,'DejaVu Sans Mono',consolas,'Courier New',monospace\">Eval num_timesteps=3875000, episode_reward=427.00 +/- 192.86\n",
       "</pre>\n"
      ],
      "text/plain": [
       "Eval num_timesteps=3875000, episode_reward=427.00 +/- 192.86\n"
      ]
     },
     "metadata": {},
     "output_type": "display_data"
    },
    {
     "data": {
      "text/html": [
       "<pre style=\"white-space:pre;overflow-x:auto;line-height:normal;font-family:Menlo,'DejaVu Sans Mono',consolas,'Courier New',monospace\">Episode length: 2777.80 +/- 394.54\n",
       "</pre>\n"
      ],
      "text/plain": [
       "Episode length: 2777.80 +/- 394.54\n"
      ]
     },
     "metadata": {},
     "output_type": "display_data"
    },
    {
     "data": {
      "text/html": [
       "<pre style=\"white-space:pre;overflow-x:auto;line-height:normal;font-family:Menlo,'DejaVu Sans Mono',consolas,'Courier New',monospace\">Eval num_timesteps=3900000, episode_reward=489.50 +/- 121.27\n",
       "</pre>\n"
      ],
      "text/plain": [
       "Eval num_timesteps=3900000, episode_reward=489.50 +/- 121.27\n"
      ]
     },
     "metadata": {},
     "output_type": "display_data"
    },
    {
     "data": {
      "text/html": [
       "<pre style=\"white-space:pre;overflow-x:auto;line-height:normal;font-family:Menlo,'DejaVu Sans Mono',consolas,'Courier New',monospace\">Episode length: 2699.55 +/- 550.62\n",
       "</pre>\n"
      ],
      "text/plain": [
       "Episode length: 2699.55 +/- 550.62\n"
      ]
     },
     "metadata": {},
     "output_type": "display_data"
    },
    {
     "data": {
      "text/html": [
       "<pre style=\"white-space:pre;overflow-x:auto;line-height:normal;font-family:Menlo,'DejaVu Sans Mono',consolas,'Courier New',monospace\">Eval num_timesteps=3925000, episode_reward=510.25 +/- 51.78\n",
       "</pre>\n"
      ],
      "text/plain": [
       "Eval num_timesteps=3925000, episode_reward=510.25 +/- 51.78\n"
      ]
     },
     "metadata": {},
     "output_type": "display_data"
    },
    {
     "data": {
      "text/html": [
       "<pre style=\"white-space:pre;overflow-x:auto;line-height:normal;font-family:Menlo,'DejaVu Sans Mono',consolas,'Courier New',monospace\">Episode length: 3759.20 +/- 263.12\n",
       "</pre>\n"
      ],
      "text/plain": [
       "Episode length: 3759.20 +/- 263.12\n"
      ]
     },
     "metadata": {},
     "output_type": "display_data"
    },
    {
     "data": {
      "text/html": [
       "<pre style=\"white-space:pre;overflow-x:auto;line-height:normal;font-family:Menlo,'DejaVu Sans Mono',consolas,'Courier New',monospace\">Eval num_timesteps=3950000, episode_reward=358.00 +/- 72.34\n",
       "</pre>\n"
      ],
      "text/plain": [
       "Eval num_timesteps=3950000, episode_reward=358.00 +/- 72.34\n"
      ]
     },
     "metadata": {},
     "output_type": "display_data"
    },
    {
     "data": {
      "text/html": [
       "<pre style=\"white-space:pre;overflow-x:auto;line-height:normal;font-family:Menlo,'DejaVu Sans Mono',consolas,'Courier New',monospace\">Episode length: 2930.10 +/- 435.83\n",
       "</pre>\n"
      ],
      "text/plain": [
       "Episode length: 2930.10 +/- 435.83\n"
      ]
     },
     "metadata": {},
     "output_type": "display_data"
    },
    {
     "data": {
      "text/html": [
       "<pre style=\"white-space:pre;overflow-x:auto;line-height:normal;font-family:Menlo,'DejaVu Sans Mono',consolas,'Courier New',monospace\">Eval num_timesteps=3975000, episode_reward=409.75 +/- 71.91\n",
       "</pre>\n"
      ],
      "text/plain": [
       "Eval num_timesteps=3975000, episode_reward=409.75 +/- 71.91\n"
      ]
     },
     "metadata": {},
     "output_type": "display_data"
    },
    {
     "data": {
      "text/html": [
       "<pre style=\"white-space:pre;overflow-x:auto;line-height:normal;font-family:Menlo,'DejaVu Sans Mono',consolas,'Courier New',monospace\">Episode length: 3032.90 +/- 416.35\n",
       "</pre>\n"
      ],
      "text/plain": [
       "Episode length: 3032.90 +/- 416.35\n"
      ]
     },
     "metadata": {},
     "output_type": "display_data"
    },
    {
     "data": {
      "text/html": [
       "<pre style=\"white-space:pre;overflow-x:auto;line-height:normal;font-family:Menlo,'DejaVu Sans Mono',consolas,'Courier New',monospace\">Eval num_timesteps=4000000, episode_reward=515.75 +/- 122.95\n",
       "</pre>\n"
      ],
      "text/plain": [
       "Eval num_timesteps=4000000, episode_reward=515.75 +/- 122.95\n"
      ]
     },
     "metadata": {},
     "output_type": "display_data"
    },
    {
     "data": {
      "text/html": [
       "<pre style=\"white-space:pre;overflow-x:auto;line-height:normal;font-family:Menlo,'DejaVu Sans Mono',consolas,'Courier New',monospace\">Episode length: 3260.20 +/- 551.02\n",
       "</pre>\n"
      ],
      "text/plain": [
       "Episode length: 3260.20 +/- 551.02\n"
      ]
     },
     "metadata": {},
     "output_type": "display_data"
    },
    {
     "data": {
      "text/html": [
       "<pre style=\"white-space:pre;overflow-x:auto;line-height:normal;font-family:Menlo,'DejaVu Sans Mono',consolas,'Courier New',monospace\">Eval num_timesteps=4025000, episode_reward=479.25 +/- 131.53\n",
       "</pre>\n"
      ],
      "text/plain": [
       "Eval num_timesteps=4025000, episode_reward=479.25 +/- 131.53\n"
      ]
     },
     "metadata": {},
     "output_type": "display_data"
    },
    {
     "data": {
      "text/html": [
       "<pre style=\"white-space:pre;overflow-x:auto;line-height:normal;font-family:Menlo,'DejaVu Sans Mono',consolas,'Courier New',monospace\">Episode length: 3027.65 +/- 773.67\n",
       "</pre>\n"
      ],
      "text/plain": [
       "Episode length: 3027.65 +/- 773.67\n"
      ]
     },
     "metadata": {},
     "output_type": "display_data"
    },
    {
     "data": {
      "text/html": [
       "<pre style=\"white-space:pre;overflow-x:auto;line-height:normal;font-family:Menlo,'DejaVu Sans Mono',consolas,'Courier New',monospace\">Eval num_timesteps=4050000, episode_reward=576.00 +/- 110.61\n",
       "</pre>\n"
      ],
      "text/plain": [
       "Eval num_timesteps=4050000, episode_reward=576.00 +/- 110.61\n"
      ]
     },
     "metadata": {},
     "output_type": "display_data"
    },
    {
     "data": {
      "text/html": [
       "<pre style=\"white-space:pre;overflow-x:auto;line-height:normal;font-family:Menlo,'DejaVu Sans Mono',consolas,'Courier New',monospace\">Episode length: 3927.65 +/- 985.27\n",
       "</pre>\n"
      ],
      "text/plain": [
       "Episode length: 3927.65 +/- 985.27\n"
      ]
     },
     "metadata": {},
     "output_type": "display_data"
    },
    {
     "data": {
      "text/html": [
       "<pre style=\"white-space:pre;overflow-x:auto;line-height:normal;font-family:Menlo,'DejaVu Sans Mono',consolas,'Courier New',monospace\">Eval num_timesteps=4075000, episode_reward=412.75 +/- 103.54\n",
       "</pre>\n"
      ],
      "text/plain": [
       "Eval num_timesteps=4075000, episode_reward=412.75 +/- 103.54\n"
      ]
     },
     "metadata": {},
     "output_type": "display_data"
    },
    {
     "data": {
      "text/html": [
       "<pre style=\"white-space:pre;overflow-x:auto;line-height:normal;font-family:Menlo,'DejaVu Sans Mono',consolas,'Courier New',monospace\">Episode length: 2826.60 +/- 686.49\n",
       "</pre>\n"
      ],
      "text/plain": [
       "Episode length: 2826.60 +/- 686.49\n"
      ]
     },
     "metadata": {},
     "output_type": "display_data"
    },
    {
     "data": {
      "text/html": [
       "<pre style=\"white-space:pre;overflow-x:auto;line-height:normal;font-family:Menlo,'DejaVu Sans Mono',consolas,'Courier New',monospace\">Eval num_timesteps=4100000, episode_reward=511.50 +/- 164.19\n",
       "</pre>\n"
      ],
      "text/plain": [
       "Eval num_timesteps=4100000, episode_reward=511.50 +/- 164.19\n"
      ]
     },
     "metadata": {},
     "output_type": "display_data"
    },
    {
     "data": {
      "text/html": [
       "<pre style=\"white-space:pre;overflow-x:auto;line-height:normal;font-family:Menlo,'DejaVu Sans Mono',consolas,'Courier New',monospace\">Episode length: 3199.15 +/- 399.90\n",
       "</pre>\n"
      ],
      "text/plain": [
       "Episode length: 3199.15 +/- 399.90\n"
      ]
     },
     "metadata": {},
     "output_type": "display_data"
    },
    {
     "data": {
      "text/html": [
       "<pre style=\"white-space:pre;overflow-x:auto;line-height:normal;font-family:Menlo,'DejaVu Sans Mono',consolas,'Courier New',monospace\">Eval num_timesteps=4125000, episode_reward=670.75 +/- 190.48\n",
       "</pre>\n"
      ],
      "text/plain": [
       "Eval num_timesteps=4125000, episode_reward=670.75 +/- 190.48\n"
      ]
     },
     "metadata": {},
     "output_type": "display_data"
    },
    {
     "data": {
      "text/html": [
       "<pre style=\"white-space:pre;overflow-x:auto;line-height:normal;font-family:Menlo,'DejaVu Sans Mono',consolas,'Courier New',monospace\">Episode length: 4377.60 +/- 758.98\n",
       "</pre>\n"
      ],
      "text/plain": [
       "Episode length: 4377.60 +/- 758.98\n"
      ]
     },
     "metadata": {},
     "output_type": "display_data"
    },
    {
     "data": {
      "text/html": [
       "<pre style=\"white-space:pre;overflow-x:auto;line-height:normal;font-family:Menlo,'DejaVu Sans Mono',consolas,'Courier New',monospace\">Eval num_timesteps=4150000, episode_reward=562.75 +/- 96.80\n",
       "</pre>\n"
      ],
      "text/plain": [
       "Eval num_timesteps=4150000, episode_reward=562.75 +/- 96.80\n"
      ]
     },
     "metadata": {},
     "output_type": "display_data"
    },
    {
     "data": {
      "text/html": [
       "<pre style=\"white-space:pre;overflow-x:auto;line-height:normal;font-family:Menlo,'DejaVu Sans Mono',consolas,'Courier New',monospace\">Episode length: 3513.10 +/- 360.15\n",
       "</pre>\n"
      ],
      "text/plain": [
       "Episode length: 3513.10 +/- 360.15\n"
      ]
     },
     "metadata": {},
     "output_type": "display_data"
    },
    {
     "data": {
      "text/html": [
       "<pre style=\"white-space:pre;overflow-x:auto;line-height:normal;font-family:Menlo,'DejaVu Sans Mono',consolas,'Courier New',monospace\">Eval num_timesteps=4175000, episode_reward=608.25 +/- 253.40\n",
       "</pre>\n"
      ],
      "text/plain": [
       "Eval num_timesteps=4175000, episode_reward=608.25 +/- 253.40\n"
      ]
     },
     "metadata": {},
     "output_type": "display_data"
    },
    {
     "data": {
      "text/html": [
       "<pre style=\"white-space:pre;overflow-x:auto;line-height:normal;font-family:Menlo,'DejaVu Sans Mono',consolas,'Courier New',monospace\">Episode length: 4202.60 +/- 1392.78\n",
       "</pre>\n"
      ],
      "text/plain": [
       "Episode length: 4202.60 +/- 1392.78\n"
      ]
     },
     "metadata": {},
     "output_type": "display_data"
    },
    {
     "data": {
      "text/html": [
       "<pre style=\"white-space:pre;overflow-x:auto;line-height:normal;font-family:Menlo,'DejaVu Sans Mono',consolas,'Courier New',monospace\">Eval num_timesteps=4200000, episode_reward=891.25 +/- 390.64\n",
       "</pre>\n"
      ],
      "text/plain": [
       "Eval num_timesteps=4200000, episode_reward=891.25 +/- 390.64\n"
      ]
     },
     "metadata": {},
     "output_type": "display_data"
    },
    {
     "data": {
      "text/html": [
       "<pre style=\"white-space:pre;overflow-x:auto;line-height:normal;font-family:Menlo,'DejaVu Sans Mono',consolas,'Courier New',monospace\">Episode length: 5301.40 +/- 1538.81\n",
       "</pre>\n"
      ],
      "text/plain": [
       "Episode length: 5301.40 +/- 1538.81\n"
      ]
     },
     "metadata": {},
     "output_type": "display_data"
    },
    {
     "data": {
      "text/html": [
       "<pre style=\"white-space:pre;overflow-x:auto;line-height:normal;font-family:Menlo,'DejaVu Sans Mono',consolas,'Courier New',monospace\">New best mean reward!\n",
       "</pre>\n"
      ],
      "text/plain": [
       "New best mean reward!\n"
      ]
     },
     "metadata": {},
     "output_type": "display_data"
    },
    {
     "data": {
      "text/html": [
       "<pre style=\"white-space:pre;overflow-x:auto;line-height:normal;font-family:Menlo,'DejaVu Sans Mono',consolas,'Courier New',monospace\">Eval num_timesteps=4225000, episode_reward=582.00 +/- 31.68\n",
       "</pre>\n"
      ],
      "text/plain": [
       "Eval num_timesteps=4225000, episode_reward=582.00 +/- 31.68\n"
      ]
     },
     "metadata": {},
     "output_type": "display_data"
    },
    {
     "data": {
      "text/html": [
       "<pre style=\"white-space:pre;overflow-x:auto;line-height:normal;font-family:Menlo,'DejaVu Sans Mono',consolas,'Courier New',monospace\">Episode length: 3962.60 +/- 528.50\n",
       "</pre>\n"
      ],
      "text/plain": [
       "Episode length: 3962.60 +/- 528.50\n"
      ]
     },
     "metadata": {},
     "output_type": "display_data"
    },
    {
     "data": {
      "text/html": [
       "<pre style=\"white-space:pre;overflow-x:auto;line-height:normal;font-family:Menlo,'DejaVu Sans Mono',consolas,'Courier New',monospace\">Eval num_timesteps=4250000, episode_reward=547.25 +/- 85.48\n",
       "</pre>\n"
      ],
      "text/plain": [
       "Eval num_timesteps=4250000, episode_reward=547.25 +/- 85.48\n"
      ]
     },
     "metadata": {},
     "output_type": "display_data"
    },
    {
     "data": {
      "text/html": [
       "<pre style=\"white-space:pre;overflow-x:auto;line-height:normal;font-family:Menlo,'DejaVu Sans Mono',consolas,'Courier New',monospace\">Episode length: 3705.55 +/- 294.29\n",
       "</pre>\n"
      ],
      "text/plain": [
       "Episode length: 3705.55 +/- 294.29\n"
      ]
     },
     "metadata": {},
     "output_type": "display_data"
    },
    {
     "data": {
      "text/html": [
       "<pre style=\"white-space:pre;overflow-x:auto;line-height:normal;font-family:Menlo,'DejaVu Sans Mono',consolas,'Courier New',monospace\">Eval num_timesteps=4275000, episode_reward=626.75 +/- 346.21\n",
       "</pre>\n"
      ],
      "text/plain": [
       "Eval num_timesteps=4275000, episode_reward=626.75 +/- 346.21\n"
      ]
     },
     "metadata": {},
     "output_type": "display_data"
    },
    {
     "data": {
      "text/html": [
       "<pre style=\"white-space:pre;overflow-x:auto;line-height:normal;font-family:Menlo,'DejaVu Sans Mono',consolas,'Courier New',monospace\">Episode length: 3993.10 +/- 1465.16\n",
       "</pre>\n"
      ],
      "text/plain": [
       "Episode length: 3993.10 +/- 1465.16\n"
      ]
     },
     "metadata": {},
     "output_type": "display_data"
    },
    {
     "data": {
      "text/html": [
       "<pre style=\"white-space:pre;overflow-x:auto;line-height:normal;font-family:Menlo,'DejaVu Sans Mono',consolas,'Courier New',monospace\">Eval num_timesteps=4300000, episode_reward=524.00 +/- 131.89\n",
       "</pre>\n"
      ],
      "text/plain": [
       "Eval num_timesteps=4300000, episode_reward=524.00 +/- 131.89\n"
      ]
     },
     "metadata": {},
     "output_type": "display_data"
    },
    {
     "data": {
      "text/html": [
       "<pre style=\"white-space:pre;overflow-x:auto;line-height:normal;font-family:Menlo,'DejaVu Sans Mono',consolas,'Courier New',monospace\">Episode length: 3609.95 +/- 750.06\n",
       "</pre>\n"
      ],
      "text/plain": [
       "Episode length: 3609.95 +/- 750.06\n"
      ]
     },
     "metadata": {},
     "output_type": "display_data"
    },
    {
     "data": {
      "text/html": [
       "<pre style=\"white-space:pre;overflow-x:auto;line-height:normal;font-family:Menlo,'DejaVu Sans Mono',consolas,'Courier New',monospace\">Eval num_timesteps=4325000, episode_reward=535.75 +/- 157.05\n",
       "</pre>\n"
      ],
      "text/plain": [
       "Eval num_timesteps=4325000, episode_reward=535.75 +/- 157.05\n"
      ]
     },
     "metadata": {},
     "output_type": "display_data"
    },
    {
     "data": {
      "text/html": [
       "<pre style=\"white-space:pre;overflow-x:auto;line-height:normal;font-family:Menlo,'DejaVu Sans Mono',consolas,'Courier New',monospace\">Episode length: 3254.00 +/- 820.47\n",
       "</pre>\n"
      ],
      "text/plain": [
       "Episode length: 3254.00 +/- 820.47\n"
      ]
     },
     "metadata": {},
     "output_type": "display_data"
    },
    {
     "data": {
      "text/html": [
       "<pre style=\"white-space:pre;overflow-x:auto;line-height:normal;font-family:Menlo,'DejaVu Sans Mono',consolas,'Courier New',monospace\">Eval num_timesteps=4350000, episode_reward=581.50 +/- 121.37\n",
       "</pre>\n"
      ],
      "text/plain": [
       "Eval num_timesteps=4350000, episode_reward=581.50 +/- 121.37\n"
      ]
     },
     "metadata": {},
     "output_type": "display_data"
    },
    {
     "data": {
      "text/html": [
       "<pre style=\"white-space:pre;overflow-x:auto;line-height:normal;font-family:Menlo,'DejaVu Sans Mono',consolas,'Courier New',monospace\">Episode length: 3164.50 +/- 656.20\n",
       "</pre>\n"
      ],
      "text/plain": [
       "Episode length: 3164.50 +/- 656.20\n"
      ]
     },
     "metadata": {},
     "output_type": "display_data"
    },
    {
     "data": {
      "text/html": [
       "<pre style=\"white-space:pre;overflow-x:auto;line-height:normal;font-family:Menlo,'DejaVu Sans Mono',consolas,'Courier New',monospace\">Eval num_timesteps=4375000, episode_reward=578.00 +/- 80.08\n",
       "</pre>\n"
      ],
      "text/plain": [
       "Eval num_timesteps=4375000, episode_reward=578.00 +/- 80.08\n"
      ]
     },
     "metadata": {},
     "output_type": "display_data"
    },
    {
     "data": {
      "text/html": [
       "<pre style=\"white-space:pre;overflow-x:auto;line-height:normal;font-family:Menlo,'DejaVu Sans Mono',consolas,'Courier New',monospace\">Episode length: 3831.05 +/- 960.76\n",
       "</pre>\n"
      ],
      "text/plain": [
       "Episode length: 3831.05 +/- 960.76\n"
      ]
     },
     "metadata": {},
     "output_type": "display_data"
    },
    {
     "data": {
      "text/html": [
       "<pre style=\"white-space:pre;overflow-x:auto;line-height:normal;font-family:Menlo,'DejaVu Sans Mono',consolas,'Courier New',monospace\">Eval num_timesteps=4400000, episode_reward=351.00 +/- 152.49\n",
       "</pre>\n"
      ],
      "text/plain": [
       "Eval num_timesteps=4400000, episode_reward=351.00 +/- 152.49\n"
      ]
     },
     "metadata": {},
     "output_type": "display_data"
    },
    {
     "data": {
      "text/html": [
       "<pre style=\"white-space:pre;overflow-x:auto;line-height:normal;font-family:Menlo,'DejaVu Sans Mono',consolas,'Courier New',monospace\">Episode length: 3254.65 +/- 816.51\n",
       "</pre>\n"
      ],
      "text/plain": [
       "Episode length: 3254.65 +/- 816.51\n"
      ]
     },
     "metadata": {},
     "output_type": "display_data"
    },
    {
     "data": {
      "text/html": [
       "<pre style=\"white-space:pre;overflow-x:auto;line-height:normal;font-family:Menlo,'DejaVu Sans Mono',consolas,'Courier New',monospace\">Eval num_timesteps=4425000, episode_reward=420.50 +/- 109.29\n",
       "</pre>\n"
      ],
      "text/plain": [
       "Eval num_timesteps=4425000, episode_reward=420.50 +/- 109.29\n"
      ]
     },
     "metadata": {},
     "output_type": "display_data"
    },
    {
     "data": {
      "text/html": [
       "<pre style=\"white-space:pre;overflow-x:auto;line-height:normal;font-family:Menlo,'DejaVu Sans Mono',consolas,'Courier New',monospace\">Episode length: 3009.10 +/- 481.36\n",
       "</pre>\n"
      ],
      "text/plain": [
       "Episode length: 3009.10 +/- 481.36\n"
      ]
     },
     "metadata": {},
     "output_type": "display_data"
    },
    {
     "data": {
      "text/html": [
       "<pre style=\"white-space:pre;overflow-x:auto;line-height:normal;font-family:Menlo,'DejaVu Sans Mono',consolas,'Courier New',monospace\">Eval num_timesteps=4450000, episode_reward=637.75 +/- 49.21\n",
       "</pre>\n"
      ],
      "text/plain": [
       "Eval num_timesteps=4450000, episode_reward=637.75 +/- 49.21\n"
      ]
     },
     "metadata": {},
     "output_type": "display_data"
    },
    {
     "data": {
      "text/html": [
       "<pre style=\"white-space:pre;overflow-x:auto;line-height:normal;font-family:Menlo,'DejaVu Sans Mono',consolas,'Courier New',monospace\">Episode length: 3543.40 +/- 106.49\n",
       "</pre>\n"
      ],
      "text/plain": [
       "Episode length: 3543.40 +/- 106.49\n"
      ]
     },
     "metadata": {},
     "output_type": "display_data"
    },
    {
     "data": {
      "text/html": [
       "<pre style=\"white-space:pre;overflow-x:auto;line-height:normal;font-family:Menlo,'DejaVu Sans Mono',consolas,'Courier New',monospace\">Eval num_timesteps=4475000, episode_reward=480.75 +/- 129.23\n",
       "</pre>\n"
      ],
      "text/plain": [
       "Eval num_timesteps=4475000, episode_reward=480.75 +/- 129.23\n"
      ]
     },
     "metadata": {},
     "output_type": "display_data"
    },
    {
     "data": {
      "text/html": [
       "<pre style=\"white-space:pre;overflow-x:auto;line-height:normal;font-family:Menlo,'DejaVu Sans Mono',consolas,'Courier New',monospace\">Episode length: 3005.60 +/- 424.89\n",
       "</pre>\n"
      ],
      "text/plain": [
       "Episode length: 3005.60 +/- 424.89\n"
      ]
     },
     "metadata": {},
     "output_type": "display_data"
    },
    {
     "data": {
      "text/html": [
       "<pre style=\"white-space:pre;overflow-x:auto;line-height:normal;font-family:Menlo,'DejaVu Sans Mono',consolas,'Courier New',monospace\">Eval num_timesteps=4500000, episode_reward=584.75 +/- 74.69\n",
       "</pre>\n"
      ],
      "text/plain": [
       "Eval num_timesteps=4500000, episode_reward=584.75 +/- 74.69\n"
      ]
     },
     "metadata": {},
     "output_type": "display_data"
    },
    {
     "data": {
      "text/html": [
       "<pre style=\"white-space:pre;overflow-x:auto;line-height:normal;font-family:Menlo,'DejaVu Sans Mono',consolas,'Courier New',monospace\">Episode length: 3551.45 +/- 447.18\n",
       "</pre>\n"
      ],
      "text/plain": [
       "Episode length: 3551.45 +/- 447.18\n"
      ]
     },
     "metadata": {},
     "output_type": "display_data"
    },
    {
     "data": {
      "text/html": [
       "<pre style=\"white-space:pre;overflow-x:auto;line-height:normal;font-family:Menlo,'DejaVu Sans Mono',consolas,'Courier New',monospace\">Eval num_timesteps=4525000, episode_reward=726.00 +/- 290.35\n",
       "</pre>\n"
      ],
      "text/plain": [
       "Eval num_timesteps=4525000, episode_reward=726.00 +/- 290.35\n"
      ]
     },
     "metadata": {},
     "output_type": "display_data"
    },
    {
     "data": {
      "text/html": [
       "<pre style=\"white-space:pre;overflow-x:auto;line-height:normal;font-family:Menlo,'DejaVu Sans Mono',consolas,'Courier New',monospace\">Episode length: 3992.10 +/- 1098.22\n",
       "</pre>\n"
      ],
      "text/plain": [
       "Episode length: 3992.10 +/- 1098.22\n"
      ]
     },
     "metadata": {},
     "output_type": "display_data"
    },
    {
     "data": {
      "text/html": [
       "<pre style=\"white-space:pre;overflow-x:auto;line-height:normal;font-family:Menlo,'DejaVu Sans Mono',consolas,'Courier New',monospace\">Eval num_timesteps=4550000, episode_reward=563.75 +/- 104.13\n",
       "</pre>\n"
      ],
      "text/plain": [
       "Eval num_timesteps=4550000, episode_reward=563.75 +/- 104.13\n"
      ]
     },
     "metadata": {},
     "output_type": "display_data"
    },
    {
     "data": {
      "text/html": [
       "<pre style=\"white-space:pre;overflow-x:auto;line-height:normal;font-family:Menlo,'DejaVu Sans Mono',consolas,'Courier New',monospace\">Episode length: 3561.80 +/- 520.39\n",
       "</pre>\n"
      ],
      "text/plain": [
       "Episode length: 3561.80 +/- 520.39\n"
      ]
     },
     "metadata": {},
     "output_type": "display_data"
    },
    {
     "data": {
      "text/html": [
       "<pre style=\"white-space:pre;overflow-x:auto;line-height:normal;font-family:Menlo,'DejaVu Sans Mono',consolas,'Courier New',monospace\">Eval num_timesteps=4575000, episode_reward=465.75 +/- 91.11\n",
       "</pre>\n"
      ],
      "text/plain": [
       "Eval num_timesteps=4575000, episode_reward=465.75 +/- 91.11\n"
      ]
     },
     "metadata": {},
     "output_type": "display_data"
    },
    {
     "data": {
      "text/html": [
       "<pre style=\"white-space:pre;overflow-x:auto;line-height:normal;font-family:Menlo,'DejaVu Sans Mono',consolas,'Courier New',monospace\">Episode length: 3438.40 +/- 660.41\n",
       "</pre>\n"
      ],
      "text/plain": [
       "Episode length: 3438.40 +/- 660.41\n"
      ]
     },
     "metadata": {},
     "output_type": "display_data"
    },
    {
     "data": {
      "text/html": [
       "<pre style=\"white-space:pre;overflow-x:auto;line-height:normal;font-family:Menlo,'DejaVu Sans Mono',consolas,'Courier New',monospace\">Eval num_timesteps=4600000, episode_reward=555.50 +/- 131.69\n",
       "</pre>\n"
      ],
      "text/plain": [
       "Eval num_timesteps=4600000, episode_reward=555.50 +/- 131.69\n"
      ]
     },
     "metadata": {},
     "output_type": "display_data"
    },
    {
     "data": {
      "text/html": [
       "<pre style=\"white-space:pre;overflow-x:auto;line-height:normal;font-family:Menlo,'DejaVu Sans Mono',consolas,'Courier New',monospace\">Episode length: 3821.85 +/- 504.85\n",
       "</pre>\n"
      ],
      "text/plain": [
       "Episode length: 3821.85 +/- 504.85\n"
      ]
     },
     "metadata": {},
     "output_type": "display_data"
    },
    {
     "data": {
      "text/html": [
       "<pre style=\"white-space:pre;overflow-x:auto;line-height:normal;font-family:Menlo,'DejaVu Sans Mono',consolas,'Courier New',monospace\">Eval num_timesteps=4625000, episode_reward=531.25 +/- 48.53\n",
       "</pre>\n"
      ],
      "text/plain": [
       "Eval num_timesteps=4625000, episode_reward=531.25 +/- 48.53\n"
      ]
     },
     "metadata": {},
     "output_type": "display_data"
    },
    {
     "data": {
      "text/html": [
       "<pre style=\"white-space:pre;overflow-x:auto;line-height:normal;font-family:Menlo,'DejaVu Sans Mono',consolas,'Courier New',monospace\">Episode length: 4379.50 +/- 488.00\n",
       "</pre>\n"
      ],
      "text/plain": [
       "Episode length: 4379.50 +/- 488.00\n"
      ]
     },
     "metadata": {},
     "output_type": "display_data"
    },
    {
     "data": {
      "text/html": [
       "<pre style=\"white-space:pre;overflow-x:auto;line-height:normal;font-family:Menlo,'DejaVu Sans Mono',consolas,'Courier New',monospace\">Eval num_timesteps=4650000, episode_reward=589.00 +/- 113.30\n",
       "</pre>\n"
      ],
      "text/plain": [
       "Eval num_timesteps=4650000, episode_reward=589.00 +/- 113.30\n"
      ]
     },
     "metadata": {},
     "output_type": "display_data"
    },
    {
     "data": {
      "text/html": [
       "<pre style=\"white-space:pre;overflow-x:auto;line-height:normal;font-family:Menlo,'DejaVu Sans Mono',consolas,'Courier New',monospace\">Episode length: 3496.80 +/- 329.99\n",
       "</pre>\n"
      ],
      "text/plain": [
       "Episode length: 3496.80 +/- 329.99\n"
      ]
     },
     "metadata": {},
     "output_type": "display_data"
    },
    {
     "data": {
      "text/html": [
       "<pre style=\"white-space:pre;overflow-x:auto;line-height:normal;font-family:Menlo,'DejaVu Sans Mono',consolas,'Courier New',monospace\">Eval num_timesteps=4675000, episode_reward=740.00 +/- 244.72\n",
       "</pre>\n"
      ],
      "text/plain": [
       "Eval num_timesteps=4675000, episode_reward=740.00 +/- 244.72\n"
      ]
     },
     "metadata": {},
     "output_type": "display_data"
    },
    {
     "data": {
      "text/html": [
       "<pre style=\"white-space:pre;overflow-x:auto;line-height:normal;font-family:Menlo,'DejaVu Sans Mono',consolas,'Courier New',monospace\">Episode length: 4103.70 +/- 1350.17\n",
       "</pre>\n"
      ],
      "text/plain": [
       "Episode length: 4103.70 +/- 1350.17\n"
      ]
     },
     "metadata": {},
     "output_type": "display_data"
    },
    {
     "data": {
      "text/html": [
       "<pre style=\"white-space:pre;overflow-x:auto;line-height:normal;font-family:Menlo,'DejaVu Sans Mono',consolas,'Courier New',monospace\">Eval num_timesteps=4700000, episode_reward=728.50 +/- 264.34\n",
       "</pre>\n"
      ],
      "text/plain": [
       "Eval num_timesteps=4700000, episode_reward=728.50 +/- 264.34\n"
      ]
     },
     "metadata": {},
     "output_type": "display_data"
    },
    {
     "data": {
      "text/html": [
       "<pre style=\"white-space:pre;overflow-x:auto;line-height:normal;font-family:Menlo,'DejaVu Sans Mono',consolas,'Courier New',monospace\">Episode length: 3374.25 +/- 412.78\n",
       "</pre>\n"
      ],
      "text/plain": [
       "Episode length: 3374.25 +/- 412.78\n"
      ]
     },
     "metadata": {},
     "output_type": "display_data"
    },
    {
     "data": {
      "text/html": [
       "<pre style=\"white-space:pre;overflow-x:auto;line-height:normal;font-family:Menlo,'DejaVu Sans Mono',consolas,'Courier New',monospace\">Eval num_timesteps=4725000, episode_reward=482.75 +/- 81.78\n",
       "</pre>\n"
      ],
      "text/plain": [
       "Eval num_timesteps=4725000, episode_reward=482.75 +/- 81.78\n"
      ]
     },
     "metadata": {},
     "output_type": "display_data"
    },
    {
     "data": {
      "text/html": [
       "<pre style=\"white-space:pre;overflow-x:auto;line-height:normal;font-family:Menlo,'DejaVu Sans Mono',consolas,'Courier New',monospace\">Episode length: 3649.60 +/- 665.15\n",
       "</pre>\n"
      ],
      "text/plain": [
       "Episode length: 3649.60 +/- 665.15\n"
      ]
     },
     "metadata": {},
     "output_type": "display_data"
    },
    {
     "data": {
      "text/html": [
       "<pre style=\"white-space:pre;overflow-x:auto;line-height:normal;font-family:Menlo,'DejaVu Sans Mono',consolas,'Courier New',monospace\">Eval num_timesteps=4750000, episode_reward=603.25 +/- 72.39\n",
       "</pre>\n"
      ],
      "text/plain": [
       "Eval num_timesteps=4750000, episode_reward=603.25 +/- 72.39\n"
      ]
     },
     "metadata": {},
     "output_type": "display_data"
    },
    {
     "data": {
      "text/html": [
       "<pre style=\"white-space:pre;overflow-x:auto;line-height:normal;font-family:Menlo,'DejaVu Sans Mono',consolas,'Courier New',monospace\">Episode length: 3410.40 +/- 153.82\n",
       "</pre>\n"
      ],
      "text/plain": [
       "Episode length: 3410.40 +/- 153.82\n"
      ]
     },
     "metadata": {},
     "output_type": "display_data"
    },
    {
     "data": {
      "text/html": [
       "<pre style=\"white-space:pre;overflow-x:auto;line-height:normal;font-family:Menlo,'DejaVu Sans Mono',consolas,'Courier New',monospace\">Eval num_timesteps=4775000, episode_reward=713.25 +/- 326.56\n",
       "</pre>\n"
      ],
      "text/plain": [
       "Eval num_timesteps=4775000, episode_reward=713.25 +/- 326.56\n"
      ]
     },
     "metadata": {},
     "output_type": "display_data"
    },
    {
     "data": {
      "text/html": [
       "<pre style=\"white-space:pre;overflow-x:auto;line-height:normal;font-family:Menlo,'DejaVu Sans Mono',consolas,'Courier New',monospace\">Episode length: 4846.05 +/- 1882.45\n",
       "</pre>\n"
      ],
      "text/plain": [
       "Episode length: 4846.05 +/- 1882.45\n"
      ]
     },
     "metadata": {},
     "output_type": "display_data"
    },
    {
     "data": {
      "text/html": [
       "<pre style=\"white-space:pre;overflow-x:auto;line-height:normal;font-family:Menlo,'DejaVu Sans Mono',consolas,'Courier New',monospace\">Eval num_timesteps=4800000, episode_reward=564.50 +/- 79.15\n",
       "</pre>\n"
      ],
      "text/plain": [
       "Eval num_timesteps=4800000, episode_reward=564.50 +/- 79.15\n"
      ]
     },
     "metadata": {},
     "output_type": "display_data"
    },
    {
     "data": {
      "text/html": [
       "<pre style=\"white-space:pre;overflow-x:auto;line-height:normal;font-family:Menlo,'DejaVu Sans Mono',consolas,'Courier New',monospace\">Episode length: 3846.70 +/- 563.70\n",
       "</pre>\n"
      ],
      "text/plain": [
       "Episode length: 3846.70 +/- 563.70\n"
      ]
     },
     "metadata": {},
     "output_type": "display_data"
    },
    {
     "data": {
      "text/html": [
       "<pre style=\"white-space:pre;overflow-x:auto;line-height:normal;font-family:Menlo,'DejaVu Sans Mono',consolas,'Courier New',monospace\">Eval num_timesteps=4825000, episode_reward=677.25 +/- 105.87\n",
       "</pre>\n"
      ],
      "text/plain": [
       "Eval num_timesteps=4825000, episode_reward=677.25 +/- 105.87\n"
      ]
     },
     "metadata": {},
     "output_type": "display_data"
    },
    {
     "data": {
      "text/html": [
       "<pre style=\"white-space:pre;overflow-x:auto;line-height:normal;font-family:Menlo,'DejaVu Sans Mono',consolas,'Courier New',monospace\">Episode length: 4755.60 +/- 1038.13\n",
       "</pre>\n"
      ],
      "text/plain": [
       "Episode length: 4755.60 +/- 1038.13\n"
      ]
     },
     "metadata": {},
     "output_type": "display_data"
    },
    {
     "data": {
      "text/html": [
       "<pre style=\"white-space:pre;overflow-x:auto;line-height:normal;font-family:Menlo,'DejaVu Sans Mono',consolas,'Courier New',monospace\">Eval num_timesteps=4850000, episode_reward=575.50 +/- 300.15\n",
       "</pre>\n"
      ],
      "text/plain": [
       "Eval num_timesteps=4850000, episode_reward=575.50 +/- 300.15\n"
      ]
     },
     "metadata": {},
     "output_type": "display_data"
    },
    {
     "data": {
      "text/html": [
       "<pre style=\"white-space:pre;overflow-x:auto;line-height:normal;font-family:Menlo,'DejaVu Sans Mono',consolas,'Courier New',monospace\">Episode length: 3825.65 +/- 1493.05\n",
       "</pre>\n"
      ],
      "text/plain": [
       "Episode length: 3825.65 +/- 1493.05\n"
      ]
     },
     "metadata": {},
     "output_type": "display_data"
    },
    {
     "data": {
      "text/html": [
       "<pre style=\"white-space:pre;overflow-x:auto;line-height:normal;font-family:Menlo,'DejaVu Sans Mono',consolas,'Courier New',monospace\">Eval num_timesteps=4875000, episode_reward=582.25 +/- 87.18\n",
       "</pre>\n"
      ],
      "text/plain": [
       "Eval num_timesteps=4875000, episode_reward=582.25 +/- 87.18\n"
      ]
     },
     "metadata": {},
     "output_type": "display_data"
    },
    {
     "data": {
      "text/html": [
       "<pre style=\"white-space:pre;overflow-x:auto;line-height:normal;font-family:Menlo,'DejaVu Sans Mono',consolas,'Courier New',monospace\">Episode length: 3556.00 +/- 597.33\n",
       "</pre>\n"
      ],
      "text/plain": [
       "Episode length: 3556.00 +/- 597.33\n"
      ]
     },
     "metadata": {},
     "output_type": "display_data"
    },
    {
     "data": {
      "text/html": [
       "<pre style=\"white-space:pre;overflow-x:auto;line-height:normal;font-family:Menlo,'DejaVu Sans Mono',consolas,'Courier New',monospace\">Eval num_timesteps=4900000, episode_reward=613.75 +/- 29.66\n",
       "</pre>\n"
      ],
      "text/plain": [
       "Eval num_timesteps=4900000, episode_reward=613.75 +/- 29.66\n"
      ]
     },
     "metadata": {},
     "output_type": "display_data"
    },
    {
     "data": {
      "text/html": [
       "<pre style=\"white-space:pre;overflow-x:auto;line-height:normal;font-family:Menlo,'DejaVu Sans Mono',consolas,'Courier New',monospace\">Episode length: 3899.60 +/- 511.58\n",
       "</pre>\n"
      ],
      "text/plain": [
       "Episode length: 3899.60 +/- 511.58\n"
      ]
     },
     "metadata": {},
     "output_type": "display_data"
    },
    {
     "data": {
      "text/html": [
       "<pre style=\"white-space:pre;overflow-x:auto;line-height:normal;font-family:Menlo,'DejaVu Sans Mono',consolas,'Courier New',monospace\">Eval num_timesteps=4925000, episode_reward=556.75 +/- 293.87\n",
       "</pre>\n"
      ],
      "text/plain": [
       "Eval num_timesteps=4925000, episode_reward=556.75 +/- 293.87\n"
      ]
     },
     "metadata": {},
     "output_type": "display_data"
    },
    {
     "data": {
      "text/html": [
       "<pre style=\"white-space:pre;overflow-x:auto;line-height:normal;font-family:Menlo,'DejaVu Sans Mono',consolas,'Courier New',monospace\">Episode length: 3954.50 +/- 2003.74\n",
       "</pre>\n"
      ],
      "text/plain": [
       "Episode length: 3954.50 +/- 2003.74\n"
      ]
     },
     "metadata": {},
     "output_type": "display_data"
    },
    {
     "data": {
      "text/html": [
       "<pre style=\"white-space:pre;overflow-x:auto;line-height:normal;font-family:Menlo,'DejaVu Sans Mono',consolas,'Courier New',monospace\">Eval num_timesteps=4950000, episode_reward=742.50 +/- 349.04\n",
       "</pre>\n"
      ],
      "text/plain": [
       "Eval num_timesteps=4950000, episode_reward=742.50 +/- 349.04\n"
      ]
     },
     "metadata": {},
     "output_type": "display_data"
    },
    {
     "data": {
      "text/html": [
       "<pre style=\"white-space:pre;overflow-x:auto;line-height:normal;font-family:Menlo,'DejaVu Sans Mono',consolas,'Courier New',monospace\">Episode length: 4513.30 +/- 1718.33\n",
       "</pre>\n"
      ],
      "text/plain": [
       "Episode length: 4513.30 +/- 1718.33\n"
      ]
     },
     "metadata": {},
     "output_type": "display_data"
    },
    {
     "data": {
      "text/html": [
       "<pre style=\"white-space:pre;overflow-x:auto;line-height:normal;font-family:Menlo,'DejaVu Sans Mono',consolas,'Courier New',monospace\">Eval num_timesteps=4975000, episode_reward=551.75 +/- 99.64\n",
       "</pre>\n"
      ],
      "text/plain": [
       "Eval num_timesteps=4975000, episode_reward=551.75 +/- 99.64\n"
      ]
     },
     "metadata": {},
     "output_type": "display_data"
    },
    {
     "data": {
      "text/html": [
       "<pre style=\"white-space:pre;overflow-x:auto;line-height:normal;font-family:Menlo,'DejaVu Sans Mono',consolas,'Courier New',monospace\">Episode length: 3545.20 +/- 866.30\n",
       "</pre>\n"
      ],
      "text/plain": [
       "Episode length: 3545.20 +/- 866.30\n"
      ]
     },
     "metadata": {},
     "output_type": "display_data"
    },
    {
     "data": {
      "text/html": [
       "<pre style=\"white-space:pre;overflow-x:auto;line-height:normal;font-family:Menlo,'DejaVu Sans Mono',consolas,'Courier New',monospace\">Eval num_timesteps=5000000, episode_reward=647.75 +/- 221.16\n",
       "</pre>\n"
      ],
      "text/plain": [
       "Eval num_timesteps=5000000, episode_reward=647.75 +/- 221.16\n"
      ]
     },
     "metadata": {},
     "output_type": "display_data"
    },
    {
     "data": {
      "text/html": [
       "<pre style=\"white-space:pre;overflow-x:auto;line-height:normal;font-family:Menlo,'DejaVu Sans Mono',consolas,'Courier New',monospace\">Episode length: 4561.00 +/- 1081.32\n",
       "</pre>\n"
      ],
      "text/plain": [
       "Episode length: 4561.00 +/- 1081.32\n"
      ]
     },
     "metadata": {},
     "output_type": "display_data"
    },
    {
     "data": {
      "text/html": [
       "<pre style=\"white-space:pre;overflow-x:auto;line-height:normal;font-family:Menlo,'DejaVu Sans Mono',consolas,'Courier New',monospace\">Eval num_timesteps=5025000, episode_reward=800.25 +/- 205.71\n",
       "</pre>\n"
      ],
      "text/plain": [
       "Eval num_timesteps=5025000, episode_reward=800.25 +/- 205.71\n"
      ]
     },
     "metadata": {},
     "output_type": "display_data"
    },
    {
     "data": {
      "text/html": [
       "<pre style=\"white-space:pre;overflow-x:auto;line-height:normal;font-family:Menlo,'DejaVu Sans Mono',consolas,'Courier New',monospace\">Episode length: 5069.90 +/- 1660.40\n",
       "</pre>\n"
      ],
      "text/plain": [
       "Episode length: 5069.90 +/- 1660.40\n"
      ]
     },
     "metadata": {},
     "output_type": "display_data"
    },
    {
     "data": {
      "text/html": [
       "<pre style=\"white-space:pre;overflow-x:auto;line-height:normal;font-family:Menlo,'DejaVu Sans Mono',consolas,'Courier New',monospace\">Eval num_timesteps=5050000, episode_reward=431.25 +/- 146.09\n",
       "</pre>\n"
      ],
      "text/plain": [
       "Eval num_timesteps=5050000, episode_reward=431.25 +/- 146.09\n"
      ]
     },
     "metadata": {},
     "output_type": "display_data"
    },
    {
     "data": {
      "text/html": [
       "<pre style=\"white-space:pre;overflow-x:auto;line-height:normal;font-family:Menlo,'DejaVu Sans Mono',consolas,'Courier New',monospace\">Episode length: 2904.20 +/- 828.21\n",
       "</pre>\n"
      ],
      "text/plain": [
       "Episode length: 2904.20 +/- 828.21\n"
      ]
     },
     "metadata": {},
     "output_type": "display_data"
    },
    {
     "data": {
      "text/html": [
       "<pre style=\"white-space:pre;overflow-x:auto;line-height:normal;font-family:Menlo,'DejaVu Sans Mono',consolas,'Courier New',monospace\">Eval num_timesteps=5075000, episode_reward=684.25 +/- 127.60\n",
       "</pre>\n"
      ],
      "text/plain": [
       "Eval num_timesteps=5075000, episode_reward=684.25 +/- 127.60\n"
      ]
     },
     "metadata": {},
     "output_type": "display_data"
    },
    {
     "data": {
      "text/html": [
       "<pre style=\"white-space:pre;overflow-x:auto;line-height:normal;font-family:Menlo,'DejaVu Sans Mono',consolas,'Courier New',monospace\">Episode length: 3943.50 +/- 945.01\n",
       "</pre>\n"
      ],
      "text/plain": [
       "Episode length: 3943.50 +/- 945.01\n"
      ]
     },
     "metadata": {},
     "output_type": "display_data"
    },
    {
     "data": {
      "text/html": [
       "<pre style=\"white-space:pre;overflow-x:auto;line-height:normal;font-family:Menlo,'DejaVu Sans Mono',consolas,'Courier New',monospace\">Eval num_timesteps=5100000, episode_reward=467.75 +/- 31.88\n",
       "</pre>\n"
      ],
      "text/plain": [
       "Eval num_timesteps=5100000, episode_reward=467.75 +/- 31.88\n"
      ]
     },
     "metadata": {},
     "output_type": "display_data"
    },
    {
     "data": {
      "text/html": [
       "<pre style=\"white-space:pre;overflow-x:auto;line-height:normal;font-family:Menlo,'DejaVu Sans Mono',consolas,'Courier New',monospace\">Episode length: 3449.00 +/- 230.01\n",
       "</pre>\n"
      ],
      "text/plain": [
       "Episode length: 3449.00 +/- 230.01\n"
      ]
     },
     "metadata": {},
     "output_type": "display_data"
    },
    {
     "data": {
      "text/html": [
       "<pre style=\"white-space:pre;overflow-x:auto;line-height:normal;font-family:Menlo,'DejaVu Sans Mono',consolas,'Courier New',monospace\">Eval num_timesteps=5125000, episode_reward=516.00 +/- 49.18\n",
       "</pre>\n"
      ],
      "text/plain": [
       "Eval num_timesteps=5125000, episode_reward=516.00 +/- 49.18\n"
      ]
     },
     "metadata": {},
     "output_type": "display_data"
    },
    {
     "data": {
      "text/html": [
       "<pre style=\"white-space:pre;overflow-x:auto;line-height:normal;font-family:Menlo,'DejaVu Sans Mono',consolas,'Courier New',monospace\">Episode length: 3701.30 +/- 475.24\n",
       "</pre>\n"
      ],
      "text/plain": [
       "Episode length: 3701.30 +/- 475.24\n"
      ]
     },
     "metadata": {},
     "output_type": "display_data"
    },
    {
     "data": {
      "text/html": [
       "<pre style=\"white-space:pre;overflow-x:auto;line-height:normal;font-family:Menlo,'DejaVu Sans Mono',consolas,'Courier New',monospace\">Eval num_timesteps=5150000, episode_reward=726.50 +/- 216.59\n",
       "</pre>\n"
      ],
      "text/plain": [
       "Eval num_timesteps=5150000, episode_reward=726.50 +/- 216.59\n"
      ]
     },
     "metadata": {},
     "output_type": "display_data"
    },
    {
     "data": {
      "text/html": [
       "<pre style=\"white-space:pre;overflow-x:auto;line-height:normal;font-family:Menlo,'DejaVu Sans Mono',consolas,'Courier New',monospace\">Episode length: 4509.60 +/- 1490.51\n",
       "</pre>\n"
      ],
      "text/plain": [
       "Episode length: 4509.60 +/- 1490.51\n"
      ]
     },
     "metadata": {},
     "output_type": "display_data"
    },
    {
     "data": {
      "text/html": [
       "<pre style=\"white-space:pre;overflow-x:auto;line-height:normal;font-family:Menlo,'DejaVu Sans Mono',consolas,'Courier New',monospace\">Eval num_timesteps=5175000, episode_reward=597.00 +/- 351.07\n",
       "</pre>\n"
      ],
      "text/plain": [
       "Eval num_timesteps=5175000, episode_reward=597.00 +/- 351.07\n"
      ]
     },
     "metadata": {},
     "output_type": "display_data"
    },
    {
     "data": {
      "text/html": [
       "<pre style=\"white-space:pre;overflow-x:auto;line-height:normal;font-family:Menlo,'DejaVu Sans Mono',consolas,'Courier New',monospace\">Episode length: 3964.10 +/- 1596.74\n",
       "</pre>\n"
      ],
      "text/plain": [
       "Episode length: 3964.10 +/- 1596.74\n"
      ]
     },
     "metadata": {},
     "output_type": "display_data"
    },
    {
     "data": {
      "text/html": [
       "<pre style=\"white-space:pre;overflow-x:auto;line-height:normal;font-family:Menlo,'DejaVu Sans Mono',consolas,'Courier New',monospace\">Eval num_timesteps=5200000, episode_reward=880.00 +/- 560.38\n",
       "</pre>\n"
      ],
      "text/plain": [
       "Eval num_timesteps=5200000, episode_reward=880.00 +/- 560.38\n"
      ]
     },
     "metadata": {},
     "output_type": "display_data"
    },
    {
     "data": {
      "text/html": [
       "<pre style=\"white-space:pre;overflow-x:auto;line-height:normal;font-family:Menlo,'DejaVu Sans Mono',consolas,'Courier New',monospace\">Episode length: 4693.10 +/- 2149.25\n",
       "</pre>\n"
      ],
      "text/plain": [
       "Episode length: 4693.10 +/- 2149.25\n"
      ]
     },
     "metadata": {},
     "output_type": "display_data"
    },
    {
     "data": {
      "text/html": [
       "<pre style=\"white-space:pre;overflow-x:auto;line-height:normal;font-family:Menlo,'DejaVu Sans Mono',consolas,'Courier New',monospace\">Eval num_timesteps=5225000, episode_reward=457.25 +/- 245.05\n",
       "</pre>\n"
      ],
      "text/plain": [
       "Eval num_timesteps=5225000, episode_reward=457.25 +/- 245.05\n"
      ]
     },
     "metadata": {},
     "output_type": "display_data"
    },
    {
     "data": {
      "text/html": [
       "<pre style=\"white-space:pre;overflow-x:auto;line-height:normal;font-family:Menlo,'DejaVu Sans Mono',consolas,'Courier New',monospace\">Episode length: 2729.70 +/- 1202.69\n",
       "</pre>\n"
      ],
      "text/plain": [
       "Episode length: 2729.70 +/- 1202.69\n"
      ]
     },
     "metadata": {},
     "output_type": "display_data"
    },
    {
     "data": {
      "text/html": [
       "<pre style=\"white-space:pre;overflow-x:auto;line-height:normal;font-family:Menlo,'DejaVu Sans Mono',consolas,'Courier New',monospace\">Eval num_timesteps=5250000, episode_reward=714.50 +/- 188.65\n",
       "</pre>\n"
      ],
      "text/plain": [
       "Eval num_timesteps=5250000, episode_reward=714.50 +/- 188.65\n"
      ]
     },
     "metadata": {},
     "output_type": "display_data"
    },
    {
     "data": {
      "text/html": [
       "<pre style=\"white-space:pre;overflow-x:auto;line-height:normal;font-family:Menlo,'DejaVu Sans Mono',consolas,'Courier New',monospace\">Episode length: 4143.25 +/- 1547.99\n",
       "</pre>\n"
      ],
      "text/plain": [
       "Episode length: 4143.25 +/- 1547.99\n"
      ]
     },
     "metadata": {},
     "output_type": "display_data"
    },
    {
     "data": {
      "text/html": [
       "<pre style=\"white-space:pre;overflow-x:auto;line-height:normal;font-family:Menlo,'DejaVu Sans Mono',consolas,'Courier New',monospace\">Eval num_timesteps=5275000, episode_reward=655.50 +/- 99.57\n",
       "</pre>\n"
      ],
      "text/plain": [
       "Eval num_timesteps=5275000, episode_reward=655.50 +/- 99.57\n"
      ]
     },
     "metadata": {},
     "output_type": "display_data"
    },
    {
     "data": {
      "text/html": [
       "<pre style=\"white-space:pre;overflow-x:auto;line-height:normal;font-family:Menlo,'DejaVu Sans Mono',consolas,'Courier New',monospace\">Episode length: 3406.60 +/- 161.88\n",
       "</pre>\n"
      ],
      "text/plain": [
       "Episode length: 3406.60 +/- 161.88\n"
      ]
     },
     "metadata": {},
     "output_type": "display_data"
    },
    {
     "data": {
      "text/html": [
       "<pre style=\"white-space:pre;overflow-x:auto;line-height:normal;font-family:Menlo,'DejaVu Sans Mono',consolas,'Courier New',monospace\">Eval num_timesteps=5300000, episode_reward=555.75 +/- 98.07\n",
       "</pre>\n"
      ],
      "text/plain": [
       "Eval num_timesteps=5300000, episode_reward=555.75 +/- 98.07\n"
      ]
     },
     "metadata": {},
     "output_type": "display_data"
    },
    {
     "data": {
      "text/html": [
       "<pre style=\"white-space:pre;overflow-x:auto;line-height:normal;font-family:Menlo,'DejaVu Sans Mono',consolas,'Courier New',monospace\">Episode length: 3594.80 +/- 186.96\n",
       "</pre>\n"
      ],
      "text/plain": [
       "Episode length: 3594.80 +/- 186.96\n"
      ]
     },
     "metadata": {},
     "output_type": "display_data"
    },
    {
     "data": {
      "text/html": [
       "<pre style=\"white-space:pre;overflow-x:auto;line-height:normal;font-family:Menlo,'DejaVu Sans Mono',consolas,'Courier New',monospace\">Eval num_timesteps=5325000, episode_reward=493.75 +/- 385.73\n",
       "</pre>\n"
      ],
      "text/plain": [
       "Eval num_timesteps=5325000, episode_reward=493.75 +/- 385.73\n"
      ]
     },
     "metadata": {},
     "output_type": "display_data"
    },
    {
     "data": {
      "text/html": [
       "<pre style=\"white-space:pre;overflow-x:auto;line-height:normal;font-family:Menlo,'DejaVu Sans Mono',consolas,'Courier New',monospace\">Episode length: 3331.10 +/- 2037.00\n",
       "</pre>\n"
      ],
      "text/plain": [
       "Episode length: 3331.10 +/- 2037.00\n"
      ]
     },
     "metadata": {},
     "output_type": "display_data"
    },
    {
     "data": {
      "text/html": [
       "<pre style=\"white-space:pre;overflow-x:auto;line-height:normal;font-family:Menlo,'DejaVu Sans Mono',consolas,'Courier New',monospace\">Eval num_timesteps=5350000, episode_reward=600.00 +/- 157.94\n",
       "</pre>\n"
      ],
      "text/plain": [
       "Eval num_timesteps=5350000, episode_reward=600.00 +/- 157.94\n"
      ]
     },
     "metadata": {},
     "output_type": "display_data"
    },
    {
     "data": {
      "text/html": [
       "<pre style=\"white-space:pre;overflow-x:auto;line-height:normal;font-family:Menlo,'DejaVu Sans Mono',consolas,'Courier New',monospace\">Episode length: 3771.30 +/- 502.43\n",
       "</pre>\n"
      ],
      "text/plain": [
       "Episode length: 3771.30 +/- 502.43\n"
      ]
     },
     "metadata": {},
     "output_type": "display_data"
    },
    {
     "data": {
      "text/html": [
       "<pre style=\"white-space:pre;overflow-x:auto;line-height:normal;font-family:Menlo,'DejaVu Sans Mono',consolas,'Courier New',monospace\">Eval num_timesteps=5375000, episode_reward=563.25 +/- 26.38\n",
       "</pre>\n"
      ],
      "text/plain": [
       "Eval num_timesteps=5375000, episode_reward=563.25 +/- 26.38\n"
      ]
     },
     "metadata": {},
     "output_type": "display_data"
    },
    {
     "data": {
      "text/html": [
       "<pre style=\"white-space:pre;overflow-x:auto;line-height:normal;font-family:Menlo,'DejaVu Sans Mono',consolas,'Courier New',monospace\">Episode length: 3907.05 +/- 302.00\n",
       "</pre>\n"
      ],
      "text/plain": [
       "Episode length: 3907.05 +/- 302.00\n"
      ]
     },
     "metadata": {},
     "output_type": "display_data"
    },
    {
     "data": {
      "text/html": [
       "<pre style=\"white-space:pre;overflow-x:auto;line-height:normal;font-family:Menlo,'DejaVu Sans Mono',consolas,'Courier New',monospace\">Eval num_timesteps=5400000, episode_reward=848.25 +/- 200.70\n",
       "</pre>\n"
      ],
      "text/plain": [
       "Eval num_timesteps=5400000, episode_reward=848.25 +/- 200.70\n"
      ]
     },
     "metadata": {},
     "output_type": "display_data"
    },
    {
     "data": {
      "text/html": [
       "<pre style=\"white-space:pre;overflow-x:auto;line-height:normal;font-family:Menlo,'DejaVu Sans Mono',consolas,'Courier New',monospace\">Episode length: 3588.20 +/- 331.18\n",
       "</pre>\n"
      ],
      "text/plain": [
       "Episode length: 3588.20 +/- 331.18\n"
      ]
     },
     "metadata": {},
     "output_type": "display_data"
    },
    {
     "data": {
      "text/html": [
       "<pre style=\"white-space:pre;overflow-x:auto;line-height:normal;font-family:Menlo,'DejaVu Sans Mono',consolas,'Courier New',monospace\">Eval num_timesteps=5425000, episode_reward=591.50 +/- 72.99\n",
       "</pre>\n"
      ],
      "text/plain": [
       "Eval num_timesteps=5425000, episode_reward=591.50 +/- 72.99\n"
      ]
     },
     "metadata": {},
     "output_type": "display_data"
    },
    {
     "data": {
      "text/html": [
       "<pre style=\"white-space:pre;overflow-x:auto;line-height:normal;font-family:Menlo,'DejaVu Sans Mono',consolas,'Courier New',monospace\">Episode length: 3810.70 +/- 89.92\n",
       "</pre>\n"
      ],
      "text/plain": [
       "Episode length: 3810.70 +/- 89.92\n"
      ]
     },
     "metadata": {},
     "output_type": "display_data"
    },
    {
     "data": {
      "text/html": [
       "<pre style=\"white-space:pre;overflow-x:auto;line-height:normal;font-family:Menlo,'DejaVu Sans Mono',consolas,'Courier New',monospace\">Eval num_timesteps=5450000, episode_reward=597.50 +/- 159.15\n",
       "</pre>\n"
      ],
      "text/plain": [
       "Eval num_timesteps=5450000, episode_reward=597.50 +/- 159.15\n"
      ]
     },
     "metadata": {},
     "output_type": "display_data"
    },
    {
     "data": {
      "text/html": [
       "<pre style=\"white-space:pre;overflow-x:auto;line-height:normal;font-family:Menlo,'DejaVu Sans Mono',consolas,'Courier New',monospace\">Episode length: 3757.00 +/- 940.36\n",
       "</pre>\n"
      ],
      "text/plain": [
       "Episode length: 3757.00 +/- 940.36\n"
      ]
     },
     "metadata": {},
     "output_type": "display_data"
    },
    {
     "data": {
      "text/html": [
       "<pre style=\"white-space:pre;overflow-x:auto;line-height:normal;font-family:Menlo,'DejaVu Sans Mono',consolas,'Courier New',monospace\">Eval num_timesteps=5475000, episode_reward=532.50 +/- 57.37\n",
       "</pre>\n"
      ],
      "text/plain": [
       "Eval num_timesteps=5475000, episode_reward=532.50 +/- 57.37\n"
      ]
     },
     "metadata": {},
     "output_type": "display_data"
    },
    {
     "data": {
      "text/html": [
       "<pre style=\"white-space:pre;overflow-x:auto;line-height:normal;font-family:Menlo,'DejaVu Sans Mono',consolas,'Courier New',monospace\">Episode length: 3941.75 +/- 285.51\n",
       "</pre>\n"
      ],
      "text/plain": [
       "Episode length: 3941.75 +/- 285.51\n"
      ]
     },
     "metadata": {},
     "output_type": "display_data"
    },
    {
     "data": {
      "text/html": [
       "<pre style=\"white-space:pre;overflow-x:auto;line-height:normal;font-family:Menlo,'DejaVu Sans Mono',consolas,'Courier New',monospace\">Eval num_timesteps=5500000, episode_reward=995.50 +/- 230.41\n",
       "</pre>\n"
      ],
      "text/plain": [
       "Eval num_timesteps=5500000, episode_reward=995.50 +/- 230.41\n"
      ]
     },
     "metadata": {},
     "output_type": "display_data"
    },
    {
     "data": {
      "text/html": [
       "<pre style=\"white-space:pre;overflow-x:auto;line-height:normal;font-family:Menlo,'DejaVu Sans Mono',consolas,'Courier New',monospace\">Episode length: 5033.90 +/- 1530.82\n",
       "</pre>\n"
      ],
      "text/plain": [
       "Episode length: 5033.90 +/- 1530.82\n"
      ]
     },
     "metadata": {},
     "output_type": "display_data"
    },
    {
     "data": {
      "text/html": [
       "<pre style=\"white-space:pre;overflow-x:auto;line-height:normal;font-family:Menlo,'DejaVu Sans Mono',consolas,'Courier New',monospace\">New best mean reward!\n",
       "</pre>\n"
      ],
      "text/plain": [
       "New best mean reward!\n"
      ]
     },
     "metadata": {},
     "output_type": "display_data"
    },
    {
     "data": {
      "text/html": [
       "<pre style=\"white-space:pre;overflow-x:auto;line-height:normal;font-family:Menlo,'DejaVu Sans Mono',consolas,'Courier New',monospace\">Eval num_timesteps=5525000, episode_reward=670.75 +/- 205.78\n",
       "</pre>\n"
      ],
      "text/plain": [
       "Eval num_timesteps=5525000, episode_reward=670.75 +/- 205.78\n"
      ]
     },
     "metadata": {},
     "output_type": "display_data"
    },
    {
     "data": {
      "text/html": [
       "<pre style=\"white-space:pre;overflow-x:auto;line-height:normal;font-family:Menlo,'DejaVu Sans Mono',consolas,'Courier New',monospace\">Episode length: 4249.35 +/- 1478.47\n",
       "</pre>\n"
      ],
      "text/plain": [
       "Episode length: 4249.35 +/- 1478.47\n"
      ]
     },
     "metadata": {},
     "output_type": "display_data"
    },
    {
     "data": {
      "text/html": [
       "<pre style=\"white-space:pre;overflow-x:auto;line-height:normal;font-family:Menlo,'DejaVu Sans Mono',consolas,'Courier New',monospace\">Eval num_timesteps=5550000, episode_reward=485.75 +/- 140.47\n",
       "</pre>\n"
      ],
      "text/plain": [
       "Eval num_timesteps=5550000, episode_reward=485.75 +/- 140.47\n"
      ]
     },
     "metadata": {},
     "output_type": "display_data"
    },
    {
     "data": {
      "text/html": [
       "<pre style=\"white-space:pre;overflow-x:auto;line-height:normal;font-family:Menlo,'DejaVu Sans Mono',consolas,'Courier New',monospace\">Episode length: 3078.50 +/- 618.55\n",
       "</pre>\n"
      ],
      "text/plain": [
       "Episode length: 3078.50 +/- 618.55\n"
      ]
     },
     "metadata": {},
     "output_type": "display_data"
    },
    {
     "data": {
      "text/html": [
       "<pre style=\"white-space:pre;overflow-x:auto;line-height:normal;font-family:Menlo,'DejaVu Sans Mono',consolas,'Courier New',monospace\">Eval num_timesteps=5575000, episode_reward=637.50 +/- 114.93\n",
       "</pre>\n"
      ],
      "text/plain": [
       "Eval num_timesteps=5575000, episode_reward=637.50 +/- 114.93\n"
      ]
     },
     "metadata": {},
     "output_type": "display_data"
    },
    {
     "data": {
      "text/html": [
       "<pre style=\"white-space:pre;overflow-x:auto;line-height:normal;font-family:Menlo,'DejaVu Sans Mono',consolas,'Courier New',monospace\">Episode length: 3524.00 +/- 376.19\n",
       "</pre>\n"
      ],
      "text/plain": [
       "Episode length: 3524.00 +/- 376.19\n"
      ]
     },
     "metadata": {},
     "output_type": "display_data"
    },
    {
     "data": {
      "text/html": [
       "<pre style=\"white-space:pre;overflow-x:auto;line-height:normal;font-family:Menlo,'DejaVu Sans Mono',consolas,'Courier New',monospace\">Eval num_timesteps=5600000, episode_reward=650.25 +/- 104.25\n",
       "</pre>\n"
      ],
      "text/plain": [
       "Eval num_timesteps=5600000, episode_reward=650.25 +/- 104.25\n"
      ]
     },
     "metadata": {},
     "output_type": "display_data"
    },
    {
     "data": {
      "text/html": [
       "<pre style=\"white-space:pre;overflow-x:auto;line-height:normal;font-family:Menlo,'DejaVu Sans Mono',consolas,'Courier New',monospace\">Episode length: 3963.30 +/- 449.37\n",
       "</pre>\n"
      ],
      "text/plain": [
       "Episode length: 3963.30 +/- 449.37\n"
      ]
     },
     "metadata": {},
     "output_type": "display_data"
    },
    {
     "data": {
      "text/html": [
       "<pre style=\"white-space:pre;overflow-x:auto;line-height:normal;font-family:Menlo,'DejaVu Sans Mono',consolas,'Courier New',monospace\">Eval num_timesteps=5625000, episode_reward=547.75 +/- 10.30\n",
       "</pre>\n"
      ],
      "text/plain": [
       "Eval num_timesteps=5625000, episode_reward=547.75 +/- 10.30\n"
      ]
     },
     "metadata": {},
     "output_type": "display_data"
    },
    {
     "data": {
      "text/html": [
       "<pre style=\"white-space:pre;overflow-x:auto;line-height:normal;font-family:Menlo,'DejaVu Sans Mono',consolas,'Courier New',monospace\">Episode length: 3236.05 +/- 176.14\n",
       "</pre>\n"
      ],
      "text/plain": [
       "Episode length: 3236.05 +/- 176.14\n"
      ]
     },
     "metadata": {},
     "output_type": "display_data"
    },
    {
     "data": {
      "text/html": [
       "<pre style=\"white-space:pre;overflow-x:auto;line-height:normal;font-family:Menlo,'DejaVu Sans Mono',consolas,'Courier New',monospace\">Eval num_timesteps=5650000, episode_reward=655.50 +/- 105.50\n",
       "</pre>\n"
      ],
      "text/plain": [
       "Eval num_timesteps=5650000, episode_reward=655.50 +/- 105.50\n"
      ]
     },
     "metadata": {},
     "output_type": "display_data"
    },
    {
     "data": {
      "text/html": [
       "<pre style=\"white-space:pre;overflow-x:auto;line-height:normal;font-family:Menlo,'DejaVu Sans Mono',consolas,'Courier New',monospace\">Episode length: 3605.25 +/- 205.72\n",
       "</pre>\n"
      ],
      "text/plain": [
       "Episode length: 3605.25 +/- 205.72\n"
      ]
     },
     "metadata": {},
     "output_type": "display_data"
    },
    {
     "data": {
      "text/html": [
       "<pre style=\"white-space:pre;overflow-x:auto;line-height:normal;font-family:Menlo,'DejaVu Sans Mono',consolas,'Courier New',monospace\">Eval num_timesteps=5675000, episode_reward=642.75 +/- 53.09\n",
       "</pre>\n"
      ],
      "text/plain": [
       "Eval num_timesteps=5675000, episode_reward=642.75 +/- 53.09\n"
      ]
     },
     "metadata": {},
     "output_type": "display_data"
    },
    {
     "data": {
      "text/html": [
       "<pre style=\"white-space:pre;overflow-x:auto;line-height:normal;font-family:Menlo,'DejaVu Sans Mono',consolas,'Courier New',monospace\">Episode length: 4183.00 +/- 450.36\n",
       "</pre>\n"
      ],
      "text/plain": [
       "Episode length: 4183.00 +/- 450.36\n"
      ]
     },
     "metadata": {},
     "output_type": "display_data"
    },
    {
     "data": {
      "text/html": [
       "<pre style=\"white-space:pre;overflow-x:auto;line-height:normal;font-family:Menlo,'DejaVu Sans Mono',consolas,'Courier New',monospace\">Eval num_timesteps=5700000, episode_reward=876.00 +/- 550.17\n",
       "</pre>\n"
      ],
      "text/plain": [
       "Eval num_timesteps=5700000, episode_reward=876.00 +/- 550.17\n"
      ]
     },
     "metadata": {},
     "output_type": "display_data"
    },
    {
     "data": {
      "text/html": [
       "<pre style=\"white-space:pre;overflow-x:auto;line-height:normal;font-family:Menlo,'DejaVu Sans Mono',consolas,'Courier New',monospace\">Episode length: 4672.80 +/- 2334.63\n",
       "</pre>\n"
      ],
      "text/plain": [
       "Episode length: 4672.80 +/- 2334.63\n"
      ]
     },
     "metadata": {},
     "output_type": "display_data"
    },
    {
     "data": {
      "text/html": [
       "<pre style=\"white-space:pre;overflow-x:auto;line-height:normal;font-family:Menlo,'DejaVu Sans Mono',consolas,'Courier New',monospace\">Eval num_timesteps=5725000, episode_reward=604.75 +/- 69.11\n",
       "</pre>\n"
      ],
      "text/plain": [
       "Eval num_timesteps=5725000, episode_reward=604.75 +/- 69.11\n"
      ]
     },
     "metadata": {},
     "output_type": "display_data"
    },
    {
     "data": {
      "text/html": [
       "<pre style=\"white-space:pre;overflow-x:auto;line-height:normal;font-family:Menlo,'DejaVu Sans Mono',consolas,'Courier New',monospace\">Episode length: 3474.10 +/- 524.13\n",
       "</pre>\n"
      ],
      "text/plain": [
       "Episode length: 3474.10 +/- 524.13\n"
      ]
     },
     "metadata": {},
     "output_type": "display_data"
    },
    {
     "data": {
      "text/html": [
       "<pre style=\"white-space:pre;overflow-x:auto;line-height:normal;font-family:Menlo,'DejaVu Sans Mono',consolas,'Courier New',monospace\">Eval num_timesteps=5750000, episode_reward=459.50 +/- 88.57\n",
       "</pre>\n"
      ],
      "text/plain": [
       "Eval num_timesteps=5750000, episode_reward=459.50 +/- 88.57\n"
      ]
     },
     "metadata": {},
     "output_type": "display_data"
    },
    {
     "data": {
      "text/html": [
       "<pre style=\"white-space:pre;overflow-x:auto;line-height:normal;font-family:Menlo,'DejaVu Sans Mono',consolas,'Courier New',monospace\">Eval num_timesteps=5775000, episode_reward=664.00 +/- 150.84\n",
       "</pre>\n"
      ],
      "text/plain": [
       "Eval num_timesteps=5775000, episode_reward=664.00 +/- 150.84\n"
      ]
     },
     "metadata": {},
     "output_type": "display_data"
    },
    {
     "data": {
      "text/html": [
       "<pre style=\"white-space:pre;overflow-x:auto;line-height:normal;font-family:Menlo,'DejaVu Sans Mono',consolas,'Courier New',monospace\">Episode length: 3636.40 +/- 379.25\n",
       "</pre>\n"
      ],
      "text/plain": [
       "Episode length: 3636.40 +/- 379.25\n"
      ]
     },
     "metadata": {},
     "output_type": "display_data"
    },
    {
     "data": {
      "text/html": [
       "<pre style=\"white-space:pre;overflow-x:auto;line-height:normal;font-family:Menlo,'DejaVu Sans Mono',consolas,'Courier New',monospace\">Eval num_timesteps=5800000, episode_reward=584.75 +/- 172.32\n",
       "</pre>\n"
      ],
      "text/plain": [
       "Eval num_timesteps=5800000, episode_reward=584.75 +/- 172.32\n"
      ]
     },
     "metadata": {},
     "output_type": "display_data"
    },
    {
     "data": {
      "text/html": [
       "<pre style=\"white-space:pre;overflow-x:auto;line-height:normal;font-family:Menlo,'DejaVu Sans Mono',consolas,'Courier New',monospace\">Episode length: 4086.65 +/- 702.28\n",
       "</pre>\n"
      ],
      "text/plain": [
       "Episode length: 4086.65 +/- 702.28\n"
      ]
     },
     "metadata": {},
     "output_type": "display_data"
    },
    {
     "data": {
      "text/html": [
       "<pre style=\"white-space:pre;overflow-x:auto;line-height:normal;font-family:Menlo,'DejaVu Sans Mono',consolas,'Courier New',monospace\">Eval num_timesteps=5825000, episode_reward=647.50 +/- 89.41\n",
       "</pre>\n"
      ],
      "text/plain": [
       "Eval num_timesteps=5825000, episode_reward=647.50 +/- 89.41\n"
      ]
     },
     "metadata": {},
     "output_type": "display_data"
    },
    {
     "data": {
      "text/html": [
       "<pre style=\"white-space:pre;overflow-x:auto;line-height:normal;font-family:Menlo,'DejaVu Sans Mono',consolas,'Courier New',monospace\">Episode length: 3660.85 +/- 494.45\n",
       "</pre>\n"
      ],
      "text/plain": [
       "Episode length: 3660.85 +/- 494.45\n"
      ]
     },
     "metadata": {},
     "output_type": "display_data"
    },
    {
     "data": {
      "text/html": [
       "<pre style=\"white-space:pre;overflow-x:auto;line-height:normal;font-family:Menlo,'DejaVu Sans Mono',consolas,'Courier New',monospace\">Eval num_timesteps=5850000, episode_reward=567.50 +/- 33.49\n",
       "</pre>\n"
      ],
      "text/plain": [
       "Eval num_timesteps=5850000, episode_reward=567.50 +/- 33.49\n"
      ]
     },
     "metadata": {},
     "output_type": "display_data"
    },
    {
     "data": {
      "text/html": [
       "<pre style=\"white-space:pre;overflow-x:auto;line-height:normal;font-family:Menlo,'DejaVu Sans Mono',consolas,'Courier New',monospace\">Episode length: 3575.10 +/- 257.74\n",
       "</pre>\n"
      ],
      "text/plain": [
       "Episode length: 3575.10 +/- 257.74\n"
      ]
     },
     "metadata": {},
     "output_type": "display_data"
    },
    {
     "data": {
      "text/html": [
       "<pre style=\"white-space:pre;overflow-x:auto;line-height:normal;font-family:Menlo,'DejaVu Sans Mono',consolas,'Courier New',monospace\">Eval num_timesteps=5875000, episode_reward=546.00 +/- 332.59\n",
       "</pre>\n"
      ],
      "text/plain": [
       "Eval num_timesteps=5875000, episode_reward=546.00 +/- 332.59\n"
      ]
     },
     "metadata": {},
     "output_type": "display_data"
    },
    {
     "data": {
      "text/html": [
       "<pre style=\"white-space:pre;overflow-x:auto;line-height:normal;font-family:Menlo,'DejaVu Sans Mono',consolas,'Courier New',monospace\">Episode length: 3467.05 +/- 944.38\n",
       "</pre>\n"
      ],
      "text/plain": [
       "Episode length: 3467.05 +/- 944.38\n"
      ]
     },
     "metadata": {},
     "output_type": "display_data"
    },
    {
     "data": {
      "text/html": [
       "<pre style=\"white-space:pre;overflow-x:auto;line-height:normal;font-family:Menlo,'DejaVu Sans Mono',consolas,'Courier New',monospace\">Eval num_timesteps=5900000, episode_reward=627.25 +/- 99.49\n",
       "</pre>\n"
      ],
      "text/plain": [
       "Eval num_timesteps=5900000, episode_reward=627.25 +/- 99.49\n"
      ]
     },
     "metadata": {},
     "output_type": "display_data"
    },
    {
     "data": {
      "text/html": [
       "<pre style=\"white-space:pre;overflow-x:auto;line-height:normal;font-family:Menlo,'DejaVu Sans Mono',consolas,'Courier New',monospace\">Episode length: 3780.75 +/- 257.04\n",
       "</pre>\n"
      ],
      "text/plain": [
       "Episode length: 3780.75 +/- 257.04\n"
      ]
     },
     "metadata": {},
     "output_type": "display_data"
    },
    {
     "data": {
      "text/html": [
       "<pre style=\"white-space:pre;overflow-x:auto;line-height:normal;font-family:Menlo,'DejaVu Sans Mono',consolas,'Courier New',monospace\">Eval num_timesteps=5925000, episode_reward=578.25 +/- 72.15\n",
       "</pre>\n"
      ],
      "text/plain": [
       "Eval num_timesteps=5925000, episode_reward=578.25 +/- 72.15\n"
      ]
     },
     "metadata": {},
     "output_type": "display_data"
    },
    {
     "data": {
      "text/html": [
       "<pre style=\"white-space:pre;overflow-x:auto;line-height:normal;font-family:Menlo,'DejaVu Sans Mono',consolas,'Courier New',monospace\">Episode length: 3596.90 +/- 162.96\n",
       "</pre>\n"
      ],
      "text/plain": [
       "Episode length: 3596.90 +/- 162.96\n"
      ]
     },
     "metadata": {},
     "output_type": "display_data"
    },
    {
     "data": {
      "text/html": [
       "<pre style=\"white-space:pre;overflow-x:auto;line-height:normal;font-family:Menlo,'DejaVu Sans Mono',consolas,'Courier New',monospace\">Eval num_timesteps=5950000, episode_reward=495.75 +/- 177.55\n",
       "</pre>\n"
      ],
      "text/plain": [
       "Eval num_timesteps=5950000, episode_reward=495.75 +/- 177.55\n"
      ]
     },
     "metadata": {},
     "output_type": "display_data"
    },
    {
     "data": {
      "text/html": [
       "<pre style=\"white-space:pre;overflow-x:auto;line-height:normal;font-family:Menlo,'DejaVu Sans Mono',consolas,'Courier New',monospace\">Episode length: 2947.50 +/- 930.22\n",
       "</pre>\n"
      ],
      "text/plain": [
       "Episode length: 2947.50 +/- 930.22\n"
      ]
     },
     "metadata": {},
     "output_type": "display_data"
    },
    {
     "data": {
      "text/html": [
       "<pre style=\"white-space:pre;overflow-x:auto;line-height:normal;font-family:Menlo,'DejaVu Sans Mono',consolas,'Courier New',monospace\">Eval num_timesteps=5975000, episode_reward=589.00 +/- 49.49\n",
       "</pre>\n"
      ],
      "text/plain": [
       "Eval num_timesteps=5975000, episode_reward=589.00 +/- 49.49\n"
      ]
     },
     "metadata": {},
     "output_type": "display_data"
    },
    {
     "data": {
      "text/html": [
       "<pre style=\"white-space:pre;overflow-x:auto;line-height:normal;font-family:Menlo,'DejaVu Sans Mono',consolas,'Courier New',monospace\">Episode length: 3978.50 +/- 570.72\n",
       "</pre>\n"
      ],
      "text/plain": [
       "Episode length: 3978.50 +/- 570.72\n"
      ]
     },
     "metadata": {},
     "output_type": "display_data"
    },
    {
     "data": {
      "text/html": [
       "<pre style=\"white-space:pre;overflow-x:auto;line-height:normal;font-family:Menlo,'DejaVu Sans Mono',consolas,'Courier New',monospace\">Eval num_timesteps=6000000, episode_reward=621.75 +/- 126.70\n",
       "</pre>\n"
      ],
      "text/plain": [
       "Eval num_timesteps=6000000, episode_reward=621.75 +/- 126.70\n"
      ]
     },
     "metadata": {},
     "output_type": "display_data"
    },
    {
     "data": {
      "text/html": [
       "<pre style=\"white-space:pre;overflow-x:auto;line-height:normal;font-family:Menlo,'DejaVu Sans Mono',consolas,'Courier New',monospace\">Episode length: 3793.45 +/- 786.18\n",
       "</pre>\n"
      ],
      "text/plain": [
       "Episode length: 3793.45 +/- 786.18\n"
      ]
     },
     "metadata": {},
     "output_type": "display_data"
    },
    {
     "data": {
      "text/html": [
       "<pre style=\"white-space:pre;overflow-x:auto;line-height:normal;font-family:Menlo,'DejaVu Sans Mono',consolas,'Courier New',monospace\">Eval num_timesteps=6025000, episode_reward=705.75 +/- 153.48\n",
       "</pre>\n"
      ],
      "text/plain": [
       "Eval num_timesteps=6025000, episode_reward=705.75 +/- 153.48\n"
      ]
     },
     "metadata": {},
     "output_type": "display_data"
    },
    {
     "data": {
      "text/html": [
       "<pre style=\"white-space:pre;overflow-x:auto;line-height:normal;font-family:Menlo,'DejaVu Sans Mono',consolas,'Courier New',monospace\">Episode length: 4097.45 +/- 867.29\n",
       "</pre>\n"
      ],
      "text/plain": [
       "Episode length: 4097.45 +/- 867.29\n"
      ]
     },
     "metadata": {},
     "output_type": "display_data"
    },
    {
     "data": {
      "text/html": [
       "<pre style=\"white-space:pre;overflow-x:auto;line-height:normal;font-family:Menlo,'DejaVu Sans Mono',consolas,'Courier New',monospace\">Eval num_timesteps=6050000, episode_reward=688.00 +/- 303.11\n",
       "</pre>\n"
      ],
      "text/plain": [
       "Eval num_timesteps=6050000, episode_reward=688.00 +/- 303.11\n"
      ]
     },
     "metadata": {},
     "output_type": "display_data"
    },
    {
     "data": {
      "text/html": [
       "<pre style=\"white-space:pre;overflow-x:auto;line-height:normal;font-family:Menlo,'DejaVu Sans Mono',consolas,'Courier New',monospace\">Episode length: 4344.00 +/- 1569.06\n",
       "</pre>\n"
      ],
      "text/plain": [
       "Episode length: 4344.00 +/- 1569.06\n"
      ]
     },
     "metadata": {},
     "output_type": "display_data"
    },
    {
     "data": {
      "text/html": [
       "<pre style=\"white-space:pre;overflow-x:auto;line-height:normal;font-family:Menlo,'DejaVu Sans Mono',consolas,'Courier New',monospace\">Eval num_timesteps=6075000, episode_reward=637.50 +/- 81.97\n",
       "</pre>\n"
      ],
      "text/plain": [
       "Eval num_timesteps=6075000, episode_reward=637.50 +/- 81.97\n"
      ]
     },
     "metadata": {},
     "output_type": "display_data"
    },
    {
     "data": {
      "text/html": [
       "<pre style=\"white-space:pre;overflow-x:auto;line-height:normal;font-family:Menlo,'DejaVu Sans Mono',consolas,'Courier New',monospace\">Episode length: 3776.40 +/- 201.39\n",
       "</pre>\n"
      ],
      "text/plain": [
       "Episode length: 3776.40 +/- 201.39\n"
      ]
     },
     "metadata": {},
     "output_type": "display_data"
    },
    {
     "data": {
      "text/html": [
       "<pre style=\"white-space:pre;overflow-x:auto;line-height:normal;font-family:Menlo,'DejaVu Sans Mono',consolas,'Courier New',monospace\">Eval num_timesteps=6100000, episode_reward=574.25 +/- 147.61\n",
       "</pre>\n"
      ],
      "text/plain": [
       "Eval num_timesteps=6100000, episode_reward=574.25 +/- 147.61\n"
      ]
     },
     "metadata": {},
     "output_type": "display_data"
    },
    {
     "data": {
      "text/html": [
       "<pre style=\"white-space:pre;overflow-x:auto;line-height:normal;font-family:Menlo,'DejaVu Sans Mono',consolas,'Courier New',monospace\">Episode length: 3607.00 +/- 936.45\n",
       "</pre>\n"
      ],
      "text/plain": [
       "Episode length: 3607.00 +/- 936.45\n"
      ]
     },
     "metadata": {},
     "output_type": "display_data"
    },
    {
     "data": {
      "text/html": [
       "<pre style=\"white-space:pre;overflow-x:auto;line-height:normal;font-family:Menlo,'DejaVu Sans Mono',consolas,'Courier New',monospace\">Eval num_timesteps=6125000, episode_reward=707.50 +/- 208.58\n",
       "</pre>\n"
      ],
      "text/plain": [
       "Eval num_timesteps=6125000, episode_reward=707.50 +/- 208.58\n"
      ]
     },
     "metadata": {},
     "output_type": "display_data"
    },
    {
     "data": {
      "text/html": [
       "<pre style=\"white-space:pre;overflow-x:auto;line-height:normal;font-family:Menlo,'DejaVu Sans Mono',consolas,'Courier New',monospace\">Episode length: 4320.80 +/- 570.27\n",
       "</pre>\n"
      ],
      "text/plain": [
       "Episode length: 4320.80 +/- 570.27\n"
      ]
     },
     "metadata": {},
     "output_type": "display_data"
    },
    {
     "data": {
      "text/html": [
       "<pre style=\"white-space:pre;overflow-x:auto;line-height:normal;font-family:Menlo,'DejaVu Sans Mono',consolas,'Courier New',monospace\">Eval num_timesteps=6150000, episode_reward=653.00 +/- 60.92\n",
       "</pre>\n"
      ],
      "text/plain": [
       "Eval num_timesteps=6150000, episode_reward=653.00 +/- 60.92\n"
      ]
     },
     "metadata": {},
     "output_type": "display_data"
    },
    {
     "data": {
      "text/html": [
       "<pre style=\"white-space:pre;overflow-x:auto;line-height:normal;font-family:Menlo,'DejaVu Sans Mono',consolas,'Courier New',monospace\">Episode length: 3778.50 +/- 546.94\n",
       "</pre>\n"
      ],
      "text/plain": [
       "Episode length: 3778.50 +/- 546.94\n"
      ]
     },
     "metadata": {},
     "output_type": "display_data"
    },
    {
     "data": {
      "text/html": [
       "<pre style=\"white-space:pre;overflow-x:auto;line-height:normal;font-family:Menlo,'DejaVu Sans Mono',consolas,'Courier New',monospace\">Eval num_timesteps=6175000, episode_reward=708.00 +/- 238.73\n",
       "</pre>\n"
      ],
      "text/plain": [
       "Eval num_timesteps=6175000, episode_reward=708.00 +/- 238.73\n"
      ]
     },
     "metadata": {},
     "output_type": "display_data"
    },
    {
     "data": {
      "text/html": [
       "<pre style=\"white-space:pre;overflow-x:auto;line-height:normal;font-family:Menlo,'DejaVu Sans Mono',consolas,'Courier New',monospace\">Episode length: 4658.50 +/- 1924.24\n",
       "</pre>\n"
      ],
      "text/plain": [
       "Episode length: 4658.50 +/- 1924.24\n"
      ]
     },
     "metadata": {},
     "output_type": "display_data"
    },
    {
     "data": {
      "text/html": [
       "<pre style=\"white-space:pre;overflow-x:auto;line-height:normal;font-family:Menlo,'DejaVu Sans Mono',consolas,'Courier New',monospace\">Eval num_timesteps=6200000, episode_reward=777.00 +/- 276.66\n",
       "</pre>\n"
      ],
      "text/plain": [
       "Eval num_timesteps=6200000, episode_reward=777.00 +/- 276.66\n"
      ]
     },
     "metadata": {},
     "output_type": "display_data"
    },
    {
     "data": {
      "text/html": [
       "<pre style=\"white-space:pre;overflow-x:auto;line-height:normal;font-family:Menlo,'DejaVu Sans Mono',consolas,'Courier New',monospace\">Episode length: 4138.00 +/- 1001.64\n",
       "</pre>\n"
      ],
      "text/plain": [
       "Episode length: 4138.00 +/- 1001.64\n"
      ]
     },
     "metadata": {},
     "output_type": "display_data"
    },
    {
     "data": {
      "text/html": [
       "<pre style=\"white-space:pre;overflow-x:auto;line-height:normal;font-family:Menlo,'DejaVu Sans Mono',consolas,'Courier New',monospace\">Eval num_timesteps=6225000, episode_reward=574.00 +/- 102.18\n",
       "</pre>\n"
      ],
      "text/plain": [
       "Eval num_timesteps=6225000, episode_reward=574.00 +/- 102.18\n"
      ]
     },
     "metadata": {},
     "output_type": "display_data"
    },
    {
     "data": {
      "text/html": [
       "<pre style=\"white-space:pre;overflow-x:auto;line-height:normal;font-family:Menlo,'DejaVu Sans Mono',consolas,'Courier New',monospace\">Episode length: 3085.40 +/- 264.41\n",
       "</pre>\n"
      ],
      "text/plain": [
       "Episode length: 3085.40 +/- 264.41\n"
      ]
     },
     "metadata": {},
     "output_type": "display_data"
    },
    {
     "data": {
      "text/html": [
       "<pre style=\"white-space:pre;overflow-x:auto;line-height:normal;font-family:Menlo,'DejaVu Sans Mono',consolas,'Courier New',monospace\">Eval num_timesteps=6250000, episode_reward=572.25 +/- 87.67\n",
       "</pre>\n"
      ],
      "text/plain": [
       "Eval num_timesteps=6250000, episode_reward=572.25 +/- 87.67\n"
      ]
     },
     "metadata": {},
     "output_type": "display_data"
    },
    {
     "data": {
      "text/html": [
       "<pre style=\"white-space:pre;overflow-x:auto;line-height:normal;font-family:Menlo,'DejaVu Sans Mono',consolas,'Courier New',monospace\">Episode length: 3708.50 +/- 287.72\n",
       "</pre>\n"
      ],
      "text/plain": [
       "Episode length: 3708.50 +/- 287.72\n"
      ]
     },
     "metadata": {},
     "output_type": "display_data"
    },
    {
     "data": {
      "text/html": [
       "<pre style=\"white-space:pre;overflow-x:auto;line-height:normal;font-family:Menlo,'DejaVu Sans Mono',consolas,'Courier New',monospace\">Eval num_timesteps=6275000, episode_reward=827.25 +/- 263.27\n",
       "</pre>\n"
      ],
      "text/plain": [
       "Eval num_timesteps=6275000, episode_reward=827.25 +/- 263.27\n"
      ]
     },
     "metadata": {},
     "output_type": "display_data"
    },
    {
     "data": {
      "text/html": [
       "<pre style=\"white-space:pre;overflow-x:auto;line-height:normal;font-family:Menlo,'DejaVu Sans Mono',consolas,'Courier New',monospace\">Episode length: 5107.70 +/- 1791.26\n",
       "</pre>\n"
      ],
      "text/plain": [
       "Episode length: 5107.70 +/- 1791.26\n"
      ]
     },
     "metadata": {},
     "output_type": "display_data"
    },
    {
     "data": {
      "text/html": [
       "<pre style=\"white-space:pre;overflow-x:auto;line-height:normal;font-family:Menlo,'DejaVu Sans Mono',consolas,'Courier New',monospace\">Eval num_timesteps=6300000, episode_reward=722.00 +/- 268.01\n",
       "</pre>\n"
      ],
      "text/plain": [
       "Eval num_timesteps=6300000, episode_reward=722.00 +/- 268.01\n"
      ]
     },
     "metadata": {},
     "output_type": "display_data"
    },
    {
     "data": {
      "text/html": [
       "<pre style=\"white-space:pre;overflow-x:auto;line-height:normal;font-family:Menlo,'DejaVu Sans Mono',consolas,'Courier New',monospace\">Episode length: 3721.70 +/- 988.32\n",
       "</pre>\n"
      ],
      "text/plain": [
       "Episode length: 3721.70 +/- 988.32\n"
      ]
     },
     "metadata": {},
     "output_type": "display_data"
    },
    {
     "data": {
      "text/html": [
       "<pre style=\"white-space:pre;overflow-x:auto;line-height:normal;font-family:Menlo,'DejaVu Sans Mono',consolas,'Courier New',monospace\">Eval num_timesteps=6325000, episode_reward=590.25 +/- 117.25\n",
       "</pre>\n"
      ],
      "text/plain": [
       "Eval num_timesteps=6325000, episode_reward=590.25 +/- 117.25\n"
      ]
     },
     "metadata": {},
     "output_type": "display_data"
    },
    {
     "data": {
      "text/html": [
       "<pre style=\"white-space:pre;overflow-x:auto;line-height:normal;font-family:Menlo,'DejaVu Sans Mono',consolas,'Courier New',monospace\">Episode length: 3337.80 +/- 627.69\n",
       "</pre>\n"
      ],
      "text/plain": [
       "Episode length: 3337.80 +/- 627.69\n"
      ]
     },
     "metadata": {},
     "output_type": "display_data"
    },
    {
     "data": {
      "text/html": [
       "<pre style=\"white-space:pre;overflow-x:auto;line-height:normal;font-family:Menlo,'DejaVu Sans Mono',consolas,'Courier New',monospace\">Eval num_timesteps=6350000, episode_reward=651.75 +/- 299.30\n",
       "</pre>\n"
      ],
      "text/plain": [
       "Eval num_timesteps=6350000, episode_reward=651.75 +/- 299.30\n"
      ]
     },
     "metadata": {},
     "output_type": "display_data"
    },
    {
     "data": {
      "text/html": [
       "<pre style=\"white-space:pre;overflow-x:auto;line-height:normal;font-family:Menlo,'DejaVu Sans Mono',consolas,'Courier New',monospace\">Episode length: 4119.50 +/- 1815.77\n",
       "</pre>\n"
      ],
      "text/plain": [
       "Episode length: 4119.50 +/- 1815.77\n"
      ]
     },
     "metadata": {},
     "output_type": "display_data"
    },
    {
     "data": {
      "text/html": [
       "<pre style=\"white-space:pre;overflow-x:auto;line-height:normal;font-family:Menlo,'DejaVu Sans Mono',consolas,'Courier New',monospace\">Eval num_timesteps=6375000, episode_reward=1058.75 +/- 308.53\n",
       "</pre>\n"
      ],
      "text/plain": [
       "Eval num_timesteps=6375000, episode_reward=1058.75 +/- 308.53\n"
      ]
     },
     "metadata": {},
     "output_type": "display_data"
    },
    {
     "data": {
      "text/html": [
       "<pre style=\"white-space:pre;overflow-x:auto;line-height:normal;font-family:Menlo,'DejaVu Sans Mono',consolas,'Courier New',monospace\">Episode length: 5876.90 +/- 1551.27\n",
       "</pre>\n"
      ],
      "text/plain": [
       "Episode length: 5876.90 +/- 1551.27\n"
      ]
     },
     "metadata": {},
     "output_type": "display_data"
    },
    {
     "data": {
      "text/html": [
       "<pre style=\"white-space:pre;overflow-x:auto;line-height:normal;font-family:Menlo,'DejaVu Sans Mono',consolas,'Courier New',monospace\">New best mean reward!\n",
       "</pre>\n"
      ],
      "text/plain": [
       "New best mean reward!\n"
      ]
     },
     "metadata": {},
     "output_type": "display_data"
    },
    {
     "data": {
      "text/html": [
       "<pre style=\"white-space:pre;overflow-x:auto;line-height:normal;font-family:Menlo,'DejaVu Sans Mono',consolas,'Courier New',monospace\">Eval num_timesteps=6400000, episode_reward=698.50 +/- 261.73\n",
       "</pre>\n"
      ],
      "text/plain": [
       "Eval num_timesteps=6400000, episode_reward=698.50 +/- 261.73\n"
      ]
     },
     "metadata": {},
     "output_type": "display_data"
    },
    {
     "data": {
      "text/html": [
       "<pre style=\"white-space:pre;overflow-x:auto;line-height:normal;font-family:Menlo,'DejaVu Sans Mono',consolas,'Courier New',monospace\">Episode length: 3754.50 +/- 1478.96\n",
       "</pre>\n"
      ],
      "text/plain": [
       "Episode length: 3754.50 +/- 1478.96\n"
      ]
     },
     "metadata": {},
     "output_type": "display_data"
    },
    {
     "data": {
      "text/html": [
       "<pre style=\"white-space:pre;overflow-x:auto;line-height:normal;font-family:Menlo,'DejaVu Sans Mono',consolas,'Courier New',monospace\">Eval num_timesteps=6425000, episode_reward=684.50 +/- 116.84\n",
       "</pre>\n"
      ],
      "text/plain": [
       "Eval num_timesteps=6425000, episode_reward=684.50 +/- 116.84\n"
      ]
     },
     "metadata": {},
     "output_type": "display_data"
    },
    {
     "data": {
      "text/html": [
       "<pre style=\"white-space:pre;overflow-x:auto;line-height:normal;font-family:Menlo,'DejaVu Sans Mono',consolas,'Courier New',monospace\">Episode length: 3529.65 +/- 800.19\n",
       "</pre>\n"
      ],
      "text/plain": [
       "Episode length: 3529.65 +/- 800.19\n"
      ]
     },
     "metadata": {},
     "output_type": "display_data"
    },
    {
     "data": {
      "text/html": [
       "<pre style=\"white-space:pre;overflow-x:auto;line-height:normal;font-family:Menlo,'DejaVu Sans Mono',consolas,'Courier New',monospace\">Eval num_timesteps=6450000, episode_reward=653.25 +/- 151.72\n",
       "</pre>\n"
      ],
      "text/plain": [
       "Eval num_timesteps=6450000, episode_reward=653.25 +/- 151.72\n"
      ]
     },
     "metadata": {},
     "output_type": "display_data"
    },
    {
     "data": {
      "text/html": [
       "<pre style=\"white-space:pre;overflow-x:auto;line-height:normal;font-family:Menlo,'DejaVu Sans Mono',consolas,'Courier New',monospace\">Episode length: 3866.80 +/- 745.26\n",
       "</pre>\n"
      ],
      "text/plain": [
       "Episode length: 3866.80 +/- 745.26\n"
      ]
     },
     "metadata": {},
     "output_type": "display_data"
    },
    {
     "data": {
      "text/html": [
       "<pre style=\"white-space:pre;overflow-x:auto;line-height:normal;font-family:Menlo,'DejaVu Sans Mono',consolas,'Courier New',monospace\">Eval num_timesteps=6475000, episode_reward=622.25 +/- 242.45\n",
       "</pre>\n"
      ],
      "text/plain": [
       "Eval num_timesteps=6475000, episode_reward=622.25 +/- 242.45\n"
      ]
     },
     "metadata": {},
     "output_type": "display_data"
    },
    {
     "data": {
      "text/html": [
       "<pre style=\"white-space:pre;overflow-x:auto;line-height:normal;font-family:Menlo,'DejaVu Sans Mono',consolas,'Courier New',monospace\">Episode length: 4013.35 +/- 1744.93\n",
       "</pre>\n"
      ],
      "text/plain": [
       "Episode length: 4013.35 +/- 1744.93\n"
      ]
     },
     "metadata": {},
     "output_type": "display_data"
    },
    {
     "data": {
      "text/html": [
       "<pre style=\"white-space:pre;overflow-x:auto;line-height:normal;font-family:Menlo,'DejaVu Sans Mono',consolas,'Courier New',monospace\">Eval num_timesteps=6500000, episode_reward=548.50 +/- 106.17\n",
       "</pre>\n"
      ],
      "text/plain": [
       "Eval num_timesteps=6500000, episode_reward=548.50 +/- 106.17\n"
      ]
     },
     "metadata": {},
     "output_type": "display_data"
    },
    {
     "data": {
      "text/html": [
       "<pre style=\"white-space:pre;overflow-x:auto;line-height:normal;font-family:Menlo,'DejaVu Sans Mono',consolas,'Courier New',monospace\">Episode length: 3435.80 +/- 379.87\n",
       "</pre>\n"
      ],
      "text/plain": [
       "Episode length: 3435.80 +/- 379.87\n"
      ]
     },
     "metadata": {},
     "output_type": "display_data"
    },
    {
     "data": {
      "text/html": [
       "<pre style=\"white-space:pre;overflow-x:auto;line-height:normal;font-family:Menlo,'DejaVu Sans Mono',consolas,'Courier New',monospace\">Eval num_timesteps=6525000, episode_reward=558.50 +/- 32.75\n",
       "</pre>\n"
      ],
      "text/plain": [
       "Eval num_timesteps=6525000, episode_reward=558.50 +/- 32.75\n"
      ]
     },
     "metadata": {},
     "output_type": "display_data"
    },
    {
     "data": {
      "text/html": [
       "<pre style=\"white-space:pre;overflow-x:auto;line-height:normal;font-family:Menlo,'DejaVu Sans Mono',consolas,'Courier New',monospace\">Episode length: 3520.55 +/- 348.80\n",
       "</pre>\n"
      ],
      "text/plain": [
       "Episode length: 3520.55 +/- 348.80\n"
      ]
     },
     "metadata": {},
     "output_type": "display_data"
    },
    {
     "data": {
      "text/html": [
       "<pre style=\"white-space:pre;overflow-x:auto;line-height:normal;font-family:Menlo,'DejaVu Sans Mono',consolas,'Courier New',monospace\">Eval num_timesteps=6550000, episode_reward=786.75 +/- 242.18\n",
       "</pre>\n"
      ],
      "text/plain": [
       "Eval num_timesteps=6550000, episode_reward=786.75 +/- 242.18\n"
      ]
     },
     "metadata": {},
     "output_type": "display_data"
    },
    {
     "data": {
      "text/html": [
       "<pre style=\"white-space:pre;overflow-x:auto;line-height:normal;font-family:Menlo,'DejaVu Sans Mono',consolas,'Courier New',monospace\">Episode length: 4529.30 +/- 1667.85\n",
       "</pre>\n"
      ],
      "text/plain": [
       "Episode length: 4529.30 +/- 1667.85\n"
      ]
     },
     "metadata": {},
     "output_type": "display_data"
    },
    {
     "data": {
      "text/html": [
       "<pre style=\"white-space:pre;overflow-x:auto;line-height:normal;font-family:Menlo,'DejaVu Sans Mono',consolas,'Courier New',monospace\">Eval num_timesteps=6575000, episode_reward=565.25 +/- 98.94\n",
       "</pre>\n"
      ],
      "text/plain": [
       "Eval num_timesteps=6575000, episode_reward=565.25 +/- 98.94\n"
      ]
     },
     "metadata": {},
     "output_type": "display_data"
    },
    {
     "data": {
      "text/html": [
       "<pre style=\"white-space:pre;overflow-x:auto;line-height:normal;font-family:Menlo,'DejaVu Sans Mono',consolas,'Courier New',monospace\">Episode length: 3770.40 +/- 304.75\n",
       "</pre>\n"
      ],
      "text/plain": [
       "Episode length: 3770.40 +/- 304.75\n"
      ]
     },
     "metadata": {},
     "output_type": "display_data"
    },
    {
     "data": {
      "text/html": [
       "<pre style=\"white-space:pre;overflow-x:auto;line-height:normal;font-family:Menlo,'DejaVu Sans Mono',consolas,'Courier New',monospace\">Eval num_timesteps=6600000, episode_reward=590.25 +/- 77.06\n",
       "</pre>\n"
      ],
      "text/plain": [
       "Eval num_timesteps=6600000, episode_reward=590.25 +/- 77.06\n"
      ]
     },
     "metadata": {},
     "output_type": "display_data"
    },
    {
     "data": {
      "text/html": [
       "<pre style=\"white-space:pre;overflow-x:auto;line-height:normal;font-family:Menlo,'DejaVu Sans Mono',consolas,'Courier New',monospace\">Episode length: 3769.00 +/- 365.81\n",
       "</pre>\n"
      ],
      "text/plain": [
       "Episode length: 3769.00 +/- 365.81\n"
      ]
     },
     "metadata": {},
     "output_type": "display_data"
    },
    {
     "data": {
      "text/html": [
       "<pre style=\"white-space:pre;overflow-x:auto;line-height:normal;font-family:Menlo,'DejaVu Sans Mono',consolas,'Courier New',monospace\">Eval num_timesteps=6625000, episode_reward=684.00 +/- 224.27\n",
       "</pre>\n"
      ],
      "text/plain": [
       "Eval num_timesteps=6625000, episode_reward=684.00 +/- 224.27\n"
      ]
     },
     "metadata": {},
     "output_type": "display_data"
    },
    {
     "data": {
      "text/html": [
       "<pre style=\"white-space:pre;overflow-x:auto;line-height:normal;font-family:Menlo,'DejaVu Sans Mono',consolas,'Courier New',monospace\">Episode length: 4273.70 +/- 1245.13\n",
       "</pre>\n"
      ],
      "text/plain": [
       "Episode length: 4273.70 +/- 1245.13\n"
      ]
     },
     "metadata": {},
     "output_type": "display_data"
    },
    {
     "data": {
      "text/html": [
       "<pre style=\"white-space:pre;overflow-x:auto;line-height:normal;font-family:Menlo,'DejaVu Sans Mono',consolas,'Courier New',monospace\">Eval num_timesteps=6650000, episode_reward=758.50 +/- 279.58\n",
       "</pre>\n"
      ],
      "text/plain": [
       "Eval num_timesteps=6650000, episode_reward=758.50 +/- 279.58\n"
      ]
     },
     "metadata": {},
     "output_type": "display_data"
    },
    {
     "data": {
      "text/html": [
       "<pre style=\"white-space:pre;overflow-x:auto;line-height:normal;font-family:Menlo,'DejaVu Sans Mono',consolas,'Courier New',monospace\">Episode length: 5124.50 +/- 1342.80\n",
       "</pre>\n"
      ],
      "text/plain": [
       "Episode length: 5124.50 +/- 1342.80\n"
      ]
     },
     "metadata": {},
     "output_type": "display_data"
    },
    {
     "data": {
      "text/html": [
       "<pre style=\"white-space:pre;overflow-x:auto;line-height:normal;font-family:Menlo,'DejaVu Sans Mono',consolas,'Courier New',monospace\">Eval num_timesteps=6675000, episode_reward=715.50 +/- 180.32\n",
       "</pre>\n"
      ],
      "text/plain": [
       "Eval num_timesteps=6675000, episode_reward=715.50 +/- 180.32\n"
      ]
     },
     "metadata": {},
     "output_type": "display_data"
    },
    {
     "data": {
      "text/html": [
       "<pre style=\"white-space:pre;overflow-x:auto;line-height:normal;font-family:Menlo,'DejaVu Sans Mono',consolas,'Courier New',monospace\">Episode length: 4727.70 +/- 1452.83\n",
       "</pre>\n"
      ],
      "text/plain": [
       "Episode length: 4727.70 +/- 1452.83\n"
      ]
     },
     "metadata": {},
     "output_type": "display_data"
    },
    {
     "data": {
      "text/html": [
       "<pre style=\"white-space:pre;overflow-x:auto;line-height:normal;font-family:Menlo,'DejaVu Sans Mono',consolas,'Courier New',monospace\">Eval num_timesteps=6700000, episode_reward=781.00 +/- 179.22\n",
       "</pre>\n"
      ],
      "text/plain": [
       "Eval num_timesteps=6700000, episode_reward=781.00 +/- 179.22\n"
      ]
     },
     "metadata": {},
     "output_type": "display_data"
    },
    {
     "data": {
      "text/html": [
       "<pre style=\"white-space:pre;overflow-x:auto;line-height:normal;font-family:Menlo,'DejaVu Sans Mono',consolas,'Courier New',monospace\">Episode length: 4831.95 +/- 953.23\n",
       "</pre>\n"
      ],
      "text/plain": [
       "Episode length: 4831.95 +/- 953.23\n"
      ]
     },
     "metadata": {},
     "output_type": "display_data"
    },
    {
     "data": {
      "text/html": [
       "<pre style=\"white-space:pre;overflow-x:auto;line-height:normal;font-family:Menlo,'DejaVu Sans Mono',consolas,'Courier New',monospace\">Eval num_timesteps=6725000, episode_reward=627.00 +/- 111.96\n",
       "</pre>\n"
      ],
      "text/plain": [
       "Eval num_timesteps=6725000, episode_reward=627.00 +/- 111.96\n"
      ]
     },
     "metadata": {},
     "output_type": "display_data"
    },
    {
     "data": {
      "text/html": [
       "<pre style=\"white-space:pre;overflow-x:auto;line-height:normal;font-family:Menlo,'DejaVu Sans Mono',consolas,'Courier New',monospace\">Episode length: 4302.20 +/- 954.93\n",
       "</pre>\n"
      ],
      "text/plain": [
       "Episode length: 4302.20 +/- 954.93\n"
      ]
     },
     "metadata": {},
     "output_type": "display_data"
    },
    {
     "data": {
      "text/html": [
       "<pre style=\"white-space:pre;overflow-x:auto;line-height:normal;font-family:Menlo,'DejaVu Sans Mono',consolas,'Courier New',monospace\">Eval num_timesteps=6750000, episode_reward=584.00 +/- 22.95\n",
       "</pre>\n"
      ],
      "text/plain": [
       "Eval num_timesteps=6750000, episode_reward=584.00 +/- 22.95\n"
      ]
     },
     "metadata": {},
     "output_type": "display_data"
    },
    {
     "data": {
      "text/html": [
       "<pre style=\"white-space:pre;overflow-x:auto;line-height:normal;font-family:Menlo,'DejaVu Sans Mono',consolas,'Courier New',monospace\">Episode length: 3476.05 +/- 307.11\n",
       "</pre>\n"
      ],
      "text/plain": [
       "Episode length: 3476.05 +/- 307.11\n"
      ]
     },
     "metadata": {},
     "output_type": "display_data"
    },
    {
     "data": {
      "text/html": [
       "<pre style=\"white-space:pre;overflow-x:auto;line-height:normal;font-family:Menlo,'DejaVu Sans Mono',consolas,'Courier New',monospace\">Eval num_timesteps=6775000, episode_reward=583.25 +/- 104.20\n",
       "</pre>\n"
      ],
      "text/plain": [
       "Eval num_timesteps=6775000, episode_reward=583.25 +/- 104.20\n"
      ]
     },
     "metadata": {},
     "output_type": "display_data"
    },
    {
     "data": {
      "text/html": [
       "<pre style=\"white-space:pre;overflow-x:auto;line-height:normal;font-family:Menlo,'DejaVu Sans Mono',consolas,'Courier New',monospace\">Episode length: 3512.60 +/- 896.84\n",
       "</pre>\n"
      ],
      "text/plain": [
       "Episode length: 3512.60 +/- 896.84\n"
      ]
     },
     "metadata": {},
     "output_type": "display_data"
    },
    {
     "data": {
      "text/html": [
       "<pre style=\"white-space:pre;overflow-x:auto;line-height:normal;font-family:Menlo,'DejaVu Sans Mono',consolas,'Courier New',monospace\">Eval num_timesteps=6800000, episode_reward=594.75 +/- 76.33\n",
       "</pre>\n"
      ],
      "text/plain": [
       "Eval num_timesteps=6800000, episode_reward=594.75 +/- 76.33\n"
      ]
     },
     "metadata": {},
     "output_type": "display_data"
    },
    {
     "data": {
      "text/html": [
       "<pre style=\"white-space:pre;overflow-x:auto;line-height:normal;font-family:Menlo,'DejaVu Sans Mono',consolas,'Courier New',monospace\">Episode length: 3763.30 +/- 451.16\n",
       "</pre>\n"
      ],
      "text/plain": [
       "Episode length: 3763.30 +/- 451.16\n"
      ]
     },
     "metadata": {},
     "output_type": "display_data"
    },
    {
     "data": {
      "text/html": [
       "<pre style=\"white-space:pre;overflow-x:auto;line-height:normal;font-family:Menlo,'DejaVu Sans Mono',consolas,'Courier New',monospace\">Eval num_timesteps=6825000, episode_reward=724.50 +/- 215.77\n",
       "</pre>\n"
      ],
      "text/plain": [
       "Eval num_timesteps=6825000, episode_reward=724.50 +/- 215.77\n"
      ]
     },
     "metadata": {},
     "output_type": "display_data"
    },
    {
     "data": {
      "text/html": [
       "<pre style=\"white-space:pre;overflow-x:auto;line-height:normal;font-family:Menlo,'DejaVu Sans Mono',consolas,'Courier New',monospace\">Episode length: 4244.75 +/- 1258.19\n",
       "</pre>\n"
      ],
      "text/plain": [
       "Episode length: 4244.75 +/- 1258.19\n"
      ]
     },
     "metadata": {},
     "output_type": "display_data"
    },
    {
     "data": {
      "text/html": [
       "<pre style=\"white-space:pre;overflow-x:auto;line-height:normal;font-family:Menlo,'DejaVu Sans Mono',consolas,'Courier New',monospace\">Eval num_timesteps=6850000, episode_reward=661.50 +/- 154.64\n",
       "</pre>\n"
      ],
      "text/plain": [
       "Eval num_timesteps=6850000, episode_reward=661.50 +/- 154.64\n"
      ]
     },
     "metadata": {},
     "output_type": "display_data"
    },
    {
     "data": {
      "text/html": [
       "<pre style=\"white-space:pre;overflow-x:auto;line-height:normal;font-family:Menlo,'DejaVu Sans Mono',consolas,'Courier New',monospace\">Episode length: 3628.35 +/- 198.32\n",
       "</pre>\n"
      ],
      "text/plain": [
       "Episode length: 3628.35 +/- 198.32\n"
      ]
     },
     "metadata": {},
     "output_type": "display_data"
    },
    {
     "data": {
      "text/html": [
       "<pre style=\"white-space:pre;overflow-x:auto;line-height:normal;font-family:Menlo,'DejaVu Sans Mono',consolas,'Courier New',monospace\">Eval num_timesteps=6875000, episode_reward=554.25 +/- 154.47\n",
       "</pre>\n"
      ],
      "text/plain": [
       "Eval num_timesteps=6875000, episode_reward=554.25 +/- 154.47\n"
      ]
     },
     "metadata": {},
     "output_type": "display_data"
    },
    {
     "data": {
      "text/html": [
       "<pre style=\"white-space:pre;overflow-x:auto;line-height:normal;font-family:Menlo,'DejaVu Sans Mono',consolas,'Courier New',monospace\">Episode length: 3450.40 +/- 727.57\n",
       "</pre>\n"
      ],
      "text/plain": [
       "Episode length: 3450.40 +/- 727.57\n"
      ]
     },
     "metadata": {},
     "output_type": "display_data"
    },
    {
     "data": {
      "text/html": [
       "<pre style=\"white-space:pre;overflow-x:auto;line-height:normal;font-family:Menlo,'DejaVu Sans Mono',consolas,'Courier New',monospace\">Eval num_timesteps=6900000, episode_reward=660.00 +/- 124.45\n",
       "</pre>\n"
      ],
      "text/plain": [
       "Eval num_timesteps=6900000, episode_reward=660.00 +/- 124.45\n"
      ]
     },
     "metadata": {},
     "output_type": "display_data"
    },
    {
     "data": {
      "text/html": [
       "<pre style=\"white-space:pre;overflow-x:auto;line-height:normal;font-family:Menlo,'DejaVu Sans Mono',consolas,'Courier New',monospace\">Episode length: 3510.80 +/- 834.49\n",
       "</pre>\n"
      ],
      "text/plain": [
       "Episode length: 3510.80 +/- 834.49\n"
      ]
     },
     "metadata": {},
     "output_type": "display_data"
    },
    {
     "data": {
      "text/html": [
       "<pre style=\"white-space:pre;overflow-x:auto;line-height:normal;font-family:Menlo,'DejaVu Sans Mono',consolas,'Courier New',monospace\">Eval num_timesteps=6925000, episode_reward=887.75 +/- 270.37\n",
       "</pre>\n"
      ],
      "text/plain": [
       "Eval num_timesteps=6925000, episode_reward=887.75 +/- 270.37\n"
      ]
     },
     "metadata": {},
     "output_type": "display_data"
    },
    {
     "data": {
      "text/html": [
       "<pre style=\"white-space:pre;overflow-x:auto;line-height:normal;font-family:Menlo,'DejaVu Sans Mono',consolas,'Courier New',monospace\">Episode length: 5345.60 +/- 1829.78\n",
       "</pre>\n"
      ],
      "text/plain": [
       "Episode length: 5345.60 +/- 1829.78\n"
      ]
     },
     "metadata": {},
     "output_type": "display_data"
    },
    {
     "data": {
      "text/html": [
       "<pre style=\"white-space:pre;overflow-x:auto;line-height:normal;font-family:Menlo,'DejaVu Sans Mono',consolas,'Courier New',monospace\">Eval num_timesteps=6950000, episode_reward=644.50 +/- 174.23\n",
       "</pre>\n"
      ],
      "text/plain": [
       "Eval num_timesteps=6950000, episode_reward=644.50 +/- 174.23\n"
      ]
     },
     "metadata": {},
     "output_type": "display_data"
    },
    {
     "data": {
      "text/html": [
       "<pre style=\"white-space:pre;overflow-x:auto;line-height:normal;font-family:Menlo,'DejaVu Sans Mono',consolas,'Courier New',monospace\">Episode length: 3990.05 +/- 747.01\n",
       "</pre>\n"
      ],
      "text/plain": [
       "Episode length: 3990.05 +/- 747.01\n"
      ]
     },
     "metadata": {},
     "output_type": "display_data"
    },
    {
     "data": {
      "text/html": [
       "<pre style=\"white-space:pre;overflow-x:auto;line-height:normal;font-family:Menlo,'DejaVu Sans Mono',consolas,'Courier New',monospace\">Eval num_timesteps=6975000, episode_reward=561.25 +/- 56.79\n",
       "</pre>\n"
      ],
      "text/plain": [
       "Eval num_timesteps=6975000, episode_reward=561.25 +/- 56.79\n"
      ]
     },
     "metadata": {},
     "output_type": "display_data"
    },
    {
     "data": {
      "text/html": [
       "<pre style=\"white-space:pre;overflow-x:auto;line-height:normal;font-family:Menlo,'DejaVu Sans Mono',consolas,'Courier New',monospace\">Episode length: 3932.05 +/- 578.65\n",
       "</pre>\n"
      ],
      "text/plain": [
       "Episode length: 3932.05 +/- 578.65\n"
      ]
     },
     "metadata": {},
     "output_type": "display_data"
    },
    {
     "data": {
      "text/html": [
       "<pre style=\"white-space:pre;overflow-x:auto;line-height:normal;font-family:Menlo,'DejaVu Sans Mono',consolas,'Courier New',monospace\">Eval num_timesteps=7000000, episode_reward=591.25 +/- 61.76\n",
       "</pre>\n"
      ],
      "text/plain": [
       "Eval num_timesteps=7000000, episode_reward=591.25 +/- 61.76\n"
      ]
     },
     "metadata": {},
     "output_type": "display_data"
    },
    {
     "data": {
      "text/html": [
       "<pre style=\"white-space:pre;overflow-x:auto;line-height:normal;font-family:Menlo,'DejaVu Sans Mono',consolas,'Courier New',monospace\">Episode length: 3255.70 +/- 314.40\n",
       "</pre>\n"
      ],
      "text/plain": [
       "Episode length: 3255.70 +/- 314.40\n"
      ]
     },
     "metadata": {},
     "output_type": "display_data"
    },
    {
     "data": {
      "text/html": [
       "<pre style=\"white-space:pre;overflow-x:auto;line-height:normal;font-family:Menlo,'DejaVu Sans Mono',consolas,'Courier New',monospace\">Eval num_timesteps=7025000, episode_reward=627.25 +/- 121.31\n",
       "</pre>\n"
      ],
      "text/plain": [
       "Eval num_timesteps=7025000, episode_reward=627.25 +/- 121.31\n"
      ]
     },
     "metadata": {},
     "output_type": "display_data"
    },
    {
     "data": {
      "text/html": [
       "<pre style=\"white-space:pre;overflow-x:auto;line-height:normal;font-family:Menlo,'DejaVu Sans Mono',consolas,'Courier New',monospace\">Episode length: 3292.35 +/- 622.60\n",
       "</pre>\n"
      ],
      "text/plain": [
       "Episode length: 3292.35 +/- 622.60\n"
      ]
     },
     "metadata": {},
     "output_type": "display_data"
    },
    {
     "data": {
      "text/html": [
       "<pre style=\"white-space:pre;overflow-x:auto;line-height:normal;font-family:Menlo,'DejaVu Sans Mono',consolas,'Courier New',monospace\">Eval num_timesteps=7050000, episode_reward=605.25 +/- 84.68\n",
       "</pre>\n"
      ],
      "text/plain": [
       "Eval num_timesteps=7050000, episode_reward=605.25 +/- 84.68\n"
      ]
     },
     "metadata": {},
     "output_type": "display_data"
    },
    {
     "data": {
      "text/html": [
       "<pre style=\"white-space:pre;overflow-x:auto;line-height:normal;font-family:Menlo,'DejaVu Sans Mono',consolas,'Courier New',monospace\">Episode length: 3669.95 +/- 120.36\n",
       "</pre>\n"
      ],
      "text/plain": [
       "Episode length: 3669.95 +/- 120.36\n"
      ]
     },
     "metadata": {},
     "output_type": "display_data"
    },
    {
     "data": {
      "text/html": [
       "<pre style=\"white-space:pre;overflow-x:auto;line-height:normal;font-family:Menlo,'DejaVu Sans Mono',consolas,'Courier New',monospace\">Eval num_timesteps=7075000, episode_reward=770.25 +/- 248.94\n",
       "</pre>\n"
      ],
      "text/plain": [
       "Eval num_timesteps=7075000, episode_reward=770.25 +/- 248.94\n"
      ]
     },
     "metadata": {},
     "output_type": "display_data"
    },
    {
     "data": {
      "text/html": [
       "<pre style=\"white-space:pre;overflow-x:auto;line-height:normal;font-family:Menlo,'DejaVu Sans Mono',consolas,'Courier New',monospace\">Episode length: 4534.60 +/- 1014.98\n",
       "</pre>\n"
      ],
      "text/plain": [
       "Episode length: 4534.60 +/- 1014.98\n"
      ]
     },
     "metadata": {},
     "output_type": "display_data"
    },
    {
     "data": {
      "text/html": [
       "<pre style=\"white-space:pre;overflow-x:auto;line-height:normal;font-family:Menlo,'DejaVu Sans Mono',consolas,'Courier New',monospace\">Eval num_timesteps=7100000, episode_reward=584.25 +/- 153.05\n",
       "</pre>\n"
      ],
      "text/plain": [
       "Eval num_timesteps=7100000, episode_reward=584.25 +/- 153.05\n"
      ]
     },
     "metadata": {},
     "output_type": "display_data"
    },
    {
     "data": {
      "text/html": [
       "<pre style=\"white-space:pre;overflow-x:auto;line-height:normal;font-family:Menlo,'DejaVu Sans Mono',consolas,'Courier New',monospace\">Episode length: 3863.10 +/- 1081.23\n",
       "</pre>\n"
      ],
      "text/plain": [
       "Episode length: 3863.10 +/- 1081.23\n"
      ]
     },
     "metadata": {},
     "output_type": "display_data"
    },
    {
     "data": {
      "text/html": [
       "<pre style=\"white-space:pre;overflow-x:auto;line-height:normal;font-family:Menlo,'DejaVu Sans Mono',consolas,'Courier New',monospace\">Eval num_timesteps=7125000, episode_reward=762.00 +/- 191.93\n",
       "</pre>\n"
      ],
      "text/plain": [
       "Eval num_timesteps=7125000, episode_reward=762.00 +/- 191.93\n"
      ]
     },
     "metadata": {},
     "output_type": "display_data"
    },
    {
     "data": {
      "text/html": [
       "<pre style=\"white-space:pre;overflow-x:auto;line-height:normal;font-family:Menlo,'DejaVu Sans Mono',consolas,'Courier New',monospace\">Episode length: 4614.70 +/- 944.19\n",
       "</pre>\n"
      ],
      "text/plain": [
       "Episode length: 4614.70 +/- 944.19\n"
      ]
     },
     "metadata": {},
     "output_type": "display_data"
    },
    {
     "data": {
      "text/html": [
       "<pre style=\"white-space:pre;overflow-x:auto;line-height:normal;font-family:Menlo,'DejaVu Sans Mono',consolas,'Courier New',monospace\">Eval num_timesteps=7150000, episode_reward=659.50 +/- 81.08\n",
       "</pre>\n"
      ],
      "text/plain": [
       "Eval num_timesteps=7150000, episode_reward=659.50 +/- 81.08\n"
      ]
     },
     "metadata": {},
     "output_type": "display_data"
    },
    {
     "data": {
      "text/html": [
       "<pre style=\"white-space:pre;overflow-x:auto;line-height:normal;font-family:Menlo,'DejaVu Sans Mono',consolas,'Courier New',monospace\">Episode length: 3791.75 +/- 410.15\n",
       "</pre>\n"
      ],
      "text/plain": [
       "Episode length: 3791.75 +/- 410.15\n"
      ]
     },
     "metadata": {},
     "output_type": "display_data"
    },
    {
     "data": {
      "text/html": [
       "<pre style=\"white-space:pre;overflow-x:auto;line-height:normal;font-family:Menlo,'DejaVu Sans Mono',consolas,'Courier New',monospace\">Eval num_timesteps=7175000, episode_reward=627.75 +/- 64.57\n",
       "</pre>\n"
      ],
      "text/plain": [
       "Eval num_timesteps=7175000, episode_reward=627.75 +/- 64.57\n"
      ]
     },
     "metadata": {},
     "output_type": "display_data"
    },
    {
     "data": {
      "text/html": [
       "<pre style=\"white-space:pre;overflow-x:auto;line-height:normal;font-family:Menlo,'DejaVu Sans Mono',consolas,'Courier New',monospace\">Episode length: 3879.60 +/- 313.93\n",
       "</pre>\n"
      ],
      "text/plain": [
       "Episode length: 3879.60 +/- 313.93\n"
      ]
     },
     "metadata": {},
     "output_type": "display_data"
    },
    {
     "data": {
      "text/html": [
       "<pre style=\"white-space:pre;overflow-x:auto;line-height:normal;font-family:Menlo,'DejaVu Sans Mono',consolas,'Courier New',monospace\">Eval num_timesteps=7200000, episode_reward=609.25 +/- 177.67\n",
       "</pre>\n"
      ],
      "text/plain": [
       "Eval num_timesteps=7200000, episode_reward=609.25 +/- 177.67\n"
      ]
     },
     "metadata": {},
     "output_type": "display_data"
    },
    {
     "data": {
      "text/html": [
       "<pre style=\"white-space:pre;overflow-x:auto;line-height:normal;font-family:Menlo,'DejaVu Sans Mono',consolas,'Courier New',monospace\">Episode length: 3689.25 +/- 563.03\n",
       "</pre>\n"
      ],
      "text/plain": [
       "Episode length: 3689.25 +/- 563.03\n"
      ]
     },
     "metadata": {},
     "output_type": "display_data"
    },
    {
     "data": {
      "text/html": [
       "<pre style=\"white-space:pre;overflow-x:auto;line-height:normal;font-family:Menlo,'DejaVu Sans Mono',consolas,'Courier New',monospace\">Eval num_timesteps=7225000, episode_reward=660.00 +/- 88.49\n",
       "</pre>\n"
      ],
      "text/plain": [
       "Eval num_timesteps=7225000, episode_reward=660.00 +/- 88.49\n"
      ]
     },
     "metadata": {},
     "output_type": "display_data"
    },
    {
     "data": {
      "text/html": [
       "<pre style=\"white-space:pre;overflow-x:auto;line-height:normal;font-family:Menlo,'DejaVu Sans Mono',consolas,'Courier New',monospace\">Episode length: 3986.10 +/- 549.58\n",
       "</pre>\n"
      ],
      "text/plain": [
       "Episode length: 3986.10 +/- 549.58\n"
      ]
     },
     "metadata": {},
     "output_type": "display_data"
    },
    {
     "data": {
      "text/html": [
       "<pre style=\"white-space:pre;overflow-x:auto;line-height:normal;font-family:Menlo,'DejaVu Sans Mono',consolas,'Courier New',monospace\">Eval num_timesteps=7250000, episode_reward=589.25 +/- 118.35\n",
       "</pre>\n"
      ],
      "text/plain": [
       "Eval num_timesteps=7250000, episode_reward=589.25 +/- 118.35\n"
      ]
     },
     "metadata": {},
     "output_type": "display_data"
    },
    {
     "data": {
      "text/html": [
       "<pre style=\"white-space:pre;overflow-x:auto;line-height:normal;font-family:Menlo,'DejaVu Sans Mono',consolas,'Courier New',monospace\">Episode length: 3123.10 +/- 819.78\n",
       "</pre>\n"
      ],
      "text/plain": [
       "Episode length: 3123.10 +/- 819.78\n"
      ]
     },
     "metadata": {},
     "output_type": "display_data"
    },
    {
     "data": {
      "text/html": [
       "<pre style=\"white-space:pre;overflow-x:auto;line-height:normal;font-family:Menlo,'DejaVu Sans Mono',consolas,'Courier New',monospace\">Eval num_timesteps=7275000, episode_reward=662.00 +/- 190.60\n",
       "</pre>\n"
      ],
      "text/plain": [
       "Eval num_timesteps=7275000, episode_reward=662.00 +/- 190.60\n"
      ]
     },
     "metadata": {},
     "output_type": "display_data"
    },
    {
     "data": {
      "text/html": [
       "<pre style=\"white-space:pre;overflow-x:auto;line-height:normal;font-family:Menlo,'DejaVu Sans Mono',consolas,'Courier New',monospace\">Episode length: 3989.05 +/- 607.40\n",
       "</pre>\n"
      ],
      "text/plain": [
       "Episode length: 3989.05 +/- 607.40\n"
      ]
     },
     "metadata": {},
     "output_type": "display_data"
    },
    {
     "data": {
      "text/html": [
       "<pre style=\"white-space:pre;overflow-x:auto;line-height:normal;font-family:Menlo,'DejaVu Sans Mono',consolas,'Courier New',monospace\">Eval num_timesteps=7300000, episode_reward=556.75 +/- 91.87\n",
       "</pre>\n"
      ],
      "text/plain": [
       "Eval num_timesteps=7300000, episode_reward=556.75 +/- 91.87\n"
      ]
     },
     "metadata": {},
     "output_type": "display_data"
    },
    {
     "data": {
      "text/html": [
       "<pre style=\"white-space:pre;overflow-x:auto;line-height:normal;font-family:Menlo,'DejaVu Sans Mono',consolas,'Courier New',monospace\">Episode length: 3345.00 +/- 459.69\n",
       "</pre>\n"
      ],
      "text/plain": [
       "Episode length: 3345.00 +/- 459.69\n"
      ]
     },
     "metadata": {},
     "output_type": "display_data"
    },
    {
     "data": {
      "text/html": [
       "<pre style=\"white-space:pre;overflow-x:auto;line-height:normal;font-family:Menlo,'DejaVu Sans Mono',consolas,'Courier New',monospace\">Eval num_timesteps=7325000, episode_reward=626.25 +/- 187.76\n",
       "</pre>\n"
      ],
      "text/plain": [
       "Eval num_timesteps=7325000, episode_reward=626.25 +/- 187.76\n"
      ]
     },
     "metadata": {},
     "output_type": "display_data"
    },
    {
     "data": {
      "text/html": [
       "<pre style=\"white-space:pre;overflow-x:auto;line-height:normal;font-family:Menlo,'DejaVu Sans Mono',consolas,'Courier New',monospace\">Episode length: 3961.40 +/- 982.17\n",
       "</pre>\n"
      ],
      "text/plain": [
       "Episode length: 3961.40 +/- 982.17\n"
      ]
     },
     "metadata": {},
     "output_type": "display_data"
    },
    {
     "data": {
      "text/html": [
       "<pre style=\"white-space:pre;overflow-x:auto;line-height:normal;font-family:Menlo,'DejaVu Sans Mono',consolas,'Courier New',monospace\">Eval num_timesteps=7350000, episode_reward=688.00 +/- 268.19\n",
       "</pre>\n"
      ],
      "text/plain": [
       "Eval num_timesteps=7350000, episode_reward=688.00 +/- 268.19\n"
      ]
     },
     "metadata": {},
     "output_type": "display_data"
    },
    {
     "data": {
      "text/html": [
       "<pre style=\"white-space:pre;overflow-x:auto;line-height:normal;font-family:Menlo,'DejaVu Sans Mono',consolas,'Courier New',monospace\">Episode length: 4099.90 +/- 1468.88\n",
       "</pre>\n"
      ],
      "text/plain": [
       "Episode length: 4099.90 +/- 1468.88\n"
      ]
     },
     "metadata": {},
     "output_type": "display_data"
    },
    {
     "data": {
      "text/html": [
       "<pre style=\"white-space:pre;overflow-x:auto;line-height:normal;font-family:Menlo,'DejaVu Sans Mono',consolas,'Courier New',monospace\">Eval num_timesteps=7375000, episode_reward=594.00 +/- 23.11\n",
       "</pre>\n"
      ],
      "text/plain": [
       "Eval num_timesteps=7375000, episode_reward=594.00 +/- 23.11\n"
      ]
     },
     "metadata": {},
     "output_type": "display_data"
    },
    {
     "data": {
      "text/html": [
       "<pre style=\"white-space:pre;overflow-x:auto;line-height:normal;font-family:Menlo,'DejaVu Sans Mono',consolas,'Courier New',monospace\">Episode length: 3358.70 +/- 343.12\n",
       "</pre>\n"
      ],
      "text/plain": [
       "Episode length: 3358.70 +/- 343.12\n"
      ]
     },
     "metadata": {},
     "output_type": "display_data"
    },
    {
     "data": {
      "text/html": [
       "<pre style=\"white-space:pre;overflow-x:auto;line-height:normal;font-family:Menlo,'DejaVu Sans Mono',consolas,'Courier New',monospace\">Eval num_timesteps=7400000, episode_reward=686.00 +/- 193.32\n",
       "</pre>\n"
      ],
      "text/plain": [
       "Eval num_timesteps=7400000, episode_reward=686.00 +/- 193.32\n"
      ]
     },
     "metadata": {},
     "output_type": "display_data"
    },
    {
     "data": {
      "text/html": [
       "<pre style=\"white-space:pre;overflow-x:auto;line-height:normal;font-family:Menlo,'DejaVu Sans Mono',consolas,'Courier New',monospace\">Episode length: 4335.80 +/- 807.89\n",
       "</pre>\n"
      ],
      "text/plain": [
       "Episode length: 4335.80 +/- 807.89\n"
      ]
     },
     "metadata": {},
     "output_type": "display_data"
    },
    {
     "data": {
      "text/html": [
       "<pre style=\"white-space:pre;overflow-x:auto;line-height:normal;font-family:Menlo,'DejaVu Sans Mono',consolas,'Courier New',monospace\">Eval num_timesteps=7425000, episode_reward=967.50 +/- 274.01\n",
       "</pre>\n"
      ],
      "text/plain": [
       "Eval num_timesteps=7425000, episode_reward=967.50 +/- 274.01\n"
      ]
     },
     "metadata": {},
     "output_type": "display_data"
    },
    {
     "data": {
      "text/html": [
       "<pre style=\"white-space:pre;overflow-x:auto;line-height:normal;font-family:Menlo,'DejaVu Sans Mono',consolas,'Courier New',monospace\">Episode length: 5033.20 +/- 1271.26\n",
       "</pre>\n"
      ],
      "text/plain": [
       "Episode length: 5033.20 +/- 1271.26\n"
      ]
     },
     "metadata": {},
     "output_type": "display_data"
    },
    {
     "data": {
      "text/html": [
       "<pre style=\"white-space:pre;overflow-x:auto;line-height:normal;font-family:Menlo,'DejaVu Sans Mono',consolas,'Courier New',monospace\">Eval num_timesteps=7450000, episode_reward=683.50 +/- 87.54\n",
       "</pre>\n"
      ],
      "text/plain": [
       "Eval num_timesteps=7450000, episode_reward=683.50 +/- 87.54\n"
      ]
     },
     "metadata": {},
     "output_type": "display_data"
    },
    {
     "data": {
      "text/html": [
       "<pre style=\"white-space:pre;overflow-x:auto;line-height:normal;font-family:Menlo,'DejaVu Sans Mono',consolas,'Courier New',monospace\">Episode length: 3657.05 +/- 473.32\n",
       "</pre>\n"
      ],
      "text/plain": [
       "Episode length: 3657.05 +/- 473.32\n"
      ]
     },
     "metadata": {},
     "output_type": "display_data"
    },
    {
     "data": {
      "text/html": [
       "<pre style=\"white-space:pre;overflow-x:auto;line-height:normal;font-family:Menlo,'DejaVu Sans Mono',consolas,'Courier New',monospace\">Eval num_timesteps=7475000, episode_reward=447.75 +/- 124.78\n",
       "</pre>\n"
      ],
      "text/plain": [
       "Eval num_timesteps=7475000, episode_reward=447.75 +/- 124.78\n"
      ]
     },
     "metadata": {},
     "output_type": "display_data"
    },
    {
     "data": {
      "text/html": [
       "<pre style=\"white-space:pre;overflow-x:auto;line-height:normal;font-family:Menlo,'DejaVu Sans Mono',consolas,'Courier New',monospace\">Episode length: 2994.20 +/- 749.00\n",
       "</pre>\n"
      ],
      "text/plain": [
       "Episode length: 2994.20 +/- 749.00\n"
      ]
     },
     "metadata": {},
     "output_type": "display_data"
    },
    {
     "data": {
      "text/html": [
       "<pre style=\"white-space:pre;overflow-x:auto;line-height:normal;font-family:Menlo,'DejaVu Sans Mono',consolas,'Courier New',monospace\">Eval num_timesteps=7500000, episode_reward=660.25 +/- 94.91\n",
       "</pre>\n"
      ],
      "text/plain": [
       "Eval num_timesteps=7500000, episode_reward=660.25 +/- 94.91\n"
      ]
     },
     "metadata": {},
     "output_type": "display_data"
    },
    {
     "data": {
      "text/html": [
       "<pre style=\"white-space:pre;overflow-x:auto;line-height:normal;font-family:Menlo,'DejaVu Sans Mono',consolas,'Courier New',monospace\">Episode length: 3685.80 +/- 271.35\n",
       "</pre>\n"
      ],
      "text/plain": [
       "Episode length: 3685.80 +/- 271.35\n"
      ]
     },
     "metadata": {},
     "output_type": "display_data"
    },
    {
     "data": {
      "text/html": [
       "<pre style=\"white-space:pre;overflow-x:auto;line-height:normal;font-family:Menlo,'DejaVu Sans Mono',consolas,'Courier New',monospace\">Eval num_timesteps=7525000, episode_reward=550.00 +/- 37.08\n",
       "</pre>\n"
      ],
      "text/plain": [
       "Eval num_timesteps=7525000, episode_reward=550.00 +/- 37.08\n"
      ]
     },
     "metadata": {},
     "output_type": "display_data"
    },
    {
     "data": {
      "text/html": [
       "<pre style=\"white-space:pre;overflow-x:auto;line-height:normal;font-family:Menlo,'DejaVu Sans Mono',consolas,'Courier New',monospace\">Episode length: 3632.75 +/- 279.84\n",
       "</pre>\n"
      ],
      "text/plain": [
       "Episode length: 3632.75 +/- 279.84\n"
      ]
     },
     "metadata": {},
     "output_type": "display_data"
    },
    {
     "data": {
      "text/html": [
       "<pre style=\"white-space:pre;overflow-x:auto;line-height:normal;font-family:Menlo,'DejaVu Sans Mono',consolas,'Courier New',monospace\">Eval num_timesteps=7550000, episode_reward=577.25 +/- 144.13\n",
       "</pre>\n"
      ],
      "text/plain": [
       "Eval num_timesteps=7550000, episode_reward=577.25 +/- 144.13\n"
      ]
     },
     "metadata": {},
     "output_type": "display_data"
    },
    {
     "data": {
      "text/html": [
       "<pre style=\"white-space:pre;overflow-x:auto;line-height:normal;font-family:Menlo,'DejaVu Sans Mono',consolas,'Courier New',monospace\">Episode length: 3298.25 +/- 922.03\n",
       "</pre>\n"
      ],
      "text/plain": [
       "Episode length: 3298.25 +/- 922.03\n"
      ]
     },
     "metadata": {},
     "output_type": "display_data"
    },
    {
     "data": {
      "text/html": [
       "<pre style=\"white-space:pre;overflow-x:auto;line-height:normal;font-family:Menlo,'DejaVu Sans Mono',consolas,'Courier New',monospace\">Eval num_timesteps=7575000, episode_reward=644.25 +/- 103.01\n",
       "</pre>\n"
      ],
      "text/plain": [
       "Eval num_timesteps=7575000, episode_reward=644.25 +/- 103.01\n"
      ]
     },
     "metadata": {},
     "output_type": "display_data"
    },
    {
     "data": {
      "text/html": [
       "<pre style=\"white-space:pre;overflow-x:auto;line-height:normal;font-family:Menlo,'DejaVu Sans Mono',consolas,'Courier New',monospace\">Episode length: 3344.95 +/- 301.74\n",
       "</pre>\n"
      ],
      "text/plain": [
       "Episode length: 3344.95 +/- 301.74\n"
      ]
     },
     "metadata": {},
     "output_type": "display_data"
    },
    {
     "data": {
      "text/html": [
       "<pre style=\"white-space:pre;overflow-x:auto;line-height:normal;font-family:Menlo,'DejaVu Sans Mono',consolas,'Courier New',monospace\">Eval num_timesteps=7600000, episode_reward=761.25 +/- 341.50\n",
       "</pre>\n"
      ],
      "text/plain": [
       "Eval num_timesteps=7600000, episode_reward=761.25 +/- 341.50\n"
      ]
     },
     "metadata": {},
     "output_type": "display_data"
    },
    {
     "data": {
      "text/html": [
       "<pre style=\"white-space:pre;overflow-x:auto;line-height:normal;font-family:Menlo,'DejaVu Sans Mono',consolas,'Courier New',monospace\">Episode length: 4271.20 +/- 1611.33\n",
       "</pre>\n"
      ],
      "text/plain": [
       "Episode length: 4271.20 +/- 1611.33\n"
      ]
     },
     "metadata": {},
     "output_type": "display_data"
    },
    {
     "data": {
      "text/html": [
       "<pre style=\"white-space:pre;overflow-x:auto;line-height:normal;font-family:Menlo,'DejaVu Sans Mono',consolas,'Courier New',monospace\">Eval num_timesteps=7625000, episode_reward=718.50 +/- 179.21\n",
       "</pre>\n"
      ],
      "text/plain": [
       "Eval num_timesteps=7625000, episode_reward=718.50 +/- 179.21\n"
      ]
     },
     "metadata": {},
     "output_type": "display_data"
    },
    {
     "data": {
      "text/html": [
       "<pre style=\"white-space:pre;overflow-x:auto;line-height:normal;font-family:Menlo,'DejaVu Sans Mono',consolas,'Courier New',monospace\">Episode length: 4029.35 +/- 532.09\n",
       "</pre>\n"
      ],
      "text/plain": [
       "Episode length: 4029.35 +/- 532.09\n"
      ]
     },
     "metadata": {},
     "output_type": "display_data"
    },
    {
     "data": {
      "text/html": [
       "<pre style=\"white-space:pre;overflow-x:auto;line-height:normal;font-family:Menlo,'DejaVu Sans Mono',consolas,'Courier New',monospace\">Eval num_timesteps=7650000, episode_reward=528.25 +/- 217.18\n",
       "</pre>\n"
      ],
      "text/plain": [
       "Eval num_timesteps=7650000, episode_reward=528.25 +/- 217.18\n"
      ]
     },
     "metadata": {},
     "output_type": "display_data"
    },
    {
     "data": {
      "text/html": [
       "<pre style=\"white-space:pre;overflow-x:auto;line-height:normal;font-family:Menlo,'DejaVu Sans Mono',consolas,'Courier New',monospace\">Episode length: 3653.20 +/- 886.99\n",
       "</pre>\n"
      ],
      "text/plain": [
       "Episode length: 3653.20 +/- 886.99\n"
      ]
     },
     "metadata": {},
     "output_type": "display_data"
    },
    {
     "data": {
      "text/html": [
       "<pre style=\"white-space:pre;overflow-x:auto;line-height:normal;font-family:Menlo,'DejaVu Sans Mono',consolas,'Courier New',monospace\">Eval num_timesteps=7675000, episode_reward=678.25 +/- 198.42\n",
       "</pre>\n"
      ],
      "text/plain": [
       "Eval num_timesteps=7675000, episode_reward=678.25 +/- 198.42\n"
      ]
     },
     "metadata": {},
     "output_type": "display_data"
    },
    {
     "data": {
      "text/html": [
       "<pre style=\"white-space:pre;overflow-x:auto;line-height:normal;font-family:Menlo,'DejaVu Sans Mono',consolas,'Courier New',monospace\">Episode length: 4150.80 +/- 1027.79\n",
       "</pre>\n"
      ],
      "text/plain": [
       "Episode length: 4150.80 +/- 1027.79\n"
      ]
     },
     "metadata": {},
     "output_type": "display_data"
    },
    {
     "data": {
      "text/html": [
       "<pre style=\"white-space:pre;overflow-x:auto;line-height:normal;font-family:Menlo,'DejaVu Sans Mono',consolas,'Courier New',monospace\">Eval num_timesteps=7700000, episode_reward=726.00 +/- 224.57\n",
       "</pre>\n"
      ],
      "text/plain": [
       "Eval num_timesteps=7700000, episode_reward=726.00 +/- 224.57\n"
      ]
     },
     "metadata": {},
     "output_type": "display_data"
    },
    {
     "data": {
      "text/html": [
       "<pre style=\"white-space:pre;overflow-x:auto;line-height:normal;font-family:Menlo,'DejaVu Sans Mono',consolas,'Courier New',monospace\">Episode length: 3582.80 +/- 894.28\n",
       "</pre>\n"
      ],
      "text/plain": [
       "Episode length: 3582.80 +/- 894.28\n"
      ]
     },
     "metadata": {},
     "output_type": "display_data"
    },
    {
     "data": {
      "text/html": [
       "<pre style=\"white-space:pre;overflow-x:auto;line-height:normal;font-family:Menlo,'DejaVu Sans Mono',consolas,'Courier New',monospace\">Eval num_timesteps=7725000, episode_reward=464.25 +/- 180.56\n",
       "</pre>\n"
      ],
      "text/plain": [
       "Eval num_timesteps=7725000, episode_reward=464.25 +/- 180.56\n"
      ]
     },
     "metadata": {},
     "output_type": "display_data"
    },
    {
     "data": {
      "text/html": [
       "<pre style=\"white-space:pre;overflow-x:auto;line-height:normal;font-family:Menlo,'DejaVu Sans Mono',consolas,'Courier New',monospace\">Episode length: 3127.75 +/- 602.98\n",
       "</pre>\n"
      ],
      "text/plain": [
       "Episode length: 3127.75 +/- 602.98\n"
      ]
     },
     "metadata": {},
     "output_type": "display_data"
    },
    {
     "data": {
      "text/html": [
       "<pre style=\"white-space:pre;overflow-x:auto;line-height:normal;font-family:Menlo,'DejaVu Sans Mono',consolas,'Courier New',monospace\">Eval num_timesteps=7750000, episode_reward=911.75 +/- 243.23\n",
       "</pre>\n"
      ],
      "text/plain": [
       "Eval num_timesteps=7750000, episode_reward=911.75 +/- 243.23\n"
      ]
     },
     "metadata": {},
     "output_type": "display_data"
    },
    {
     "data": {
      "text/html": [
       "<pre style=\"white-space:pre;overflow-x:auto;line-height:normal;font-family:Menlo,'DejaVu Sans Mono',consolas,'Courier New',monospace\">Episode length: 5878.65 +/- 2113.46\n",
       "</pre>\n"
      ],
      "text/plain": [
       "Episode length: 5878.65 +/- 2113.46\n"
      ]
     },
     "metadata": {},
     "output_type": "display_data"
    },
    {
     "data": {
      "text/html": [
       "<pre style=\"white-space:pre;overflow-x:auto;line-height:normal;font-family:Menlo,'DejaVu Sans Mono',consolas,'Courier New',monospace\">Eval num_timesteps=7775000, episode_reward=546.75 +/- 106.81\n",
       "</pre>\n"
      ],
      "text/plain": [
       "Eval num_timesteps=7775000, episode_reward=546.75 +/- 106.81\n"
      ]
     },
     "metadata": {},
     "output_type": "display_data"
    },
    {
     "data": {
      "text/html": [
       "<pre style=\"white-space:pre;overflow-x:auto;line-height:normal;font-family:Menlo,'DejaVu Sans Mono',consolas,'Courier New',monospace\">Episode length: 3121.20 +/- 291.82\n",
       "</pre>\n"
      ],
      "text/plain": [
       "Episode length: 3121.20 +/- 291.82\n"
      ]
     },
     "metadata": {},
     "output_type": "display_data"
    },
    {
     "data": {
      "text/html": [
       "<pre style=\"white-space:pre;overflow-x:auto;line-height:normal;font-family:Menlo,'DejaVu Sans Mono',consolas,'Courier New',monospace\">Eval num_timesteps=7800000, episode_reward=663.25 +/- 97.47\n",
       "</pre>\n"
      ],
      "text/plain": [
       "Eval num_timesteps=7800000, episode_reward=663.25 +/- 97.47\n"
      ]
     },
     "metadata": {},
     "output_type": "display_data"
    },
    {
     "data": {
      "text/html": [
       "<pre style=\"white-space:pre;overflow-x:auto;line-height:normal;font-family:Menlo,'DejaVu Sans Mono',consolas,'Courier New',monospace\">Episode length: 3608.35 +/- 513.84\n",
       "</pre>\n"
      ],
      "text/plain": [
       "Episode length: 3608.35 +/- 513.84\n"
      ]
     },
     "metadata": {},
     "output_type": "display_data"
    },
    {
     "data": {
      "text/html": [
       "<pre style=\"white-space:pre;overflow-x:auto;line-height:normal;font-family:Menlo,'DejaVu Sans Mono',consolas,'Courier New',monospace\">Eval num_timesteps=7825000, episode_reward=647.25 +/- 150.05\n",
       "</pre>\n"
      ],
      "text/plain": [
       "Eval num_timesteps=7825000, episode_reward=647.25 +/- 150.05\n"
      ]
     },
     "metadata": {},
     "output_type": "display_data"
    },
    {
     "data": {
      "text/html": [
       "<pre style=\"white-space:pre;overflow-x:auto;line-height:normal;font-family:Menlo,'DejaVu Sans Mono',consolas,'Courier New',monospace\">Episode length: 3526.00 +/- 706.40\n",
       "</pre>\n"
      ],
      "text/plain": [
       "Episode length: 3526.00 +/- 706.40\n"
      ]
     },
     "metadata": {},
     "output_type": "display_data"
    },
    {
     "data": {
      "text/html": [
       "<pre style=\"white-space:pre;overflow-x:auto;line-height:normal;font-family:Menlo,'DejaVu Sans Mono',consolas,'Courier New',monospace\">Eval num_timesteps=7850000, episode_reward=561.25 +/- 55.38\n",
       "</pre>\n"
      ],
      "text/plain": [
       "Eval num_timesteps=7850000, episode_reward=561.25 +/- 55.38\n"
      ]
     },
     "metadata": {},
     "output_type": "display_data"
    },
    {
     "data": {
      "text/html": [
       "<pre style=\"white-space:pre;overflow-x:auto;line-height:normal;font-family:Menlo,'DejaVu Sans Mono',consolas,'Courier New',monospace\">Episode length: 3496.05 +/- 489.32\n",
       "</pre>\n"
      ],
      "text/plain": [
       "Episode length: 3496.05 +/- 489.32\n"
      ]
     },
     "metadata": {},
     "output_type": "display_data"
    },
    {
     "data": {
      "text/html": [
       "<pre style=\"white-space:pre;overflow-x:auto;line-height:normal;font-family:Menlo,'DejaVu Sans Mono',consolas,'Courier New',monospace\">Eval num_timesteps=7875000, episode_reward=576.25 +/- 57.77\n",
       "</pre>\n"
      ],
      "text/plain": [
       "Eval num_timesteps=7875000, episode_reward=576.25 +/- 57.77\n"
      ]
     },
     "metadata": {},
     "output_type": "display_data"
    },
    {
     "data": {
      "text/html": [
       "<pre style=\"white-space:pre;overflow-x:auto;line-height:normal;font-family:Menlo,'DejaVu Sans Mono',consolas,'Courier New',monospace\">Episode length: 3701.50 +/- 291.16\n",
       "</pre>\n"
      ],
      "text/plain": [
       "Episode length: 3701.50 +/- 291.16\n"
      ]
     },
     "metadata": {},
     "output_type": "display_data"
    },
    {
     "data": {
      "text/html": [
       "<pre style=\"white-space:pre;overflow-x:auto;line-height:normal;font-family:Menlo,'DejaVu Sans Mono',consolas,'Courier New',monospace\">Eval num_timesteps=7900000, episode_reward=586.25 +/- 23.82\n",
       "</pre>\n"
      ],
      "text/plain": [
       "Eval num_timesteps=7900000, episode_reward=586.25 +/- 23.82\n"
      ]
     },
     "metadata": {},
     "output_type": "display_data"
    },
    {
     "data": {
      "text/html": [
       "<pre style=\"white-space:pre;overflow-x:auto;line-height:normal;font-family:Menlo,'DejaVu Sans Mono',consolas,'Courier New',monospace\">Episode length: 3584.70 +/- 85.68\n",
       "</pre>\n"
      ],
      "text/plain": [
       "Episode length: 3584.70 +/- 85.68\n"
      ]
     },
     "metadata": {},
     "output_type": "display_data"
    },
    {
     "data": {
      "text/html": [
       "<pre style=\"white-space:pre;overflow-x:auto;line-height:normal;font-family:Menlo,'DejaVu Sans Mono',consolas,'Courier New',monospace\">Eval num_timesteps=7925000, episode_reward=750.00 +/- 127.67\n",
       "</pre>\n"
      ],
      "text/plain": [
       "Eval num_timesteps=7925000, episode_reward=750.00 +/- 127.67\n"
      ]
     },
     "metadata": {},
     "output_type": "display_data"
    },
    {
     "data": {
      "text/html": [
       "<pre style=\"white-space:pre;overflow-x:auto;line-height:normal;font-family:Menlo,'DejaVu Sans Mono',consolas,'Courier New',monospace\">Episode length: 3736.80 +/- 1067.52\n",
       "</pre>\n"
      ],
      "text/plain": [
       "Episode length: 3736.80 +/- 1067.52\n"
      ]
     },
     "metadata": {},
     "output_type": "display_data"
    },
    {
     "data": {
      "text/html": [
       "<pre style=\"white-space:pre;overflow-x:auto;line-height:normal;font-family:Menlo,'DejaVu Sans Mono',consolas,'Courier New',monospace\">Eval num_timesteps=7950000, episode_reward=521.75 +/- 61.26\n",
       "</pre>\n"
      ],
      "text/plain": [
       "Eval num_timesteps=7950000, episode_reward=521.75 +/- 61.26\n"
      ]
     },
     "metadata": {},
     "output_type": "display_data"
    },
    {
     "data": {
      "text/html": [
       "<pre style=\"white-space:pre;overflow-x:auto;line-height:normal;font-family:Menlo,'DejaVu Sans Mono',consolas,'Courier New',monospace\">Episode length: 3292.15 +/- 412.53\n",
       "</pre>\n"
      ],
      "text/plain": [
       "Episode length: 3292.15 +/- 412.53\n"
      ]
     },
     "metadata": {},
     "output_type": "display_data"
    },
    {
     "data": {
      "text/html": [
       "<pre style=\"white-space:pre;overflow-x:auto;line-height:normal;font-family:Menlo,'DejaVu Sans Mono',consolas,'Courier New',monospace\">Eval num_timesteps=7975000, episode_reward=604.50 +/- 132.04\n",
       "</pre>\n"
      ],
      "text/plain": [
       "Eval num_timesteps=7975000, episode_reward=604.50 +/- 132.04\n"
      ]
     },
     "metadata": {},
     "output_type": "display_data"
    },
    {
     "data": {
      "text/html": [
       "<pre style=\"white-space:pre;overflow-x:auto;line-height:normal;font-family:Menlo,'DejaVu Sans Mono',consolas,'Courier New',monospace\">Episode length: 3429.70 +/- 789.05\n",
       "</pre>\n"
      ],
      "text/plain": [
       "Episode length: 3429.70 +/- 789.05\n"
      ]
     },
     "metadata": {},
     "output_type": "display_data"
    },
    {
     "data": {
      "text/html": [
       "<pre style=\"white-space:pre;overflow-x:auto;line-height:normal;font-family:Menlo,'DejaVu Sans Mono',consolas,'Courier New',monospace\">Eval num_timesteps=8000000, episode_reward=655.00 +/- 90.76\n",
       "</pre>\n"
      ],
      "text/plain": [
       "Eval num_timesteps=8000000, episode_reward=655.00 +/- 90.76\n"
      ]
     },
     "metadata": {},
     "output_type": "display_data"
    },
    {
     "data": {
      "text/html": [
       "<pre style=\"white-space:pre;overflow-x:auto;line-height:normal;font-family:Menlo,'DejaVu Sans Mono',consolas,'Courier New',monospace\">Episode length: 3163.25 +/- 233.45\n",
       "</pre>\n"
      ],
      "text/plain": [
       "Episode length: 3163.25 +/- 233.45\n"
      ]
     },
     "metadata": {},
     "output_type": "display_data"
    },
    {
     "data": {
      "text/html": [
       "<pre style=\"white-space:pre;overflow-x:auto;line-height:normal;font-family:Menlo,'DejaVu Sans Mono',consolas,'Courier New',monospace\">Eval num_timesteps=8025000, episode_reward=543.25 +/- 39.00\n",
       "</pre>\n"
      ],
      "text/plain": [
       "Eval num_timesteps=8025000, episode_reward=543.25 +/- 39.00\n"
      ]
     },
     "metadata": {},
     "output_type": "display_data"
    },
    {
     "data": {
      "text/html": [
       "<pre style=\"white-space:pre;overflow-x:auto;line-height:normal;font-family:Menlo,'DejaVu Sans Mono',consolas,'Courier New',monospace\">Episode length: 3434.75 +/- 168.03\n",
       "</pre>\n"
      ],
      "text/plain": [
       "Episode length: 3434.75 +/- 168.03\n"
      ]
     },
     "metadata": {},
     "output_type": "display_data"
    },
    {
     "data": {
      "text/html": [
       "<pre style=\"white-space:pre;overflow-x:auto;line-height:normal;font-family:Menlo,'DejaVu Sans Mono',consolas,'Courier New',monospace\">Eval num_timesteps=8050000, episode_reward=698.25 +/- 203.06\n",
       "</pre>\n"
      ],
      "text/plain": [
       "Eval num_timesteps=8050000, episode_reward=698.25 +/- 203.06\n"
      ]
     },
     "metadata": {},
     "output_type": "display_data"
    },
    {
     "data": {
      "text/html": [
       "<pre style=\"white-space:pre;overflow-x:auto;line-height:normal;font-family:Menlo,'DejaVu Sans Mono',consolas,'Courier New',monospace\">Episode length: 4201.20 +/- 1126.43\n",
       "</pre>\n"
      ],
      "text/plain": [
       "Episode length: 4201.20 +/- 1126.43\n"
      ]
     },
     "metadata": {},
     "output_type": "display_data"
    },
    {
     "data": {
      "text/html": [
       "<pre style=\"white-space:pre;overflow-x:auto;line-height:normal;font-family:Menlo,'DejaVu Sans Mono',consolas,'Courier New',monospace\">Eval num_timesteps=8075000, episode_reward=668.75 +/- 82.03\n",
       "</pre>\n"
      ],
      "text/plain": [
       "Eval num_timesteps=8075000, episode_reward=668.75 +/- 82.03\n"
      ]
     },
     "metadata": {},
     "output_type": "display_data"
    },
    {
     "data": {
      "text/html": [
       "<pre style=\"white-space:pre;overflow-x:auto;line-height:normal;font-family:Menlo,'DejaVu Sans Mono',consolas,'Courier New',monospace\">Episode length: 3369.20 +/- 450.15\n",
       "</pre>\n"
      ],
      "text/plain": [
       "Episode length: 3369.20 +/- 450.15\n"
      ]
     },
     "metadata": {},
     "output_type": "display_data"
    },
    {
     "data": {
      "text/html": [
       "<pre style=\"white-space:pre;overflow-x:auto;line-height:normal;font-family:Menlo,'DejaVu Sans Mono',consolas,'Courier New',monospace\">Eval num_timesteps=8100000, episode_reward=706.00 +/- 109.31\n",
       "</pre>\n"
      ],
      "text/plain": [
       "Eval num_timesteps=8100000, episode_reward=706.00 +/- 109.31\n"
      ]
     },
     "metadata": {},
     "output_type": "display_data"
    },
    {
     "data": {
      "text/html": [
       "<pre style=\"white-space:pre;overflow-x:auto;line-height:normal;font-family:Menlo,'DejaVu Sans Mono',consolas,'Courier New',monospace\">Episode length: 3564.75 +/- 148.17\n",
       "</pre>\n"
      ],
      "text/plain": [
       "Episode length: 3564.75 +/- 148.17\n"
      ]
     },
     "metadata": {},
     "output_type": "display_data"
    },
    {
     "data": {
      "text/html": [
       "<pre style=\"white-space:pre;overflow-x:auto;line-height:normal;font-family:Menlo,'DejaVu Sans Mono',consolas,'Courier New',monospace\">Eval num_timesteps=8125000, episode_reward=672.50 +/- 328.30\n",
       "</pre>\n"
      ],
      "text/plain": [
       "Eval num_timesteps=8125000, episode_reward=672.50 +/- 328.30\n"
      ]
     },
     "metadata": {},
     "output_type": "display_data"
    },
    {
     "data": {
      "text/html": [
       "<pre style=\"white-space:pre;overflow-x:auto;line-height:normal;font-family:Menlo,'DejaVu Sans Mono',consolas,'Courier New',monospace\">Episode length: 3186.10 +/- 889.74\n",
       "</pre>\n"
      ],
      "text/plain": [
       "Episode length: 3186.10 +/- 889.74\n"
      ]
     },
     "metadata": {},
     "output_type": "display_data"
    },
    {
     "data": {
      "text/html": [
       "<pre style=\"white-space:pre;overflow-x:auto;line-height:normal;font-family:Menlo,'DejaVu Sans Mono',consolas,'Courier New',monospace\">Eval num_timesteps=8150000, episode_reward=578.50 +/- 34.79\n",
       "</pre>\n"
      ],
      "text/plain": [
       "Eval num_timesteps=8150000, episode_reward=578.50 +/- 34.79\n"
      ]
     },
     "metadata": {},
     "output_type": "display_data"
    },
    {
     "data": {
      "text/html": [
       "<pre style=\"white-space:pre;overflow-x:auto;line-height:normal;font-family:Menlo,'DejaVu Sans Mono',consolas,'Courier New',monospace\">Episode length: 3555.90 +/- 427.87\n",
       "</pre>\n"
      ],
      "text/plain": [
       "Episode length: 3555.90 +/- 427.87\n"
      ]
     },
     "metadata": {},
     "output_type": "display_data"
    },
    {
     "data": {
      "text/html": [
       "<pre style=\"white-space:pre;overflow-x:auto;line-height:normal;font-family:Menlo,'DejaVu Sans Mono',consolas,'Courier New',monospace\">Eval num_timesteps=8175000, episode_reward=399.25 +/- 176.71\n",
       "</pre>\n"
      ],
      "text/plain": [
       "Eval num_timesteps=8175000, episode_reward=399.25 +/- 176.71\n"
      ]
     },
     "metadata": {},
     "output_type": "display_data"
    },
    {
     "data": {
      "text/html": [
       "<pre style=\"white-space:pre;overflow-x:auto;line-height:normal;font-family:Menlo,'DejaVu Sans Mono',consolas,'Courier New',monospace\">Episode length: 2754.30 +/- 919.87\n",
       "</pre>\n"
      ],
      "text/plain": [
       "Episode length: 2754.30 +/- 919.87\n"
      ]
     },
     "metadata": {},
     "output_type": "display_data"
    },
    {
     "data": {
      "text/html": [
       "<pre style=\"white-space:pre;overflow-x:auto;line-height:normal;font-family:Menlo,'DejaVu Sans Mono',consolas,'Courier New',monospace\">Eval num_timesteps=8200000, episode_reward=496.00 +/- 122.70\n",
       "</pre>\n"
      ],
      "text/plain": [
       "Eval num_timesteps=8200000, episode_reward=496.00 +/- 122.70\n"
      ]
     },
     "metadata": {},
     "output_type": "display_data"
    },
    {
     "data": {
      "text/html": [
       "<pre style=\"white-space:pre;overflow-x:auto;line-height:normal;font-family:Menlo,'DejaVu Sans Mono',consolas,'Courier New',monospace\">Episode length: 2885.40 +/- 490.10\n",
       "</pre>\n"
      ],
      "text/plain": [
       "Episode length: 2885.40 +/- 490.10\n"
      ]
     },
     "metadata": {},
     "output_type": "display_data"
    },
    {
     "data": {
      "text/html": [
       "<pre style=\"white-space:pre;overflow-x:auto;line-height:normal;font-family:Menlo,'DejaVu Sans Mono',consolas,'Courier New',monospace\">Eval num_timesteps=8225000, episode_reward=624.50 +/- 74.81\n",
       "</pre>\n"
      ],
      "text/plain": [
       "Eval num_timesteps=8225000, episode_reward=624.50 +/- 74.81\n"
      ]
     },
     "metadata": {},
     "output_type": "display_data"
    },
    {
     "data": {
      "text/html": [
       "<pre style=\"white-space:pre;overflow-x:auto;line-height:normal;font-family:Menlo,'DejaVu Sans Mono',consolas,'Courier New',monospace\">Episode length: 3316.35 +/- 368.72\n",
       "</pre>\n"
      ],
      "text/plain": [
       "Episode length: 3316.35 +/- 368.72\n"
      ]
     },
     "metadata": {},
     "output_type": "display_data"
    },
    {
     "data": {
      "text/html": [
       "<pre style=\"white-space:pre;overflow-x:auto;line-height:normal;font-family:Menlo,'DejaVu Sans Mono',consolas,'Courier New',monospace\">Eval num_timesteps=8250000, episode_reward=550.75 +/- 49.15\n",
       "</pre>\n"
      ],
      "text/plain": [
       "Eval num_timesteps=8250000, episode_reward=550.75 +/- 49.15\n"
      ]
     },
     "metadata": {},
     "output_type": "display_data"
    },
    {
     "data": {
      "text/html": [
       "<pre style=\"white-space:pre;overflow-x:auto;line-height:normal;font-family:Menlo,'DejaVu Sans Mono',consolas,'Courier New',monospace\">Episode length: 3297.40 +/- 191.27\n",
       "</pre>\n"
      ],
      "text/plain": [
       "Episode length: 3297.40 +/- 191.27\n"
      ]
     },
     "metadata": {},
     "output_type": "display_data"
    },
    {
     "data": {
      "text/html": [
       "<pre style=\"white-space:pre;overflow-x:auto;line-height:normal;font-family:Menlo,'DejaVu Sans Mono',consolas,'Courier New',monospace\">Eval num_timesteps=8275000, episode_reward=608.50 +/- 80.22\n",
       "</pre>\n"
      ],
      "text/plain": [
       "Eval num_timesteps=8275000, episode_reward=608.50 +/- 80.22\n"
      ]
     },
     "metadata": {},
     "output_type": "display_data"
    },
    {
     "data": {
      "text/html": [
       "<pre style=\"white-space:pre;overflow-x:auto;line-height:normal;font-family:Menlo,'DejaVu Sans Mono',consolas,'Courier New',monospace\">Episode length: 3621.70 +/- 150.95\n",
       "</pre>\n"
      ],
      "text/plain": [
       "Episode length: 3621.70 +/- 150.95\n"
      ]
     },
     "metadata": {},
     "output_type": "display_data"
    },
    {
     "data": {
      "text/html": [
       "<pre style=\"white-space:pre;overflow-x:auto;line-height:normal;font-family:Menlo,'DejaVu Sans Mono',consolas,'Courier New',monospace\">Eval num_timesteps=8300000, episode_reward=438.75 +/- 175.33\n",
       "</pre>\n"
      ],
      "text/plain": [
       "Eval num_timesteps=8300000, episode_reward=438.75 +/- 175.33\n"
      ]
     },
     "metadata": {},
     "output_type": "display_data"
    },
    {
     "data": {
      "text/html": [
       "<pre style=\"white-space:pre;overflow-x:auto;line-height:normal;font-family:Menlo,'DejaVu Sans Mono',consolas,'Courier New',monospace\">Episode length: 2813.15 +/- 972.24\n",
       "</pre>\n"
      ],
      "text/plain": [
       "Episode length: 2813.15 +/- 972.24\n"
      ]
     },
     "metadata": {},
     "output_type": "display_data"
    },
    {
     "data": {
      "text/html": [
       "<pre style=\"white-space:pre;overflow-x:auto;line-height:normal;font-family:Menlo,'DejaVu Sans Mono',consolas,'Courier New',monospace\">Eval num_timesteps=8325000, episode_reward=440.25 +/- 74.17\n",
       "</pre>\n"
      ],
      "text/plain": [
       "Eval num_timesteps=8325000, episode_reward=440.25 +/- 74.17\n"
      ]
     },
     "metadata": {},
     "output_type": "display_data"
    },
    {
     "data": {
      "text/html": [
       "<pre style=\"white-space:pre;overflow-x:auto;line-height:normal;font-family:Menlo,'DejaVu Sans Mono',consolas,'Courier New',monospace\">Episode length: 2585.00 +/- 529.62\n",
       "</pre>\n"
      ],
      "text/plain": [
       "Episode length: 2585.00 +/- 529.62\n"
      ]
     },
     "metadata": {},
     "output_type": "display_data"
    },
    {
     "data": {
      "text/html": [
       "<pre style=\"white-space:pre;overflow-x:auto;line-height:normal;font-family:Menlo,'DejaVu Sans Mono',consolas,'Courier New',monospace\">Eval num_timesteps=8350000, episode_reward=578.25 +/- 110.92\n",
       "</pre>\n"
      ],
      "text/plain": [
       "Eval num_timesteps=8350000, episode_reward=578.25 +/- 110.92\n"
      ]
     },
     "metadata": {},
     "output_type": "display_data"
    },
    {
     "data": {
      "text/html": [
       "<pre style=\"white-space:pre;overflow-x:auto;line-height:normal;font-family:Menlo,'DejaVu Sans Mono',consolas,'Courier New',monospace\">Episode length: 3163.90 +/- 392.90\n",
       "</pre>\n"
      ],
      "text/plain": [
       "Episode length: 3163.90 +/- 392.90\n"
      ]
     },
     "metadata": {},
     "output_type": "display_data"
    },
    {
     "data": {
      "text/html": [
       "<pre style=\"white-space:pre;overflow-x:auto;line-height:normal;font-family:Menlo,'DejaVu Sans Mono',consolas,'Courier New',monospace\">Eval num_timesteps=8375000, episode_reward=597.00 +/- 86.29\n",
       "</pre>\n"
      ],
      "text/plain": [
       "Eval num_timesteps=8375000, episode_reward=597.00 +/- 86.29\n"
      ]
     },
     "metadata": {},
     "output_type": "display_data"
    },
    {
     "data": {
      "text/html": [
       "<pre style=\"white-space:pre;overflow-x:auto;line-height:normal;font-family:Menlo,'DejaVu Sans Mono',consolas,'Courier New',monospace\">Episode length: 3547.25 +/- 316.99\n",
       "</pre>\n"
      ],
      "text/plain": [
       "Episode length: 3547.25 +/- 316.99\n"
      ]
     },
     "metadata": {},
     "output_type": "display_data"
    },
    {
     "data": {
      "text/html": [
       "<pre style=\"white-space:pre;overflow-x:auto;line-height:normal;font-family:Menlo,'DejaVu Sans Mono',consolas,'Courier New',monospace\">Eval num_timesteps=8400000, episode_reward=506.25 +/- 169.81\n",
       "</pre>\n"
      ],
      "text/plain": [
       "Eval num_timesteps=8400000, episode_reward=506.25 +/- 169.81\n"
      ]
     },
     "metadata": {},
     "output_type": "display_data"
    },
    {
     "data": {
      "text/html": [
       "<pre style=\"white-space:pre;overflow-x:auto;line-height:normal;font-family:Menlo,'DejaVu Sans Mono',consolas,'Courier New',monospace\">Episode length: 2933.30 +/- 1084.96\n",
       "</pre>\n"
      ],
      "text/plain": [
       "Episode length: 2933.30 +/- 1084.96\n"
      ]
     },
     "metadata": {},
     "output_type": "display_data"
    },
    {
     "data": {
      "text/html": [
       "<pre style=\"white-space:pre;overflow-x:auto;line-height:normal;font-family:Menlo,'DejaVu Sans Mono',consolas,'Courier New',monospace\">Eval num_timesteps=8425000, episode_reward=570.25 +/- 13.74\n",
       "</pre>\n"
      ],
      "text/plain": [
       "Eval num_timesteps=8425000, episode_reward=570.25 +/- 13.74\n"
      ]
     },
     "metadata": {},
     "output_type": "display_data"
    },
    {
     "data": {
      "text/html": [
       "<pre style=\"white-space:pre;overflow-x:auto;line-height:normal;font-family:Menlo,'DejaVu Sans Mono',consolas,'Courier New',monospace\">Episode length: 3648.10 +/- 401.37\n",
       "</pre>\n"
      ],
      "text/plain": [
       "Episode length: 3648.10 +/- 401.37\n"
      ]
     },
     "metadata": {},
     "output_type": "display_data"
    },
    {
     "data": {
      "text/html": [
       "<pre style=\"white-space:pre;overflow-x:auto;line-height:normal;font-family:Menlo,'DejaVu Sans Mono',consolas,'Courier New',monospace\">Eval num_timesteps=8450000, episode_reward=587.00 +/- 101.80\n",
       "</pre>\n"
      ],
      "text/plain": [
       "Eval num_timesteps=8450000, episode_reward=587.00 +/- 101.80\n"
      ]
     },
     "metadata": {},
     "output_type": "display_data"
    },
    {
     "data": {
      "text/html": [
       "<pre style=\"white-space:pre;overflow-x:auto;line-height:normal;font-family:Menlo,'DejaVu Sans Mono',consolas,'Courier New',monospace\">Episode length: 3369.10 +/- 975.71\n",
       "</pre>\n"
      ],
      "text/plain": [
       "Episode length: 3369.10 +/- 975.71\n"
      ]
     },
     "metadata": {},
     "output_type": "display_data"
    },
    {
     "data": {
      "text/html": [
       "<pre style=\"white-space:pre;overflow-x:auto;line-height:normal;font-family:Menlo,'DejaVu Sans Mono',consolas,'Courier New',monospace\">Eval num_timesteps=8475000, episode_reward=741.25 +/- 180.48\n",
       "</pre>\n"
      ],
      "text/plain": [
       "Eval num_timesteps=8475000, episode_reward=741.25 +/- 180.48\n"
      ]
     },
     "metadata": {},
     "output_type": "display_data"
    },
    {
     "data": {
      "text/html": [
       "<pre style=\"white-space:pre;overflow-x:auto;line-height:normal;font-family:Menlo,'DejaVu Sans Mono',consolas,'Courier New',monospace\">Episode length: 3971.80 +/- 1012.16\n",
       "</pre>\n"
      ],
      "text/plain": [
       "Episode length: 3971.80 +/- 1012.16\n"
      ]
     },
     "metadata": {},
     "output_type": "display_data"
    },
    {
     "data": {
      "text/html": [
       "<pre style=\"white-space:pre;overflow-x:auto;line-height:normal;font-family:Menlo,'DejaVu Sans Mono',consolas,'Courier New',monospace\">Eval num_timesteps=8500000, episode_reward=574.25 +/- 52.38\n",
       "</pre>\n"
      ],
      "text/plain": [
       "Eval num_timesteps=8500000, episode_reward=574.25 +/- 52.38\n"
      ]
     },
     "metadata": {},
     "output_type": "display_data"
    },
    {
     "data": {
      "text/html": [
       "<pre style=\"white-space:pre;overflow-x:auto;line-height:normal;font-family:Menlo,'DejaVu Sans Mono',consolas,'Courier New',monospace\">Episode length: 3542.85 +/- 166.48\n",
       "</pre>\n"
      ],
      "text/plain": [
       "Episode length: 3542.85 +/- 166.48\n"
      ]
     },
     "metadata": {},
     "output_type": "display_data"
    },
    {
     "data": {
      "text/html": [
       "<pre style=\"white-space:pre;overflow-x:auto;line-height:normal;font-family:Menlo,'DejaVu Sans Mono',consolas,'Courier New',monospace\">Eval num_timesteps=8525000, episode_reward=589.00 +/- 144.32\n",
       "</pre>\n"
      ],
      "text/plain": [
       "Eval num_timesteps=8525000, episode_reward=589.00 +/- 144.32\n"
      ]
     },
     "metadata": {},
     "output_type": "display_data"
    },
    {
     "data": {
      "text/html": [
       "<pre style=\"white-space:pre;overflow-x:auto;line-height:normal;font-family:Menlo,'DejaVu Sans Mono',consolas,'Courier New',monospace\">Episode length: 3762.40 +/- 805.73\n",
       "</pre>\n"
      ],
      "text/plain": [
       "Episode length: 3762.40 +/- 805.73\n"
      ]
     },
     "metadata": {},
     "output_type": "display_data"
    },
    {
     "data": {
      "text/html": [
       "<pre style=\"white-space:pre;overflow-x:auto;line-height:normal;font-family:Menlo,'DejaVu Sans Mono',consolas,'Courier New',monospace\">Eval num_timesteps=8550000, episode_reward=579.25 +/- 28.30\n",
       "</pre>\n"
      ],
      "text/plain": [
       "Eval num_timesteps=8550000, episode_reward=579.25 +/- 28.30\n"
      ]
     },
     "metadata": {},
     "output_type": "display_data"
    },
    {
     "data": {
      "text/html": [
       "<pre style=\"white-space:pre;overflow-x:auto;line-height:normal;font-family:Menlo,'DejaVu Sans Mono',consolas,'Courier New',monospace\">Episode length: 3465.75 +/- 371.04\n",
       "</pre>\n"
      ],
      "text/plain": [
       "Episode length: 3465.75 +/- 371.04\n"
      ]
     },
     "metadata": {},
     "output_type": "display_data"
    },
    {
     "data": {
      "text/html": [
       "<pre style=\"white-space:pre;overflow-x:auto;line-height:normal;font-family:Menlo,'DejaVu Sans Mono',consolas,'Courier New',monospace\">Eval num_timesteps=8575000, episode_reward=697.75 +/- 206.42\n",
       "</pre>\n"
      ],
      "text/plain": [
       "Eval num_timesteps=8575000, episode_reward=697.75 +/- 206.42\n"
      ]
     },
     "metadata": {},
     "output_type": "display_data"
    },
    {
     "data": {
      "text/html": [
       "<pre style=\"white-space:pre;overflow-x:auto;line-height:normal;font-family:Menlo,'DejaVu Sans Mono',consolas,'Courier New',monospace\">Episode length: 4119.80 +/- 1033.46\n",
       "</pre>\n"
      ],
      "text/plain": [
       "Episode length: 4119.80 +/- 1033.46\n"
      ]
     },
     "metadata": {},
     "output_type": "display_data"
    },
    {
     "data": {
      "text/html": [
       "<pre style=\"white-space:pre;overflow-x:auto;line-height:normal;font-family:Menlo,'DejaVu Sans Mono',consolas,'Courier New',monospace\">Eval num_timesteps=8600000, episode_reward=581.75 +/- 38.58\n",
       "</pre>\n"
      ],
      "text/plain": [
       "Eval num_timesteps=8600000, episode_reward=581.75 +/- 38.58\n"
      ]
     },
     "metadata": {},
     "output_type": "display_data"
    },
    {
     "data": {
      "text/html": [
       "<pre style=\"white-space:pre;overflow-x:auto;line-height:normal;font-family:Menlo,'DejaVu Sans Mono',consolas,'Courier New',monospace\">Episode length: 3313.30 +/- 343.21\n",
       "</pre>\n"
      ],
      "text/plain": [
       "Episode length: 3313.30 +/- 343.21\n"
      ]
     },
     "metadata": {},
     "output_type": "display_data"
    },
    {
     "data": {
      "text/html": [
       "<pre style=\"white-space:pre;overflow-x:auto;line-height:normal;font-family:Menlo,'DejaVu Sans Mono',consolas,'Courier New',monospace\">Eval num_timesteps=8625000, episode_reward=557.00 +/- 55.01\n",
       "</pre>\n"
      ],
      "text/plain": [
       "Eval num_timesteps=8625000, episode_reward=557.00 +/- 55.01\n"
      ]
     },
     "metadata": {},
     "output_type": "display_data"
    },
    {
     "data": {
      "text/html": [
       "<pre style=\"white-space:pre;overflow-x:auto;line-height:normal;font-family:Menlo,'DejaVu Sans Mono',consolas,'Courier New',monospace\">Episode length: 3355.90 +/- 602.19\n",
       "</pre>\n"
      ],
      "text/plain": [
       "Episode length: 3355.90 +/- 602.19\n"
      ]
     },
     "metadata": {},
     "output_type": "display_data"
    },
    {
     "data": {
      "text/html": [
       "<pre style=\"white-space:pre;overflow-x:auto;line-height:normal;font-family:Menlo,'DejaVu Sans Mono',consolas,'Courier New',monospace\">Eval num_timesteps=8650000, episode_reward=538.00 +/- 46.16\n",
       "</pre>\n"
      ],
      "text/plain": [
       "Eval num_timesteps=8650000, episode_reward=538.00 +/- 46.16\n"
      ]
     },
     "metadata": {},
     "output_type": "display_data"
    },
    {
     "data": {
      "text/html": [
       "<pre style=\"white-space:pre;overflow-x:auto;line-height:normal;font-family:Menlo,'DejaVu Sans Mono',consolas,'Courier New',monospace\">Episode length: 3403.10 +/- 152.79\n",
       "</pre>\n"
      ],
      "text/plain": [
       "Episode length: 3403.10 +/- 152.79\n"
      ]
     },
     "metadata": {},
     "output_type": "display_data"
    },
    {
     "data": {
      "text/html": [
       "<pre style=\"white-space:pre;overflow-x:auto;line-height:normal;font-family:Menlo,'DejaVu Sans Mono',consolas,'Courier New',monospace\">Eval num_timesteps=8675000, episode_reward=703.00 +/- 234.09\n",
       "</pre>\n"
      ],
      "text/plain": [
       "Eval num_timesteps=8675000, episode_reward=703.00 +/- 234.09\n"
      ]
     },
     "metadata": {},
     "output_type": "display_data"
    },
    {
     "data": {
      "text/html": [
       "<pre style=\"white-space:pre;overflow-x:auto;line-height:normal;font-family:Menlo,'DejaVu Sans Mono',consolas,'Courier New',monospace\">Episode length: 4222.40 +/- 912.45\n",
       "</pre>\n"
      ],
      "text/plain": [
       "Episode length: 4222.40 +/- 912.45\n"
      ]
     },
     "metadata": {},
     "output_type": "display_data"
    },
    {
     "data": {
      "text/html": [
       "<pre style=\"white-space:pre;overflow-x:auto;line-height:normal;font-family:Menlo,'DejaVu Sans Mono',consolas,'Courier New',monospace\">Eval num_timesteps=8700000, episode_reward=557.75 +/- 59.17\n",
       "</pre>\n"
      ],
      "text/plain": [
       "Eval num_timesteps=8700000, episode_reward=557.75 +/- 59.17\n"
      ]
     },
     "metadata": {},
     "output_type": "display_data"
    },
    {
     "data": {
      "text/html": [
       "<pre style=\"white-space:pre;overflow-x:auto;line-height:normal;font-family:Menlo,'DejaVu Sans Mono',consolas,'Courier New',monospace\">Episode length: 3342.15 +/- 306.58\n",
       "</pre>\n"
      ],
      "text/plain": [
       "Episode length: 3342.15 +/- 306.58\n"
      ]
     },
     "metadata": {},
     "output_type": "display_data"
    },
    {
     "data": {
      "text/html": [
       "<pre style=\"white-space:pre;overflow-x:auto;line-height:normal;font-family:Menlo,'DejaVu Sans Mono',consolas,'Courier New',monospace\">Eval num_timesteps=8725000, episode_reward=769.75 +/- 203.54\n",
       "</pre>\n"
      ],
      "text/plain": [
       "Eval num_timesteps=8725000, episode_reward=769.75 +/- 203.54\n"
      ]
     },
     "metadata": {},
     "output_type": "display_data"
    },
    {
     "data": {
      "text/html": [
       "<pre style=\"white-space:pre;overflow-x:auto;line-height:normal;font-family:Menlo,'DejaVu Sans Mono',consolas,'Courier New',monospace\">Episode length: 4181.10 +/- 1107.08\n",
       "</pre>\n"
      ],
      "text/plain": [
       "Episode length: 4181.10 +/- 1107.08\n"
      ]
     },
     "metadata": {},
     "output_type": "display_data"
    },
    {
     "data": {
      "text/html": [
       "<pre style=\"white-space:pre;overflow-x:auto;line-height:normal;font-family:Menlo,'DejaVu Sans Mono',consolas,'Courier New',monospace\">Eval num_timesteps=8750000, episode_reward=416.00 +/- 122.82\n",
       "</pre>\n"
      ],
      "text/plain": [
       "Eval num_timesteps=8750000, episode_reward=416.00 +/- 122.82\n"
      ]
     },
     "metadata": {},
     "output_type": "display_data"
    },
    {
     "data": {
      "text/html": [
       "<pre style=\"white-space:pre;overflow-x:auto;line-height:normal;font-family:Menlo,'DejaVu Sans Mono',consolas,'Courier New',monospace\">Episode length: 2847.40 +/- 362.66\n",
       "</pre>\n"
      ],
      "text/plain": [
       "Episode length: 2847.40 +/- 362.66\n"
      ]
     },
     "metadata": {},
     "output_type": "display_data"
    },
    {
     "data": {
      "text/html": [
       "<pre style=\"white-space:pre;overflow-x:auto;line-height:normal;font-family:Menlo,'DejaVu Sans Mono',consolas,'Courier New',monospace\">Eval num_timesteps=8775000, episode_reward=546.00 +/- 41.40\n",
       "</pre>\n"
      ],
      "text/plain": [
       "Eval num_timesteps=8775000, episode_reward=546.00 +/- 41.40\n"
      ]
     },
     "metadata": {},
     "output_type": "display_data"
    },
    {
     "data": {
      "text/html": [
       "<pre style=\"white-space:pre;overflow-x:auto;line-height:normal;font-family:Menlo,'DejaVu Sans Mono',consolas,'Courier New',monospace\">Episode length: 2964.50 +/- 249.84\n",
       "</pre>\n"
      ],
      "text/plain": [
       "Episode length: 2964.50 +/- 249.84\n"
      ]
     },
     "metadata": {},
     "output_type": "display_data"
    },
    {
     "data": {
      "text/html": [
       "<pre style=\"white-space:pre;overflow-x:auto;line-height:normal;font-family:Menlo,'DejaVu Sans Mono',consolas,'Courier New',monospace\">Eval num_timesteps=8800000, episode_reward=644.75 +/- 92.42\n",
       "</pre>\n"
      ],
      "text/plain": [
       "Eval num_timesteps=8800000, episode_reward=644.75 +/- 92.42\n"
      ]
     },
     "metadata": {},
     "output_type": "display_data"
    },
    {
     "data": {
      "text/html": [
       "<pre style=\"white-space:pre;overflow-x:auto;line-height:normal;font-family:Menlo,'DejaVu Sans Mono',consolas,'Courier New',monospace\">Episode length: 3209.70 +/- 377.07\n",
       "</pre>\n"
      ],
      "text/plain": [
       "Episode length: 3209.70 +/- 377.07\n"
      ]
     },
     "metadata": {},
     "output_type": "display_data"
    },
    {
     "data": {
      "text/html": [
       "<pre style=\"white-space:pre;overflow-x:auto;line-height:normal;font-family:Menlo,'DejaVu Sans Mono',consolas,'Courier New',monospace\">Eval num_timesteps=8825000, episode_reward=724.75 +/- 288.09\n",
       "</pre>\n"
      ],
      "text/plain": [
       "Eval num_timesteps=8825000, episode_reward=724.75 +/- 288.09\n"
      ]
     },
     "metadata": {},
     "output_type": "display_data"
    },
    {
     "data": {
      "text/html": [
       "<pre style=\"white-space:pre;overflow-x:auto;line-height:normal;font-family:Menlo,'DejaVu Sans Mono',consolas,'Courier New',monospace\">Episode length: 4262.05 +/- 1881.30\n",
       "</pre>\n"
      ],
      "text/plain": [
       "Episode length: 4262.05 +/- 1881.30\n"
      ]
     },
     "metadata": {},
     "output_type": "display_data"
    },
    {
     "data": {
      "text/html": [
       "<pre style=\"white-space:pre;overflow-x:auto;line-height:normal;font-family:Menlo,'DejaVu Sans Mono',consolas,'Courier New',monospace\">Eval num_timesteps=8850000, episode_reward=601.25 +/- 91.64\n",
       "</pre>\n"
      ],
      "text/plain": [
       "Eval num_timesteps=8850000, episode_reward=601.25 +/- 91.64\n"
      ]
     },
     "metadata": {},
     "output_type": "display_data"
    },
    {
     "data": {
      "text/html": [
       "<pre style=\"white-space:pre;overflow-x:auto;line-height:normal;font-family:Menlo,'DejaVu Sans Mono',consolas,'Courier New',monospace\">Episode length: 3593.95 +/- 216.31\n",
       "</pre>\n"
      ],
      "text/plain": [
       "Episode length: 3593.95 +/- 216.31\n"
      ]
     },
     "metadata": {},
     "output_type": "display_data"
    },
    {
     "data": {
      "text/html": [
       "<pre style=\"white-space:pre;overflow-x:auto;line-height:normal;font-family:Menlo,'DejaVu Sans Mono',consolas,'Courier New',monospace\">Eval num_timesteps=8875000, episode_reward=607.00 +/- 76.85\n",
       "</pre>\n"
      ],
      "text/plain": [
       "Eval num_timesteps=8875000, episode_reward=607.00 +/- 76.85\n"
      ]
     },
     "metadata": {},
     "output_type": "display_data"
    },
    {
     "data": {
      "text/html": [
       "<pre style=\"white-space:pre;overflow-x:auto;line-height:normal;font-family:Menlo,'DejaVu Sans Mono',consolas,'Courier New',monospace\">Episode length: 3673.00 +/- 297.26\n",
       "</pre>\n"
      ],
      "text/plain": [
       "Episode length: 3673.00 +/- 297.26\n"
      ]
     },
     "metadata": {},
     "output_type": "display_data"
    },
    {
     "data": {
      "text/html": [
       "<pre style=\"white-space:pre;overflow-x:auto;line-height:normal;font-family:Menlo,'DejaVu Sans Mono',consolas,'Courier New',monospace\">Eval num_timesteps=8900000, episode_reward=682.75 +/- 88.41\n",
       "</pre>\n"
      ],
      "text/plain": [
       "Eval num_timesteps=8900000, episode_reward=682.75 +/- 88.41\n"
      ]
     },
     "metadata": {},
     "output_type": "display_data"
    },
    {
     "data": {
      "text/html": [
       "<pre style=\"white-space:pre;overflow-x:auto;line-height:normal;font-family:Menlo,'DejaVu Sans Mono',consolas,'Courier New',monospace\">Episode length: 3466.15 +/- 247.44\n",
       "</pre>\n"
      ],
      "text/plain": [
       "Episode length: 3466.15 +/- 247.44\n"
      ]
     },
     "metadata": {},
     "output_type": "display_data"
    },
    {
     "data": {
      "text/html": [
       "<pre style=\"white-space:pre;overflow-x:auto;line-height:normal;font-family:Menlo,'DejaVu Sans Mono',consolas,'Courier New',monospace\">Eval num_timesteps=8925000, episode_reward=515.50 +/- 43.70\n",
       "</pre>\n"
      ],
      "text/plain": [
       "Eval num_timesteps=8925000, episode_reward=515.50 +/- 43.70\n"
      ]
     },
     "metadata": {},
     "output_type": "display_data"
    },
    {
     "data": {
      "text/html": [
       "<pre style=\"white-space:pre;overflow-x:auto;line-height:normal;font-family:Menlo,'DejaVu Sans Mono',consolas,'Courier New',monospace\">Episode length: 3328.55 +/- 633.27\n",
       "</pre>\n"
      ],
      "text/plain": [
       "Episode length: 3328.55 +/- 633.27\n"
      ]
     },
     "metadata": {},
     "output_type": "display_data"
    },
    {
     "data": {
      "text/html": [
       "<pre style=\"white-space:pre;overflow-x:auto;line-height:normal;font-family:Menlo,'DejaVu Sans Mono',consolas,'Courier New',monospace\">Eval num_timesteps=8950000, episode_reward=785.00 +/- 360.19\n",
       "</pre>\n"
      ],
      "text/plain": [
       "Eval num_timesteps=8950000, episode_reward=785.00 +/- 360.19\n"
      ]
     },
     "metadata": {},
     "output_type": "display_data"
    },
    {
     "data": {
      "text/html": [
       "<pre style=\"white-space:pre;overflow-x:auto;line-height:normal;font-family:Menlo,'DejaVu Sans Mono',consolas,'Courier New',monospace\">Episode length: 4483.50 +/- 1863.55\n",
       "</pre>\n"
      ],
      "text/plain": [
       "Episode length: 4483.50 +/- 1863.55\n"
      ]
     },
     "metadata": {},
     "output_type": "display_data"
    },
    {
     "data": {
      "text/html": [
       "<pre style=\"white-space:pre;overflow-x:auto;line-height:normal;font-family:Menlo,'DejaVu Sans Mono',consolas,'Courier New',monospace\">Eval num_timesteps=8975000, episode_reward=679.00 +/- 109.59\n",
       "</pre>\n"
      ],
      "text/plain": [
       "Eval num_timesteps=8975000, episode_reward=679.00 +/- 109.59\n"
      ]
     },
     "metadata": {},
     "output_type": "display_data"
    },
    {
     "data": {
      "text/html": [
       "<pre style=\"white-space:pre;overflow-x:auto;line-height:normal;font-family:Menlo,'DejaVu Sans Mono',consolas,'Courier New',monospace\">Episode length: 4388.75 +/- 802.11\n",
       "</pre>\n"
      ],
      "text/plain": [
       "Episode length: 4388.75 +/- 802.11\n"
      ]
     },
     "metadata": {},
     "output_type": "display_data"
    },
    {
     "data": {
      "text/html": [
       "<pre style=\"white-space:pre;overflow-x:auto;line-height:normal;font-family:Menlo,'DejaVu Sans Mono',consolas,'Courier New',monospace\">Eval num_timesteps=9000000, episode_reward=504.75 +/- 105.07\n",
       "</pre>\n"
      ],
      "text/plain": [
       "Eval num_timesteps=9000000, episode_reward=504.75 +/- 105.07\n"
      ]
     },
     "metadata": {},
     "output_type": "display_data"
    },
    {
     "data": {
      "text/html": [
       "<pre style=\"white-space:pre;overflow-x:auto;line-height:normal;font-family:Menlo,'DejaVu Sans Mono',consolas,'Courier New',monospace\">Episode length: 3549.95 +/- 524.48\n",
       "</pre>\n"
      ],
      "text/plain": [
       "Episode length: 3549.95 +/- 524.48\n"
      ]
     },
     "metadata": {},
     "output_type": "display_data"
    },
    {
     "data": {
      "text/html": [
       "<pre style=\"white-space:pre;overflow-x:auto;line-height:normal;font-family:Menlo,'DejaVu Sans Mono',consolas,'Courier New',monospace\">Eval num_timesteps=9025000, episode_reward=575.50 +/- 39.93\n",
       "</pre>\n"
      ],
      "text/plain": [
       "Eval num_timesteps=9025000, episode_reward=575.50 +/- 39.93\n"
      ]
     },
     "metadata": {},
     "output_type": "display_data"
    },
    {
     "data": {
      "text/html": [
       "<pre style=\"white-space:pre;overflow-x:auto;line-height:normal;font-family:Menlo,'DejaVu Sans Mono',consolas,'Courier New',monospace\">Episode length: 3876.40 +/- 429.66\n",
       "</pre>\n"
      ],
      "text/plain": [
       "Episode length: 3876.40 +/- 429.66\n"
      ]
     },
     "metadata": {},
     "output_type": "display_data"
    },
    {
     "data": {
      "text/html": [
       "<pre style=\"white-space:pre;overflow-x:auto;line-height:normal;font-family:Menlo,'DejaVu Sans Mono',consolas,'Courier New',monospace\">Eval num_timesteps=9050000, episode_reward=741.50 +/- 252.87\n",
       "</pre>\n"
      ],
      "text/plain": [
       "Eval num_timesteps=9050000, episode_reward=741.50 +/- 252.87\n"
      ]
     },
     "metadata": {},
     "output_type": "display_data"
    },
    {
     "data": {
      "text/html": [
       "<pre style=\"white-space:pre;overflow-x:auto;line-height:normal;font-family:Menlo,'DejaVu Sans Mono',consolas,'Courier New',monospace\">Episode length: 4533.15 +/- 1345.92\n",
       "</pre>\n"
      ],
      "text/plain": [
       "Episode length: 4533.15 +/- 1345.92\n"
      ]
     },
     "metadata": {},
     "output_type": "display_data"
    },
    {
     "data": {
      "text/html": [
       "<pre style=\"white-space:pre;overflow-x:auto;line-height:normal;font-family:Menlo,'DejaVu Sans Mono',consolas,'Courier New',monospace\">Eval num_timesteps=9075000, episode_reward=709.00 +/- 237.10\n",
       "</pre>\n"
      ],
      "text/plain": [
       "Eval num_timesteps=9075000, episode_reward=709.00 +/- 237.10\n"
      ]
     },
     "metadata": {},
     "output_type": "display_data"
    },
    {
     "data": {
      "text/html": [
       "<pre style=\"white-space:pre;overflow-x:auto;line-height:normal;font-family:Menlo,'DejaVu Sans Mono',consolas,'Courier New',monospace\">Episode length: 4260.05 +/- 1503.45\n",
       "</pre>\n"
      ],
      "text/plain": [
       "Episode length: 4260.05 +/- 1503.45\n"
      ]
     },
     "metadata": {},
     "output_type": "display_data"
    },
    {
     "data": {
      "text/html": [
       "<pre style=\"white-space:pre;overflow-x:auto;line-height:normal;font-family:Menlo,'DejaVu Sans Mono',consolas,'Courier New',monospace\">Eval num_timesteps=9100000, episode_reward=551.50 +/- 259.10\n",
       "</pre>\n"
      ],
      "text/plain": [
       "Eval num_timesteps=9100000, episode_reward=551.50 +/- 259.10\n"
      ]
     },
     "metadata": {},
     "output_type": "display_data"
    },
    {
     "data": {
      "text/html": [
       "<pre style=\"white-space:pre;overflow-x:auto;line-height:normal;font-family:Menlo,'DejaVu Sans Mono',consolas,'Courier New',monospace\">Episode length: 3840.80 +/- 1105.70\n",
       "</pre>\n"
      ],
      "text/plain": [
       "Episode length: 3840.80 +/- 1105.70\n"
      ]
     },
     "metadata": {},
     "output_type": "display_data"
    },
    {
     "data": {
      "text/html": [
       "<pre style=\"white-space:pre;overflow-x:auto;line-height:normal;font-family:Menlo,'DejaVu Sans Mono',consolas,'Courier New',monospace\">Eval num_timesteps=9125000, episode_reward=582.75 +/- 100.47\n",
       "</pre>\n"
      ],
      "text/plain": [
       "Eval num_timesteps=9125000, episode_reward=582.75 +/- 100.47\n"
      ]
     },
     "metadata": {},
     "output_type": "display_data"
    },
    {
     "data": {
      "text/html": [
       "<pre style=\"white-space:pre;overflow-x:auto;line-height:normal;font-family:Menlo,'DejaVu Sans Mono',consolas,'Courier New',monospace\">Episode length: 3772.20 +/- 316.75\n",
       "</pre>\n"
      ],
      "text/plain": [
       "Episode length: 3772.20 +/- 316.75\n"
      ]
     },
     "metadata": {},
     "output_type": "display_data"
    },
    {
     "data": {
      "text/html": [
       "<pre style=\"white-space:pre;overflow-x:auto;line-height:normal;font-family:Menlo,'DejaVu Sans Mono',consolas,'Courier New',monospace\">Eval num_timesteps=9150000, episode_reward=742.25 +/- 267.47\n",
       "</pre>\n"
      ],
      "text/plain": [
       "Eval num_timesteps=9150000, episode_reward=742.25 +/- 267.47\n"
      ]
     },
     "metadata": {},
     "output_type": "display_data"
    },
    {
     "data": {
      "text/html": [
       "<pre style=\"white-space:pre;overflow-x:auto;line-height:normal;font-family:Menlo,'DejaVu Sans Mono',consolas,'Courier New',monospace\">Episode length: 4283.90 +/- 1589.62\n",
       "</pre>\n"
      ],
      "text/plain": [
       "Episode length: 4283.90 +/- 1589.62\n"
      ]
     },
     "metadata": {},
     "output_type": "display_data"
    },
    {
     "data": {
      "text/html": [
       "<pre style=\"white-space:pre;overflow-x:auto;line-height:normal;font-family:Menlo,'DejaVu Sans Mono',consolas,'Courier New',monospace\">Eval num_timesteps=9175000, episode_reward=580.00 +/- 16.43\n",
       "</pre>\n"
      ],
      "text/plain": [
       "Eval num_timesteps=9175000, episode_reward=580.00 +/- 16.43\n"
      ]
     },
     "metadata": {},
     "output_type": "display_data"
    },
    {
     "data": {
      "text/html": [
       "<pre style=\"white-space:pre;overflow-x:auto;line-height:normal;font-family:Menlo,'DejaVu Sans Mono',consolas,'Courier New',monospace\">Episode length: 3178.25 +/- 164.34\n",
       "</pre>\n"
      ],
      "text/plain": [
       "Episode length: 3178.25 +/- 164.34\n"
      ]
     },
     "metadata": {},
     "output_type": "display_data"
    },
    {
     "data": {
      "text/html": [
       "<pre style=\"white-space:pre;overflow-x:auto;line-height:normal;font-family:Menlo,'DejaVu Sans Mono',consolas,'Courier New',monospace\">Eval num_timesteps=9200000, episode_reward=616.50 +/- 155.16\n",
       "</pre>\n"
      ],
      "text/plain": [
       "Eval num_timesteps=9200000, episode_reward=616.50 +/- 155.16\n"
      ]
     },
     "metadata": {},
     "output_type": "display_data"
    },
    {
     "data": {
      "text/html": [
       "<pre style=\"white-space:pre;overflow-x:auto;line-height:normal;font-family:Menlo,'DejaVu Sans Mono',consolas,'Courier New',monospace\">Episode length: 3827.30 +/- 661.54\n",
       "</pre>\n"
      ],
      "text/plain": [
       "Episode length: 3827.30 +/- 661.54\n"
      ]
     },
     "metadata": {},
     "output_type": "display_data"
    },
    {
     "data": {
      "text/html": [
       "<pre style=\"white-space:pre;overflow-x:auto;line-height:normal;font-family:Menlo,'DejaVu Sans Mono',consolas,'Courier New',monospace\">Eval num_timesteps=9225000, episode_reward=622.50 +/- 87.17\n",
       "</pre>\n"
      ],
      "text/plain": [
       "Eval num_timesteps=9225000, episode_reward=622.50 +/- 87.17\n"
      ]
     },
     "metadata": {},
     "output_type": "display_data"
    },
    {
     "data": {
      "text/html": [
       "<pre style=\"white-space:pre;overflow-x:auto;line-height:normal;font-family:Menlo,'DejaVu Sans Mono',consolas,'Courier New',monospace\">Episode length: 3505.15 +/- 426.31\n",
       "</pre>\n"
      ],
      "text/plain": [
       "Episode length: 3505.15 +/- 426.31\n"
      ]
     },
     "metadata": {},
     "output_type": "display_data"
    },
    {
     "data": {
      "text/html": [
       "<pre style=\"white-space:pre;overflow-x:auto;line-height:normal;font-family:Menlo,'DejaVu Sans Mono',consolas,'Courier New',monospace\">Eval num_timesteps=9250000, episode_reward=594.50 +/- 74.88\n",
       "</pre>\n"
      ],
      "text/plain": [
       "Eval num_timesteps=9250000, episode_reward=594.50 +/- 74.88\n"
      ]
     },
     "metadata": {},
     "output_type": "display_data"
    },
    {
     "data": {
      "text/html": [
       "<pre style=\"white-space:pre;overflow-x:auto;line-height:normal;font-family:Menlo,'DejaVu Sans Mono',consolas,'Courier New',monospace\">Episode length: 3278.05 +/- 632.19\n",
       "</pre>\n"
      ],
      "text/plain": [
       "Episode length: 3278.05 +/- 632.19\n"
      ]
     },
     "metadata": {},
     "output_type": "display_data"
    },
    {
     "data": {
      "text/html": [
       "<pre style=\"white-space:pre;overflow-x:auto;line-height:normal;font-family:Menlo,'DejaVu Sans Mono',consolas,'Courier New',monospace\">Eval num_timesteps=9275000, episode_reward=568.50 +/- 89.88\n",
       "</pre>\n"
      ],
      "text/plain": [
       "Eval num_timesteps=9275000, episode_reward=568.50 +/- 89.88\n"
      ]
     },
     "metadata": {},
     "output_type": "display_data"
    },
    {
     "data": {
      "text/html": [
       "<pre style=\"white-space:pre;overflow-x:auto;line-height:normal;font-family:Menlo,'DejaVu Sans Mono',consolas,'Courier New',monospace\">Episode length: 3452.80 +/- 359.92\n",
       "</pre>\n"
      ],
      "text/plain": [
       "Episode length: 3452.80 +/- 359.92\n"
      ]
     },
     "metadata": {},
     "output_type": "display_data"
    },
    {
     "data": {
      "text/html": [
       "<pre style=\"white-space:pre;overflow-x:auto;line-height:normal;font-family:Menlo,'DejaVu Sans Mono',consolas,'Courier New',monospace\">Eval num_timesteps=9300000, episode_reward=519.25 +/- 143.49\n",
       "</pre>\n"
      ],
      "text/plain": [
       "Eval num_timesteps=9300000, episode_reward=519.25 +/- 143.49\n"
      ]
     },
     "metadata": {},
     "output_type": "display_data"
    },
    {
     "data": {
      "text/html": [
       "<pre style=\"white-space:pre;overflow-x:auto;line-height:normal;font-family:Menlo,'DejaVu Sans Mono',consolas,'Courier New',monospace\">Episode length: 3306.60 +/- 399.28\n",
       "</pre>\n"
      ],
      "text/plain": [
       "Episode length: 3306.60 +/- 399.28\n"
      ]
     },
     "metadata": {},
     "output_type": "display_data"
    },
    {
     "data": {
      "text/html": [
       "<pre style=\"white-space:pre;overflow-x:auto;line-height:normal;font-family:Menlo,'DejaVu Sans Mono',consolas,'Courier New',monospace\">Eval num_timesteps=9325000, episode_reward=596.75 +/- 134.28\n",
       "</pre>\n"
      ],
      "text/plain": [
       "Eval num_timesteps=9325000, episode_reward=596.75 +/- 134.28\n"
      ]
     },
     "metadata": {},
     "output_type": "display_data"
    },
    {
     "data": {
      "text/html": [
       "<pre style=\"white-space:pre;overflow-x:auto;line-height:normal;font-family:Menlo,'DejaVu Sans Mono',consolas,'Courier New',monospace\">Episode length: 3173.30 +/- 747.08\n",
       "</pre>\n"
      ],
      "text/plain": [
       "Episode length: 3173.30 +/- 747.08\n"
      ]
     },
     "metadata": {},
     "output_type": "display_data"
    },
    {
     "data": {
      "text/html": [
       "<pre style=\"white-space:pre;overflow-x:auto;line-height:normal;font-family:Menlo,'DejaVu Sans Mono',consolas,'Courier New',monospace\">Eval num_timesteps=9350000, episode_reward=557.00 +/- 66.68\n",
       "</pre>\n"
      ],
      "text/plain": [
       "Eval num_timesteps=9350000, episode_reward=557.00 +/- 66.68\n"
      ]
     },
     "metadata": {},
     "output_type": "display_data"
    },
    {
     "data": {
      "text/html": [
       "<pre style=\"white-space:pre;overflow-x:auto;line-height:normal;font-family:Menlo,'DejaVu Sans Mono',consolas,'Courier New',monospace\">Episode length: 3167.40 +/- 359.65\n",
       "</pre>\n"
      ],
      "text/plain": [
       "Episode length: 3167.40 +/- 359.65\n"
      ]
     },
     "metadata": {},
     "output_type": "display_data"
    },
    {
     "data": {
      "text/html": [
       "<pre style=\"white-space:pre;overflow-x:auto;line-height:normal;font-family:Menlo,'DejaVu Sans Mono',consolas,'Courier New',monospace\">Eval num_timesteps=9375000, episode_reward=559.00 +/- 178.71\n",
       "</pre>\n"
      ],
      "text/plain": [
       "Eval num_timesteps=9375000, episode_reward=559.00 +/- 178.71\n"
      ]
     },
     "metadata": {},
     "output_type": "display_data"
    },
    {
     "data": {
      "text/html": [
       "<pre style=\"white-space:pre;overflow-x:auto;line-height:normal;font-family:Menlo,'DejaVu Sans Mono',consolas,'Courier New',monospace\">Episode length: 3687.80 +/- 1010.39\n",
       "</pre>\n"
      ],
      "text/plain": [
       "Episode length: 3687.80 +/- 1010.39\n"
      ]
     },
     "metadata": {},
     "output_type": "display_data"
    },
    {
     "data": {
      "text/html": [
       "<pre style=\"white-space:pre;overflow-x:auto;line-height:normal;font-family:Menlo,'DejaVu Sans Mono',consolas,'Courier New',monospace\">Eval num_timesteps=9400000, episode_reward=565.25 +/- 50.88\n",
       "</pre>\n"
      ],
      "text/plain": [
       "Eval num_timesteps=9400000, episode_reward=565.25 +/- 50.88\n"
      ]
     },
     "metadata": {},
     "output_type": "display_data"
    },
    {
     "data": {
      "text/html": [
       "<pre style=\"white-space:pre;overflow-x:auto;line-height:normal;font-family:Menlo,'DejaVu Sans Mono',consolas,'Courier New',monospace\">Episode length: 3704.90 +/- 392.14\n",
       "</pre>\n"
      ],
      "text/plain": [
       "Episode length: 3704.90 +/- 392.14\n"
      ]
     },
     "metadata": {},
     "output_type": "display_data"
    },
    {
     "data": {
      "text/html": [
       "<pre style=\"white-space:pre;overflow-x:auto;line-height:normal;font-family:Menlo,'DejaVu Sans Mono',consolas,'Courier New',monospace\">Eval num_timesteps=9425000, episode_reward=559.00 +/- 52.07\n",
       "</pre>\n"
      ],
      "text/plain": [
       "Eval num_timesteps=9425000, episode_reward=559.00 +/- 52.07\n"
      ]
     },
     "metadata": {},
     "output_type": "display_data"
    },
    {
     "data": {
      "text/html": [
       "<pre style=\"white-space:pre;overflow-x:auto;line-height:normal;font-family:Menlo,'DejaVu Sans Mono',consolas,'Courier New',monospace\">Episode length: 3448.00 +/- 538.56\n",
       "</pre>\n"
      ],
      "text/plain": [
       "Episode length: 3448.00 +/- 538.56\n"
      ]
     },
     "metadata": {},
     "output_type": "display_data"
    },
    {
     "data": {
      "text/html": [
       "<pre style=\"white-space:pre;overflow-x:auto;line-height:normal;font-family:Menlo,'DejaVu Sans Mono',consolas,'Courier New',monospace\">Eval num_timesteps=9450000, episode_reward=542.25 +/- 45.48\n",
       "</pre>\n"
      ],
      "text/plain": [
       "Eval num_timesteps=9450000, episode_reward=542.25 +/- 45.48\n"
      ]
     },
     "metadata": {},
     "output_type": "display_data"
    },
    {
     "data": {
      "text/html": [
       "<pre style=\"white-space:pre;overflow-x:auto;line-height:normal;font-family:Menlo,'DejaVu Sans Mono',consolas,'Courier New',monospace\">Episode length: 3314.40 +/- 149.40\n",
       "</pre>\n"
      ],
      "text/plain": [
       "Episode length: 3314.40 +/- 149.40\n"
      ]
     },
     "metadata": {},
     "output_type": "display_data"
    },
    {
     "data": {
      "text/html": [
       "<pre style=\"white-space:pre;overflow-x:auto;line-height:normal;font-family:Menlo,'DejaVu Sans Mono',consolas,'Courier New',monospace\">Eval num_timesteps=9475000, episode_reward=591.50 +/- 73.77\n",
       "</pre>\n"
      ],
      "text/plain": [
       "Eval num_timesteps=9475000, episode_reward=591.50 +/- 73.77\n"
      ]
     },
     "metadata": {},
     "output_type": "display_data"
    },
    {
     "data": {
      "text/html": [
       "<pre style=\"white-space:pre;overflow-x:auto;line-height:normal;font-family:Menlo,'DejaVu Sans Mono',consolas,'Courier New',monospace\">Episode length: 3795.75 +/- 461.59\n",
       "</pre>\n"
      ],
      "text/plain": [
       "Episode length: 3795.75 +/- 461.59\n"
      ]
     },
     "metadata": {},
     "output_type": "display_data"
    },
    {
     "data": {
      "text/html": [
       "<pre style=\"white-space:pre;overflow-x:auto;line-height:normal;font-family:Menlo,'DejaVu Sans Mono',consolas,'Courier New',monospace\">Eval num_timesteps=9500000, episode_reward=571.25 +/- 40.68\n",
       "</pre>\n"
      ],
      "text/plain": [
       "Eval num_timesteps=9500000, episode_reward=571.25 +/- 40.68\n"
      ]
     },
     "metadata": {},
     "output_type": "display_data"
    },
    {
     "data": {
      "text/html": [
       "<pre style=\"white-space:pre;overflow-x:auto;line-height:normal;font-family:Menlo,'DejaVu Sans Mono',consolas,'Courier New',monospace\">Episode length: 3603.30 +/- 555.82\n",
       "</pre>\n"
      ],
      "text/plain": [
       "Episode length: 3603.30 +/- 555.82\n"
      ]
     },
     "metadata": {},
     "output_type": "display_data"
    },
    {
     "data": {
      "text/html": [
       "<pre style=\"white-space:pre;overflow-x:auto;line-height:normal;font-family:Menlo,'DejaVu Sans Mono',consolas,'Courier New',monospace\">Eval num_timesteps=9525000, episode_reward=597.50 +/- 105.11\n",
       "</pre>\n"
      ],
      "text/plain": [
       "Eval num_timesteps=9525000, episode_reward=597.50 +/- 105.11\n"
      ]
     },
     "metadata": {},
     "output_type": "display_data"
    },
    {
     "data": {
      "text/html": [
       "<pre style=\"white-space:pre;overflow-x:auto;line-height:normal;font-family:Menlo,'DejaVu Sans Mono',consolas,'Courier New',monospace\">Episode length: 3085.10 +/- 317.36\n",
       "</pre>\n"
      ],
      "text/plain": [
       "Episode length: 3085.10 +/- 317.36\n"
      ]
     },
     "metadata": {},
     "output_type": "display_data"
    },
    {
     "data": {
      "text/html": [
       "<pre style=\"white-space:pre;overflow-x:auto;line-height:normal;font-family:Menlo,'DejaVu Sans Mono',consolas,'Courier New',monospace\">Eval num_timesteps=9550000, episode_reward=664.50 +/- 80.43\n",
       "</pre>\n"
      ],
      "text/plain": [
       "Eval num_timesteps=9550000, episode_reward=664.50 +/- 80.43\n"
      ]
     },
     "metadata": {},
     "output_type": "display_data"
    },
    {
     "data": {
      "text/html": [
       "<pre style=\"white-space:pre;overflow-x:auto;line-height:normal;font-family:Menlo,'DejaVu Sans Mono',consolas,'Courier New',monospace\">Episode length: 3492.30 +/- 228.54\n",
       "</pre>\n"
      ],
      "text/plain": [
       "Episode length: 3492.30 +/- 228.54\n"
      ]
     },
     "metadata": {},
     "output_type": "display_data"
    },
    {
     "data": {
      "text/html": [
       "<pre style=\"white-space:pre;overflow-x:auto;line-height:normal;font-family:Menlo,'DejaVu Sans Mono',consolas,'Courier New',monospace\">Eval num_timesteps=9575000, episode_reward=566.50 +/- 94.33\n",
       "</pre>\n"
      ],
      "text/plain": [
       "Eval num_timesteps=9575000, episode_reward=566.50 +/- 94.33\n"
      ]
     },
     "metadata": {},
     "output_type": "display_data"
    },
    {
     "data": {
      "text/html": [
       "<pre style=\"white-space:pre;overflow-x:auto;line-height:normal;font-family:Menlo,'DejaVu Sans Mono',consolas,'Courier New',monospace\">Episode length: 3518.10 +/- 583.43\n",
       "</pre>\n"
      ],
      "text/plain": [
       "Episode length: 3518.10 +/- 583.43\n"
      ]
     },
     "metadata": {},
     "output_type": "display_data"
    },
    {
     "data": {
      "text/html": [
       "<pre style=\"white-space:pre;overflow-x:auto;line-height:normal;font-family:Menlo,'DejaVu Sans Mono',consolas,'Courier New',monospace\">Eval num_timesteps=9600000, episode_reward=721.00 +/- 201.90\n",
       "</pre>\n"
      ],
      "text/plain": [
       "Eval num_timesteps=9600000, episode_reward=721.00 +/- 201.90\n"
      ]
     },
     "metadata": {},
     "output_type": "display_data"
    },
    {
     "data": {
      "text/html": [
       "<pre style=\"white-space:pre;overflow-x:auto;line-height:normal;font-family:Menlo,'DejaVu Sans Mono',consolas,'Courier New',monospace\">Episode length: 4015.75 +/- 922.84\n",
       "</pre>\n"
      ],
      "text/plain": [
       "Episode length: 4015.75 +/- 922.84\n"
      ]
     },
     "metadata": {},
     "output_type": "display_data"
    },
    {
     "data": {
      "text/html": [
       "<pre style=\"white-space:pre;overflow-x:auto;line-height:normal;font-family:Menlo,'DejaVu Sans Mono',consolas,'Courier New',monospace\">Eval num_timesteps=9625000, episode_reward=533.50 +/- 115.44\n",
       "</pre>\n"
      ],
      "text/plain": [
       "Eval num_timesteps=9625000, episode_reward=533.50 +/- 115.44\n"
      ]
     },
     "metadata": {},
     "output_type": "display_data"
    },
    {
     "data": {
      "text/html": [
       "<pre style=\"white-space:pre;overflow-x:auto;line-height:normal;font-family:Menlo,'DejaVu Sans Mono',consolas,'Courier New',monospace\">Episode length: 3588.60 +/- 523.11\n",
       "</pre>\n"
      ],
      "text/plain": [
       "Episode length: 3588.60 +/- 523.11\n"
      ]
     },
     "metadata": {},
     "output_type": "display_data"
    },
    {
     "data": {
      "text/html": [
       "<pre style=\"white-space:pre;overflow-x:auto;line-height:normal;font-family:Menlo,'DejaVu Sans Mono',consolas,'Courier New',monospace\">Eval num_timesteps=9650000, episode_reward=687.00 +/- 153.52\n",
       "</pre>\n"
      ],
      "text/plain": [
       "Eval num_timesteps=9650000, episode_reward=687.00 +/- 153.52\n"
      ]
     },
     "metadata": {},
     "output_type": "display_data"
    },
    {
     "data": {
      "text/html": [
       "<pre style=\"white-space:pre;overflow-x:auto;line-height:normal;font-family:Menlo,'DejaVu Sans Mono',consolas,'Courier New',monospace\">Episode length: 4107.50 +/- 460.79\n",
       "</pre>\n"
      ],
      "text/plain": [
       "Episode length: 4107.50 +/- 460.79\n"
      ]
     },
     "metadata": {},
     "output_type": "display_data"
    },
    {
     "data": {
      "text/html": [
       "<pre style=\"white-space:pre;overflow-x:auto;line-height:normal;font-family:Menlo,'DejaVu Sans Mono',consolas,'Courier New',monospace\">Eval num_timesteps=9675000, episode_reward=656.00 +/- 147.96\n",
       "</pre>\n"
      ],
      "text/plain": [
       "Eval num_timesteps=9675000, episode_reward=656.00 +/- 147.96\n"
      ]
     },
     "metadata": {},
     "output_type": "display_data"
    },
    {
     "data": {
      "text/html": [
       "<pre style=\"white-space:pre;overflow-x:auto;line-height:normal;font-family:Menlo,'DejaVu Sans Mono',consolas,'Courier New',monospace\">Episode length: 3705.00 +/- 359.52\n",
       "</pre>\n"
      ],
      "text/plain": [
       "Episode length: 3705.00 +/- 359.52\n"
      ]
     },
     "metadata": {},
     "output_type": "display_data"
    },
    {
     "data": {
      "text/html": [
       "<pre style=\"white-space:pre;overflow-x:auto;line-height:normal;font-family:Menlo,'DejaVu Sans Mono',consolas,'Courier New',monospace\">Eval num_timesteps=9700000, episode_reward=569.75 +/- 54.71\n",
       "</pre>\n"
      ],
      "text/plain": [
       "Eval num_timesteps=9700000, episode_reward=569.75 +/- 54.71\n"
      ]
     },
     "metadata": {},
     "output_type": "display_data"
    },
    {
     "data": {
      "text/html": [
       "<pre style=\"white-space:pre;overflow-x:auto;line-height:normal;font-family:Menlo,'DejaVu Sans Mono',consolas,'Courier New',monospace\">Episode length: 3252.00 +/- 236.91\n",
       "</pre>\n"
      ],
      "text/plain": [
       "Episode length: 3252.00 +/- 236.91\n"
      ]
     },
     "metadata": {},
     "output_type": "display_data"
    },
    {
     "data": {
      "text/html": [
       "<pre style=\"white-space:pre;overflow-x:auto;line-height:normal;font-family:Menlo,'DejaVu Sans Mono',consolas,'Courier New',monospace\">Eval num_timesteps=9725000, episode_reward=483.50 +/- 81.64\n",
       "</pre>\n"
      ],
      "text/plain": [
       "Eval num_timesteps=9725000, episode_reward=483.50 +/- 81.64\n"
      ]
     },
     "metadata": {},
     "output_type": "display_data"
    },
    {
     "data": {
      "text/html": [
       "<pre style=\"white-space:pre;overflow-x:auto;line-height:normal;font-family:Menlo,'DejaVu Sans Mono',consolas,'Courier New',monospace\">Episode length: 2964.20 +/- 418.06\n",
       "</pre>\n"
      ],
      "text/plain": [
       "Episode length: 2964.20 +/- 418.06\n"
      ]
     },
     "metadata": {},
     "output_type": "display_data"
    },
    {
     "data": {
      "text/html": [
       "<pre style=\"white-space:pre;overflow-x:auto;line-height:normal;font-family:Menlo,'DejaVu Sans Mono',consolas,'Courier New',monospace\">Eval num_timesteps=9750000, episode_reward=541.00 +/- 30.56\n",
       "</pre>\n"
      ],
      "text/plain": [
       "Eval num_timesteps=9750000, episode_reward=541.00 +/- 30.56\n"
      ]
     },
     "metadata": {},
     "output_type": "display_data"
    },
    {
     "data": {
      "text/html": [
       "<pre style=\"white-space:pre;overflow-x:auto;line-height:normal;font-family:Menlo,'DejaVu Sans Mono',consolas,'Courier New',monospace\">Episode length: 3175.80 +/- 385.27\n",
       "</pre>\n"
      ],
      "text/plain": [
       "Episode length: 3175.80 +/- 385.27\n"
      ]
     },
     "metadata": {},
     "output_type": "display_data"
    },
    {
     "data": {
      "text/html": [
       "<pre style=\"white-space:pre;overflow-x:auto;line-height:normal;font-family:Menlo,'DejaVu Sans Mono',consolas,'Courier New',monospace\">Eval num_timesteps=9775000, episode_reward=580.50 +/- 53.27\n",
       "</pre>\n"
      ],
      "text/plain": [
       "Eval num_timesteps=9775000, episode_reward=580.50 +/- 53.27\n"
      ]
     },
     "metadata": {},
     "output_type": "display_data"
    },
    {
     "data": {
      "text/html": [
       "<pre style=\"white-space:pre;overflow-x:auto;line-height:normal;font-family:Menlo,'DejaVu Sans Mono',consolas,'Courier New',monospace\">Episode length: 3394.60 +/- 564.59\n",
       "</pre>\n"
      ],
      "text/plain": [
       "Episode length: 3394.60 +/- 564.59\n"
      ]
     },
     "metadata": {},
     "output_type": "display_data"
    },
    {
     "data": {
      "text/html": [
       "<pre style=\"white-space:pre;overflow-x:auto;line-height:normal;font-family:Menlo,'DejaVu Sans Mono',consolas,'Courier New',monospace\">Eval num_timesteps=9800000, episode_reward=562.25 +/- 143.75\n",
       "</pre>\n"
      ],
      "text/plain": [
       "Eval num_timesteps=9800000, episode_reward=562.25 +/- 143.75\n"
      ]
     },
     "metadata": {},
     "output_type": "display_data"
    },
    {
     "data": {
      "text/html": [
       "<pre style=\"white-space:pre;overflow-x:auto;line-height:normal;font-family:Menlo,'DejaVu Sans Mono',consolas,'Courier New',monospace\">Episode length: 3396.50 +/- 813.85\n",
       "</pre>\n"
      ],
      "text/plain": [
       "Episode length: 3396.50 +/- 813.85\n"
      ]
     },
     "metadata": {},
     "output_type": "display_data"
    },
    {
     "data": {
      "text/html": [
       "<pre style=\"white-space:pre;overflow-x:auto;line-height:normal;font-family:Menlo,'DejaVu Sans Mono',consolas,'Courier New',monospace\">Eval num_timesteps=9825000, episode_reward=700.25 +/- 99.76\n",
       "</pre>\n"
      ],
      "text/plain": [
       "Eval num_timesteps=9825000, episode_reward=700.25 +/- 99.76\n"
      ]
     },
     "metadata": {},
     "output_type": "display_data"
    },
    {
     "data": {
      "text/html": [
       "<pre style=\"white-space:pre;overflow-x:auto;line-height:normal;font-family:Menlo,'DejaVu Sans Mono',consolas,'Courier New',monospace\">Episode length: 3312.10 +/- 280.44\n",
       "</pre>\n"
      ],
      "text/plain": [
       "Episode length: 3312.10 +/- 280.44\n"
      ]
     },
     "metadata": {},
     "output_type": "display_data"
    },
    {
     "data": {
      "text/html": [
       "<pre style=\"white-space:pre;overflow-x:auto;line-height:normal;font-family:Menlo,'DejaVu Sans Mono',consolas,'Courier New',monospace\">Eval num_timesteps=9850000, episode_reward=801.25 +/- 233.57\n",
       "</pre>\n"
      ],
      "text/plain": [
       "Eval num_timesteps=9850000, episode_reward=801.25 +/- 233.57\n"
      ]
     },
     "metadata": {},
     "output_type": "display_data"
    },
    {
     "data": {
      "text/html": [
       "<pre style=\"white-space:pre;overflow-x:auto;line-height:normal;font-family:Menlo,'DejaVu Sans Mono',consolas,'Courier New',monospace\">Episode length: 5396.25 +/- 1671.54\n",
       "</pre>\n"
      ],
      "text/plain": [
       "Episode length: 5396.25 +/- 1671.54\n"
      ]
     },
     "metadata": {},
     "output_type": "display_data"
    },
    {
     "data": {
      "text/html": [
       "<pre style=\"white-space:pre;overflow-x:auto;line-height:normal;font-family:Menlo,'DejaVu Sans Mono',consolas,'Courier New',monospace\">Eval num_timesteps=9875000, episode_reward=635.25 +/- 88.06\n",
       "</pre>\n"
      ],
      "text/plain": [
       "Eval num_timesteps=9875000, episode_reward=635.25 +/- 88.06\n"
      ]
     },
     "metadata": {},
     "output_type": "display_data"
    },
    {
     "data": {
      "text/html": [
       "<pre style=\"white-space:pre;overflow-x:auto;line-height:normal;font-family:Menlo,'DejaVu Sans Mono',consolas,'Courier New',monospace\">Episode length: 3632.75 +/- 412.37\n",
       "</pre>\n"
      ],
      "text/plain": [
       "Episode length: 3632.75 +/- 412.37\n"
      ]
     },
     "metadata": {},
     "output_type": "display_data"
    },
    {
     "data": {
      "text/html": [
       "<pre style=\"white-space:pre;overflow-x:auto;line-height:normal;font-family:Menlo,'DejaVu Sans Mono',consolas,'Courier New',monospace\">Eval num_timesteps=9900000, episode_reward=608.25 +/- 92.97\n",
       "</pre>\n"
      ],
      "text/plain": [
       "Eval num_timesteps=9900000, episode_reward=608.25 +/- 92.97\n"
      ]
     },
     "metadata": {},
     "output_type": "display_data"
    },
    {
     "data": {
      "text/html": [
       "<pre style=\"white-space:pre;overflow-x:auto;line-height:normal;font-family:Menlo,'DejaVu Sans Mono',consolas,'Courier New',monospace\">Episode length: 3765.90 +/- 336.88\n",
       "</pre>\n"
      ],
      "text/plain": [
       "Episode length: 3765.90 +/- 336.88\n"
      ]
     },
     "metadata": {},
     "output_type": "display_data"
    },
    {
     "data": {
      "text/html": [
       "<pre style=\"white-space:pre;overflow-x:auto;line-height:normal;font-family:Menlo,'DejaVu Sans Mono',consolas,'Courier New',monospace\">Eval num_timesteps=9925000, episode_reward=548.00 +/- 24.92\n",
       "</pre>\n"
      ],
      "text/plain": [
       "Eval num_timesteps=9925000, episode_reward=548.00 +/- 24.92\n"
      ]
     },
     "metadata": {},
     "output_type": "display_data"
    },
    {
     "data": {
      "text/html": [
       "<pre style=\"white-space:pre;overflow-x:auto;line-height:normal;font-family:Menlo,'DejaVu Sans Mono',consolas,'Courier New',monospace\">Episode length: 3133.10 +/- 211.16\n",
       "</pre>\n"
      ],
      "text/plain": [
       "Episode length: 3133.10 +/- 211.16\n"
      ]
     },
     "metadata": {},
     "output_type": "display_data"
    },
    {
     "data": {
      "text/html": [
       "<pre style=\"white-space:pre;overflow-x:auto;line-height:normal;font-family:Menlo,'DejaVu Sans Mono',consolas,'Courier New',monospace\">Eval num_timesteps=9950000, episode_reward=806.25 +/- 182.29\n",
       "</pre>\n"
      ],
      "text/plain": [
       "Eval num_timesteps=9950000, episode_reward=806.25 +/- 182.29\n"
      ]
     },
     "metadata": {},
     "output_type": "display_data"
    },
    {
     "data": {
      "text/html": [
       "<pre style=\"white-space:pre;overflow-x:auto;line-height:normal;font-family:Menlo,'DejaVu Sans Mono',consolas,'Courier New',monospace\">Episode length: 4011.90 +/- 810.71\n",
       "</pre>\n"
      ],
      "text/plain": [
       "Episode length: 4011.90 +/- 810.71\n"
      ]
     },
     "metadata": {},
     "output_type": "display_data"
    },
    {
     "data": {
      "text/html": [
       "<pre style=\"white-space:pre;overflow-x:auto;line-height:normal;font-family:Menlo,'DejaVu Sans Mono',consolas,'Courier New',monospace\">Eval num_timesteps=9975000, episode_reward=564.50 +/- 91.38\n",
       "</pre>\n"
      ],
      "text/plain": [
       "Eval num_timesteps=9975000, episode_reward=564.50 +/- 91.38\n"
      ]
     },
     "metadata": {},
     "output_type": "display_data"
    },
    {
     "data": {
      "text/html": [
       "<pre style=\"white-space:pre;overflow-x:auto;line-height:normal;font-family:Menlo,'DejaVu Sans Mono',consolas,'Courier New',monospace\">Episode length: 3331.90 +/- 654.53\n",
       "</pre>\n"
      ],
      "text/plain": [
       "Episode length: 3331.90 +/- 654.53\n"
      ]
     },
     "metadata": {},
     "output_type": "display_data"
    },
    {
     "data": {
      "text/html": [
       "<pre style=\"white-space:pre;overflow-x:auto;line-height:normal;font-family:Menlo,'DejaVu Sans Mono',consolas,'Courier New',monospace\">Eval num_timesteps=10000000, episode_reward=605.25 +/- 73.61\n",
       "</pre>\n"
      ],
      "text/plain": [
       "Eval num_timesteps=10000000, episode_reward=605.25 +/- 73.61\n"
      ]
     },
     "metadata": {},
     "output_type": "display_data"
    },
    {
     "data": {
      "text/html": [
       "<pre style=\"white-space:pre;overflow-x:auto;line-height:normal;font-family:Menlo,'DejaVu Sans Mono',consolas,'Courier New',monospace\">Episode length: 3279.30 +/- 255.05\n",
       "</pre>\n"
      ],
      "text/plain": [
       "Episode length: 3279.30 +/- 255.05\n"
      ]
     },
     "metadata": {},
     "output_type": "display_data"
    },
    {
     "data": {
      "text/html": [
       "<pre style=\"white-space:pre;overflow-x:auto;line-height:normal;font-family:Menlo,'DejaVu Sans Mono',consolas,'Courier New',monospace\"></pre>\n"
      ],
      "text/plain": []
     },
     "metadata": {},
     "output_type": "display_data"
    },
    {
     "data": {
      "text/html": [
       "<pre style=\"white-space:pre;overflow-x:auto;line-height:normal;font-family:Menlo,'DejaVu Sans Mono',consolas,'Courier New',monospace\">\n",
       "</pre>\n"
      ],
      "text/plain": [
       "\n"
      ]
     },
     "metadata": {},
     "output_type": "display_data"
    },
    {
     "data": {
      "text/plain": [
       "<stable_baselines3.ppo.ppo.PPO at 0x26ebc4f2140>"
      ]
     },
     "execution_count": 13,
     "metadata": {},
     "output_type": "execute_result"
    }
   ],
   "source": [
    "reseed(seed)\n",
    "#ckpt_path = 'space_invaders'\n",
    "# If you get the error that Only one live display may be active at once, either restart colab or set progress bar = False\n",
    "total_timesteps = 10_000_000\n",
    "ppomodel.learn(total_timesteps=total_timesteps, callback=eval_callback, progress_bar=True)"
   ]
  },
  {
   "cell_type": "code",
   "execution_count": 14,
   "metadata": {
    "id": "zQbW-DNK0B4n"
   },
   "outputs": [
    {
     "name": "stderr",
     "output_type": "stream",
     "text": [
      "100%|██████████| 100/100 [01:37<00:00,  1.03it/s]"
     ]
    },
    {
     "name": "stdout",
     "output_type": "stream",
     "text": [
      "16.280000686645508\n"
     ]
    },
    {
     "name": "stderr",
     "output_type": "stream",
     "text": [
      "\n"
     ]
    }
   ],
   "source": [
    "best_ppo_model = PPO.load(\"models/best_space_invader_model_v4/best_model.zip\", env=env1)\n",
    "\n",
    "print(evaluate_policy(best_ppo_model, env1))"
   ]
  },
  {
   "cell_type": "code",
   "execution_count": 15,
   "metadata": {
    "id": "d8Ryu7hr2iFi"
   },
   "outputs": [
    {
     "name": "stderr",
     "output_type": "stream",
     "text": [
      "WARNING:py.warnings:c:\\Users\\danie\\anaconda3\\envs\\rl\\lib\\site-packages\\gymnasium\\utils\\passive_env_checker.py:335: UserWarning: \u001b[33mWARN: No render fps was declared in the environment (env.metadata['render_fps'] is None or not defined), rendering may occur at inconsistent fps.\u001b[0m\n",
      "  logger.warn(\n",
      "\n"
     ]
    },
    {
     "name": "stdout",
     "output_type": "stream",
     "text": [
      "Video saved as space_invaders_v4_video.mp4\n"
     ]
    }
   ],
   "source": [
    "visualize(env_id, algorithm=best_ppo_model, video_name='space_invaders_v4_video', env_args=env_args)\n",
    "\n",
    "# might need to rerun with best_ppo_model"
   ]
  },
  {
   "cell_type": "code",
   "execution_count": 16,
   "metadata": {
    "id": "v-vpZPdk2jnW"
   },
   "outputs": [],
   "source": [
    "ppomodel.save(\"models/space_invaders_ppo_v4_10m\")\n",
    "\n",
    "# best model_1 and best_model_2 are using difficulty 1"
   ]
  },
  {
   "cell_type": "markdown",
   "metadata": {},
   "source": [
    "# DQN Model"
   ]
  },
  {
   "cell_type": "markdown",
   "metadata": {},
   "source": [
    "Needs to train on a different env with different params due to dqn buffer memory size"
   ]
  },
  {
   "cell_type": "code",
   "execution_count": 17,
   "metadata": {
    "id": "2xOVXB0jGM2B"
   },
   "outputs": [
    {
     "name": "stderr",
     "output_type": "stream",
     "text": [
      "WARNING:py.warnings:c:\\Users\\danie\\anaconda3\\envs\\rl\\lib\\site-packages\\stable_baselines3\\common\\buffers.py:241: UserWarning: This system does not have apparently enough memory to store the complete replay buffer 5.65GB > 1.69GB\n",
      "  warnings.warn(\n",
      "\n"
     ]
    }
   ],
   "source": [
    "from stable_baselines3 import DQN\n",
    "\n",
    "# can only use env1 instead of env8 for training due to memory constraints\n",
    "\n",
    "dqnmodel = DQN(\n",
    "    \"CnnPolicy\",  # Using CNN policy for visual inputs\n",
    "    env1,\n",
    "    learning_rate=1e-4,\n",
    "    buffer_size=100_000,            # Smaller replay buffer\n",
    "    learning_starts=50_000,        # Start learning earlier\n",
    "    batch_size=32,\n",
    "    train_freq=4,                  # Train more frequently\n",
    "    target_update_interval=1000,  # Update target network more frequently\n",
    "    exploration_fraction=0.1,     # Faster exploration decay\n",
    "    exploration_final_eps=0.01,\n",
    "    gamma=0.99,\n",
    ")"
   ]
  },
  {
   "cell_type": "code",
   "execution_count": 18,
   "metadata": {},
   "outputs": [],
   "source": [
    "eval_callback_dqn = EvalCallback(\n",
    "    eval_env=env1,\n",
    "    callback_on_new_best=None,\n",
    "    callback_after_eval=None,\n",
    "    n_eval_episodes=10,\n",
    "    eval_freq=200_000,\n",
    "    log_path='./logs/dqn_space_invaders/',\n",
    "    best_model_save_path='./models/dqn_space_invaders/',\n",
    "    deterministic=True,\n",
    "    render=False,\n",
    "    verbose=1,\n",
    "    warn=True\n",
    ")"
   ]
  },
  {
   "cell_type": "code",
   "execution_count": 19,
   "metadata": {},
   "outputs": [
    {
     "name": "stderr",
     "output_type": "stream",
     "text": [
      "WARNING:py.warnings:c:\\Users\\danie\\anaconda3\\envs\\rl\\lib\\site-packages\\stable_baselines3\\common\\callbacks.py:414: UserWarning: Training and eval env are not of the same type<stable_baselines3.common.vec_env.vec_transpose.VecTransposeImage object at 0x0000026EE14196C0> != <stable_baselines3.common.vec_env.vec_frame_stack.VecFrameStack object at 0x0000026EBC456B30>\n",
      "  warnings.warn(\"Training and eval env are not of the same type\" f\"{self.training_env} != {self.eval_env}\")\n",
      "\n"
     ]
    },
    {
     "data": {
      "application/vnd.jupyter.widget-view+json": {
       "model_id": "7c6df0917e634e81a8d5a12a0a262f97",
       "version_major": 2,
       "version_minor": 0
      },
      "text/plain": [
       "Output()"
      ]
     },
     "metadata": {},
     "output_type": "display_data"
    },
    {
     "data": {
      "text/html": [
       "<pre style=\"white-space:pre;overflow-x:auto;line-height:normal;font-family:Menlo,'DejaVu Sans Mono',consolas,'Courier New',monospace\">Eval num_timesteps=200000, episode_reward=5.00 +/- 15.00\n",
       "</pre>\n"
      ],
      "text/plain": [
       "Eval num_timesteps=200000, episode_reward=5.00 +/- 15.00\n"
      ]
     },
     "metadata": {},
     "output_type": "display_data"
    },
    {
     "data": {
      "text/html": [
       "<pre style=\"white-space:pre;overflow-x:auto;line-height:normal;font-family:Menlo,'DejaVu Sans Mono',consolas,'Courier New',monospace\">Episode length: 1234.60 +/- 259.79\n",
       "</pre>\n"
      ],
      "text/plain": [
       "Episode length: 1234.60 +/- 259.79\n"
      ]
     },
     "metadata": {},
     "output_type": "display_data"
    },
    {
     "data": {
      "text/html": [
       "<pre style=\"white-space:pre;overflow-x:auto;line-height:normal;font-family:Menlo,'DejaVu Sans Mono',consolas,'Courier New',monospace\">New best mean reward!\n",
       "</pre>\n"
      ],
      "text/plain": [
       "New best mean reward!\n"
      ]
     },
     "metadata": {},
     "output_type": "display_data"
    },
    {
     "data": {
      "text/html": [
       "<pre style=\"white-space:pre;overflow-x:auto;line-height:normal;font-family:Menlo,'DejaVu Sans Mono',consolas,'Courier New',monospace\">Eval num_timesteps=400000, episode_reward=318.50 +/- 114.78\n",
       "</pre>\n"
      ],
      "text/plain": [
       "Eval num_timesteps=400000, episode_reward=318.50 +/- 114.78\n"
      ]
     },
     "metadata": {},
     "output_type": "display_data"
    },
    {
     "data": {
      "text/html": [
       "<pre style=\"white-space:pre;overflow-x:auto;line-height:normal;font-family:Menlo,'DejaVu Sans Mono',consolas,'Courier New',monospace\">Episode length: 5479.00 +/- 524.12\n",
       "</pre>\n"
      ],
      "text/plain": [
       "Episode length: 5479.00 +/- 524.12\n"
      ]
     },
     "metadata": {},
     "output_type": "display_data"
    },
    {
     "data": {
      "text/html": [
       "<pre style=\"white-space:pre;overflow-x:auto;line-height:normal;font-family:Menlo,'DejaVu Sans Mono',consolas,'Courier New',monospace\">New best mean reward!\n",
       "</pre>\n"
      ],
      "text/plain": [
       "New best mean reward!\n"
      ]
     },
     "metadata": {},
     "output_type": "display_data"
    },
    {
     "data": {
      "text/html": [
       "<pre style=\"white-space:pre;overflow-x:auto;line-height:normal;font-family:Menlo,'DejaVu Sans Mono',consolas,'Courier New',monospace\">Eval num_timesteps=600000, episode_reward=502.00 +/- 88.35\n",
       "</pre>\n"
      ],
      "text/plain": [
       "Eval num_timesteps=600000, episode_reward=502.00 +/- 88.35\n"
      ]
     },
     "metadata": {},
     "output_type": "display_data"
    },
    {
     "data": {
      "text/html": [
       "<pre style=\"white-space:pre;overflow-x:auto;line-height:normal;font-family:Menlo,'DejaVu Sans Mono',consolas,'Courier New',monospace\">Episode length: 4574.40 +/- 714.15\n",
       "</pre>\n"
      ],
      "text/plain": [
       "Episode length: 4574.40 +/- 714.15\n"
      ]
     },
     "metadata": {},
     "output_type": "display_data"
    },
    {
     "data": {
      "text/html": [
       "<pre style=\"white-space:pre;overflow-x:auto;line-height:normal;font-family:Menlo,'DejaVu Sans Mono',consolas,'Courier New',monospace\">New best mean reward!\n",
       "</pre>\n"
      ],
      "text/plain": [
       "New best mean reward!\n"
      ]
     },
     "metadata": {},
     "output_type": "display_data"
    },
    {
     "data": {
      "text/html": [
       "<pre style=\"white-space:pre;overflow-x:auto;line-height:normal;font-family:Menlo,'DejaVu Sans Mono',consolas,'Courier New',monospace\">Eval num_timesteps=800000, episode_reward=479.00 +/- 100.69\n",
       "</pre>\n"
      ],
      "text/plain": [
       "Eval num_timesteps=800000, episode_reward=479.00 +/- 100.69\n"
      ]
     },
     "metadata": {},
     "output_type": "display_data"
    },
    {
     "data": {
      "text/html": [
       "<pre style=\"white-space:pre;overflow-x:auto;line-height:normal;font-family:Menlo,'DejaVu Sans Mono',consolas,'Courier New',monospace\">Episode length: 3193.50 +/- 329.28\n",
       "</pre>\n"
      ],
      "text/plain": [
       "Episode length: 3193.50 +/- 329.28\n"
      ]
     },
     "metadata": {},
     "output_type": "display_data"
    },
    {
     "data": {
      "text/html": [
       "<pre style=\"white-space:pre;overflow-x:auto;line-height:normal;font-family:Menlo,'DejaVu Sans Mono',consolas,'Courier New',monospace\">Eval num_timesteps=1000000, episode_reward=759.50 +/- 190.77\n",
       "</pre>\n"
      ],
      "text/plain": [
       "Eval num_timesteps=1000000, episode_reward=759.50 +/- 190.77\n"
      ]
     },
     "metadata": {},
     "output_type": "display_data"
    },
    {
     "data": {
      "text/html": [
       "<pre style=\"white-space:pre;overflow-x:auto;line-height:normal;font-family:Menlo,'DejaVu Sans Mono',consolas,'Courier New',monospace\">Episode length: 5417.60 +/- 1223.44\n",
       "</pre>\n"
      ],
      "text/plain": [
       "Episode length: 5417.60 +/- 1223.44\n"
      ]
     },
     "metadata": {},
     "output_type": "display_data"
    },
    {
     "data": {
      "text/html": [
       "<pre style=\"white-space:pre;overflow-x:auto;line-height:normal;font-family:Menlo,'DejaVu Sans Mono',consolas,'Courier New',monospace\">New best mean reward!\n",
       "</pre>\n"
      ],
      "text/plain": [
       "New best mean reward!\n"
      ]
     },
     "metadata": {},
     "output_type": "display_data"
    },
    {
     "data": {
      "text/html": [
       "<pre style=\"white-space:pre;overflow-x:auto;line-height:normal;font-family:Menlo,'DejaVu Sans Mono',consolas,'Courier New',monospace\">Eval num_timesteps=1200000, episode_reward=626.00 +/- 42.65\n",
       "</pre>\n"
      ],
      "text/plain": [
       "Eval num_timesteps=1200000, episode_reward=626.00 +/- 42.65\n"
      ]
     },
     "metadata": {},
     "output_type": "display_data"
    },
    {
     "data": {
      "text/html": [
       "<pre style=\"white-space:pre;overflow-x:auto;line-height:normal;font-family:Menlo,'DejaVu Sans Mono',consolas,'Courier New',monospace\">Episode length: 3871.90 +/- 332.73\n",
       "</pre>\n"
      ],
      "text/plain": [
       "Episode length: 3871.90 +/- 332.73\n"
      ]
     },
     "metadata": {},
     "output_type": "display_data"
    },
    {
     "data": {
      "text/html": [
       "<pre style=\"white-space:pre;overflow-x:auto;line-height:normal;font-family:Menlo,'DejaVu Sans Mono',consolas,'Courier New',monospace\">Eval num_timesteps=1400000, episode_reward=512.50 +/- 244.56\n",
       "</pre>\n"
      ],
      "text/plain": [
       "Eval num_timesteps=1400000, episode_reward=512.50 +/- 244.56\n"
      ]
     },
     "metadata": {},
     "output_type": "display_data"
    },
    {
     "data": {
      "text/html": [
       "<pre style=\"white-space:pre;overflow-x:auto;line-height:normal;font-family:Menlo,'DejaVu Sans Mono',consolas,'Courier New',monospace\">Episode length: 3371.90 +/- 1380.42\n",
       "</pre>\n"
      ],
      "text/plain": [
       "Episode length: 3371.90 +/- 1380.42\n"
      ]
     },
     "metadata": {},
     "output_type": "display_data"
    },
    {
     "data": {
      "text/html": [
       "<pre style=\"white-space:pre;overflow-x:auto;line-height:normal;font-family:Menlo,'DejaVu Sans Mono',consolas,'Courier New',monospace\">Eval num_timesteps=1600000, episode_reward=512.50 +/- 148.01\n",
       "</pre>\n"
      ],
      "text/plain": [
       "Eval num_timesteps=1600000, episode_reward=512.50 +/- 148.01\n"
      ]
     },
     "metadata": {},
     "output_type": "display_data"
    },
    {
     "data": {
      "text/html": [
       "<pre style=\"white-space:pre;overflow-x:auto;line-height:normal;font-family:Menlo,'DejaVu Sans Mono',consolas,'Courier New',monospace\">Episode length: 3930.70 +/- 834.91\n",
       "</pre>\n"
      ],
      "text/plain": [
       "Episode length: 3930.70 +/- 834.91\n"
      ]
     },
     "metadata": {},
     "output_type": "display_data"
    },
    {
     "data": {
      "text/html": [
       "<pre style=\"white-space:pre;overflow-x:auto;line-height:normal;font-family:Menlo,'DejaVu Sans Mono',consolas,'Courier New',monospace\">Eval num_timesteps=1800000, episode_reward=811.50 +/- 302.41\n",
       "</pre>\n"
      ],
      "text/plain": [
       "Eval num_timesteps=1800000, episode_reward=811.50 +/- 302.41\n"
      ]
     },
     "metadata": {},
     "output_type": "display_data"
    },
    {
     "data": {
      "text/html": [
       "<pre style=\"white-space:pre;overflow-x:auto;line-height:normal;font-family:Menlo,'DejaVu Sans Mono',consolas,'Courier New',monospace\">Episode length: 4926.00 +/- 1982.32\n",
       "</pre>\n"
      ],
      "text/plain": [
       "Episode length: 4926.00 +/- 1982.32\n"
      ]
     },
     "metadata": {},
     "output_type": "display_data"
    },
    {
     "data": {
      "text/html": [
       "<pre style=\"white-space:pre;overflow-x:auto;line-height:normal;font-family:Menlo,'DejaVu Sans Mono',consolas,'Courier New',monospace\">New best mean reward!\n",
       "</pre>\n"
      ],
      "text/plain": [
       "New best mean reward!\n"
      ]
     },
     "metadata": {},
     "output_type": "display_data"
    },
    {
     "data": {
      "text/html": [
       "<pre style=\"white-space:pre;overflow-x:auto;line-height:normal;font-family:Menlo,'DejaVu Sans Mono',consolas,'Courier New',monospace\">Eval num_timesteps=2000000, episode_reward=636.50 +/- 95.40\n",
       "</pre>\n"
      ],
      "text/plain": [
       "Eval num_timesteps=2000000, episode_reward=636.50 +/- 95.40\n"
      ]
     },
     "metadata": {},
     "output_type": "display_data"
    },
    {
     "data": {
      "text/html": [
       "<pre style=\"white-space:pre;overflow-x:auto;line-height:normal;font-family:Menlo,'DejaVu Sans Mono',consolas,'Courier New',monospace\">Episode length: 3563.40 +/- 139.96\n",
       "</pre>\n"
      ],
      "text/plain": [
       "Episode length: 3563.40 +/- 139.96\n"
      ]
     },
     "metadata": {},
     "output_type": "display_data"
    },
    {
     "data": {
      "text/html": [
       "<pre style=\"white-space:pre;overflow-x:auto;line-height:normal;font-family:Menlo,'DejaVu Sans Mono',consolas,'Courier New',monospace\">Eval num_timesteps=2200000, episode_reward=681.00 +/- 115.58\n",
       "</pre>\n"
      ],
      "text/plain": [
       "Eval num_timesteps=2200000, episode_reward=681.00 +/- 115.58\n"
      ]
     },
     "metadata": {},
     "output_type": "display_data"
    },
    {
     "data": {
      "text/html": [
       "<pre style=\"white-space:pre;overflow-x:auto;line-height:normal;font-family:Menlo,'DejaVu Sans Mono',consolas,'Courier New',monospace\">Episode length: 3221.20 +/- 248.79\n",
       "</pre>\n"
      ],
      "text/plain": [
       "Episode length: 3221.20 +/- 248.79\n"
      ]
     },
     "metadata": {},
     "output_type": "display_data"
    },
    {
     "data": {
      "text/html": [
       "<pre style=\"white-space:pre;overflow-x:auto;line-height:normal;font-family:Menlo,'DejaVu Sans Mono',consolas,'Courier New',monospace\">Eval num_timesteps=2400000, episode_reward=721.50 +/- 363.77\n",
       "</pre>\n"
      ],
      "text/plain": [
       "Eval num_timesteps=2400000, episode_reward=721.50 +/- 363.77\n"
      ]
     },
     "metadata": {},
     "output_type": "display_data"
    },
    {
     "data": {
      "text/html": [
       "<pre style=\"white-space:pre;overflow-x:auto;line-height:normal;font-family:Menlo,'DejaVu Sans Mono',consolas,'Courier New',monospace\">Episode length: 4768.50 +/- 2333.69\n",
       "</pre>\n"
      ],
      "text/plain": [
       "Episode length: 4768.50 +/- 2333.69\n"
      ]
     },
     "metadata": {},
     "output_type": "display_data"
    },
    {
     "data": {
      "text/html": [
       "<pre style=\"white-space:pre;overflow-x:auto;line-height:normal;font-family:Menlo,'DejaVu Sans Mono',consolas,'Courier New',monospace\">Eval num_timesteps=2600000, episode_reward=900.50 +/- 163.91\n",
       "</pre>\n"
      ],
      "text/plain": [
       "Eval num_timesteps=2600000, episode_reward=900.50 +/- 163.91\n"
      ]
     },
     "metadata": {},
     "output_type": "display_data"
    },
    {
     "data": {
      "text/html": [
       "<pre style=\"white-space:pre;overflow-x:auto;line-height:normal;font-family:Menlo,'DejaVu Sans Mono',consolas,'Courier New',monospace\">Episode length: 4954.00 +/- 951.42\n",
       "</pre>\n"
      ],
      "text/plain": [
       "Episode length: 4954.00 +/- 951.42\n"
      ]
     },
     "metadata": {},
     "output_type": "display_data"
    },
    {
     "data": {
      "text/html": [
       "<pre style=\"white-space:pre;overflow-x:auto;line-height:normal;font-family:Menlo,'DejaVu Sans Mono',consolas,'Courier New',monospace\">New best mean reward!\n",
       "</pre>\n"
      ],
      "text/plain": [
       "New best mean reward!\n"
      ]
     },
     "metadata": {},
     "output_type": "display_data"
    },
    {
     "data": {
      "text/html": [
       "<pre style=\"white-space:pre;overflow-x:auto;line-height:normal;font-family:Menlo,'DejaVu Sans Mono',consolas,'Courier New',monospace\">Eval num_timesteps=2800000, episode_reward=655.00 +/- 179.30\n",
       "</pre>\n"
      ],
      "text/plain": [
       "Eval num_timesteps=2800000, episode_reward=655.00 +/- 179.30\n"
      ]
     },
     "metadata": {},
     "output_type": "display_data"
    },
    {
     "data": {
      "text/html": [
       "<pre style=\"white-space:pre;overflow-x:auto;line-height:normal;font-family:Menlo,'DejaVu Sans Mono',consolas,'Courier New',monospace\">Episode length: 3315.30 +/- 1062.47\n",
       "</pre>\n"
      ],
      "text/plain": [
       "Episode length: 3315.30 +/- 1062.47\n"
      ]
     },
     "metadata": {},
     "output_type": "display_data"
    },
    {
     "data": {
      "text/html": [
       "<pre style=\"white-space:pre;overflow-x:auto;line-height:normal;font-family:Menlo,'DejaVu Sans Mono',consolas,'Courier New',monospace\">Eval num_timesteps=3000000, episode_reward=608.00 +/- 55.64\n",
       "</pre>\n"
      ],
      "text/plain": [
       "Eval num_timesteps=3000000, episode_reward=608.00 +/- 55.64\n"
      ]
     },
     "metadata": {},
     "output_type": "display_data"
    },
    {
     "data": {
      "text/html": [
       "<pre style=\"white-space:pre;overflow-x:auto;line-height:normal;font-family:Menlo,'DejaVu Sans Mono',consolas,'Courier New',monospace\">Episode length: 4275.40 +/- 501.90\n",
       "</pre>\n"
      ],
      "text/plain": [
       "Episode length: 4275.40 +/- 501.90\n"
      ]
     },
     "metadata": {},
     "output_type": "display_data"
    },
    {
     "data": {
      "text/html": [
       "<pre style=\"white-space:pre;overflow-x:auto;line-height:normal;font-family:Menlo,'DejaVu Sans Mono',consolas,'Courier New',monospace\">Eval num_timesteps=3200000, episode_reward=848.50 +/- 402.16\n",
       "</pre>\n"
      ],
      "text/plain": [
       "Eval num_timesteps=3200000, episode_reward=848.50 +/- 402.16\n"
      ]
     },
     "metadata": {},
     "output_type": "display_data"
    },
    {
     "data": {
      "text/html": [
       "<pre style=\"white-space:pre;overflow-x:auto;line-height:normal;font-family:Menlo,'DejaVu Sans Mono',consolas,'Courier New',monospace\">Episode length: 4436.30 +/- 2082.24\n",
       "</pre>\n"
      ],
      "text/plain": [
       "Episode length: 4436.30 +/- 2082.24\n"
      ]
     },
     "metadata": {},
     "output_type": "display_data"
    },
    {
     "data": {
      "text/html": [
       "<pre style=\"white-space:pre;overflow-x:auto;line-height:normal;font-family:Menlo,'DejaVu Sans Mono',consolas,'Courier New',monospace\">Eval num_timesteps=3400000, episode_reward=976.00 +/- 246.67\n",
       "</pre>\n"
      ],
      "text/plain": [
       "Eval num_timesteps=3400000, episode_reward=976.00 +/- 246.67\n"
      ]
     },
     "metadata": {},
     "output_type": "display_data"
    },
    {
     "data": {
      "text/html": [
       "<pre style=\"white-space:pre;overflow-x:auto;line-height:normal;font-family:Menlo,'DejaVu Sans Mono',consolas,'Courier New',monospace\">Episode length: 5867.90 +/- 1355.53\n",
       "</pre>\n"
      ],
      "text/plain": [
       "Episode length: 5867.90 +/- 1355.53\n"
      ]
     },
     "metadata": {},
     "output_type": "display_data"
    },
    {
     "data": {
      "text/html": [
       "<pre style=\"white-space:pre;overflow-x:auto;line-height:normal;font-family:Menlo,'DejaVu Sans Mono',consolas,'Courier New',monospace\">New best mean reward!\n",
       "</pre>\n"
      ],
      "text/plain": [
       "New best mean reward!\n"
      ]
     },
     "metadata": {},
     "output_type": "display_data"
    },
    {
     "data": {
      "text/html": [
       "<pre style=\"white-space:pre;overflow-x:auto;line-height:normal;font-family:Menlo,'DejaVu Sans Mono',consolas,'Courier New',monospace\">Eval num_timesteps=3600000, episode_reward=607.50 +/- 148.93\n",
       "</pre>\n"
      ],
      "text/plain": [
       "Eval num_timesteps=3600000, episode_reward=607.50 +/- 148.93\n"
      ]
     },
     "metadata": {},
     "output_type": "display_data"
    },
    {
     "data": {
      "text/html": [
       "<pre style=\"white-space:pre;overflow-x:auto;line-height:normal;font-family:Menlo,'DejaVu Sans Mono',consolas,'Courier New',monospace\">Episode length: 3472.00 +/- 837.55\n",
       "</pre>\n"
      ],
      "text/plain": [
       "Episode length: 3472.00 +/- 837.55\n"
      ]
     },
     "metadata": {},
     "output_type": "display_data"
    },
    {
     "data": {
      "text/html": [
       "<pre style=\"white-space:pre;overflow-x:auto;line-height:normal;font-family:Menlo,'DejaVu Sans Mono',consolas,'Courier New',monospace\">Eval num_timesteps=3800000, episode_reward=725.50 +/- 236.26\n",
       "</pre>\n"
      ],
      "text/plain": [
       "Eval num_timesteps=3800000, episode_reward=725.50 +/- 236.26\n"
      ]
     },
     "metadata": {},
     "output_type": "display_data"
    },
    {
     "data": {
      "text/html": [
       "<pre style=\"white-space:pre;overflow-x:auto;line-height:normal;font-family:Menlo,'DejaVu Sans Mono',consolas,'Courier New',monospace\">Episode length: 3690.30 +/- 931.04\n",
       "</pre>\n"
      ],
      "text/plain": [
       "Episode length: 3690.30 +/- 931.04\n"
      ]
     },
     "metadata": {},
     "output_type": "display_data"
    },
    {
     "data": {
      "text/html": [
       "<pre style=\"white-space:pre;overflow-x:auto;line-height:normal;font-family:Menlo,'DejaVu Sans Mono',consolas,'Courier New',monospace\">Eval num_timesteps=4000000, episode_reward=519.00 +/- 277.82\n",
       "</pre>\n"
      ],
      "text/plain": [
       "Eval num_timesteps=4000000, episode_reward=519.00 +/- 277.82\n"
      ]
     },
     "metadata": {},
     "output_type": "display_data"
    },
    {
     "data": {
      "text/html": [
       "<pre style=\"white-space:pre;overflow-x:auto;line-height:normal;font-family:Menlo,'DejaVu Sans Mono',consolas,'Courier New',monospace\">Episode length: 3206.20 +/- 1547.79\n",
       "</pre>\n"
      ],
      "text/plain": [
       "Episode length: 3206.20 +/- 1547.79\n"
      ]
     },
     "metadata": {},
     "output_type": "display_data"
    },
    {
     "data": {
      "text/html": [
       "<pre style=\"white-space:pre;overflow-x:auto;line-height:normal;font-family:Menlo,'DejaVu Sans Mono',consolas,'Courier New',monospace\">Eval num_timesteps=4200000, episode_reward=877.50 +/- 272.44\n",
       "</pre>\n"
      ],
      "text/plain": [
       "Eval num_timesteps=4200000, episode_reward=877.50 +/- 272.44\n"
      ]
     },
     "metadata": {},
     "output_type": "display_data"
    },
    {
     "data": {
      "text/html": [
       "<pre style=\"white-space:pre;overflow-x:auto;line-height:normal;font-family:Menlo,'DejaVu Sans Mono',consolas,'Courier New',monospace\">Episode length: 4704.00 +/- 1604.96\n",
       "</pre>\n"
      ],
      "text/plain": [
       "Episode length: 4704.00 +/- 1604.96\n"
      ]
     },
     "metadata": {},
     "output_type": "display_data"
    },
    {
     "data": {
      "text/html": [
       "<pre style=\"white-space:pre;overflow-x:auto;line-height:normal;font-family:Menlo,'DejaVu Sans Mono',consolas,'Courier New',monospace\">Eval num_timesteps=4400000, episode_reward=782.50 +/- 354.98\n",
       "</pre>\n"
      ],
      "text/plain": [
       "Eval num_timesteps=4400000, episode_reward=782.50 +/- 354.98\n"
      ]
     },
     "metadata": {},
     "output_type": "display_data"
    },
    {
     "data": {
      "text/html": [
       "<pre style=\"white-space:pre;overflow-x:auto;line-height:normal;font-family:Menlo,'DejaVu Sans Mono',consolas,'Courier New',monospace\">Episode length: 4776.20 +/- 1529.29\n",
       "</pre>\n"
      ],
      "text/plain": [
       "Episode length: 4776.20 +/- 1529.29\n"
      ]
     },
     "metadata": {},
     "output_type": "display_data"
    },
    {
     "data": {
      "text/html": [
       "<pre style=\"white-space:pre;overflow-x:auto;line-height:normal;font-family:Menlo,'DejaVu Sans Mono',consolas,'Courier New',monospace\">Eval num_timesteps=4600000, episode_reward=981.50 +/- 526.26\n",
       "</pre>\n"
      ],
      "text/plain": [
       "Eval num_timesteps=4600000, episode_reward=981.50 +/- 526.26\n"
      ]
     },
     "metadata": {},
     "output_type": "display_data"
    },
    {
     "data": {
      "text/html": [
       "<pre style=\"white-space:pre;overflow-x:auto;line-height:normal;font-family:Menlo,'DejaVu Sans Mono',consolas,'Courier New',monospace\">Episode length: 6169.60 +/- 3410.29\n",
       "</pre>\n"
      ],
      "text/plain": [
       "Episode length: 6169.60 +/- 3410.29\n"
      ]
     },
     "metadata": {},
     "output_type": "display_data"
    },
    {
     "data": {
      "text/html": [
       "<pre style=\"white-space:pre;overflow-x:auto;line-height:normal;font-family:Menlo,'DejaVu Sans Mono',consolas,'Courier New',monospace\">New best mean reward!\n",
       "</pre>\n"
      ],
      "text/plain": [
       "New best mean reward!\n"
      ]
     },
     "metadata": {},
     "output_type": "display_data"
    },
    {
     "data": {
      "text/html": [
       "<pre style=\"white-space:pre;overflow-x:auto;line-height:normal;font-family:Menlo,'DejaVu Sans Mono',consolas,'Courier New',monospace\">Eval num_timesteps=4800000, episode_reward=801.50 +/- 376.09\n",
       "</pre>\n"
      ],
      "text/plain": [
       "Eval num_timesteps=4800000, episode_reward=801.50 +/- 376.09\n"
      ]
     },
     "metadata": {},
     "output_type": "display_data"
    },
    {
     "data": {
      "text/html": [
       "<pre style=\"white-space:pre;overflow-x:auto;line-height:normal;font-family:Menlo,'DejaVu Sans Mono',consolas,'Courier New',monospace\">Episode length: 4443.80 +/- 1726.87\n",
       "</pre>\n"
      ],
      "text/plain": [
       "Episode length: 4443.80 +/- 1726.87\n"
      ]
     },
     "metadata": {},
     "output_type": "display_data"
    },
    {
     "data": {
      "text/html": [
       "<pre style=\"white-space:pre;overflow-x:auto;line-height:normal;font-family:Menlo,'DejaVu Sans Mono',consolas,'Courier New',monospace\">Eval num_timesteps=5000000, episode_reward=687.50 +/- 322.93\n",
       "</pre>\n"
      ],
      "text/plain": [
       "Eval num_timesteps=5000000, episode_reward=687.50 +/- 322.93\n"
      ]
     },
     "metadata": {},
     "output_type": "display_data"
    },
    {
     "data": {
      "text/html": [
       "<pre style=\"white-space:pre;overflow-x:auto;line-height:normal;font-family:Menlo,'DejaVu Sans Mono',consolas,'Courier New',monospace\">Episode length: 4589.70 +/- 1455.82\n",
       "</pre>\n"
      ],
      "text/plain": [
       "Episode length: 4589.70 +/- 1455.82\n"
      ]
     },
     "metadata": {},
     "output_type": "display_data"
    },
    {
     "data": {
      "text/html": [
       "<pre style=\"white-space:pre;overflow-x:auto;line-height:normal;font-family:Menlo,'DejaVu Sans Mono',consolas,'Courier New',monospace\">Eval num_timesteps=5200000, episode_reward=1004.00 +/- 319.65\n",
       "</pre>\n"
      ],
      "text/plain": [
       "Eval num_timesteps=5200000, episode_reward=1004.00 +/- 319.65\n"
      ]
     },
     "metadata": {},
     "output_type": "display_data"
    },
    {
     "data": {
      "text/html": [
       "<pre style=\"white-space:pre;overflow-x:auto;line-height:normal;font-family:Menlo,'DejaVu Sans Mono',consolas,'Courier New',monospace\">Episode length: 5363.10 +/- 1724.12\n",
       "</pre>\n"
      ],
      "text/plain": [
       "Episode length: 5363.10 +/- 1724.12\n"
      ]
     },
     "metadata": {},
     "output_type": "display_data"
    },
    {
     "data": {
      "text/html": [
       "<pre style=\"white-space:pre;overflow-x:auto;line-height:normal;font-family:Menlo,'DejaVu Sans Mono',consolas,'Courier New',monospace\">New best mean reward!\n",
       "</pre>\n"
      ],
      "text/plain": [
       "New best mean reward!\n"
      ]
     },
     "metadata": {},
     "output_type": "display_data"
    },
    {
     "data": {
      "text/html": [
       "<pre style=\"white-space:pre;overflow-x:auto;line-height:normal;font-family:Menlo,'DejaVu Sans Mono',consolas,'Courier New',monospace\">Eval num_timesteps=5400000, episode_reward=797.50 +/- 249.09\n",
       "</pre>\n"
      ],
      "text/plain": [
       "Eval num_timesteps=5400000, episode_reward=797.50 +/- 249.09\n"
      ]
     },
     "metadata": {},
     "output_type": "display_data"
    },
    {
     "data": {
      "text/html": [
       "<pre style=\"white-space:pre;overflow-x:auto;line-height:normal;font-family:Menlo,'DejaVu Sans Mono',consolas,'Courier New',monospace\">Episode length: 4308.80 +/- 1142.54\n",
       "</pre>\n"
      ],
      "text/plain": [
       "Episode length: 4308.80 +/- 1142.54\n"
      ]
     },
     "metadata": {},
     "output_type": "display_data"
    },
    {
     "data": {
      "text/html": [
       "<pre style=\"white-space:pre;overflow-x:auto;line-height:normal;font-family:Menlo,'DejaVu Sans Mono',consolas,'Courier New',monospace\">Eval num_timesteps=5600000, episode_reward=625.50 +/- 242.72\n",
       "</pre>\n"
      ],
      "text/plain": [
       "Eval num_timesteps=5600000, episode_reward=625.50 +/- 242.72\n"
      ]
     },
     "metadata": {},
     "output_type": "display_data"
    },
    {
     "data": {
      "text/html": [
       "<pre style=\"white-space:pre;overflow-x:auto;line-height:normal;font-family:Menlo,'DejaVu Sans Mono',consolas,'Courier New',monospace\">Episode length: 4249.80 +/- 1064.51\n",
       "</pre>\n"
      ],
      "text/plain": [
       "Episode length: 4249.80 +/- 1064.51\n"
      ]
     },
     "metadata": {},
     "output_type": "display_data"
    },
    {
     "data": {
      "text/html": [
       "<pre style=\"white-space:pre;overflow-x:auto;line-height:normal;font-family:Menlo,'DejaVu Sans Mono',consolas,'Courier New',monospace\">Eval num_timesteps=5800000, episode_reward=720.00 +/- 198.32\n",
       "</pre>\n"
      ],
      "text/plain": [
       "Eval num_timesteps=5800000, episode_reward=720.00 +/- 198.32\n"
      ]
     },
     "metadata": {},
     "output_type": "display_data"
    },
    {
     "data": {
      "text/html": [
       "<pre style=\"white-space:pre;overflow-x:auto;line-height:normal;font-family:Menlo,'DejaVu Sans Mono',consolas,'Courier New',monospace\">Episode length: 3539.50 +/- 1267.38\n",
       "</pre>\n"
      ],
      "text/plain": [
       "Episode length: 3539.50 +/- 1267.38\n"
      ]
     },
     "metadata": {},
     "output_type": "display_data"
    },
    {
     "data": {
      "text/html": [
       "<pre style=\"white-space:pre;overflow-x:auto;line-height:normal;font-family:Menlo,'DejaVu Sans Mono',consolas,'Courier New',monospace\">Eval num_timesteps=6000000, episode_reward=1048.50 +/- 207.97\n",
       "</pre>\n"
      ],
      "text/plain": [
       "Eval num_timesteps=6000000, episode_reward=1048.50 +/- 207.97\n"
      ]
     },
     "metadata": {},
     "output_type": "display_data"
    },
    {
     "data": {
      "text/html": [
       "<pre style=\"white-space:pre;overflow-x:auto;line-height:normal;font-family:Menlo,'DejaVu Sans Mono',consolas,'Courier New',monospace\">Episode length: 6410.30 +/- 1255.32\n",
       "</pre>\n"
      ],
      "text/plain": [
       "Episode length: 6410.30 +/- 1255.32\n"
      ]
     },
     "metadata": {},
     "output_type": "display_data"
    },
    {
     "data": {
      "text/html": [
       "<pre style=\"white-space:pre;overflow-x:auto;line-height:normal;font-family:Menlo,'DejaVu Sans Mono',consolas,'Courier New',monospace\">New best mean reward!\n",
       "</pre>\n"
      ],
      "text/plain": [
       "New best mean reward!\n"
      ]
     },
     "metadata": {},
     "output_type": "display_data"
    },
    {
     "data": {
      "text/html": [
       "<pre style=\"white-space:pre;overflow-x:auto;line-height:normal;font-family:Menlo,'DejaVu Sans Mono',consolas,'Courier New',monospace\">Eval num_timesteps=6200000, episode_reward=762.50 +/- 247.05\n",
       "</pre>\n"
      ],
      "text/plain": [
       "Eval num_timesteps=6200000, episode_reward=762.50 +/- 247.05\n"
      ]
     },
     "metadata": {},
     "output_type": "display_data"
    },
    {
     "data": {
      "text/html": [
       "<pre style=\"white-space:pre;overflow-x:auto;line-height:normal;font-family:Menlo,'DejaVu Sans Mono',consolas,'Courier New',monospace\">Episode length: 4069.70 +/- 1096.81\n",
       "</pre>\n"
      ],
      "text/plain": [
       "Episode length: 4069.70 +/- 1096.81\n"
      ]
     },
     "metadata": {},
     "output_type": "display_data"
    },
    {
     "data": {
      "text/html": [
       "<pre style=\"white-space:pre;overflow-x:auto;line-height:normal;font-family:Menlo,'DejaVu Sans Mono',consolas,'Courier New',monospace\">Eval num_timesteps=6400000, episode_reward=777.50 +/- 304.85\n",
       "</pre>\n"
      ],
      "text/plain": [
       "Eval num_timesteps=6400000, episode_reward=777.50 +/- 304.85\n"
      ]
     },
     "metadata": {},
     "output_type": "display_data"
    },
    {
     "data": {
      "text/html": [
       "<pre style=\"white-space:pre;overflow-x:auto;line-height:normal;font-family:Menlo,'DejaVu Sans Mono',consolas,'Courier New',monospace\">Episode length: 4500.40 +/- 1405.26\n",
       "</pre>\n"
      ],
      "text/plain": [
       "Episode length: 4500.40 +/- 1405.26\n"
      ]
     },
     "metadata": {},
     "output_type": "display_data"
    },
    {
     "data": {
      "text/html": [
       "<pre style=\"white-space:pre;overflow-x:auto;line-height:normal;font-family:Menlo,'DejaVu Sans Mono',consolas,'Courier New',monospace\">Eval num_timesteps=6600000, episode_reward=1271.00 +/- 85.38\n",
       "</pre>\n"
      ],
      "text/plain": [
       "Eval num_timesteps=6600000, episode_reward=1271.00 +/- 85.38\n"
      ]
     },
     "metadata": {},
     "output_type": "display_data"
    },
    {
     "data": {
      "text/html": [
       "<pre style=\"white-space:pre;overflow-x:auto;line-height:normal;font-family:Menlo,'DejaVu Sans Mono',consolas,'Courier New',monospace\">Episode length: 6271.20 +/- 471.37\n",
       "</pre>\n"
      ],
      "text/plain": [
       "Episode length: 6271.20 +/- 471.37\n"
      ]
     },
     "metadata": {},
     "output_type": "display_data"
    },
    {
     "data": {
      "text/html": [
       "<pre style=\"white-space:pre;overflow-x:auto;line-height:normal;font-family:Menlo,'DejaVu Sans Mono',consolas,'Courier New',monospace\">New best mean reward!\n",
       "</pre>\n"
      ],
      "text/plain": [
       "New best mean reward!\n"
      ]
     },
     "metadata": {},
     "output_type": "display_data"
    },
    {
     "data": {
      "text/html": [
       "<pre style=\"white-space:pre;overflow-x:auto;line-height:normal;font-family:Menlo,'DejaVu Sans Mono',consolas,'Courier New',monospace\">Eval num_timesteps=6800000, episode_reward=1009.50 +/- 271.30\n",
       "</pre>\n"
      ],
      "text/plain": [
       "Eval num_timesteps=6800000, episode_reward=1009.50 +/- 271.30\n"
      ]
     },
     "metadata": {},
     "output_type": "display_data"
    },
    {
     "data": {
      "text/html": [
       "<pre style=\"white-space:pre;overflow-x:auto;line-height:normal;font-family:Menlo,'DejaVu Sans Mono',consolas,'Courier New',monospace\">Episode length: 5526.20 +/- 1386.18\n",
       "</pre>\n"
      ],
      "text/plain": [
       "Episode length: 5526.20 +/- 1386.18\n"
      ]
     },
     "metadata": {},
     "output_type": "display_data"
    },
    {
     "data": {
      "text/html": [
       "<pre style=\"white-space:pre;overflow-x:auto;line-height:normal;font-family:Menlo,'DejaVu Sans Mono',consolas,'Courier New',monospace\">Eval num_timesteps=7000000, episode_reward=1057.00 +/- 375.31\n",
       "</pre>\n"
      ],
      "text/plain": [
       "Eval num_timesteps=7000000, episode_reward=1057.00 +/- 375.31\n"
      ]
     },
     "metadata": {},
     "output_type": "display_data"
    },
    {
     "data": {
      "text/html": [
       "<pre style=\"white-space:pre;overflow-x:auto;line-height:normal;font-family:Menlo,'DejaVu Sans Mono',consolas,'Courier New',monospace\">Episode length: 5542.80 +/- 2022.53\n",
       "</pre>\n"
      ],
      "text/plain": [
       "Episode length: 5542.80 +/- 2022.53\n"
      ]
     },
     "metadata": {},
     "output_type": "display_data"
    },
    {
     "data": {
      "text/html": [
       "<pre style=\"white-space:pre;overflow-x:auto;line-height:normal;font-family:Menlo,'DejaVu Sans Mono',consolas,'Courier New',monospace\">Eval num_timesteps=7200000, episode_reward=632.00 +/- 250.37\n",
       "</pre>\n"
      ],
      "text/plain": [
       "Eval num_timesteps=7200000, episode_reward=632.00 +/- 250.37\n"
      ]
     },
     "metadata": {},
     "output_type": "display_data"
    },
    {
     "data": {
      "text/html": [
       "<pre style=\"white-space:pre;overflow-x:auto;line-height:normal;font-family:Menlo,'DejaVu Sans Mono',consolas,'Courier New',monospace\">Episode length: 4013.20 +/- 1383.13\n",
       "</pre>\n"
      ],
      "text/plain": [
       "Episode length: 4013.20 +/- 1383.13\n"
      ]
     },
     "metadata": {},
     "output_type": "display_data"
    },
    {
     "data": {
      "text/html": [
       "<pre style=\"white-space:pre;overflow-x:auto;line-height:normal;font-family:Menlo,'DejaVu Sans Mono',consolas,'Courier New',monospace\">Eval num_timesteps=7400000, episode_reward=914.50 +/- 298.82\n",
       "</pre>\n"
      ],
      "text/plain": [
       "Eval num_timesteps=7400000, episode_reward=914.50 +/- 298.82\n"
      ]
     },
     "metadata": {},
     "output_type": "display_data"
    },
    {
     "data": {
      "text/html": [
       "<pre style=\"white-space:pre;overflow-x:auto;line-height:normal;font-family:Menlo,'DejaVu Sans Mono',consolas,'Courier New',monospace\">Episode length: 5322.40 +/- 1328.35\n",
       "</pre>\n"
      ],
      "text/plain": [
       "Episode length: 5322.40 +/- 1328.35\n"
      ]
     },
     "metadata": {},
     "output_type": "display_data"
    },
    {
     "data": {
      "text/html": [
       "<pre style=\"white-space:pre;overflow-x:auto;line-height:normal;font-family:Menlo,'DejaVu Sans Mono',consolas,'Courier New',monospace\">Eval num_timesteps=7600000, episode_reward=674.50 +/- 270.10\n",
       "</pre>\n"
      ],
      "text/plain": [
       "Eval num_timesteps=7600000, episode_reward=674.50 +/- 270.10\n"
      ]
     },
     "metadata": {},
     "output_type": "display_data"
    },
    {
     "data": {
      "text/html": [
       "<pre style=\"white-space:pre;overflow-x:auto;line-height:normal;font-family:Menlo,'DejaVu Sans Mono',consolas,'Courier New',monospace\">Episode length: 4305.00 +/- 1359.97\n",
       "</pre>\n"
      ],
      "text/plain": [
       "Episode length: 4305.00 +/- 1359.97\n"
      ]
     },
     "metadata": {},
     "output_type": "display_data"
    },
    {
     "data": {
      "text/html": [
       "<pre style=\"white-space:pre;overflow-x:auto;line-height:normal;font-family:Menlo,'DejaVu Sans Mono',consolas,'Courier New',monospace\">Eval num_timesteps=7800000, episode_reward=1405.00 +/- 597.98\n",
       "</pre>\n"
      ],
      "text/plain": [
       "Eval num_timesteps=7800000, episode_reward=1405.00 +/- 597.98\n"
      ]
     },
     "metadata": {},
     "output_type": "display_data"
    },
    {
     "data": {
      "text/html": [
       "<pre style=\"white-space:pre;overflow-x:auto;line-height:normal;font-family:Menlo,'DejaVu Sans Mono',consolas,'Courier New',monospace\">Episode length: 7021.80 +/- 2214.00\n",
       "</pre>\n"
      ],
      "text/plain": [
       "Episode length: 7021.80 +/- 2214.00\n"
      ]
     },
     "metadata": {},
     "output_type": "display_data"
    },
    {
     "data": {
      "text/html": [
       "<pre style=\"white-space:pre;overflow-x:auto;line-height:normal;font-family:Menlo,'DejaVu Sans Mono',consolas,'Courier New',monospace\">New best mean reward!\n",
       "</pre>\n"
      ],
      "text/plain": [
       "New best mean reward!\n"
      ]
     },
     "metadata": {},
     "output_type": "display_data"
    },
    {
     "data": {
      "text/html": [
       "<pre style=\"white-space:pre;overflow-x:auto;line-height:normal;font-family:Menlo,'DejaVu Sans Mono',consolas,'Courier New',monospace\">Eval num_timesteps=8000000, episode_reward=854.50 +/- 322.63\n",
       "</pre>\n"
      ],
      "text/plain": [
       "Eval num_timesteps=8000000, episode_reward=854.50 +/- 322.63\n"
      ]
     },
     "metadata": {},
     "output_type": "display_data"
    },
    {
     "data": {
      "text/html": [
       "<pre style=\"white-space:pre;overflow-x:auto;line-height:normal;font-family:Menlo,'DejaVu Sans Mono',consolas,'Courier New',monospace\">Episode length: 4349.80 +/- 1434.64\n",
       "</pre>\n"
      ],
      "text/plain": [
       "Episode length: 4349.80 +/- 1434.64\n"
      ]
     },
     "metadata": {},
     "output_type": "display_data"
    },
    {
     "data": {
      "text/html": [
       "<pre style=\"white-space:pre;overflow-x:auto;line-height:normal;font-family:Menlo,'DejaVu Sans Mono',consolas,'Courier New',monospace\">Eval num_timesteps=8200000, episode_reward=761.50 +/- 208.99\n",
       "</pre>\n"
      ],
      "text/plain": [
       "Eval num_timesteps=8200000, episode_reward=761.50 +/- 208.99\n"
      ]
     },
     "metadata": {},
     "output_type": "display_data"
    },
    {
     "data": {
      "text/html": [
       "<pre style=\"white-space:pre;overflow-x:auto;line-height:normal;font-family:Menlo,'DejaVu Sans Mono',consolas,'Courier New',monospace\">Episode length: 4004.70 +/- 1402.12\n",
       "</pre>\n"
      ],
      "text/plain": [
       "Episode length: 4004.70 +/- 1402.12\n"
      ]
     },
     "metadata": {},
     "output_type": "display_data"
    },
    {
     "data": {
      "text/html": [
       "<pre style=\"white-space:pre;overflow-x:auto;line-height:normal;font-family:Menlo,'DejaVu Sans Mono',consolas,'Courier New',monospace\">Eval num_timesteps=8400000, episode_reward=566.00 +/- 41.64\n",
       "</pre>\n"
      ],
      "text/plain": [
       "Eval num_timesteps=8400000, episode_reward=566.00 +/- 41.64\n"
      ]
     },
     "metadata": {},
     "output_type": "display_data"
    },
    {
     "data": {
      "text/html": [
       "<pre style=\"white-space:pre;overflow-x:auto;line-height:normal;font-family:Menlo,'DejaVu Sans Mono',consolas,'Courier New',monospace\">Episode length: 3733.20 +/- 69.44\n",
       "</pre>\n"
      ],
      "text/plain": [
       "Episode length: 3733.20 +/- 69.44\n"
      ]
     },
     "metadata": {},
     "output_type": "display_data"
    },
    {
     "data": {
      "text/html": [
       "<pre style=\"white-space:pre;overflow-x:auto;line-height:normal;font-family:Menlo,'DejaVu Sans Mono',consolas,'Courier New',monospace\">Eval num_timesteps=8600000, episode_reward=897.00 +/- 331.80\n",
       "</pre>\n"
      ],
      "text/plain": [
       "Eval num_timesteps=8600000, episode_reward=897.00 +/- 331.80\n"
      ]
     },
     "metadata": {},
     "output_type": "display_data"
    },
    {
     "data": {
      "text/html": [
       "<pre style=\"white-space:pre;overflow-x:auto;line-height:normal;font-family:Menlo,'DejaVu Sans Mono',consolas,'Courier New',monospace\">Episode length: 5392.60 +/- 2206.33\n",
       "</pre>\n"
      ],
      "text/plain": [
       "Episode length: 5392.60 +/- 2206.33\n"
      ]
     },
     "metadata": {},
     "output_type": "display_data"
    },
    {
     "data": {
      "text/html": [
       "<pre style=\"white-space:pre;overflow-x:auto;line-height:normal;font-family:Menlo,'DejaVu Sans Mono',consolas,'Courier New',monospace\">Eval num_timesteps=8800000, episode_reward=1103.50 +/- 514.47\n",
       "</pre>\n"
      ],
      "text/plain": [
       "Eval num_timesteps=8800000, episode_reward=1103.50 +/- 514.47\n"
      ]
     },
     "metadata": {},
     "output_type": "display_data"
    },
    {
     "data": {
      "text/html": [
       "<pre style=\"white-space:pre;overflow-x:auto;line-height:normal;font-family:Menlo,'DejaVu Sans Mono',consolas,'Courier New',monospace\">Episode length: 5820.60 +/- 2338.11\n",
       "</pre>\n"
      ],
      "text/plain": [
       "Episode length: 5820.60 +/- 2338.11\n"
      ]
     },
     "metadata": {},
     "output_type": "display_data"
    },
    {
     "data": {
      "text/html": [
       "<pre style=\"white-space:pre;overflow-x:auto;line-height:normal;font-family:Menlo,'DejaVu Sans Mono',consolas,'Courier New',monospace\">Eval num_timesteps=9000000, episode_reward=698.00 +/- 322.75\n",
       "</pre>\n"
      ],
      "text/plain": [
       "Eval num_timesteps=9000000, episode_reward=698.00 +/- 322.75\n"
      ]
     },
     "metadata": {},
     "output_type": "display_data"
    },
    {
     "data": {
      "text/html": [
       "<pre style=\"white-space:pre;overflow-x:auto;line-height:normal;font-family:Menlo,'DejaVu Sans Mono',consolas,'Courier New',monospace\">Episode length: 3870.40 +/- 1475.64\n",
       "</pre>\n"
      ],
      "text/plain": [
       "Episode length: 3870.40 +/- 1475.64\n"
      ]
     },
     "metadata": {},
     "output_type": "display_data"
    },
    {
     "data": {
      "text/html": [
       "<pre style=\"white-space:pre;overflow-x:auto;line-height:normal;font-family:Menlo,'DejaVu Sans Mono',consolas,'Courier New',monospace\">Eval num_timesteps=9200000, episode_reward=777.00 +/- 273.95\n",
       "</pre>\n"
      ],
      "text/plain": [
       "Eval num_timesteps=9200000, episode_reward=777.00 +/- 273.95\n"
      ]
     },
     "metadata": {},
     "output_type": "display_data"
    },
    {
     "data": {
      "text/html": [
       "<pre style=\"white-space:pre;overflow-x:auto;line-height:normal;font-family:Menlo,'DejaVu Sans Mono',consolas,'Courier New',monospace\">Episode length: 4839.90 +/- 1554.41\n",
       "</pre>\n"
      ],
      "text/plain": [
       "Episode length: 4839.90 +/- 1554.41\n"
      ]
     },
     "metadata": {},
     "output_type": "display_data"
    },
    {
     "data": {
      "text/html": [
       "<pre style=\"white-space:pre;overflow-x:auto;line-height:normal;font-family:Menlo,'DejaVu Sans Mono',consolas,'Courier New',monospace\">Eval num_timesteps=9400000, episode_reward=1158.00 +/- 70.01\n",
       "</pre>\n"
      ],
      "text/plain": [
       "Eval num_timesteps=9400000, episode_reward=1158.00 +/- 70.01\n"
      ]
     },
     "metadata": {},
     "output_type": "display_data"
    },
    {
     "data": {
      "text/html": [
       "<pre style=\"white-space:pre;overflow-x:auto;line-height:normal;font-family:Menlo,'DejaVu Sans Mono',consolas,'Courier New',monospace\">Episode length: 5928.80 +/- 895.70\n",
       "</pre>\n"
      ],
      "text/plain": [
       "Episode length: 5928.80 +/- 895.70\n"
      ]
     },
     "metadata": {},
     "output_type": "display_data"
    },
    {
     "data": {
      "text/html": [
       "<pre style=\"white-space:pre;overflow-x:auto;line-height:normal;font-family:Menlo,'DejaVu Sans Mono',consolas,'Courier New',monospace\">Eval num_timesteps=9600000, episode_reward=865.50 +/- 236.63\n",
       "</pre>\n"
      ],
      "text/plain": [
       "Eval num_timesteps=9600000, episode_reward=865.50 +/- 236.63\n"
      ]
     },
     "metadata": {},
     "output_type": "display_data"
    },
    {
     "data": {
      "text/html": [
       "<pre style=\"white-space:pre;overflow-x:auto;line-height:normal;font-family:Menlo,'DejaVu Sans Mono',consolas,'Courier New',monospace\">Episode length: 5381.70 +/- 1729.20\n",
       "</pre>\n"
      ],
      "text/plain": [
       "Episode length: 5381.70 +/- 1729.20\n"
      ]
     },
     "metadata": {},
     "output_type": "display_data"
    },
    {
     "data": {
      "text/html": [
       "<pre style=\"white-space:pre;overflow-x:auto;line-height:normal;font-family:Menlo,'DejaVu Sans Mono',consolas,'Courier New',monospace\">Eval num_timesteps=9800000, episode_reward=881.50 +/- 314.91\n",
       "</pre>\n"
      ],
      "text/plain": [
       "Eval num_timesteps=9800000, episode_reward=881.50 +/- 314.91\n"
      ]
     },
     "metadata": {},
     "output_type": "display_data"
    },
    {
     "data": {
      "text/html": [
       "<pre style=\"white-space:pre;overflow-x:auto;line-height:normal;font-family:Menlo,'DejaVu Sans Mono',consolas,'Courier New',monospace\">Episode length: 4976.40 +/- 1614.51\n",
       "</pre>\n"
      ],
      "text/plain": [
       "Episode length: 4976.40 +/- 1614.51\n"
      ]
     },
     "metadata": {},
     "output_type": "display_data"
    },
    {
     "data": {
      "text/html": [
       "<pre style=\"white-space:pre;overflow-x:auto;line-height:normal;font-family:Menlo,'DejaVu Sans Mono',consolas,'Courier New',monospace\">Eval num_timesteps=10000000, episode_reward=868.50 +/- 259.07\n",
       "</pre>\n"
      ],
      "text/plain": [
       "Eval num_timesteps=10000000, episode_reward=868.50 +/- 259.07\n"
      ]
     },
     "metadata": {},
     "output_type": "display_data"
    },
    {
     "data": {
      "text/html": [
       "<pre style=\"white-space:pre;overflow-x:auto;line-height:normal;font-family:Menlo,'DejaVu Sans Mono',consolas,'Courier New',monospace\">Episode length: 4258.20 +/- 1338.72\n",
       "</pre>\n"
      ],
      "text/plain": [
       "Episode length: 4258.20 +/- 1338.72\n"
      ]
     },
     "metadata": {},
     "output_type": "display_data"
    },
    {
     "data": {
      "text/html": [
       "<pre style=\"white-space:pre;overflow-x:auto;line-height:normal;font-family:Menlo,'DejaVu Sans Mono',consolas,'Courier New',monospace\"></pre>\n"
      ],
      "text/plain": []
     },
     "metadata": {},
     "output_type": "display_data"
    },
    {
     "data": {
      "text/html": [
       "<pre style=\"white-space:pre;overflow-x:auto;line-height:normal;font-family:Menlo,'DejaVu Sans Mono',consolas,'Courier New',monospace\">\n",
       "</pre>\n"
      ],
      "text/plain": [
       "\n"
      ]
     },
     "metadata": {},
     "output_type": "display_data"
    },
    {
     "data": {
      "text/plain": [
       "<stable_baselines3.dqn.dqn.DQN at 0x26ed4c0c730>"
      ]
     },
     "execution_count": 19,
     "metadata": {},
     "output_type": "execute_result"
    }
   ],
   "source": [
    "reseed(seed)\n",
    "\n",
    "# If you get the error that Only one live display may be active at once, either restart colab or set progress bar = False\n",
    "total_timesteps = 10_000_000\n",
    "dqnmodel.learn(total_timesteps=total_timesteps, callback=eval_callback_dqn, progress_bar=True)"
   ]
  },
  {
   "cell_type": "code",
   "execution_count": 20,
   "metadata": {},
   "outputs": [
    {
     "name": "stderr",
     "output_type": "stream",
     "text": [
      "WARNING:py.warnings:c:\\Users\\danie\\anaconda3\\envs\\rl\\lib\\site-packages\\stable_baselines3\\common\\buffers.py:241: UserWarning: This system does not have apparently enough memory to store the complete replay buffer 5.65GB > 0.71GB\n",
      "  warnings.warn(\n",
      "\n",
      "100%|██████████| 100/100 [01:32<00:00,  1.08it/s]"
     ]
    },
    {
     "name": "stdout",
     "output_type": "stream",
     "text": [
      "22.56999969482422\n"
     ]
    },
    {
     "name": "stderr",
     "output_type": "stream",
     "text": [
      "\n"
     ]
    }
   ],
   "source": [
    "\n",
    "best_dqn_model = DQN.load(\"models/dqn_space_invaders/best_model.zip\", env=env1)\n",
    "print(evaluate_policy(best_dqn_model, env1))"
   ]
  },
  {
   "cell_type": "code",
   "execution_count": 21,
   "metadata": {},
   "outputs": [
    {
     "name": "stdout",
     "output_type": "stream",
     "text": [
      "Video saved as dqn_space_invaders_v4.mp4\n"
     ]
    }
   ],
   "source": [
    "visualize(env_id, algorithm=best_dqn_model, video_name='dqn_space_invaders_v4', env_args=env_args)"
   ]
  },
  {
   "cell_type": "code",
   "execution_count": 10,
   "metadata": {},
   "outputs": [],
   "source": [
    "def eval_policy_2(actor, environment, num_episodes=100, progress=True):\n",
    "    episode_rewards = []\n",
    "\n",
    "    iterate = (trange(num_episodes) if progress else range(num_episodes))\n",
    "    for _ in iterate:\n",
    "        obs = environment.reset()\n",
    "        done = False\n",
    "        total_rew = 0\n",
    "\n",
    "        while not done:\n",
    "            action = actor.predict(obs)[0]\n",
    "\n",
    "            next_obs, reward, done, info = environment.step(action)\n",
    "            total_rew += reward\n",
    "\n",
    "            obs = next_obs\n",
    "\n",
    "        episode_rewards.append(total_rew)\n",
    "\n",
    "    mean_reward = np.mean(episode_rewards)\n",
    "    std_reward = np.std(episode_rewards)\n",
    "\n",
    "    return mean_reward.item(), std_reward.item()"
   ]
  },
  {
   "cell_type": "code",
   "execution_count": 27,
   "metadata": {},
   "outputs": [
    {
     "name": "stderr",
     "output_type": "stream",
     "text": [
      "100%|██████████| 100/100 [01:38<00:00,  1.01it/s]"
     ]
    },
    {
     "name": "stdout",
     "output_type": "stream",
     "text": [
      "(240.3000030517578, 204.7557373046875)\n"
     ]
    },
    {
     "name": "stderr",
     "output_type": "stream",
     "text": [
      "\n"
     ]
    }
   ],
   "source": [
    "# just evaluate without clipped rewards\n",
    "\n",
    "wrapper_args = {\"clip_reward\":False}\n",
    "eval_env = make_atari_env(env_id, n_envs=1, env_kwargs=env_args, wrapper_kwargs=wrapper_args)\n",
    "eval_env = VecFrameStack(eval_env, n_stack=4)\n",
    "eval_env.seed(42)\n",
    "print(eval_policy_2(best_ppo_model, eval_env))"
   ]
  },
  {
   "cell_type": "code",
   "execution_count": 28,
   "metadata": {},
   "outputs": [
    {
     "name": "stderr",
     "output_type": "stream",
     "text": [
      "100%|██████████| 100/100 [01:34<00:00,  1.06it/s]"
     ]
    },
    {
     "name": "stdout",
     "output_type": "stream",
     "text": [
      "(417.79998779296875, 368.1109313964844)\n"
     ]
    },
    {
     "name": "stderr",
     "output_type": "stream",
     "text": [
      "\n"
     ]
    }
   ],
   "source": [
    "print(eval_policy_2(best_dqn_model, eval_env))"
   ]
  },
  {
   "cell_type": "code",
   "execution_count": 11,
   "metadata": {},
   "outputs": [
    {
     "name": "stderr",
     "output_type": "stream",
     "text": [
      "100%|██████████| 100/100 [02:21<00:00,  1.42s/it]"
     ]
    },
    {
     "name": "stdout",
     "output_type": "stream",
     "text": [
      "(496.3999938964844, 408.30938720703125)\n"
     ]
    },
    {
     "name": "stderr",
     "output_type": "stream",
     "text": [
      "\n"
     ]
    }
   ],
   "source": [
    "# just evaluate without clipped rewards\n",
    "wrapper_args = {\"clip_reward\":False}\n",
    "eval_env = make_atari_env(\"ALE/SpaceInvaders-v5\", n_envs=1, env_kwargs=env_args, wrapper_kwargs=wrapper_args)\n",
    "eval_env = VecFrameStack(eval_env, n_stack=4)\n",
    "eval_env.seed(42)\n",
    "model2 = PPO.load(\"best_model_3/best_model.zip\", env=eval_env)\n",
    "print(eval_policy_2(model2, eval_env))"
   ]
  },
  {
   "cell_type": "code",
   "execution_count": null,
   "metadata": {},
   "outputs": [],
   "source": []
  }
 ],
 "metadata": {
  "accelerator": "GPU",
  "colab": {
   "gpuType": "T4",
   "provenance": []
  },
  "kernelspec": {
   "display_name": "rl",
   "language": "python",
   "name": "python3"
  },
  "language_info": {
   "codemirror_mode": {
    "name": "ipython",
    "version": 3
   },
   "file_extension": ".py",
   "mimetype": "text/x-python",
   "name": "python",
   "nbconvert_exporter": "python",
   "pygments_lexer": "ipython3",
   "version": "3.10.15"
  },
  "widgets": {
   "application/vnd.jupyter.widget-state+json": {
    "0e210792682b4fb0826cc136044ac8cb": {
     "model_module": "@jupyter-widgets/output",
     "model_module_version": "1.0.0",
     "model_name": "OutputModel",
     "state": {
      "_dom_classes": [],
      "_model_module": "@jupyter-widgets/output",
      "_model_module_version": "1.0.0",
      "_model_name": "OutputModel",
      "_view_count": null,
      "_view_module": "@jupyter-widgets/output",
      "_view_module_version": "1.0.0",
      "_view_name": "OutputView",
      "layout": "IPY_MODEL_6c881044d935465ab71a11a999952f5c",
      "msg_id": "",
      "outputs": [
       {
        "data": {
         "text/html": "<pre style=\"white-space:pre;overflow-x:auto;line-height:normal;font-family:Menlo,'DejaVu Sans Mono',consolas,'Courier New',monospace\"><span style=\"color: #800080; text-decoration-color: #800080\">  29%</span> <span style=\"color: #f92672; text-decoration-color: #f92672\">━━━━━━━━━━━━━━━━╸</span><span style=\"color: #3a3a3a; text-decoration-color: #3a3a3a\">━━━━━━━━━━━━━━━━━━━━━━━━━━━━━━━━━━━━━━━━━</span> <span style=\"color: #008000; text-decoration-color: #008000\">433,664/1,500,000 </span> [ <span style=\"color: #808000; text-decoration-color: #808000\">6:19:00</span> &lt; <span style=\"color: #008080; text-decoration-color: #008080\">8:44:36</span> , <span style=\"color: #800000; text-decoration-color: #800000\">34 it/s</span> ]\n</pre>\n",
         "text/plain": "\u001b[35m  29%\u001b[0m \u001b[38;2;249;38;114m━━━━━━━━━━━━━━━━\u001b[0m\u001b[38;2;249;38;114m╸\u001b[0m\u001b[38;5;237m━━━━━━━━━━━━━━━━━━━━━━━━━━━━━━━━━━━━━━━━━\u001b[0m \u001b[32m433,664/1,500,000 \u001b[0m [ \u001b[33m6:19:00\u001b[0m < \u001b[36m8:44:36\u001b[0m , \u001b[31m34 it/s\u001b[0m ]\n"
        },
        "metadata": {},
        "output_type": "display_data"
       }
      ]
     }
    },
    "6c881044d935465ab71a11a999952f5c": {
     "model_module": "@jupyter-widgets/base",
     "model_module_version": "1.2.0",
     "model_name": "LayoutModel",
     "state": {
      "_model_module": "@jupyter-widgets/base",
      "_model_module_version": "1.2.0",
      "_model_name": "LayoutModel",
      "_view_count": null,
      "_view_module": "@jupyter-widgets/base",
      "_view_module_version": "1.2.0",
      "_view_name": "LayoutView",
      "align_content": null,
      "align_items": null,
      "align_self": null,
      "border": null,
      "bottom": null,
      "display": null,
      "flex": null,
      "flex_flow": null,
      "grid_area": null,
      "grid_auto_columns": null,
      "grid_auto_flow": null,
      "grid_auto_rows": null,
      "grid_column": null,
      "grid_gap": null,
      "grid_row": null,
      "grid_template_areas": null,
      "grid_template_columns": null,
      "grid_template_rows": null,
      "height": null,
      "justify_content": null,
      "justify_items": null,
      "left": null,
      "margin": null,
      "max_height": null,
      "max_width": null,
      "min_height": null,
      "min_width": null,
      "object_fit": null,
      "object_position": null,
      "order": null,
      "overflow": null,
      "overflow_x": null,
      "overflow_y": null,
      "padding": null,
      "right": null,
      "top": null,
      "visibility": null,
      "width": null
     }
    }
   }
  }
 },
 "nbformat": 4,
 "nbformat_minor": 0
}
