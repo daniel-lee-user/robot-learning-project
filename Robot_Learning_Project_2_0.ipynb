{
 "cells": [
  {
   "cell_type": "code",
   "execution_count": null,
   "metadata": {
    "colab": {
     "base_uri": "https://localhost:8080/"
    },
    "id": "Ygx8_uItMrjj",
    "outputId": "a34af19b-2d8a-492f-b814-6369347d6d5d"
   },
   "outputs": [],
   "source": [
    "# Set Up:\n",
    "import sys\n",
    "USING_COLAB = 'google.colab' in sys.modules\n",
    "\n",
    "if USING_COLAB:\n",
    "    !apt-get install -y xvfb python-opengl ffmpeg > /dev/null 2>&1\n",
    "    !pip install -U renderlab\n",
    "    !pip install -U colabgymrender\n",
    "    !pip install -U moviepy==0.2.3.5\n",
    "    !pip install imageio==2.4.1\n",
    "    !pip install --upgrade AutoROM\n",
    "    !AutoROM --accept-license\n",
    "    !pip install stable_baselines3  \n",
    "    !pip install \"gymnasium[atari, accept-rom-licesnse]\"\n",
    "\n",
    "import numpy as np\n",
    "import ale_py\n",
    "import shimmy\n",
    "import gymnasium as gym\n",
    "import renderlab as rl\n",
    "import random\n",
    "import matplotlib.pyplot as plt\n",
    "from colabgymrender.recorder import Recorder\n",
    "from copy import deepcopy\n",
    "\n",
    "from torch.utils.data import DataLoader\n",
    "from torch import nn\n",
    "import torch\n",
    "\n",
    "from tqdm import tqdm, trange\n",
    "\n",
    "seed = 24\n",
    "data_seed = 700\n",
    "\n"
   ]
  },
  {
   "cell_type": "code",
   "execution_count": null,
   "metadata": {
    "colab": {
     "base_uri": "https://localhost:8080/"
    },
    "id": "7ls5ZHspwE66",
    "outputId": "af1ead2f-95f6-4bcd-a417-9e33980c57b2"
   },
   "outputs": [],
   "source": [
    "\n",
    "print('gym:', gym.__version__)\n",
    "print('ale_py:', ale_py.__version__)\n",
    "print(\"GPU is available:\", torch.cuda.is_available())"
   ]
  },
  {
   "cell_type": "code",
   "execution_count": null,
   "metadata": {},
   "outputs": [],
   "source": [
    "print(torch.version.cuda)\n",
    "print(torch.__version__)"
   ]
  },
  {
   "cell_type": "markdown",
   "metadata": {},
   "source": [
    "# Functions from A5 starter code"
   ]
  },
  {
   "cell_type": "code",
   "execution_count": null,
   "metadata": {
    "id": "fU8oLOuXMw4O"
   },
   "outputs": [],
   "source": [
    "  # Setting the seed to ensure reproducability\n",
    "def reseed(seed, env=None):\n",
    "    '''\n",
    "        Sets the seed for reproducibility\n",
    "\n",
    "        When @param env is provided, also sets the\n",
    "        random number generataor of the gym environment\n",
    "        to this particular seed\n",
    "    '''\n",
    "    torch.manual_seed(seed)\n",
    "    random.seed(seed)\n",
    "    np.random.seed(seed)\n",
    "\n",
    "    if env is not None:\n",
    "        env.unwrapped._np_random = gym.utils.seeding.np_random(seed)[0]\n",
    "\n",
    "reseed(seed)"
   ]
  },
  {
   "cell_type": "code",
   "execution_count": null,
   "metadata": {
    "id": "cegQssH6M164"
   },
   "outputs": [],
   "source": [
    "def visualize(env_name='ALE/SpaceInvaders-v5', algorithm=None, video_name=\"test\", env_args={}):\n",
    "    \"\"\"Visualize a policy network for a given algorithm on a single episode\n",
    "\n",
    "        Args:\n",
    "            env_name: Name of the gym environment to roll out `algorithm` in, it will be instantiated using gym.make or make_vec_env\n",
    "            algorithm (PPOActor): Actor whose policy network will be rolled out for the episode. If\n",
    "            no algorithm is passed in, a random policy will be visualized.\n",
    "            video_name (str): Name for the mp4 file of the episode that will be saved (omit .mp4). Only used\n",
    "            when running on local machine.\n",
    "    \"\"\"\n",
    "\n",
    "    def get_action(obs):\n",
    "        if not algorithm:\n",
    "            return env.action_space.sample()\n",
    "        else:\n",
    "            return algorithm.predict(obs)[0]\n",
    "\n",
    "    if USING_COLAB:\n",
    "        from renderlab import RenderFrame\n",
    "\n",
    "        directory = './video'\n",
    "        env_args['render_mode'] = 'rgb_array'\n",
    "        env = gym.make(env_name, **env_args)\n",
    "        env = RenderFrame(env, directory)\n",
    "        obs, info = env.reset()\n",
    "\n",
    "        while True:\n",
    "            action = get_action(obs)\n",
    "            obs, reward, done, truncate, info = env.step(action)\n",
    "\n",
    "            if done:\n",
    "                break\n",
    "\n",
    "        env.play()\n",
    "    else:\n",
    "        import cv2\n",
    "        # need to specify dimensions correctly (use the print statement)\n",
    "        video = cv2.VideoWriter(f\"videos/{video_name}.mp4\", cv2.VideoWriter_fourcc(*'mp4v'), 24, (160,210))\n",
    "\n",
    "        env_args['render_mode'] = 'rgb_array'\n",
    "        env = gym.make(env_name, **env_args)\n",
    "        env.metadata['render_fps'] = 60\n",
    "        obs, info = env.reset()\n",
    "        #img = plt.imshow(env.render()) # only call this once\n",
    "        while True:\n",
    "            #img.set_data(env.render()) # just update the data\n",
    "            #display.display(plt.gcf())\n",
    "            #display.clear_output(wait=True)\n",
    "            action = get_action(obs)\n",
    "            res = env.step(action)\n",
    "            obs, reward, done, truncate, info = res\n",
    "            if done or truncate:\n",
    "                #print(\"DONE\")\n",
    "                break\n",
    "            im = env.render()\n",
    "            im = im[:,:,::-1]\n",
    "            #print(im.shape)\n",
    "\n",
    "            video.write(im)\n",
    "\n",
    "        video.release()\n",
    "        env.close()\n",
    "        print(f\"Video saved as {video_name}.mp4\")"
   ]
  },
  {
   "cell_type": "code",
   "execution_count": null,
   "metadata": {
    "id": "K-wZhw02M6up"
   },
   "outputs": [],
   "source": [
    "def evaluate_policy(actor, environment, num_episodes=100, progress=True):\n",
    "    '''\n",
    "        Returns the mean trajectory reward of rolling out `actor` on `environment\n",
    "\n",
    "        Parameters\n",
    "        - actor: PPOActor instance, defined in Part 1\n",
    "        - environment: classstable_baselines3.common.vec_env.VecEnv instance\n",
    "        - num_episodes: total number of trajectories to collect and average over\n",
    "    '''\n",
    "    total_rew = 0\n",
    "\n",
    "    iterate = (trange(num_episodes) if progress else range(num_episodes))\n",
    "    for _ in iterate:\n",
    "        obs = environment.reset()\n",
    "        done = False\n",
    "\n",
    "        while not done:\n",
    "            action = actor.predict(obs)[0]\n",
    "\n",
    "            next_obs, reward, done, info = environment.step(action)\n",
    "            total_rew += reward\n",
    "\n",
    "            obs = next_obs\n",
    "\n",
    "    return (total_rew / num_episodes).item()\n"
   ]
  },
  {
   "cell_type": "code",
   "execution_count": null,
   "metadata": {
    "colab": {
     "base_uri": "https://localhost:8080/",
     "height": 425
    },
    "id": "q1jQdkNYM8E0",
    "outputId": "4b55f34b-86d3-4d3a-ed85-79da2cd70601"
   },
   "outputs": [],
   "source": [
    "# for testing if visualization works (random actions selected)\n",
    "# env arguments are space invader specific\n",
    "# see https://ale.farama.org/environments/#2 for description of params\n",
    "# we use frameskip for training but for visualization we don't use frameskip so we can see what's happening clearly\n",
    "# for dqn we evaluate on same environment as testing\n",
    "env_id = \"ALE/SpaceInvaders-v5\"\n",
    "visualize_env_args = {\n",
    "    'mode':0,\n",
    "    'difficulty':1,\n",
    "    'obs_type':\"rgb\",\n",
    "    'full_action_space':False,\n",
    "    'frameskip':1\n",
    "    }\n",
    "train_env_args = {\n",
    "    'mode':0,\n",
    "    'difficulty':1,\n",
    "    'obs_type':\"rgb\",\n",
    "    'full_action_space':False,\n",
    "    }\n",
    "visualize(env_id, env_args=visualize_env_args)"
   ]
  },
  {
   "cell_type": "markdown",
   "metadata": {
    "id": "z4bhTk8Tz5G0"
   },
   "source": [
    "# Initialization\n",
    "from A5 starter code"
   ]
  },
  {
   "cell_type": "code",
   "execution_count": null,
   "metadata": {},
   "outputs": [],
   "source": [
    "from stable_baselines3 import PPO\n",
    "from stable_baselines3.common.callbacks import EvalCallback\n",
    "from stable_baselines3.common.vec_env.base_vec_env import VecEnv\n",
    "from stable_baselines3.common.env_checker import check_env # for regular envs\n",
    "from stable_baselines3.common.env_util import make_vec_env\n",
    "# not using make_atari_env bc that wraps it in an atari wrapper only for v4 stuff"
   ]
  },
  {
   "cell_type": "code",
   "execution_count": null,
   "metadata": {
    "colab": {
     "base_uri": "https://localhost:8080/"
    },
    "id": "lYoyYveAF0_z",
    "outputId": "ebad88b4-49fb-4fb1-bea4-6bd3cf7ea202"
   },
   "outputs": [],
   "source": [
    "env1 = make_vec_env(env_id, n_envs=1, env_kwargs=train_env_args)"
   ]
  },
  {
   "cell_type": "code",
   "execution_count": null,
   "metadata": {
    "id": "haRabITKFyOe"
   },
   "outputs": [],
   "source": [
    "num_envs = 8\n",
    "env8 = make_vec_env(env_id, n_envs=num_envs, env_kwargs=train_env_args)"
   ]
  },
  {
   "cell_type": "code",
   "execution_count": null,
   "metadata": {
    "id": "sPyGrbSDc48X"
   },
   "outputs": [],
   "source": [
    "eval_callback = EvalCallback(\n",
    "    eval_env=env1,\n",
    "    callback_on_new_best=None,\n",
    "    callback_after_eval=None,\n",
    "    n_eval_episodes=20,\n",
    "    eval_freq=100_000,\n",
    "    log_path='./eval_logs/',\n",
    "    best_model_save_path='./best_model/',\n",
    "    deterministic=True,\n",
    "    render=False,\n",
    "    verbose=1,\n",
    "    warn=True\n",
    ")"
   ]
  },
  {
   "cell_type": "markdown",
   "metadata": {},
   "source": [
    "# PPO Model"
   ]
  },
  {
   "cell_type": "code",
   "execution_count": null,
   "metadata": {
    "id": "3-oravlLYA7W"
   },
   "outputs": [],
   "source": [
    "ppomodel = PPO(\n",
    "    \"CnnPolicy\",\n",
    "    env8,\n",
    "    learning_rate=2.5e-4,\n",
    "    n_steps=64,\n",
    "    batch_size=512,\n",
    "    n_epochs=4,\n",
    "    gamma=0.99,\n",
    "    gae_lambda=0.95,\n",
    "    clip_range=0.1,\n",
    "    ent_coef=0.01,\n",
    "    vf_coef=0.5,\n",
    "    max_grad_norm=0.5,\n",
    ")"
   ]
  },
  {
   "cell_type": "markdown",
   "metadata": {},
   "source": [
    "## Training PPO model"
   ]
  },
  {
   "cell_type": "code",
   "execution_count": null,
   "metadata": {
    "colab": {
     "base_uri": "https://localhost:8080/",
     "height": 33,
     "referenced_widgets": [
      "0e210792682b4fb0826cc136044ac8cb",
      "6c881044d935465ab71a11a999952f5c"
     ]
    },
    "id": "fqVCgW8zz77F",
    "outputId": "2e6fdfde-4aff-43ac-dc09-1a67fcdef603"
   },
   "outputs": [],
   "source": [
    "reseed(seed)\n",
    "#ckpt_path = 'space_invaders'\n",
    "# If you get the error that Only one live display may be active at once, either restart colab or set progress bar = False\n",
    "total_timesteps = 5_000_000\n",
    "ppomodel.learn(total_timesteps=total_timesteps, callback=eval_callback, progress_bar=True)"
   ]
  },
  {
   "cell_type": "code",
   "execution_count": null,
   "metadata": {
    "id": "zQbW-DNK0B4n"
   },
   "outputs": [],
   "source": [
    "print(evaluate_policy(ppomodel, env1))"
   ]
  },
  {
   "cell_type": "code",
   "execution_count": null,
   "metadata": {
    "id": "d8Ryu7hr2iFi"
   },
   "outputs": [],
   "source": [
    "visualize('ALE/SpaceInvaders-v5', algorithm=ppomodel, video_name='ppoActor', env_args=visualize_env_args)"
   ]
  },
  {
   "cell_type": "code",
   "execution_count": null,
   "metadata": {
    "id": "v-vpZPdk2jnW"
   },
   "outputs": [],
   "source": [
    "ppomodel.save(\"models/ppo_space_invaders_5m\")"
   ]
  },
  {
   "cell_type": "markdown",
   "metadata": {},
   "source": [
    "# DQN Model"
   ]
  },
  {
   "cell_type": "markdown",
   "metadata": {},
   "source": [
    "Needs to train on a different env with different params due to dqn buffer memory size"
   ]
  },
  {
   "cell_type": "code",
   "execution_count": null,
   "metadata": {
    "id": "2xOVXB0jGM2B"
   },
   "outputs": [],
   "source": [
    "from stable_baselines3 import DQN\n",
    "\n",
    "# can only use env1 instead of env8 for training due to memory constraints\n",
    "\n",
    "dqnmodel = DQN(\n",
    "    \"CnnPolicy\",  # Using CNN policy for visual inputs\n",
    "    env1,\n",
    "    learning_rate=1e-4,\n",
    "    buffer_size=29_000,            # Smaller replay buffer\n",
    "    learning_starts=10_000,        # Start learning earlier\n",
    "    batch_size=32,\n",
    "    train_freq=2,                  # Train more frequently\n",
    "    target_update_interval=5_000,  # Update target network more frequently\n",
    "    exploration_fraction=0.1,     # Faster exploration decay\n",
    "    exploration_final_eps=0.01,\n",
    "    gamma=0.99,\n",
    ")"
   ]
  },
  {
   "cell_type": "code",
   "execution_count": null,
   "metadata": {},
   "outputs": [],
   "source": [
    "eval_callback_dqn = EvalCallback(\n",
    "    eval_env=env1,\n",
    "    callback_on_new_best=None,\n",
    "    callback_after_eval=None,\n",
    "    n_eval_episodes=20,\n",
    "    eval_freq=100_000,\n",
    "    log_path='./dqn_eval_logs/',\n",
    "    best_model_save_path='./dqn_best_model/',\n",
    "    deterministic=True,\n",
    "    render=False,\n",
    "    verbose=1,\n",
    "    warn=True\n",
    ")"
   ]
  },
  {
   "cell_type": "code",
   "execution_count": null,
   "metadata": {},
   "outputs": [],
   "source": [
    "reseed(seed)\n",
    "\n",
    "# If you get the error that Only one live display may be active at once, either restart colab or set progress bar = False\n",
    "total_timesteps = 5_000_000\n",
    "dqnmodel.learn(total_timesteps=total_timesteps, callback=eval_callback_dqn, progress_bar=True)"
   ]
  },
  {
   "cell_type": "code",
   "execution_count": null,
   "metadata": {},
   "outputs": [],
   "source": [
    "print(evaluate_policy(dqnmodel, env1))"
   ]
  },
  {
   "cell_type": "code",
   "execution_count": null,
   "metadata": {},
   "outputs": [],
   "source": [
    "visualize('ALE/SpaceInvaders-v5', algorithm=dqnmodel, video_name='dqnActor', env_args=visualize_env_args)"
   ]
  },
  {
   "cell_type": "code",
   "execution_count": null,
   "metadata": {},
   "outputs": [],
   "source": []
  }
 ],
 "metadata": {
  "accelerator": "GPU",
  "colab": {
   "gpuType": "T4",
   "provenance": []
  },
  "kernelspec": {
   "display_name": "rl",
   "language": "python",
   "name": "python3"
  },
  "language_info": {
   "codemirror_mode": {
    "name": "ipython",
    "version": 3
   },
   "file_extension": ".py",
   "mimetype": "text/x-python",
   "name": "python",
   "nbconvert_exporter": "python",
   "pygments_lexer": "ipython3",
   "version": "3.10.15"
  },
  "widgets": {
   "application/vnd.jupyter.widget-state+json": {
    "0e210792682b4fb0826cc136044ac8cb": {
     "model_module": "@jupyter-widgets/output",
     "model_module_version": "1.0.0",
     "model_name": "OutputModel",
     "state": {
      "_dom_classes": [],
      "_model_module": "@jupyter-widgets/output",
      "_model_module_version": "1.0.0",
      "_model_name": "OutputModel",
      "_view_count": null,
      "_view_module": "@jupyter-widgets/output",
      "_view_module_version": "1.0.0",
      "_view_name": "OutputView",
      "layout": "IPY_MODEL_6c881044d935465ab71a11a999952f5c",
      "msg_id": "",
      "outputs": [
       {
        "data": {
         "text/html": "<pre style=\"white-space:pre;overflow-x:auto;line-height:normal;font-family:Menlo,'DejaVu Sans Mono',consolas,'Courier New',monospace\"><span style=\"color: #800080; text-decoration-color: #800080\">  29%</span> <span style=\"color: #f92672; text-decoration-color: #f92672\">━━━━━━━━━━━━━━━━╸</span><span style=\"color: #3a3a3a; text-decoration-color: #3a3a3a\">━━━━━━━━━━━━━━━━━━━━━━━━━━━━━━━━━━━━━━━━━</span> <span style=\"color: #008000; text-decoration-color: #008000\">433,664/1,500,000 </span> [ <span style=\"color: #808000; text-decoration-color: #808000\">6:19:00</span> &lt; <span style=\"color: #008080; text-decoration-color: #008080\">8:44:36</span> , <span style=\"color: #800000; text-decoration-color: #800000\">34 it/s</span> ]\n</pre>\n",
         "text/plain": "\u001b[35m  29%\u001b[0m \u001b[38;2;249;38;114m━━━━━━━━━━━━━━━━\u001b[0m\u001b[38;2;249;38;114m╸\u001b[0m\u001b[38;5;237m━━━━━━━━━━━━━━━━━━━━━━━━━━━━━━━━━━━━━━━━━\u001b[0m \u001b[32m433,664/1,500,000 \u001b[0m [ \u001b[33m6:19:00\u001b[0m < \u001b[36m8:44:36\u001b[0m , \u001b[31m34 it/s\u001b[0m ]\n"
        },
        "metadata": {},
        "output_type": "display_data"
       }
      ]
     }
    },
    "6c881044d935465ab71a11a999952f5c": {
     "model_module": "@jupyter-widgets/base",
     "model_module_version": "1.2.0",
     "model_name": "LayoutModel",
     "state": {
      "_model_module": "@jupyter-widgets/base",
      "_model_module_version": "1.2.0",
      "_model_name": "LayoutModel",
      "_view_count": null,
      "_view_module": "@jupyter-widgets/base",
      "_view_module_version": "1.2.0",
      "_view_name": "LayoutView",
      "align_content": null,
      "align_items": null,
      "align_self": null,
      "border": null,
      "bottom": null,
      "display": null,
      "flex": null,
      "flex_flow": null,
      "grid_area": null,
      "grid_auto_columns": null,
      "grid_auto_flow": null,
      "grid_auto_rows": null,
      "grid_column": null,
      "grid_gap": null,
      "grid_row": null,
      "grid_template_areas": null,
      "grid_template_columns": null,
      "grid_template_rows": null,
      "height": null,
      "justify_content": null,
      "justify_items": null,
      "left": null,
      "margin": null,
      "max_height": null,
      "max_width": null,
      "min_height": null,
      "min_width": null,
      "object_fit": null,
      "object_position": null,
      "order": null,
      "overflow": null,
      "overflow_x": null,
      "overflow_y": null,
      "padding": null,
      "right": null,
      "top": null,
      "visibility": null,
      "width": null
     }
    }
   }
  }
 },
 "nbformat": 4,
 "nbformat_minor": 0
}
